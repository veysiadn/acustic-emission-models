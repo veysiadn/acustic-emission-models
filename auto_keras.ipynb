{
 "cells": [
  {
   "cell_type": "markdown",
   "metadata": {},
   "source": [
    "## Import libraries and USE GPU"
   ]
  },
  {
   "cell_type": "code",
   "execution_count": 3,
   "metadata": {},
   "outputs": [
    {
     "name": "stdout",
     "output_type": "stream",
     "text": [
      "1 Physical GPUs, 1 Logical GPUs\n"
     ]
    }
   ],
   "source": [
    "from pandas import read_csv\n",
    "from numpy import set_printoptions\n",
    "from sklearn import datasets, linear_model\n",
    "from sklearn.preprocessing import RobustScaler\n",
    "from sklearn.model_selection import train_test_split\n",
    "import random\n",
    "import tensorflow as tf\n",
    "import numpy as np\n",
    "import pathlib\n",
    "\n",
    "# Using GPU\n",
    "import os\n",
    "import scipy.io as scpy\n",
    "\n",
    "os.environ['TF_CPP_MIN_LOG_LEVEL'] = '3'\n",
    "os.environ[\"CUDA_DEVICE_ORDER\"] = \"PCI_BUS_ID\"\n",
    "os.environ[\"CUDA_VISIBLE_DEVICES\"] = '0'  # Set to -1 if CPU should be used CPU = -1 , GPU = 0\n",
    "\n",
    "gpus = tf.config.experimental.list_physical_devices('GPU')\n",
    "cpus = tf.config.experimental.list_physical_devices('CPU')\n",
    "\n",
    "if gpus:\n",
    "    try:\n",
    "        # Currently, memory growth needs to be the same across GPUs\n",
    "        for gpu in gpus:\n",
    "            tf.config.experimental.set_memory_growth(gpu, True)\n",
    "        logical_gpus = tf.config.experimental.list_logical_devices('GPU')\n",
    "        print(len(gpus), \"Physical GPUs,\", len(logical_gpus), \"Logical GPUs\")\n",
    "    except RuntimeError as e:\n",
    "        # Memory growth must be set before GPUs have been initialized\n",
    "        print(e)\n",
    "elif cpus:\n",
    "    try:\n",
    "        # Currently, memory growth needs to be the same across GPUs\n",
    "        logical_cpus= tf.config.experimental.list_logical_devices('CPU')\n",
    "        print(len(cpus), \"Physical CPU,\", len(logical_cpus), \"Logical CPU\")\n",
    "    except RuntimeError as e:\n",
    "        # Memory growth must be set before GPUs have been initialized\n",
    "        print(e)\n"
   ]
  },
  {
   "cell_type": "markdown",
   "metadata": {},
   "source": [
    "### Prepare Dataset"
   ]
  },
  {
   "cell_type": "code",
   "execution_count": 21,
   "metadata": {},
   "outputs": [
    {
     "name": "stdout",
     "output_type": "stream",
     "text": [
      "(15000, 1000)\n",
      "(15000, 1)\n",
      " (10500, 2250, 2250)\n",
      " (10500, 2250, 2250)\n"
     ]
    }
   ],
   "source": [
    "from pandas import read_csv\n",
    "from numpy import set_printoptions\n",
    "from sklearn import datasets, linear_model\n",
    "from sklearn.preprocessing import RobustScaler\n",
    "from sklearn.model_selection import train_test_split\n",
    "import random\n",
    "# Using GPU\n",
    "import os\n",
    "import scipy.io as scpy\n",
    "\n",
    "data = scpy.loadmat(\"all-data.mat\")\n",
    "# Extracting x_train from the mat file dictionary.\n",
    "x_data = data[\"XTrain\"]\n",
    "# Extracting y_train from the mat file dictionary.\n",
    "y_data = data[\"y_train\"]\n",
    "# Converting x_train and y_train to a numpy array.\n",
    "x_data = np.array(x_data,dtype='float32')\n",
    "y_data = np.array(y_data,dtype='int32')-1\n",
    "x_temp_data=data['XTest']\n",
    "y_temp_data=data['y_test']\n",
    "x_temp_data=np.array(x_temp_data,dtype='float32')\n",
    "y_temp_data=np.array(y_temp_data,dtype='int32')-1\n",
    "y_temp_data=np.ravel(y_temp_data)\n",
    "# x_data=np.concatenate((x_data,x_temp_data),axis=0)\n",
    "# y_data=np.concatenate((y_data,y_temp_data),axis=0)\n",
    "\n",
    "# Verifying the shapes.\n",
    "print(x_data.shape)\n",
    "print(y_data.shape)\n",
    "\n",
    "SEED = 99\n",
    "os.environ['PYTHONHASHSEED']=str(SEED)\n",
    "random.seed(SEED)\n",
    "np.random.seed(SEED)\n",
    "tf.random.set_seed(SEED)\n",
    "# split into train test sets\n",
    "x_train, x_val_to_use, y_train, y_val_to_use = train_test_split(x_data, y_data, test_size=0.3, random_state=SEED)\n",
    "x_val, x_test, y_val, y_test = train_test_split(x_val_to_use, y_val_to_use, test_size=0.5, random_state=SEED)\n",
    "y_train=np.ravel(y_train)\n",
    "y_val=np.ravel(y_val)\n",
    "y_test=np.ravel(y_test)\n",
    "print(f\" {len(x_train), len(x_val), len(x_test)}\")\n",
    "print(f\" {len(y_train), len(y_val), len(y_test)}\")\n",
    "train_dataset = tf.data.Dataset.from_tensor_slices((x_train, y_train))\n",
    "test_dataset = tf.data.Dataset.from_tensor_slices((x_val, y_val))\n",
    "BATCH_SIZE = 64\n",
    "# SHUFFLE_BUFFER_SIZE = 100\n",
    "train_dataset = train_dataset.batch(BATCH_SIZE)\n",
    "test_dataset = test_dataset.batch(BATCH_SIZE)\n"
   ]
  },
  {
   "cell_type": "markdown",
   "metadata": {},
   "source": [
    "### Define AutoKeras Model Pipeline"
   ]
  },
  {
   "cell_type": "code",
   "execution_count": 34,
   "metadata": {},
   "outputs": [
    {
     "name": "stdout",
     "output_type": "stream",
     "text": [
      "Trial 5 Complete [00h 00m 29s]\n",
      "val_accuracy: 0.7720000147819519\n",
      "\n",
      "Best val_accuracy So Far: 0.9991111159324646\n",
      "Total elapsed time: 00h 02m 17s\n",
      "INFO:tensorflow:Oracle triggered exit\n",
      "Epoch 1/10\n",
      "165/165 [==============================] - 8s 24ms/step - loss: 0.3070 - accuracy: 0.8952 - val_loss: 0.0695 - val_accuracy: 0.9867\n",
      "Epoch 2/10\n",
      "165/165 [==============================] - 2s 11ms/step - loss: 0.0418 - accuracy: 0.9938 - val_loss: 0.0303 - val_accuracy: 0.9929\n",
      "Epoch 3/10\n",
      "165/165 [==============================] - 2s 11ms/step - loss: 0.0190 - accuracy: 0.9976 - val_loss: 0.0195 - val_accuracy: 0.9951\n",
      "Epoch 4/10\n",
      "165/165 [==============================] - 2s 11ms/step - loss: 0.0105 - accuracy: 0.9990 - val_loss: 0.0154 - val_accuracy: 0.9973\n",
      "Epoch 5/10\n",
      "165/165 [==============================] - 2s 11ms/step - loss: 0.0062 - accuracy: 0.9998 - val_loss: 0.0141 - val_accuracy: 0.9973\n",
      "Epoch 6/10\n",
      "165/165 [==============================] - 2s 11ms/step - loss: 0.0041 - accuracy: 1.0000 - val_loss: 0.0109 - val_accuracy: 0.9982\n",
      "Epoch 7/10\n",
      "165/165 [==============================] - 2s 12ms/step - loss: 0.0029 - accuracy: 1.0000 - val_loss: 0.0090 - val_accuracy: 0.9978\n",
      "Epoch 8/10\n",
      "165/165 [==============================] - 2s 11ms/step - loss: 0.0021 - accuracy: 1.0000 - val_loss: 0.0083 - val_accuracy: 0.9973\n",
      "Epoch 9/10\n",
      "165/165 [==============================] - 2s 11ms/step - loss: 0.0016 - accuracy: 1.0000 - val_loss: 0.0077 - val_accuracy: 0.9969\n",
      "Epoch 10/10\n",
      "165/165 [==============================] - 2s 11ms/step - loss: 0.0013 - accuracy: 1.0000 - val_loss: 0.0075 - val_accuracy: 0.9973\n",
      "INFO:tensorflow:Assets written to: ./structured_data_classifier/best_model/assets\n"
     ]
    },
    {
     "data": {
      "text/plain": [
       "<keras.callbacks.History at 0x7fe0488a83d0>"
      ]
     },
     "execution_count": 34,
     "metadata": {},
     "output_type": "execute_result"
    }
   ],
   "source": [
    "import numpy as np\n",
    "import pandas as pd\n",
    "import tensorflow as tf\n",
    "\n",
    "import autokeras as ak\n",
    "# It tries 10 different models.\n",
    "clf = ak.StructuredDataClassifier(overwrite=True, max_trials=5,num_classes=3,\n",
    "metrics=['accuracy'],objective='val_accuracy')\n",
    "# Feed the structured data classifier with training data.\n",
    "clf.fit(train_dataset, epochs=10,validation_data=test_dataset)\n",
    "# Predict with the best model.\n",
    "# predicted_y = clf.predict(x_test)\n",
    "# Evaluate the best model with testing data.\n",
    "# print(clf.evaluate(x_test, y_test))"
   ]
  },
  {
   "cell_type": "markdown",
   "metadata": {},
   "source": [
    "### Export Show Properties of the Best Model Found by AutoKeras"
   ]
  },
  {
   "cell_type": "code",
   "execution_count": 35,
   "metadata": {},
   "outputs": [
    {
     "name": "stdout",
     "output_type": "stream",
     "text": [
      "Model: \"model\"\n",
      "_________________________________________________________________\n",
      " Layer (type)                Output Shape              Param #   \n",
      "=================================================================\n",
      " input_1 (InputLayer)        [(None, 1000)]            0         \n",
      "                                                                 \n",
      " multi_category_encoding (Mu  (None, 1000)             0         \n",
      " ltiCategoryEncoding)                                            \n",
      "                                                                 \n",
      " normalization (Normalizatio  (None, 1000)             2001      \n",
      " n)                                                              \n",
      "                                                                 \n",
      " dense (Dense)               (None, 32)                32032     \n",
      "                                                                 \n",
      " re_lu (ReLU)                (None, 32)                0         \n",
      "                                                                 \n",
      " dense_1 (Dense)             (None, 3)                 99        \n",
      "                                                                 \n",
      " classification_head_1 (Soft  (None, 3)                0         \n",
      " max)                                                            \n",
      "                                                                 \n",
      "=================================================================\n",
      "Total params: 34,132\n",
      "Trainable params: 32,131\n",
      "Non-trainable params: 2,001\n",
      "_________________________________________________________________\n",
      "float32\n"
     ]
    }
   ],
   "source": [
    "model = clf.export_model()\n",
    "model.summary()\n",
    "print(x_train.dtype)\n",
    "# numpy array in object (mixed type) is not supported.\n",
    "# convert it to unicode.\n",
    "# model.predict(x_test[0])"
   ]
  },
  {
   "cell_type": "code",
   "execution_count": 47,
   "metadata": {},
   "outputs": [
    {
     "name": "stdout",
     "output_type": "stream",
     "text": [
      "Model: \"sequential_5\"\n",
      "_________________________________________________________________\n",
      " Layer (type)                Output Shape              Param #   \n",
      "=================================================================\n",
      " dense_12 (Dense)            (None, 8)                 8008      \n",
      "                                                                 \n",
      " dense_13 (Dense)            (None, 3)                 27        \n",
      "                                                                 \n",
      "=================================================================\n",
      "Total params: 8,035\n",
      "Trainable params: 8,035\n",
      "Non-trainable params: 0\n",
      "_________________________________________________________________\n",
      "Epoch 1/10\n",
      "329/329 [==============================] - 0s 1ms/step - loss: 0.3761 - accuracy: 0.8602 - val_loss: 0.1290 - val_accuracy: 0.9600\n",
      "Epoch 2/10\n",
      "329/329 [==============================] - 0s 963us/step - loss: 0.0763 - accuracy: 0.9801 - val_loss: 0.0685 - val_accuracy: 0.9831\n",
      "Epoch 3/10\n",
      "329/329 [==============================] - 0s 985us/step - loss: 0.0413 - accuracy: 0.9908 - val_loss: 0.0432 - val_accuracy: 0.9871\n",
      "Epoch 4/10\n",
      "329/329 [==============================] - 0s 963us/step - loss: 0.0293 - accuracy: 0.9930 - val_loss: 0.0377 - val_accuracy: 0.9911\n",
      "Epoch 5/10\n",
      "329/329 [==============================] - 0s 956us/step - loss: 0.0199 - accuracy: 0.9951 - val_loss: 0.0346 - val_accuracy: 0.9911\n",
      "Epoch 6/10\n",
      "329/329 [==============================] - 0s 958us/step - loss: 0.0164 - accuracy: 0.9950 - val_loss: 0.0365 - val_accuracy: 0.9893\n",
      "Epoch 7/10\n",
      "329/329 [==============================] - 0s 1ms/step - loss: 0.0133 - accuracy: 0.9966 - val_loss: 0.0270 - val_accuracy: 0.9942\n",
      "Epoch 8/10\n",
      "329/329 [==============================] - 0s 937us/step - loss: 0.0089 - accuracy: 0.9982 - val_loss: 0.0257 - val_accuracy: 0.9933\n",
      "Epoch 9/10\n",
      "329/329 [==============================] - 0s 981us/step - loss: 0.0077 - accuracy: 0.9986 - val_loss: 0.0266 - val_accuracy: 0.9933\n",
      "Epoch 10/10\n",
      "329/329 [==============================] - 0s 941us/step - loss: 0.0060 - accuracy: 0.9989 - val_loss: 0.0250 - val_accuracy: 0.9947\n"
     ]
    }
   ],
   "source": [
    "best_model = tf.keras.Sequential()\n",
    "best_model.add(tf.keras.layers.InputLayer(input_shape=(x_train.shape[1],)))\n",
    "best_model.add(tf.keras.layers.Dense(8, activation='relu'))\n",
    "best_model.add(tf.keras.layers.Dense(3, activation='softmax'))\n",
    "\n",
    "best_model.compile(optimizer=tf.keras.optimizers.Adam(0.001), loss=tf.keras.losses.SparseCategoricalCrossentropy(), metrics=['accuracy'])\n",
    "best_model.summary()\n",
    "history = best_model.fit(x_train, y_train, epochs=10, validation_data=(x_val, y_val))"
   ]
  },
  {
   "cell_type": "code",
   "execution_count": 48,
   "metadata": {},
   "outputs": [
    {
     "name": "stdout",
     "output_type": "stream",
     "text": [
      "71/71 [==============================] - 0s 678us/step - loss: 0.0235 - accuracy: 0.9929\n"
     ]
    },
    {
     "data": {
      "text/plain": [
       "[0.023465627804398537, 0.992888867855072]"
      ]
     },
     "execution_count": 48,
     "metadata": {},
     "output_type": "execute_result"
    }
   ],
   "source": [
    "best_model.evaluate(x_test, y_test)"
   ]
  },
  {
   "cell_type": "code",
   "execution_count": 49,
   "metadata": {},
   "outputs": [
    {
     "name": "stdout",
     "output_type": "stream",
     "text": [
      "Training results\n",
      "Training Accuracy: 0.9988571405410767\n",
      "Training Loss: 0.006004773546010256\n",
      "Evaluation results\n",
      "Validation Accuracy: 0.9946666955947876\n",
      "Validation Loss: 0.025045298039913177\n"
     ]
    },
    {
     "data": {
      "image/png": "[encoded data removed]",
      "text/plain": [
       "<Figure size 432x288 with 1 Axes>"
      ]
     },
     "metadata": {
      "needs_background": "light"
     },
     "output_type": "display_data"
    }
   ],
   "source": [
    "\n",
    "import matplotlib.pyplot as plt\n",
    "plt.plot(history.history['loss'])\n",
    "plt.plot(history.history['accuracy'])\n",
    "plt.plot(history.history['val_accuracy'])\n",
    "plt.plot(history.history['val_loss'])\n",
    "\n",
    "\n",
    "plt.title('dense_model loss & accuracy')\n",
    "plt.ylabel('Loss')\n",
    "plt.xlabel('Epoch')\n",
    "plt.legend(['tr_loss', 'tr_accuracy', 'val_acc', 'val_loss'], loc='lower right')\n",
    "# accuracy!\n",
    "print(\"Training results\")\n",
    "print(f\"Training Accuracy: {history.history['accuracy'][-1]}\")\n",
    "print(f\"Training Loss: {history.history['loss'][-1]}\")\n",
    "\n",
    "# evaluating dense_model\n",
    "print(\"Evaluation results\")\n",
    "print(f\"Validation Accuracy: {history.history['val_accuracy'][-1]}\")\n",
    "print(f\"Validation Loss: {history.history['val_loss'][-1]}\")\n",
    "\n",
    "\n",
    "plt.show()"
   ]
  }
 ],
 "metadata": {
  "kernelspec": {
   "display_name": "Python 3.9.12 ('base')",
   "language": "python",
   "name": "python3"
  },
  "language_info": {
   "codemirror_mode": {
    "name": "ipython",
    "version": 3
   },
   "file_extension": ".py",
   "mimetype": "text/x-python",
   "name": "python",
   "nbconvert_exporter": "python",
   "pygments_lexer": "ipython3",
   "version": "3.9.12"
  },
  "orig_nbformat": 4,
  "vscode": {
   "interpreter": {
    "hash": "41e74be16d15307d9f039f42bdba433d4433ec6233894682bf41214f89ea7b7d"
   }
  }
 },
 "nbformat": 4,
 "nbformat_minor": 2
}
