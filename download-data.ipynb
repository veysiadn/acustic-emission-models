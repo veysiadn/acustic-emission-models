{
 "cells": [
  {
   "cell_type": "code",
   "execution_count": 7,
   "metadata": {},
   "outputs": [
    {
     "name": "stderr",
     "output_type": "stream",
     "text": [
      "Downloading...\n",
      "From: https://drive.google.com/uc?id=1LIkyqBeKWk5GHyiuVL-lUBA-JD7g5omA\n",
      "To: /home/veysiadn/model-training/acustic-emission-models/data.mat\n",
      "100%|██████████| 105M/105M [00:10<00:00, 9.76MB/s] \n"
     ]
    },
    {
     "data": {
      "text/plain": [
       "'data.mat'"
      ]
     },
     "execution_count": 7,
     "metadata": {},
     "output_type": "execute_result"
    }
   ],
   "source": [
    "import gdown\n",
    "## While creating link, select anyone with the link, and additionally, uc?id= should be added like in below.\n",
    "url = 'https://drive.google.com/uc?id=1LIkyqBeKWk5GHyiuVL-lUBA-JD7g5omA'\n",
    "output = 'matlab15000.mat'\n",
    "gdown.download(url, output, quiet=False)"
   ]
  }
 ],
 "metadata": {
  "kernelspec": {
   "display_name": "Python 3.9.12 ('base')",
   "language": "python",
   "name": "python3"
  },
  "language_info": {
   "codemirror_mode": {
    "name": "ipython",
    "version": 3
   },
   "file_extension": ".py",
   "mimetype": "text/x-python",
   "name": "python",
   "nbconvert_exporter": "python",
   "pygments_lexer": "ipython3",
   "version": "3.9.12"
  },
  "orig_nbformat": 4,
  "vscode": {
   "interpreter": {
    "hash": "41e74be16d15307d9f039f42bdba433d4433ec6233894682bf41214f89ea7b7d"
   }
  }
 },
 "nbformat": 4,
 "nbformat_minor": 2
}
