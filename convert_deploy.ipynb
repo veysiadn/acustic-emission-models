{
 "cells": [
  {
   "cell_type": "markdown",
   "metadata": {},
   "source": [
    "## Import libraries and USE GPU"
   ]
  },
  {
   "cell_type": "code",
   "execution_count": 2,
   "metadata": {},
   "outputs": [
    {
     "name": "stdout",
     "output_type": "stream",
     "text": [
      "1 Physical GPUs, 1 Logical GPUs\n"
     ]
    }
   ],
   "source": [
    "from pandas import read_csv\n",
    "from numpy import set_printoptions\n",
    "from sklearn import datasets, linear_model\n",
    "from sklearn.preprocessing import RobustScaler\n",
    "from sklearn.model_selection import train_test_split\n",
    "import random\n",
    "import tensorflow as tf\n",
    "import numpy as np\n",
    "import pathlib\n",
    "\n",
    "# Using GPU\n",
    "import os\n",
    "import scipy.io as scpy\n",
    "os.environ['TF_CPP_MIN_LOG_LEVEL'] = '3'\n",
    "os.environ[\"CUDA_DEVICE_ORDER\"] = \"PCI_BUS_ID\"\n",
    "os.environ[\"CUDA_VISIBLE_DEVICES\"] = '0'  # Set to -1 if CPU should be used CPU = -1 , GPU = 0\n",
    "\n",
    "gpus = tf.config.experimental.list_physical_devices('GPU')\n",
    "cpus = tf.config.experimental.list_physical_devices('CPU')\n",
    "\n",
    "if gpus:\n",
    "    try:\n",
    "        # Currently, memory growth needs to be the same across GPUs\n",
    "        for gpu in gpus:\n",
    "            tf.config.experimental.set_memory_growth(gpu, True)\n",
    "        logical_gpus = tf.config.experimental.list_logical_devices('GPU')\n",
    "        print(len(gpus), \"Physical GPUs,\", len(logical_gpus), \"Logical GPUs\")\n",
    "    except RuntimeError as e:\n",
    "        # Memory growth must be set before GPUs have been initialized\n",
    "        print(e)\n",
    "elif cpus:\n",
    "    try:\n",
    "        # Currently, memory growth needs to be the same across GPUs\n",
    "        logical_cpus= tf.config.experimental.list_logical_devices('CPU')\n",
    "        print(len(cpus), \"Physical CPU,\", len(logical_cpus), \"Logical CPU\")\n",
    "    except RuntimeError as e:\n",
    "        # Memory growth must be set before GPUs have been initialized\n",
    "        print(e)\n"
   ]
  },
  {
   "cell_type": "markdown",
   "metadata": {},
   "source": [
    "## Prepare Dataset"
   ]
  },
  {
   "cell_type": "code",
   "execution_count": 3,
   "metadata": {},
   "outputs": [
    {
     "name": "stdout",
     "output_type": "stream",
     "text": [
      "(15000, 1000)\n",
      "(15000, 1)\n"
     ]
    }
   ],
   "source": [
    "# Load .mat data, will be loaded as dictionary object so you need to extract values from it.\n",
    "data = scpy.loadmat(\"matlab15000.mat\")\n",
    "# Extracting x_train from the mat file dictionary.\n",
    "x_data = data[\"XTrain\"]\n",
    "# Extracting y_train from the mat file dictionary.\n",
    "y_data = data[\"unnamed\"]\n",
    "# Converting x_train and y_train to a numpy array.\n",
    "x_data = np.array(x_data,dtype='float32')\n",
    "y_train = np.array(y_data,dtype='float32')\n",
    "# Verifying the shapes.\n",
    "print(x_data.shape)\n",
    "print(y_data.shape)\n",
    "\n",
    "SEED = 99\n",
    "os.environ['PYTHONHASHSEED']=str(SEED)\n",
    "random.seed(SEED)\n",
    "np.random.seed(SEED)\n",
    "tf.random.set_seed(SEED)\n",
    "# split into train test sets\n",
    "x_train, x_test, y_train, y_test = train_test_split(x_data, y_data, test_size=0.2, random_state=SEED)\n",
    "######################################################################################################"
   ]
  },
  {
   "cell_type": "markdown",
   "metadata": {},
   "source": [
    "### Split dataset into train, test and validation."
   ]
  },
  {
   "cell_type": "code",
   "execution_count": 4,
   "metadata": {},
   "outputs": [],
   "source": [
    "x_val = x_test[:1500]\n",
    "y_val = y_test[:1500]\n",
    "x_test_to_use = x_test[1500:]\n",
    "y_test_to_use = y_test[1500:]"
   ]
  },
  {
   "cell_type": "markdown",
   "metadata": {},
   "source": [
    "### Check dimension of train, test and validation dataset."
   ]
  },
  {
   "cell_type": "code",
   "execution_count": 5,
   "metadata": {},
   "outputs": [
    {
     "data": {
      "text/plain": [
       "(12000, 1500, 1500)"
      ]
     },
     "execution_count": 5,
     "metadata": {},
     "output_type": "execute_result"
    }
   ],
   "source": [
    "len(x_train), len(x_val), len(x_test_to_use)"
   ]
  },
  {
   "cell_type": "markdown",
   "metadata": {},
   "source": [
    "### Define Convolutional Model as Described in the Paper"
   ]
  },
  {
   "cell_type": "code",
   "execution_count": 6,
   "metadata": {},
   "outputs": [
    {
     "name": "stdout",
     "output_type": "stream",
     "text": [
      "Model: \"conv_model_paper\"\n",
      "_________________________________________________________________\n",
      " Layer (type)                Output Shape              Param #   \n",
      "=================================================================\n",
      " conv1d (Conv1D)             (None, 994, 32)           256       \n",
      "                                                                 \n",
      " batch_normalization (BatchN  (None, 994, 32)          128       \n",
      " ormalization)                                                   \n",
      "                                                                 \n",
      " activation (Activation)     (None, 994, 32)           0         \n",
      "                                                                 \n",
      " max_pooling1d (MaxPooling1D  (None, 124, 32)          0         \n",
      " )                                                               \n",
      "                                                                 \n",
      " conv1d_1 (Conv1D)           (None, 120, 48)           7728      \n",
      "                                                                 \n",
      " batch_normalization_1 (Batc  (None, 120, 48)          192       \n",
      " hNormalization)                                                 \n",
      "                                                                 \n",
      " activation_1 (Activation)   (None, 120, 48)           0         \n",
      "                                                                 \n",
      " max_pooling1d_1 (MaxPooling  (None, 30, 48)           0         \n",
      " 1D)                                                             \n",
      "                                                                 \n",
      " max_pooling1d_2 (MaxPooling  (None, 7, 48)            0         \n",
      " 1D)                                                             \n",
      "                                                                 \n",
      " dropout (Dropout)           (None, 7, 48)             0         \n",
      "                                                                 \n",
      " flatten (Flatten)           (None, 336)               0         \n",
      "                                                                 \n",
      " dense (Dense)               (None, 32)                10784     \n",
      "                                                                 \n",
      " dense_1 (Dense)             (None, 32)                1056      \n",
      "                                                                 \n",
      " dense_2 (Dense)             (None, 3)                 99        \n",
      "                                                                 \n",
      "=================================================================\n",
      "Total params: 20,243\n",
      "Trainable params: 20,083\n",
      "Non-trainable params: 160\n",
      "_________________________________________________________________\n",
      "None\n",
      "Epoch 1/100\n"
     ]
    },
    {
     "name": "stderr",
     "output_type": "stream",
     "text": [
      "/home/veysiadn/anaconda3/lib/python3.9/site-packages/keras/backend.py:5582: UserWarning: \"`sparse_categorical_crossentropy` received `from_logits=True`, but the `output` argument was produced by a Softmax activation and thus does not represent logits. Was this intended?\n",
      "  output, from_logits = _get_logits(\n",
      "2022-10-06 10:29:23.905097: I tensorflow/stream_executor/cuda/cuda_dnn.cc:384] Loaded cuDNN version 8500\n"
     ]
    },
    {
     "name": "stdout",
     "output_type": "stream",
     "text": [
      " 25/375 [=>............................] - ETA: 0s - loss: 2.1468 - accuracy: 0.3850  "
     ]
    },
    {
     "name": "stderr",
     "output_type": "stream",
     "text": [
      "2022-10-06 10:29:24.176474: I tensorflow/core/platform/default/subprocess.cc:304] Start cannot spawn child process: No such file or directory\n",
      "2022-10-06 10:29:24.199017: I tensorflow/stream_executor/cuda/cuda_blas.cc:1614] TensorFloat-32 will be used for the matrix multiplication. This will only be logged once.\n"
     ]
    },
    {
     "name": "stdout",
     "output_type": "stream",
     "text": [
      "375/375 [==============================] - 3s 5ms/step - loss: 1.0788 - accuracy: 0.6097 - val_loss: 0.5439 - val_accuracy: 0.7947\n",
      "Epoch 2/100\n",
      "375/375 [==============================] - 2s 5ms/step - loss: 0.6366 - accuracy: 0.7437 - val_loss: 0.3895 - val_accuracy: 0.8467\n",
      "Epoch 3/100\n",
      "375/375 [==============================] - 2s 5ms/step - loss: 0.5069 - accuracy: 0.7947 - val_loss: 0.3284 - val_accuracy: 0.8780\n",
      "Epoch 4/100\n",
      "375/375 [==============================] - 2s 5ms/step - loss: 0.4449 - accuracy: 0.8244 - val_loss: 0.2932 - val_accuracy: 0.9007\n",
      "Epoch 5/100\n",
      "375/375 [==============================] - 2s 5ms/step - loss: 0.4041 - accuracy: 0.8465 - val_loss: 0.2729 - val_accuracy: 0.9113\n",
      "Epoch 6/100\n",
      "375/375 [==============================] - 1s 4ms/step - loss: 0.3714 - accuracy: 0.8600 - val_loss: 0.2498 - val_accuracy: 0.9200\n",
      "Epoch 7/100\n",
      "375/375 [==============================] - 1s 2ms/step - loss: 0.3473 - accuracy: 0.8723 - val_loss: 0.2294 - val_accuracy: 0.9207\n",
      "Epoch 8/100\n",
      "375/375 [==============================] - 1s 2ms/step - loss: 0.3268 - accuracy: 0.8798 - val_loss: 0.2266 - val_accuracy: 0.9207\n",
      "Epoch 9/100\n",
      "375/375 [==============================] - 1s 4ms/step - loss: 0.3058 - accuracy: 0.8898 - val_loss: 0.2115 - val_accuracy: 0.9300\n",
      "Epoch 10/100\n",
      "375/375 [==============================] - 1s 3ms/step - loss: 0.2968 - accuracy: 0.8939 - val_loss: 0.1910 - val_accuracy: 0.9387\n",
      "Epoch 11/100\n",
      "375/375 [==============================] - 1s 3ms/step - loss: 0.2766 - accuracy: 0.8978 - val_loss: 0.1806 - val_accuracy: 0.9420\n",
      "Epoch 12/100\n",
      "375/375 [==============================] - 1s 3ms/step - loss: 0.2718 - accuracy: 0.9037 - val_loss: 0.1745 - val_accuracy: 0.9420\n",
      "Epoch 13/100\n",
      "375/375 [==============================] - 1s 3ms/step - loss: 0.2616 - accuracy: 0.9070 - val_loss: 0.1709 - val_accuracy: 0.9367\n",
      "Epoch 14/100\n",
      "375/375 [==============================] - 1s 2ms/step - loss: 0.2542 - accuracy: 0.9117 - val_loss: 0.1573 - val_accuracy: 0.9420\n",
      "Epoch 15/100\n",
      "375/375 [==============================] - 1s 4ms/step - loss: 0.2411 - accuracy: 0.9137 - val_loss: 0.1621 - val_accuracy: 0.9460\n",
      "Epoch 16/100\n",
      "375/375 [==============================] - 1s 3ms/step - loss: 0.2354 - accuracy: 0.9140 - val_loss: 0.1495 - val_accuracy: 0.9473\n",
      "Epoch 17/100\n",
      "375/375 [==============================] - 1s 3ms/step - loss: 0.2418 - accuracy: 0.9134 - val_loss: 0.1450 - val_accuracy: 0.9467\n",
      "Epoch 18/100\n",
      "375/375 [==============================] - 2s 4ms/step - loss: 0.2146 - accuracy: 0.9221 - val_loss: 0.1294 - val_accuracy: 0.9513\n",
      "Epoch 19/100\n",
      "375/375 [==============================] - 2s 4ms/step - loss: 0.2123 - accuracy: 0.9212 - val_loss: 0.1296 - val_accuracy: 0.9513\n",
      "Epoch 20/100\n",
      "375/375 [==============================] - 2s 4ms/step - loss: 0.2087 - accuracy: 0.9217 - val_loss: 0.1192 - val_accuracy: 0.9567\n",
      "Epoch 21/100\n",
      "375/375 [==============================] - 2s 5ms/step - loss: 0.2067 - accuracy: 0.9243 - val_loss: 0.1160 - val_accuracy: 0.9620\n",
      "Epoch 22/100\n",
      "375/375 [==============================] - 2s 5ms/step - loss: 0.2019 - accuracy: 0.9230 - val_loss: 0.1115 - val_accuracy: 0.9607\n",
      "Epoch 23/100\n",
      "375/375 [==============================] - 2s 5ms/step - loss: 0.2006 - accuracy: 0.9287 - val_loss: 0.1119 - val_accuracy: 0.9533\n",
      "Epoch 24/100\n",
      "375/375 [==============================] - 2s 5ms/step - loss: 0.1885 - accuracy: 0.9320 - val_loss: 0.1024 - val_accuracy: 0.9613\n",
      "Epoch 25/100\n",
      "375/375 [==============================] - 2s 5ms/step - loss: 0.1910 - accuracy: 0.9293 - val_loss: 0.1039 - val_accuracy: 0.9587\n",
      "Epoch 26/100\n",
      "375/375 [==============================] - 2s 5ms/step - loss: 0.1863 - accuracy: 0.9341 - val_loss: 0.1049 - val_accuracy: 0.9627\n",
      "Epoch 27/100\n",
      "375/375 [==============================] - 2s 5ms/step - loss: 0.1865 - accuracy: 0.9329 - val_loss: 0.0971 - val_accuracy: 0.9633\n",
      "Epoch 28/100\n",
      "375/375 [==============================] - 2s 5ms/step - loss: 0.1746 - accuracy: 0.9365 - val_loss: 0.0935 - val_accuracy: 0.9667\n",
      "Epoch 29/100\n",
      "375/375 [==============================] - 2s 5ms/step - loss: 0.1765 - accuracy: 0.9367 - val_loss: 0.0927 - val_accuracy: 0.9680\n",
      "Epoch 30/100\n",
      "375/375 [==============================] - 2s 5ms/step - loss: 0.1712 - accuracy: 0.9367 - val_loss: 0.0876 - val_accuracy: 0.9647\n",
      "Epoch 31/100\n",
      "375/375 [==============================] - 2s 5ms/step - loss: 0.1739 - accuracy: 0.9364 - val_loss: 0.0907 - val_accuracy: 0.9647\n",
      "Epoch 32/100\n",
      "375/375 [==============================] - 2s 5ms/step - loss: 0.1679 - accuracy: 0.9387 - val_loss: 0.0852 - val_accuracy: 0.9673\n",
      "Epoch 33/100\n",
      "375/375 [==============================] - 2s 4ms/step - loss: 0.1623 - accuracy: 0.9417 - val_loss: 0.0797 - val_accuracy: 0.9707\n",
      "Epoch 34/100\n",
      "375/375 [==============================] - 1s 4ms/step - loss: 0.1611 - accuracy: 0.9432 - val_loss: 0.0834 - val_accuracy: 0.9687\n",
      "Epoch 35/100\n",
      "375/375 [==============================] - 1s 2ms/step - loss: 0.1545 - accuracy: 0.9469 - val_loss: 0.0810 - val_accuracy: 0.9713\n",
      "Epoch 36/100\n",
      "375/375 [==============================] - 2s 4ms/step - loss: 0.1556 - accuracy: 0.9427 - val_loss: 0.0763 - val_accuracy: 0.9700\n",
      "Epoch 37/100\n",
      "375/375 [==============================] - 2s 4ms/step - loss: 0.1526 - accuracy: 0.9441 - val_loss: 0.0742 - val_accuracy: 0.9673\n",
      "Epoch 38/100\n",
      "375/375 [==============================] - 1s 4ms/step - loss: 0.1483 - accuracy: 0.9462 - val_loss: 0.0723 - val_accuracy: 0.9707\n",
      "Epoch 39/100\n",
      "375/375 [==============================] - 2s 5ms/step - loss: 0.1481 - accuracy: 0.9473 - val_loss: 0.0715 - val_accuracy: 0.9707\n",
      "Epoch 40/100\n",
      "375/375 [==============================] - 2s 4ms/step - loss: 0.1478 - accuracy: 0.9436 - val_loss: 0.0661 - val_accuracy: 0.9733\n",
      "Epoch 41/100\n",
      "375/375 [==============================] - 2s 5ms/step - loss: 0.1429 - accuracy: 0.9469 - val_loss: 0.0686 - val_accuracy: 0.9753\n",
      "Epoch 42/100\n",
      "375/375 [==============================] - 2s 4ms/step - loss: 0.1391 - accuracy: 0.9509 - val_loss: 0.0665 - val_accuracy: 0.9733\n",
      "Epoch 43/100\n",
      "375/375 [==============================] - 2s 5ms/step - loss: 0.1425 - accuracy: 0.9479 - val_loss: 0.0638 - val_accuracy: 0.9733\n",
      "Epoch 44/100\n",
      "375/375 [==============================] - 2s 4ms/step - loss: 0.1387 - accuracy: 0.9501 - val_loss: 0.0636 - val_accuracy: 0.9747\n",
      "Epoch 45/100\n",
      "375/375 [==============================] - 2s 5ms/step - loss: 0.1350 - accuracy: 0.9507 - val_loss: 0.0581 - val_accuracy: 0.9753\n",
      "Epoch 46/100\n",
      "375/375 [==============================] - 2s 4ms/step - loss: 0.1349 - accuracy: 0.9516 - val_loss: 0.0616 - val_accuracy: 0.9767\n",
      "Epoch 47/100\n",
      "375/375 [==============================] - 2s 4ms/step - loss: 0.1342 - accuracy: 0.9494 - val_loss: 0.0597 - val_accuracy: 0.9780\n",
      "Epoch 48/100\n",
      "375/375 [==============================] - 1s 3ms/step - loss: 0.1278 - accuracy: 0.9533 - val_loss: 0.0592 - val_accuracy: 0.9760\n",
      "Epoch 49/100\n",
      "375/375 [==============================] - 2s 4ms/step - loss: 0.1207 - accuracy: 0.9541 - val_loss: 0.0537 - val_accuracy: 0.9793\n",
      "Epoch 50/100\n",
      "375/375 [==============================] - 1s 4ms/step - loss: 0.1232 - accuracy: 0.9542 - val_loss: 0.0599 - val_accuracy: 0.9773\n",
      "Epoch 51/100\n",
      "375/375 [==============================] - 2s 4ms/step - loss: 0.1241 - accuracy: 0.9557 - val_loss: 0.0515 - val_accuracy: 0.9807\n",
      "Epoch 52/100\n",
      "375/375 [==============================] - 1s 3ms/step - loss: 0.1197 - accuracy: 0.9567 - val_loss: 0.0506 - val_accuracy: 0.9787\n",
      "Epoch 53/100\n",
      "375/375 [==============================] - 2s 5ms/step - loss: 0.1213 - accuracy: 0.9560 - val_loss: 0.0528 - val_accuracy: 0.9807\n",
      "Epoch 54/100\n",
      "375/375 [==============================] - 2s 4ms/step - loss: 0.1174 - accuracy: 0.9579 - val_loss: 0.0544 - val_accuracy: 0.9800\n",
      "Epoch 55/100\n",
      "375/375 [==============================] - 2s 4ms/step - loss: 0.1109 - accuracy: 0.9605 - val_loss: 0.0510 - val_accuracy: 0.9807\n",
      "Epoch 56/100\n",
      "375/375 [==============================] - 1s 2ms/step - loss: 0.1114 - accuracy: 0.9594 - val_loss: 0.0452 - val_accuracy: 0.9820\n",
      "Epoch 57/100\n",
      "375/375 [==============================] - 1s 3ms/step - loss: 0.1176 - accuracy: 0.9572 - val_loss: 0.0443 - val_accuracy: 0.9833\n",
      "Epoch 58/100\n",
      "375/375 [==============================] - 1s 3ms/step - loss: 0.1111 - accuracy: 0.9579 - val_loss: 0.0471 - val_accuracy: 0.9853\n",
      "Epoch 59/100\n",
      "375/375 [==============================] - 2s 5ms/step - loss: 0.1080 - accuracy: 0.9616 - val_loss: 0.0615 - val_accuracy: 0.9753\n",
      "Epoch 60/100\n",
      "375/375 [==============================] - 1s 3ms/step - loss: 0.1063 - accuracy: 0.9618 - val_loss: 0.0431 - val_accuracy: 0.9833\n",
      "Epoch 61/100\n",
      "375/375 [==============================] - 1s 2ms/step - loss: 0.1077 - accuracy: 0.9601 - val_loss: 0.0407 - val_accuracy: 0.9840\n",
      "Epoch 62/100\n",
      "375/375 [==============================] - 1s 3ms/step - loss: 0.1037 - accuracy: 0.9621 - val_loss: 0.0432 - val_accuracy: 0.9867\n",
      "Epoch 63/100\n",
      "375/375 [==============================] - 2s 5ms/step - loss: 0.1048 - accuracy: 0.9635 - val_loss: 0.0422 - val_accuracy: 0.9833\n",
      "Epoch 64/100\n",
      "375/375 [==============================] - 2s 4ms/step - loss: 0.1012 - accuracy: 0.9647 - val_loss: 0.0410 - val_accuracy: 0.9853\n",
      "Epoch 65/100\n",
      "375/375 [==============================] - 2s 4ms/step - loss: 0.1007 - accuracy: 0.9640 - val_loss: 0.0453 - val_accuracy: 0.9867\n",
      "Epoch 66/100\n",
      "375/375 [==============================] - 2s 4ms/step - loss: 0.0981 - accuracy: 0.9641 - val_loss: 0.0404 - val_accuracy: 0.9873\n",
      "Epoch 67/100\n",
      "375/375 [==============================] - 1s 3ms/step - loss: 0.1022 - accuracy: 0.9620 - val_loss: 0.0440 - val_accuracy: 0.9860\n",
      "Epoch 68/100\n",
      "375/375 [==============================] - 1s 2ms/step - loss: 0.0990 - accuracy: 0.9653 - val_loss: 0.0391 - val_accuracy: 0.9873\n",
      "Epoch 69/100\n",
      "375/375 [==============================] - 1s 3ms/step - loss: 0.0942 - accuracy: 0.9661 - val_loss: 0.0386 - val_accuracy: 0.9867\n",
      "Epoch 70/100\n",
      "375/375 [==============================] - 1s 2ms/step - loss: 0.1015 - accuracy: 0.9623 - val_loss: 0.0391 - val_accuracy: 0.9880\n",
      "Epoch 71/100\n",
      "375/375 [==============================] - 2s 5ms/step - loss: 0.0939 - accuracy: 0.9659 - val_loss: 0.0372 - val_accuracy: 0.9873\n",
      "Epoch 72/100\n",
      "375/375 [==============================] - 1s 4ms/step - loss: 0.0935 - accuracy: 0.9659 - val_loss: 0.0364 - val_accuracy: 0.9873\n",
      "Epoch 73/100\n",
      "375/375 [==============================] - 2s 4ms/step - loss: 0.0916 - accuracy: 0.9684 - val_loss: 0.0414 - val_accuracy: 0.9873\n",
      "Epoch 74/100\n",
      "375/375 [==============================] - 2s 5ms/step - loss: 0.0877 - accuracy: 0.9679 - val_loss: 0.0367 - val_accuracy: 0.9873\n",
      "Epoch 75/100\n",
      "375/375 [==============================] - 2s 5ms/step - loss: 0.0860 - accuracy: 0.9682 - val_loss: 0.0347 - val_accuracy: 0.9893\n",
      "Epoch 76/100\n",
      "375/375 [==============================] - 2s 5ms/step - loss: 0.0910 - accuracy: 0.9681 - val_loss: 0.0366 - val_accuracy: 0.9893\n",
      "Epoch 77/100\n",
      "375/375 [==============================] - 2s 4ms/step - loss: 0.0823 - accuracy: 0.9693 - val_loss: 0.0387 - val_accuracy: 0.9847\n",
      "Epoch 78/100\n",
      "375/375 [==============================] - 2s 4ms/step - loss: 0.0855 - accuracy: 0.9678 - val_loss: 0.0311 - val_accuracy: 0.9900\n",
      "Epoch 79/100\n",
      "375/375 [==============================] - 1s 4ms/step - loss: 0.0855 - accuracy: 0.9675 - val_loss: 0.0360 - val_accuracy: 0.9880\n",
      "Epoch 80/100\n",
      "375/375 [==============================] - 2s 4ms/step - loss: 0.0833 - accuracy: 0.9702 - val_loss: 0.0304 - val_accuracy: 0.9900\n",
      "Epoch 81/100\n",
      "375/375 [==============================] - 1s 4ms/step - loss: 0.0832 - accuracy: 0.9715 - val_loss: 0.0300 - val_accuracy: 0.9893\n",
      "Epoch 82/100\n",
      "375/375 [==============================] - 1s 4ms/step - loss: 0.0817 - accuracy: 0.9712 - val_loss: 0.0300 - val_accuracy: 0.9873\n",
      "Epoch 83/100\n",
      "375/375 [==============================] - 1s 4ms/step - loss: 0.0805 - accuracy: 0.9706 - val_loss: 0.0307 - val_accuracy: 0.9920\n",
      "Epoch 84/100\n",
      "375/375 [==============================] - 2s 5ms/step - loss: 0.0832 - accuracy: 0.9710 - val_loss: 0.0297 - val_accuracy: 0.9887\n",
      "Epoch 85/100\n",
      "375/375 [==============================] - 2s 5ms/step - loss: 0.0729 - accuracy: 0.9758 - val_loss: 0.0304 - val_accuracy: 0.9900\n",
      "Epoch 86/100\n",
      "375/375 [==============================] - 2s 5ms/step - loss: 0.0796 - accuracy: 0.9713 - val_loss: 0.0256 - val_accuracy: 0.9900\n",
      "Epoch 87/100\n",
      "375/375 [==============================] - 2s 4ms/step - loss: 0.0741 - accuracy: 0.9735 - val_loss: 0.0350 - val_accuracy: 0.9913\n",
      "Epoch 88/100\n",
      "375/375 [==============================] - 2s 5ms/step - loss: 0.0756 - accuracy: 0.9728 - val_loss: 0.0286 - val_accuracy: 0.9887\n",
      "Epoch 89/100\n",
      "375/375 [==============================] - 2s 5ms/step - loss: 0.0746 - accuracy: 0.9718 - val_loss: 0.0270 - val_accuracy: 0.9913\n",
      "Epoch 90/100\n",
      "375/375 [==============================] - 2s 5ms/step - loss: 0.0701 - accuracy: 0.9740 - val_loss: 0.0264 - val_accuracy: 0.9900\n",
      "Epoch 91/100\n",
      "375/375 [==============================] - 2s 5ms/step - loss: 0.0724 - accuracy: 0.9747 - val_loss: 0.0295 - val_accuracy: 0.9887\n",
      "Epoch 92/100\n",
      "375/375 [==============================] - 2s 5ms/step - loss: 0.0730 - accuracy: 0.9730 - val_loss: 0.0226 - val_accuracy: 0.9933\n",
      "Epoch 93/100\n",
      "375/375 [==============================] - 2s 4ms/step - loss: 0.0677 - accuracy: 0.9748 - val_loss: 0.0239 - val_accuracy: 0.9927\n",
      "Epoch 94/100\n",
      "375/375 [==============================] - 2s 5ms/step - loss: 0.0750 - accuracy: 0.9731 - val_loss: 0.0247 - val_accuracy: 0.9927\n",
      "Epoch 95/100\n",
      "375/375 [==============================] - 2s 4ms/step - loss: 0.0725 - accuracy: 0.9737 - val_loss: 0.0246 - val_accuracy: 0.9913\n",
      "Epoch 96/100\n",
      "375/375 [==============================] - 2s 4ms/step - loss: 0.0698 - accuracy: 0.9747 - val_loss: 0.0259 - val_accuracy: 0.9940\n",
      "Epoch 97/100\n",
      "375/375 [==============================] - 1s 2ms/step - loss: 0.0661 - accuracy: 0.9745 - val_loss: 0.0249 - val_accuracy: 0.9913\n",
      "Epoch 98/100\n",
      "375/375 [==============================] - 2s 5ms/step - loss: 0.0677 - accuracy: 0.9739 - val_loss: 0.0277 - val_accuracy: 0.9900\n",
      "Epoch 99/100\n",
      "375/375 [==============================] - 2s 5ms/step - loss: 0.0699 - accuracy: 0.9750 - val_loss: 0.0241 - val_accuracy: 0.9927\n",
      "Epoch 100/100\n",
      "375/375 [==============================] - 1s 2ms/step - loss: 0.0653 - accuracy: 0.9768 - val_loss: 0.0244 - val_accuracy: 0.9920\n",
      "Training results\n",
      "Training Accuracy: 0.9767500162124634\n",
      "Training Loss: 0.06528747826814651\n",
      "Evaluation results\n",
      "Validation Accuracy: 0.9919999837875366\n",
      "Validation Loss: 0.024388082325458527\n"
     ]
    },
    {
     "data": {
      "image/png": "[encoded data removed]",
      "text/plain": [
       "<Figure size 432x288 with 1 Axes>"
      ]
     },
     "metadata": {
      "needs_background": "light"
     },
     "output_type": "display_data"
    }
   ],
   "source": [
    "import tensorflow_model_optimization as tfmot\n",
    "\n",
    "model = tf.keras.Sequential(name='conv_model_paper')\n",
    "model.add(tf.keras.layers.InputLayer(input_shape=(1000,1)))\n",
    "model.add(tf.keras.layers.Conv1D(32,7))\n",
    "model.add(tf.keras.layers.BatchNormalization())\n",
    "model.add(tf.keras.layers.Activation('relu'))\n",
    "model.add(tf.keras.layers.MaxPooling1D(pool_size=8))\n",
    "model.add(tf.keras.layers.Conv1D(48,5))\n",
    "model.add(tf.keras.layers.BatchNormalization())\n",
    "model.add(tf.keras.layers.Activation('relu'))\n",
    "model.add(tf.keras.layers.MaxPooling1D(pool_size=4))\n",
    "model.add(tf.keras.layers.MaxPooling1D(pool_size=4))\n",
    "model.add(tf.keras.layers.Dropout(0.3))\n",
    "model.add(tf.keras.layers.Flatten())\n",
    "model.add(tf.keras.layers.Dense(32))\n",
    "model.add(tf.keras.layers.Dense(32))\n",
    "model.add(tf.keras.layers.Dense(3, activation='softmax'))\n",
    "\n",
    "print(model.summary())\n",
    "model.compile(optimizer=tf.keras.optimizers.Adam(learning_rate=1e-4),\n",
    "              loss=tf.keras.losses.SparseCategoricalCrossentropy(from_logits=True),\n",
    "              metrics=['accuracy'])\n",
    "\n",
    "history = model.fit(x_train, y_train ,epochs=100, validation_data=(x_val, y_val), verbose=1)   \n",
    "\n",
    "\n",
    "# Plotting accuracy and loss\n",
    "import matplotlib.pyplot as plt\n",
    "plt.plot(history.history['loss'])\n",
    "plt.plot(history.history['accuracy'])\n",
    "plt.plot(history.history['val_accuracy'])\n",
    "plt.plot(history.history['val_loss'])\n",
    "\n",
    "\n",
    "plt.title('Model loss & accuracy')\n",
    "plt.ylabel('Loss')\n",
    "plt.xlabel('Epoch')\n",
    "plt.legend(['tr_loss', 'tr_accuracy', 'val_acc', 'val_loss'], loc='lower right')\n",
    "# accuracy!\n",
    "print(\"Training results\")\n",
    "print(f\"Training Accuracy: {history.history['accuracy'][-1]}\")\n",
    "print(f\"Training Loss: {history.history['loss'][-1]}\")\n",
    "\n",
    "# evaluating model\n",
    "print(\"Evaluation results\")\n",
    "print(f\"Validation Accuracy: {history.history['val_accuracy'][-1]}\")\n",
    "print(f\"Validation Loss: {history.history['val_loss'][-1]}\")\n",
    "\n",
    "\n",
    "plt.show()"
   ]
  },
  {
   "cell_type": "markdown",
   "metadata": {},
   "source": [
    "## Save the model without optimization and convert it to tflite format"
   ]
  },
  {
   "cell_type": "code",
   "execution_count": 7,
   "metadata": {},
   "outputs": [
    {
     "name": "stderr",
     "output_type": "stream",
     "text": [
      "WARNING:absl:Found untraced functions such as _jit_compiled_convolution_op, _jit_compiled_convolution_op while saving (showing 2 of 2). These functions will not be directly callable after loading.\n"
     ]
    },
    {
     "name": "stdout",
     "output_type": "stream",
     "text": [
      "INFO:tensorflow:Assets written to: /tmp/tmpvyyw7zyf/assets\n"
     ]
    },
    {
     "name": "stderr",
     "output_type": "stream",
     "text": [
      "INFO:tensorflow:Assets written to: /tmp/tmpvyyw7zyf/assets\n",
      "2022-10-06 10:32:10.334637: W tensorflow/compiler/mlir/lite/python/tf_tfl_flatbuffer_helpers.cc:362] Ignored output_format.\n",
      "2022-10-06 10:32:10.334659: W tensorflow/compiler/mlir/lite/python/tf_tfl_flatbuffer_helpers.cc:365] Ignored drop_control_dependency.\n",
      "2022-10-06 10:32:10.335113: I tensorflow/cc/saved_model/reader.cc:45] Reading SavedModel from: /tmp/tmpvyyw7zyf\n",
      "2022-10-06 10:32:10.336996: I tensorflow/cc/saved_model/reader.cc:89] Reading meta graph with tags { serve }\n",
      "2022-10-06 10:32:10.337010: I tensorflow/cc/saved_model/reader.cc:130] Reading SavedModel debug info (if present) from: /tmp/tmpvyyw7zyf\n",
      "2022-10-06 10:32:10.341964: I tensorflow/compiler/mlir/mlir_graph_optimization_pass.cc:354] MLIR V1 optimization pass is not enabled\n",
      "2022-10-06 10:32:10.343512: I tensorflow/cc/saved_model/loader.cc:229] Restoring SavedModel bundle.\n",
      "2022-10-06 10:32:10.389097: I tensorflow/cc/saved_model/loader.cc:213] Running initialization op on SavedModel bundle at path: /tmp/tmpvyyw7zyf\n",
      "2022-10-06 10:32:10.399716: I tensorflow/cc/saved_model/loader.cc:305] SavedModel load for tags { serve }; Status: success: OK. Took 64604 microseconds.\n",
      "2022-10-06 10:32:10.422584: I tensorflow/compiler/mlir/tensorflow/utils/dump_mlir_util.cc:268] disabling MLIR crash reproducer, set env var `MLIR_CRASH_REPRODUCER_DIRECTORY` to enable.\n"
     ]
    },
    {
     "data": {
      "text/plain": [
       "88160"
      ]
     },
     "execution_count": 7,
     "metadata": {},
     "output_type": "execute_result"
    }
   ],
   "source": [
    "float_converter = tf.lite.TFLiteConverter.from_keras_model(model)\n",
    "float_tflite_model = float_converter.convert()\n",
    "tflite_model_file = pathlib.Path('conv_model_paper.tflite')\n",
    "tflite_model_file.write_bytes(float_tflite_model)"
   ]
  },
  {
   "cell_type": "code",
   "execution_count": 8,
   "metadata": {},
   "outputs": [],
   "source": [
    "!xxd -i conv_model_paper.tflite > conv_model_paper.cc"
   ]
  },
  {
   "cell_type": "markdown",
   "metadata": {},
   "source": [
    "## Quantize same model and save it in tflite format."
   ]
  },
  {
   "cell_type": "code",
   "execution_count": 9,
   "metadata": {},
   "outputs": [
    {
     "name": "stderr",
     "output_type": "stream",
     "text": [
      "WARNING:absl:Found untraced functions such as _jit_compiled_convolution_op, _jit_compiled_convolution_op while saving (showing 2 of 2). These functions will not be directly callable after loading.\n"
     ]
    },
    {
     "name": "stdout",
     "output_type": "stream",
     "text": [
      "INFO:tensorflow:Assets written to: /tmp/tmpd_nnl9mk/assets\n"
     ]
    },
    {
     "name": "stderr",
     "output_type": "stream",
     "text": [
      "INFO:tensorflow:Assets written to: /tmp/tmpd_nnl9mk/assets\n",
      "/home/veysiadn/anaconda3/lib/python3.9/site-packages/tensorflow/lite/python/convert.py:766: UserWarning: Statistics for quantized inputs were expected, but not specified; continuing anyway.\n",
      "  warnings.warn(\"Statistics for quantized inputs were expected, but not \"\n",
      "2022-10-06 10:32:22.149760: W tensorflow/compiler/mlir/lite/python/tf_tfl_flatbuffer_helpers.cc:362] Ignored output_format.\n",
      "2022-10-06 10:32:22.149776: W tensorflow/compiler/mlir/lite/python/tf_tfl_flatbuffer_helpers.cc:365] Ignored drop_control_dependency.\n",
      "2022-10-06 10:32:22.149890: I tensorflow/cc/saved_model/reader.cc:45] Reading SavedModel from: /tmp/tmpd_nnl9mk\n",
      "2022-10-06 10:32:22.151344: I tensorflow/cc/saved_model/reader.cc:89] Reading meta graph with tags { serve }\n",
      "2022-10-06 10:32:22.151359: I tensorflow/cc/saved_model/reader.cc:130] Reading SavedModel debug info (if present) from: /tmp/tmpd_nnl9mk\n",
      "2022-10-06 10:32:22.157772: I tensorflow/cc/saved_model/loader.cc:229] Restoring SavedModel bundle.\n",
      "2022-10-06 10:32:22.196625: I tensorflow/cc/saved_model/loader.cc:213] Running initialization op on SavedModel bundle at path: /tmp/tmpd_nnl9mk\n",
      "2022-10-06 10:32:22.206339: I tensorflow/cc/saved_model/loader.cc:305] SavedModel load for tags { serve }; Status: success: OK. Took 56449 microseconds.\n"
     ]
    },
    {
     "ename": "RuntimeError",
     "evalue": "tensorflow/lite/kernels/conv.cc:350 input->dims->size != 4 (3 != 4)Node number 1 (CONV_2D) failed to prepare.",
     "output_type": "error",
     "traceback": [
      "\u001b[0;31m---------------------------------------------------------------------------\u001b[0m",
      "\u001b[0;31mRuntimeError\u001b[0m                              Traceback (most recent call last)",
      "\u001b[1;32m/home/veysiadn/model-training/acustic-emission-models/convert_deploy.ipynb Cell 15\u001b[0m in \u001b[0;36m<cell line: 9>\u001b[0;34m()\u001b[0m\n\u001b[1;32m      <a href='vscode-notebook-cell:/home/veysiadn/model-training/acustic-emission-models/convert_deploy.ipynb#X16sZmlsZQ%3D%3D?line=6'>7</a>\u001b[0m converter\u001b[39m.\u001b[39moptimizations \u001b[39m=\u001b[39m [tf\u001b[39m.\u001b[39mlite\u001b[39m.\u001b[39mOptimize\u001b[39m.\u001b[39mDEFAULT]\n\u001b[1;32m      <a href='vscode-notebook-cell:/home/veysiadn/model-training/acustic-emission-models/convert_deploy.ipynb#X16sZmlsZQ%3D%3D?line=7'>8</a>\u001b[0m converter\u001b[39m.\u001b[39mrepresentative_dataset \u001b[39m=\u001b[39m representative_data_gen\n\u001b[0;32m----> <a href='vscode-notebook-cell:/home/veysiadn/model-training/acustic-emission-models/convert_deploy.ipynb#X16sZmlsZQ%3D%3D?line=8'>9</a>\u001b[0m tflite_model_quant \u001b[39m=\u001b[39m converter\u001b[39m.\u001b[39;49mconvert()\n\u001b[1;32m     <a href='vscode-notebook-cell:/home/veysiadn/model-training/acustic-emission-models/convert_deploy.ipynb#X16sZmlsZQ%3D%3D?line=10'>11</a>\u001b[0m tflite_model_file \u001b[39m=\u001b[39m pathlib\u001b[39m.\u001b[39mPath(\u001b[39m'\u001b[39m\u001b[39mconv_model_paper_optimized.tflite\u001b[39m\u001b[39m'\u001b[39m)\n\u001b[1;32m     <a href='vscode-notebook-cell:/home/veysiadn/model-training/acustic-emission-models/convert_deploy.ipynb#X16sZmlsZQ%3D%3D?line=11'>12</a>\u001b[0m tflite_model_file\u001b[39m.\u001b[39mwrite_bytes(tflite_model_quant)\n",
      "File \u001b[0;32m~/anaconda3/lib/python3.9/site-packages/tensorflow/lite/python/lite.py:930\u001b[0m, in \u001b[0;36m_export_metrics.<locals>.wrapper\u001b[0;34m(self, *args, **kwargs)\u001b[0m\n\u001b[1;32m    927\u001b[0m \u001b[39m@functools\u001b[39m\u001b[39m.\u001b[39mwraps(convert_func)\n\u001b[1;32m    928\u001b[0m \u001b[39mdef\u001b[39;00m \u001b[39mwrapper\u001b[39m(\u001b[39mself\u001b[39m, \u001b[39m*\u001b[39margs, \u001b[39m*\u001b[39m\u001b[39m*\u001b[39mkwargs):\n\u001b[1;32m    929\u001b[0m   \u001b[39m# pylint: disable=protected-access\u001b[39;00m\n\u001b[0;32m--> 930\u001b[0m   \u001b[39mreturn\u001b[39;00m \u001b[39mself\u001b[39;49m\u001b[39m.\u001b[39;49m_convert_and_export_metrics(convert_func, \u001b[39m*\u001b[39;49margs, \u001b[39m*\u001b[39;49m\u001b[39m*\u001b[39;49mkwargs)\n",
      "File \u001b[0;32m~/anaconda3/lib/python3.9/site-packages/tensorflow/lite/python/lite.py:908\u001b[0m, in \u001b[0;36mTFLiteConverterBase._convert_and_export_metrics\u001b[0;34m(self, convert_func, *args, **kwargs)\u001b[0m\n\u001b[1;32m    906\u001b[0m \u001b[39mself\u001b[39m\u001b[39m.\u001b[39m_save_conversion_params_metric()\n\u001b[1;32m    907\u001b[0m start_time \u001b[39m=\u001b[39m time\u001b[39m.\u001b[39mprocess_time()\n\u001b[0;32m--> 908\u001b[0m result \u001b[39m=\u001b[39m convert_func(\u001b[39mself\u001b[39;49m, \u001b[39m*\u001b[39;49margs, \u001b[39m*\u001b[39;49m\u001b[39m*\u001b[39;49mkwargs)\n\u001b[1;32m    909\u001b[0m elapsed_time_ms \u001b[39m=\u001b[39m (time\u001b[39m.\u001b[39mprocess_time() \u001b[39m-\u001b[39m start_time) \u001b[39m*\u001b[39m \u001b[39m1000\u001b[39m\n\u001b[1;32m    910\u001b[0m \u001b[39mif\u001b[39;00m result:\n",
      "File \u001b[0;32m~/anaconda3/lib/python3.9/site-packages/tensorflow/lite/python/lite.py:1339\u001b[0m, in \u001b[0;36mTFLiteKerasModelConverterV2.convert\u001b[0;34m(self)\u001b[0m\n\u001b[1;32m   1326\u001b[0m \u001b[39m@_export_metrics\u001b[39m\n\u001b[1;32m   1327\u001b[0m \u001b[39mdef\u001b[39;00m \u001b[39mconvert\u001b[39m(\u001b[39mself\u001b[39m):\n\u001b[1;32m   1328\u001b[0m   \u001b[39m\"\"\"Converts a keras model based on instance variables.\u001b[39;00m\n\u001b[1;32m   1329\u001b[0m \n\u001b[1;32m   1330\u001b[0m \u001b[39m  Returns:\u001b[39;00m\n\u001b[0;32m   (...)\u001b[0m\n\u001b[1;32m   1337\u001b[0m \u001b[39m      Invalid quantization parameters.\u001b[39;00m\n\u001b[1;32m   1338\u001b[0m \u001b[39m  \"\"\"\u001b[39;00m\n\u001b[0;32m-> 1339\u001b[0m   saved_model_convert_result \u001b[39m=\u001b[39m \u001b[39mself\u001b[39;49m\u001b[39m.\u001b[39;49m_convert_as_saved_model()\n\u001b[1;32m   1340\u001b[0m   \u001b[39mif\u001b[39;00m saved_model_convert_result:\n\u001b[1;32m   1341\u001b[0m     \u001b[39mreturn\u001b[39;00m saved_model_convert_result\n",
      "File \u001b[0;32m~/anaconda3/lib/python3.9/site-packages/tensorflow/lite/python/lite.py:1321\u001b[0m, in \u001b[0;36mTFLiteKerasModelConverterV2._convert_as_saved_model\u001b[0;34m(self)\u001b[0m\n\u001b[1;32m   1318\u001b[0m   graph_def, input_tensors, output_tensors \u001b[39m=\u001b[39m (\n\u001b[1;32m   1319\u001b[0m       \u001b[39mself\u001b[39m\u001b[39m.\u001b[39m_convert_keras_to_saved_model(temp_dir))\n\u001b[1;32m   1320\u001b[0m   \u001b[39mif\u001b[39;00m \u001b[39mself\u001b[39m\u001b[39m.\u001b[39msaved_model_dir:\n\u001b[0;32m-> 1321\u001b[0m     \u001b[39mreturn\u001b[39;00m \u001b[39msuper\u001b[39;49m(TFLiteKerasModelConverterV2,\n\u001b[1;32m   1322\u001b[0m                  \u001b[39mself\u001b[39;49m)\u001b[39m.\u001b[39;49mconvert(graph_def, input_tensors, output_tensors)\n\u001b[1;32m   1323\u001b[0m \u001b[39mfinally\u001b[39;00m:\n\u001b[1;32m   1324\u001b[0m   shutil\u001b[39m.\u001b[39mrmtree(temp_dir, \u001b[39mTrue\u001b[39;00m)\n",
      "File \u001b[0;32m~/anaconda3/lib/python3.9/site-packages/tensorflow/lite/python/lite.py:1138\u001b[0m, in \u001b[0;36mTFLiteConverterBaseV2.convert\u001b[0;34m(self, graph_def, input_tensors, output_tensors)\u001b[0m\n\u001b[1;32m   1131\u001b[0m \u001b[39m# Converts model.\u001b[39;00m\n\u001b[1;32m   1132\u001b[0m result \u001b[39m=\u001b[39m _convert_graphdef(\n\u001b[1;32m   1133\u001b[0m     input_data\u001b[39m=\u001b[39mgraph_def,\n\u001b[1;32m   1134\u001b[0m     input_tensors\u001b[39m=\u001b[39minput_tensors,\n\u001b[1;32m   1135\u001b[0m     output_tensors\u001b[39m=\u001b[39moutput_tensors,\n\u001b[1;32m   1136\u001b[0m     \u001b[39m*\u001b[39m\u001b[39m*\u001b[39mconverter_kwargs)\n\u001b[0;32m-> 1138\u001b[0m \u001b[39mreturn\u001b[39;00m \u001b[39mself\u001b[39;49m\u001b[39m.\u001b[39;49m_optimize_tflite_model(\n\u001b[1;32m   1139\u001b[0m     result, \u001b[39mself\u001b[39;49m\u001b[39m.\u001b[39;49m_quant_mode, quant_io\u001b[39m=\u001b[39;49m\u001b[39mself\u001b[39;49m\u001b[39m.\u001b[39;49mexperimental_new_quantizer)\n",
      "File \u001b[0;32m~/anaconda3/lib/python3.9/site-packages/tensorflow/lite/python/convert_phase.py:215\u001b[0m, in \u001b[0;36mconvert_phase.<locals>.actual_decorator.<locals>.wrapper\u001b[0;34m(*args, **kwargs)\u001b[0m\n\u001b[1;32m    213\u001b[0m \u001b[39mexcept\u001b[39;00m \u001b[39mException\u001b[39;00m \u001b[39mas\u001b[39;00m error:\n\u001b[1;32m    214\u001b[0m   report_error_message(\u001b[39mstr\u001b[39m(error))\n\u001b[0;32m--> 215\u001b[0m   \u001b[39mraise\u001b[39;00m error \u001b[39mfrom\u001b[39;00m \u001b[39mNone\u001b[39m\n",
      "File \u001b[0;32m~/anaconda3/lib/python3.9/site-packages/tensorflow/lite/python/convert_phase.py:205\u001b[0m, in \u001b[0;36mconvert_phase.<locals>.actual_decorator.<locals>.wrapper\u001b[0;34m(*args, **kwargs)\u001b[0m\n\u001b[1;32m    202\u001b[0m \u001b[39m@functools\u001b[39m\u001b[39m.\u001b[39mwraps(func)\n\u001b[1;32m    203\u001b[0m \u001b[39mdef\u001b[39;00m \u001b[39mwrapper\u001b[39m(\u001b[39m*\u001b[39margs, \u001b[39m*\u001b[39m\u001b[39m*\u001b[39mkwargs):\n\u001b[1;32m    204\u001b[0m   \u001b[39mtry\u001b[39;00m:\n\u001b[0;32m--> 205\u001b[0m     \u001b[39mreturn\u001b[39;00m func(\u001b[39m*\u001b[39;49margs, \u001b[39m*\u001b[39;49m\u001b[39m*\u001b[39;49mkwargs)\n\u001b[1;32m    206\u001b[0m   \u001b[39mexcept\u001b[39;00m ConverterError \u001b[39mas\u001b[39;00m converter_error:\n\u001b[1;32m    207\u001b[0m     \u001b[39mif\u001b[39;00m converter_error\u001b[39m.\u001b[39merrors:\n",
      "File \u001b[0;32m~/anaconda3/lib/python3.9/site-packages/tensorflow/lite/python/lite.py:868\u001b[0m, in \u001b[0;36mTFLiteConverterBase._optimize_tflite_model\u001b[0;34m(self, model, quant_mode, quant_io)\u001b[0m\n\u001b[1;32m    866\u001b[0m   q_bias_type \u001b[39m=\u001b[39m quant_mode\u001b[39m.\u001b[39mbias_type()\n\u001b[1;32m    867\u001b[0m   q_allow_float \u001b[39m=\u001b[39m quant_mode\u001b[39m.\u001b[39mis_allow_float()\n\u001b[0;32m--> 868\u001b[0m   model \u001b[39m=\u001b[39m \u001b[39mself\u001b[39;49m\u001b[39m.\u001b[39;49m_quantize(model, q_in_type, q_out_type, q_activations_type,\n\u001b[1;32m    869\u001b[0m                          q_bias_type, q_allow_float)\n\u001b[1;32m    871\u001b[0m m_in_type \u001b[39m=\u001b[39m in_type \u001b[39mif\u001b[39;00m in_type \u001b[39melse\u001b[39;00m _dtypes\u001b[39m.\u001b[39mfloat32\n\u001b[1;32m    872\u001b[0m m_out_type \u001b[39m=\u001b[39m out_type \u001b[39mif\u001b[39;00m out_type \u001b[39melse\u001b[39;00m _dtypes\u001b[39m.\u001b[39mfloat32\n",
      "File \u001b[0;32m~/anaconda3/lib/python3.9/site-packages/tensorflow/lite/python/lite.py:612\u001b[0m, in \u001b[0;36mTFLiteConverterBase._quantize\u001b[0;34m(self, result, input_type, output_type, activations_type, bias_type, allow_float)\u001b[0m\n\u001b[1;32m    608\u001b[0m calibrate_quantize \u001b[39m=\u001b[39m _calibrator\u001b[39m.\u001b[39mCalibrator(result,\n\u001b[1;32m    609\u001b[0m                                             custom_op_registerers_by_name,\n\u001b[1;32m    610\u001b[0m                                             custom_op_registerers_by_func)\n\u001b[1;32m    611\u001b[0m \u001b[39mif\u001b[39;00m \u001b[39mself\u001b[39m\u001b[39m.\u001b[39m_experimental_calibrate_only \u001b[39mor\u001b[39;00m \u001b[39mself\u001b[39m\u001b[39m.\u001b[39mexperimental_new_quantizer:\n\u001b[0;32m--> 612\u001b[0m   calibrated \u001b[39m=\u001b[39m calibrate_quantize\u001b[39m.\u001b[39;49mcalibrate(\n\u001b[1;32m    613\u001b[0m       \u001b[39mself\u001b[39;49m\u001b[39m.\u001b[39;49mrepresentative_dataset\u001b[39m.\u001b[39;49minput_gen)\n\u001b[1;32m    615\u001b[0m \u001b[39mif\u001b[39;00m \u001b[39mself\u001b[39m\u001b[39m.\u001b[39m_experimental_calibrate_only:\n\u001b[1;32m    616\u001b[0m   \u001b[39mreturn\u001b[39;00m calibrated\n",
      "File \u001b[0;32m~/anaconda3/lib/python3.9/site-packages/tensorflow/lite/python/convert_phase.py:215\u001b[0m, in \u001b[0;36mconvert_phase.<locals>.actual_decorator.<locals>.wrapper\u001b[0;34m(*args, **kwargs)\u001b[0m\n\u001b[1;32m    213\u001b[0m \u001b[39mexcept\u001b[39;00m \u001b[39mException\u001b[39;00m \u001b[39mas\u001b[39;00m error:\n\u001b[1;32m    214\u001b[0m   report_error_message(\u001b[39mstr\u001b[39m(error))\n\u001b[0;32m--> 215\u001b[0m   \u001b[39mraise\u001b[39;00m error \u001b[39mfrom\u001b[39;00m \u001b[39mNone\u001b[39m\n",
      "File \u001b[0;32m~/anaconda3/lib/python3.9/site-packages/tensorflow/lite/python/convert_phase.py:205\u001b[0m, in \u001b[0;36mconvert_phase.<locals>.actual_decorator.<locals>.wrapper\u001b[0;34m(*args, **kwargs)\u001b[0m\n\u001b[1;32m    202\u001b[0m \u001b[39m@functools\u001b[39m\u001b[39m.\u001b[39mwraps(func)\n\u001b[1;32m    203\u001b[0m \u001b[39mdef\u001b[39;00m \u001b[39mwrapper\u001b[39m(\u001b[39m*\u001b[39margs, \u001b[39m*\u001b[39m\u001b[39m*\u001b[39mkwargs):\n\u001b[1;32m    204\u001b[0m   \u001b[39mtry\u001b[39;00m:\n\u001b[0;32m--> 205\u001b[0m     \u001b[39mreturn\u001b[39;00m func(\u001b[39m*\u001b[39;49margs, \u001b[39m*\u001b[39;49m\u001b[39m*\u001b[39;49mkwargs)\n\u001b[1;32m    206\u001b[0m   \u001b[39mexcept\u001b[39;00m ConverterError \u001b[39mas\u001b[39;00m converter_error:\n\u001b[1;32m    207\u001b[0m     \u001b[39mif\u001b[39;00m converter_error\u001b[39m.\u001b[39merrors:\n",
      "File \u001b[0;32m~/anaconda3/lib/python3.9/site-packages/tensorflow/lite/python/optimize/calibrator.py:226\u001b[0m, in \u001b[0;36mCalibrator.calibrate\u001b[0;34m(self, dataset_gen)\u001b[0m\n\u001b[1;32m    216\u001b[0m \u001b[39m@convert_phase\u001b[39m(Component\u001b[39m.\u001b[39mOPTIMIZE_TFLITE_MODEL, SubComponent\u001b[39m.\u001b[39mCALIBRATE)\n\u001b[1;32m    217\u001b[0m \u001b[39mdef\u001b[39;00m \u001b[39mcalibrate\u001b[39m(\u001b[39mself\u001b[39m, dataset_gen):\n\u001b[1;32m    218\u001b[0m   \u001b[39m\"\"\"Calibrates the model with specified generator.\u001b[39;00m\n\u001b[1;32m    219\u001b[0m \n\u001b[1;32m    220\u001b[0m \u001b[39m  Returns:\u001b[39;00m\n\u001b[0;32m   (...)\u001b[0m\n\u001b[1;32m    224\u001b[0m \u001b[39m    dataset_gen: A generator that generates calibration samples.\u001b[39;00m\n\u001b[1;32m    225\u001b[0m \u001b[39m  \"\"\"\u001b[39;00m\n\u001b[0;32m--> 226\u001b[0m   \u001b[39mself\u001b[39;49m\u001b[39m.\u001b[39;49m_feed_tensors(dataset_gen, resize_input\u001b[39m=\u001b[39;49m\u001b[39mTrue\u001b[39;49;00m)\n\u001b[1;32m    227\u001b[0m   \u001b[39mreturn\u001b[39;00m \u001b[39mself\u001b[39m\u001b[39m.\u001b[39m_calibrator\u001b[39m.\u001b[39mCalibrate()\n",
      "File \u001b[0;32m~/anaconda3/lib/python3.9/site-packages/tensorflow/lite/python/optimize/calibrator.py:129\u001b[0m, in \u001b[0;36mCalibrator._feed_tensors\u001b[0;34m(self, dataset_gen, resize_input)\u001b[0m\n\u001b[1;32m    126\u001b[0m     \u001b[39mself\u001b[39m\u001b[39m.\u001b[39m_calibrator\u001b[39m.\u001b[39mPrepare([\u001b[39mlist\u001b[39m(s\u001b[39m.\u001b[39mshape) \u001b[39mfor\u001b[39;00m s \u001b[39min\u001b[39;00m input_array],\n\u001b[1;32m    127\u001b[0m                              signature_key)\n\u001b[1;32m    128\u001b[0m   \u001b[39melse\u001b[39;00m:\n\u001b[0;32m--> 129\u001b[0m     \u001b[39mself\u001b[39;49m\u001b[39m.\u001b[39;49m_calibrator\u001b[39m.\u001b[39;49mPrepare([\u001b[39mlist\u001b[39;49m(s\u001b[39m.\u001b[39;49mshape) \u001b[39mfor\u001b[39;49;00m s \u001b[39min\u001b[39;49;00m input_array])\n\u001b[1;32m    130\u001b[0m \u001b[39melse\u001b[39;00m:\n\u001b[1;32m    131\u001b[0m   \u001b[39mif\u001b[39;00m signature_key \u001b[39mis\u001b[39;00m \u001b[39mnot\u001b[39;00m \u001b[39mNone\u001b[39;00m:\n",
      "\u001b[0;31mRuntimeError\u001b[0m: tensorflow/lite/kernels/conv.cc:350 input->dims->size != 4 (3 != 4)Node number 1 (CONV_2D) failed to prepare."
     ]
    }
   ],
   "source": [
    "\n",
    "def representative_data_gen():\n",
    "  for input_value in tf.data.Dataset.from_tensor_slices(x_train).batch(1).take(100):\n",
    "    # Model has only one input so each data point has one element.\n",
    "    yield [input_value]\n",
    "\n",
    "converter = tf.lite.TFLiteConverter.from_keras_model(model)\n",
    "converter.optimizations = [tf.lite.Optimize.DEFAULT]\n",
    "converter.representative_dataset = representative_data_gen\n",
    "tflite_model_quant = converter.convert()\n",
    "\n",
    "tflite_model_file = pathlib.Path('conv_model_paper_optimized.tflite')\n",
    "tflite_model_file.write_bytes(tflite_model_quant)"
   ]
  },
  {
   "cell_type": "markdown",
   "metadata": {},
   "source": [
    "## Change the model described in the paper to make it suitable for conversion to TFLite, and quantization."
   ]
  },
  {
   "cell_type": "code",
   "execution_count": 10,
   "metadata": {},
   "outputs": [
    {
     "name": "stdout",
     "output_type": "stream",
     "text": [
      "Model: \"conv_modified_conv_model_paper_paper_2D\"\n",
      "_________________________________________________________________\n",
      " Layer (type)                Output Shape              Param #   \n",
      "=================================================================\n",
      " Reshape (Reshape)           (None, 1000, 1, 1)        0         \n",
      "                                                                 \n",
      " conv2d (Conv2D)             (None, 1000, 1, 32)       1600      \n",
      "                                                                 \n",
      " max_pooling2d (MaxPooling2D  (None, 125, 1, 32)       0         \n",
      " )                                                               \n",
      "                                                                 \n",
      " conv2d_1 (Conv2D)           (None, 125, 1, 48)        38448     \n",
      "                                                                 \n",
      " max_pooling2d_1 (MaxPooling  (None, 32, 1, 48)        0         \n",
      " 2D)                                                             \n",
      "                                                                 \n",
      " max_pooling2d_2 (MaxPooling  (None, 8, 1, 48)         0         \n",
      " 2D)                                                             \n",
      "                                                                 \n",
      " flatten_1 (Flatten)         (None, 384)               0         \n",
      "                                                                 \n",
      " dense_3 (Dense)             (None, 32)                12320     \n",
      "                                                                 \n",
      " dense_4 (Dense)             (None, 32)                1056      \n",
      "                                                                 \n",
      " dense_5 (Dense)             (None, 3)                 99        \n",
      "                                                                 \n",
      "=================================================================\n",
      "Total params: 53,523\n",
      "Trainable params: 53,523\n",
      "Non-trainable params: 0\n",
      "_________________________________________________________________\n",
      "None\n",
      "Epoch 1/100\n"
     ]
    },
    {
     "name": "stderr",
     "output_type": "stream",
     "text": [
      "/home/veysiadn/anaconda3/lib/python3.9/site-packages/keras/backend.py:5582: UserWarning: \"`sparse_categorical_crossentropy` received `from_logits=True`, but the `output` argument was produced by a Softmax activation and thus does not represent logits. Was this intended?\n",
      "  output, from_logits = _get_logits(\n"
     ]
    },
    {
     "name": "stdout",
     "output_type": "stream",
     "text": [
      "375/375 [==============================] - 2s 4ms/step - loss: 0.7672 - accuracy: 0.6788 - val_loss: 0.5392 - val_accuracy: 0.7833\n",
      "Epoch 2/100\n",
      "375/375 [==============================] - 1s 3ms/step - loss: 0.4398 - accuracy: 0.8395 - val_loss: 0.3800 - val_accuracy: 0.8507\n",
      "Epoch 3/100\n",
      "375/375 [==============================] - 1s 4ms/step - loss: 0.3291 - accuracy: 0.8963 - val_loss: 0.3248 - val_accuracy: 0.8860\n",
      "Epoch 4/100\n",
      "375/375 [==============================] - 1s 4ms/step - loss: 0.2688 - accuracy: 0.9199 - val_loss: 0.2578 - val_accuracy: 0.9067\n",
      "Epoch 5/100\n",
      "375/375 [==============================] - 1s 3ms/step - loss: 0.2283 - accuracy: 0.9305 - val_loss: 0.2120 - val_accuracy: 0.9327\n",
      "Epoch 6/100\n",
      "375/375 [==============================] - 1s 4ms/step - loss: 0.1984 - accuracy: 0.9402 - val_loss: 0.1811 - val_accuracy: 0.9393\n",
      "Epoch 7/100\n",
      "375/375 [==============================] - 1s 2ms/step - loss: 0.1759 - accuracy: 0.9448 - val_loss: 0.1637 - val_accuracy: 0.9440\n",
      "Epoch 8/100\n",
      "375/375 [==============================] - 1s 2ms/step - loss: 0.1560 - accuracy: 0.9529 - val_loss: 0.1604 - val_accuracy: 0.9427\n",
      "Epoch 9/100\n",
      "375/375 [==============================] - 1s 2ms/step - loss: 0.1391 - accuracy: 0.9577 - val_loss: 0.1390 - val_accuracy: 0.9460\n",
      "Epoch 10/100\n",
      "375/375 [==============================] - 1s 2ms/step - loss: 0.1258 - accuracy: 0.9625 - val_loss: 0.1128 - val_accuracy: 0.9620\n",
      "Epoch 11/100\n",
      "375/375 [==============================] - 1s 3ms/step - loss: 0.1118 - accuracy: 0.9682 - val_loss: 0.0997 - val_accuracy: 0.9653\n",
      "Epoch 12/100\n",
      "375/375 [==============================] - 1s 3ms/step - loss: 0.1007 - accuracy: 0.9717 - val_loss: 0.0940 - val_accuracy: 0.9733\n",
      "Epoch 13/100\n",
      "375/375 [==============================] - 1s 2ms/step - loss: 0.0917 - accuracy: 0.9739 - val_loss: 0.0803 - val_accuracy: 0.9727\n",
      "Epoch 14/100\n",
      "375/375 [==============================] - 1s 3ms/step - loss: 0.0838 - accuracy: 0.9778 - val_loss: 0.0718 - val_accuracy: 0.9780\n",
      "Epoch 15/100\n",
      "375/375 [==============================] - 1s 4ms/step - loss: 0.0761 - accuracy: 0.9796 - val_loss: 0.0729 - val_accuracy: 0.9793\n",
      "Epoch 16/100\n",
      "375/375 [==============================] - 1s 2ms/step - loss: 0.0698 - accuracy: 0.9808 - val_loss: 0.0566 - val_accuracy: 0.9807\n",
      "Epoch 17/100\n",
      "375/375 [==============================] - 1s 4ms/step - loss: 0.0634 - accuracy: 0.9823 - val_loss: 0.0488 - val_accuracy: 0.9847\n",
      "Epoch 18/100\n",
      "375/375 [==============================] - 2s 4ms/step - loss: 0.0581 - accuracy: 0.9843 - val_loss: 0.0539 - val_accuracy: 0.9860\n",
      "Epoch 19/100\n",
      "375/375 [==============================] - 2s 4ms/step - loss: 0.0543 - accuracy: 0.9848 - val_loss: 0.0480 - val_accuracy: 0.9807\n",
      "Epoch 20/100\n",
      "375/375 [==============================] - 1s 4ms/step - loss: 0.0491 - accuracy: 0.9868 - val_loss: 0.0425 - val_accuracy: 0.9873\n",
      "Epoch 21/100\n",
      "375/375 [==============================] - 2s 4ms/step - loss: 0.0467 - accuracy: 0.9868 - val_loss: 0.0509 - val_accuracy: 0.9813\n",
      "Epoch 22/100\n",
      "375/375 [==============================] - 2s 4ms/step - loss: 0.0424 - accuracy: 0.9878 - val_loss: 0.0372 - val_accuracy: 0.9847\n",
      "Epoch 23/100\n",
      "375/375 [==============================] - 1s 3ms/step - loss: 0.0401 - accuracy: 0.9892 - val_loss: 0.0379 - val_accuracy: 0.9907\n",
      "Epoch 24/100\n",
      "375/375 [==============================] - 1s 3ms/step - loss: 0.0358 - accuracy: 0.9905 - val_loss: 0.0341 - val_accuracy: 0.9880\n",
      "Epoch 25/100\n",
      "375/375 [==============================] - 1s 3ms/step - loss: 0.0314 - accuracy: 0.9912 - val_loss: 0.0300 - val_accuracy: 0.9913\n",
      "Epoch 26/100\n",
      "375/375 [==============================] - 1s 3ms/step - loss: 0.0310 - accuracy: 0.9916 - val_loss: 0.0329 - val_accuracy: 0.9860\n",
      "Epoch 27/100\n",
      "375/375 [==============================] - 1s 2ms/step - loss: 0.0289 - accuracy: 0.9918 - val_loss: 0.0384 - val_accuracy: 0.9840\n",
      "Epoch 28/100\n",
      "375/375 [==============================] - 1s 4ms/step - loss: 0.0254 - accuracy: 0.9929 - val_loss: 0.0275 - val_accuracy: 0.9887\n",
      "Epoch 29/100\n",
      "375/375 [==============================] - 1s 4ms/step - loss: 0.0235 - accuracy: 0.9935 - val_loss: 0.0333 - val_accuracy: 0.9893\n",
      "Epoch 30/100\n",
      "375/375 [==============================] - 1s 4ms/step - loss: 0.0234 - accuracy: 0.9940 - val_loss: 0.0273 - val_accuracy: 0.9907\n",
      "Epoch 31/100\n",
      "375/375 [==============================] - 1s 4ms/step - loss: 0.0220 - accuracy: 0.9937 - val_loss: 0.0232 - val_accuracy: 0.9940\n",
      "Epoch 32/100\n",
      "375/375 [==============================] - 1s 3ms/step - loss: 0.0185 - accuracy: 0.9957 - val_loss: 0.0225 - val_accuracy: 0.9933\n",
      "Epoch 33/100\n",
      "375/375 [==============================] - 1s 2ms/step - loss: 0.0178 - accuracy: 0.9965 - val_loss: 0.0305 - val_accuracy: 0.9887\n",
      "Epoch 34/100\n",
      "375/375 [==============================] - 2s 4ms/step - loss: 0.0155 - accuracy: 0.9963 - val_loss: 0.0212 - val_accuracy: 0.9933\n",
      "Epoch 35/100\n",
      "375/375 [==============================] - 1s 4ms/step - loss: 0.0136 - accuracy: 0.9970 - val_loss: 0.0301 - val_accuracy: 0.9953\n",
      "Epoch 36/100\n",
      "375/375 [==============================] - 1s 4ms/step - loss: 0.0133 - accuracy: 0.9973 - val_loss: 0.0273 - val_accuracy: 0.9920\n",
      "Epoch 37/100\n",
      "375/375 [==============================] - 1s 4ms/step - loss: 0.0131 - accuracy: 0.9970 - val_loss: 0.0197 - val_accuracy: 0.9960\n",
      "Epoch 38/100\n",
      "375/375 [==============================] - 2s 4ms/step - loss: 0.0122 - accuracy: 0.9973 - val_loss: 0.0251 - val_accuracy: 0.9927\n",
      "Epoch 39/100\n",
      "375/375 [==============================] - 2s 4ms/step - loss: 0.0097 - accuracy: 0.9977 - val_loss: 0.0195 - val_accuracy: 0.9933\n",
      "Epoch 40/100\n",
      "375/375 [==============================] - 1s 4ms/step - loss: 0.0116 - accuracy: 0.9966 - val_loss: 0.0245 - val_accuracy: 0.9927\n",
      "Epoch 41/100\n",
      "375/375 [==============================] - 1s 2ms/step - loss: 0.0090 - accuracy: 0.9976 - val_loss: 0.0231 - val_accuracy: 0.9927\n",
      "Epoch 42/100\n",
      "375/375 [==============================] - 1s 2ms/step - loss: 0.0062 - accuracy: 0.9991 - val_loss: 0.0195 - val_accuracy: 0.9967\n",
      "Epoch 43/100\n",
      "375/375 [==============================] - 1s 3ms/step - loss: 0.0068 - accuracy: 0.9985 - val_loss: 0.0187 - val_accuracy: 0.9953\n",
      "Epoch 44/100\n",
      "375/375 [==============================] - 1s 4ms/step - loss: 0.0057 - accuracy: 0.9993 - val_loss: 0.0204 - val_accuracy: 0.9940\n",
      "Epoch 45/100\n",
      "375/375 [==============================] - 1s 4ms/step - loss: 0.0059 - accuracy: 0.9989 - val_loss: 0.0198 - val_accuracy: 0.9947\n",
      "Epoch 46/100\n",
      "375/375 [==============================] - 1s 4ms/step - loss: 0.0074 - accuracy: 0.9978 - val_loss: 0.0173 - val_accuracy: 0.9947\n",
      "Epoch 47/100\n",
      "375/375 [==============================] - 1s 4ms/step - loss: 0.0049 - accuracy: 0.9989 - val_loss: 0.0192 - val_accuracy: 0.9953\n",
      "Epoch 48/100\n",
      "375/375 [==============================] - 2s 4ms/step - loss: 0.0040 - accuracy: 0.9998 - val_loss: 0.0163 - val_accuracy: 0.9967\n",
      "Epoch 49/100\n",
      "375/375 [==============================] - 1s 4ms/step - loss: 0.0031 - accuracy: 0.9997 - val_loss: 0.0163 - val_accuracy: 0.9967\n",
      "Epoch 50/100\n",
      "375/375 [==============================] - 1s 4ms/step - loss: 0.0036 - accuracy: 0.9997 - val_loss: 0.0210 - val_accuracy: 0.9960\n",
      "Epoch 51/100\n",
      "375/375 [==============================] - 1s 2ms/step - loss: 0.0076 - accuracy: 0.9978 - val_loss: 0.0166 - val_accuracy: 0.9980\n",
      "Epoch 52/100\n",
      "375/375 [==============================] - 1s 2ms/step - loss: 0.0019 - accuracy: 1.0000 - val_loss: 0.0191 - val_accuracy: 0.9960\n",
      "Epoch 53/100\n",
      "375/375 [==============================] - 1s 3ms/step - loss: 0.0024 - accuracy: 0.9998 - val_loss: 0.0173 - val_accuracy: 0.9980\n",
      "Epoch 54/100\n",
      "375/375 [==============================] - 2s 4ms/step - loss: 0.0017 - accuracy: 0.9999 - val_loss: 0.0189 - val_accuracy: 0.9960\n",
      "Epoch 55/100\n",
      "375/375 [==============================] - 1s 3ms/step - loss: 0.0019 - accuracy: 1.0000 - val_loss: 0.0170 - val_accuracy: 0.9960\n",
      "Epoch 56/100\n",
      "375/375 [==============================] - 1s 2ms/step - loss: 0.0013 - accuracy: 1.0000 - val_loss: 0.0159 - val_accuracy: 0.9967\n",
      "Epoch 57/100\n",
      "375/375 [==============================] - 1s 1ms/step - loss: 0.0099 - accuracy: 0.9973 - val_loss: 0.0189 - val_accuracy: 0.9947\n",
      "Epoch 58/100\n",
      "375/375 [==============================] - 1s 3ms/step - loss: 0.0021 - accuracy: 0.9998 - val_loss: 0.0198 - val_accuracy: 0.9953\n",
      "Epoch 59/100\n",
      "375/375 [==============================] - 1s 4ms/step - loss: 0.0013 - accuracy: 1.0000 - val_loss: 0.0169 - val_accuracy: 0.9960\n",
      "Epoch 60/100\n",
      "375/375 [==============================] - 1s 3ms/step - loss: 0.0011 - accuracy: 0.9999 - val_loss: 0.0161 - val_accuracy: 0.9953\n",
      "Epoch 61/100\n",
      "375/375 [==============================] - 1s 2ms/step - loss: 9.2415e-04 - accuracy: 1.0000 - val_loss: 0.0152 - val_accuracy: 0.9967\n",
      "Epoch 62/100\n",
      "375/375 [==============================] - 1s 2ms/step - loss: 0.0039 - accuracy: 0.9989 - val_loss: 0.0376 - val_accuracy: 0.9887\n",
      "Epoch 63/100\n",
      "375/375 [==============================] - 1s 4ms/step - loss: 0.0056 - accuracy: 0.9981 - val_loss: 0.0151 - val_accuracy: 0.9980\n",
      "Epoch 64/100\n",
      "375/375 [==============================] - 1s 4ms/step - loss: 0.0013 - accuracy: 0.9999 - val_loss: 0.0163 - val_accuracy: 0.9960\n",
      "Epoch 65/100\n",
      "375/375 [==============================] - 1s 2ms/step - loss: 8.3356e-04 - accuracy: 1.0000 - val_loss: 0.0157 - val_accuracy: 0.9973\n",
      "Epoch 66/100\n",
      "375/375 [==============================] - 1s 3ms/step - loss: 5.6975e-04 - accuracy: 1.0000 - val_loss: 0.0139 - val_accuracy: 0.9973\n",
      "Epoch 67/100\n",
      "375/375 [==============================] - 1s 3ms/step - loss: 4.5541e-04 - accuracy: 1.0000 - val_loss: 0.0141 - val_accuracy: 0.9980\n",
      "Epoch 68/100\n",
      "375/375 [==============================] - 1s 3ms/step - loss: 0.0029 - accuracy: 0.9993 - val_loss: 0.0245 - val_accuracy: 0.9947\n",
      "Epoch 69/100\n",
      "375/375 [==============================] - 1s 2ms/step - loss: 0.0071 - accuracy: 0.9979 - val_loss: 0.0156 - val_accuracy: 0.9973\n",
      "Epoch 70/100\n",
      "375/375 [==============================] - 1s 2ms/step - loss: 0.0014 - accuracy: 0.9997 - val_loss: 0.0473 - val_accuracy: 0.9860\n",
      "Epoch 71/100\n",
      "375/375 [==============================] - 1s 2ms/step - loss: 0.0034 - accuracy: 0.9990 - val_loss: 0.0159 - val_accuracy: 0.9973\n",
      "Epoch 72/100\n",
      "375/375 [==============================] - 1s 3ms/step - loss: 5.0153e-04 - accuracy: 1.0000 - val_loss: 0.0156 - val_accuracy: 0.9973\n",
      "Epoch 73/100\n",
      "375/375 [==============================] - 1s 3ms/step - loss: 3.7652e-04 - accuracy: 1.0000 - val_loss: 0.0151 - val_accuracy: 0.9973\n",
      "Epoch 74/100\n",
      "375/375 [==============================] - 1s 3ms/step - loss: 3.2544e-04 - accuracy: 1.0000 - val_loss: 0.0154 - val_accuracy: 0.9967\n",
      "Epoch 75/100\n",
      "375/375 [==============================] - 1s 4ms/step - loss: 3.0894e-04 - accuracy: 1.0000 - val_loss: 0.0145 - val_accuracy: 0.9973\n",
      "Epoch 76/100\n",
      "375/375 [==============================] - 1s 4ms/step - loss: 2.7089e-04 - accuracy: 1.0000 - val_loss: 0.0151 - val_accuracy: 0.9980\n",
      "Epoch 77/100\n",
      "375/375 [==============================] - 1s 4ms/step - loss: 2.7557e-04 - accuracy: 1.0000 - val_loss: 0.0160 - val_accuracy: 0.9980\n",
      "Epoch 78/100\n",
      "375/375 [==============================] - 1s 3ms/step - loss: 3.0587e-04 - accuracy: 1.0000 - val_loss: 0.0170 - val_accuracy: 0.9980\n",
      "Epoch 79/100\n",
      "375/375 [==============================] - 1s 3ms/step - loss: 0.0122 - accuracy: 0.9963 - val_loss: 0.0182 - val_accuracy: 0.9967\n",
      "Epoch 80/100\n",
      "375/375 [==============================] - 1s 3ms/step - loss: 6.3692e-04 - accuracy: 1.0000 - val_loss: 0.0163 - val_accuracy: 0.9973\n",
      "Epoch 81/100\n",
      "375/375 [==============================] - 1s 3ms/step - loss: 4.4382e-04 - accuracy: 1.0000 - val_loss: 0.0165 - val_accuracy: 0.9980\n",
      "Epoch 82/100\n",
      "375/375 [==============================] - 1s 3ms/step - loss: 3.3690e-04 - accuracy: 1.0000 - val_loss: 0.0167 - val_accuracy: 0.9980\n",
      "Epoch 83/100\n",
      "375/375 [==============================] - 1s 3ms/step - loss: 2.9953e-04 - accuracy: 1.0000 - val_loss: 0.0162 - val_accuracy: 0.9980\n",
      "Epoch 84/100\n",
      "375/375 [==============================] - 1s 3ms/step - loss: 2.5993e-04 - accuracy: 1.0000 - val_loss: 0.0159 - val_accuracy: 0.9980\n",
      "Epoch 85/100\n",
      "375/375 [==============================] - 1s 3ms/step - loss: 2.3433e-04 - accuracy: 1.0000 - val_loss: 0.0159 - val_accuracy: 0.9980\n",
      "Epoch 86/100\n",
      "375/375 [==============================] - 1s 3ms/step - loss: 2.2557e-04 - accuracy: 1.0000 - val_loss: 0.0156 - val_accuracy: 0.9980\n",
      "Epoch 87/100\n",
      "375/375 [==============================] - 1s 3ms/step - loss: 2.0110e-04 - accuracy: 1.0000 - val_loss: 0.0152 - val_accuracy: 0.9980\n",
      "Epoch 88/100\n",
      "375/375 [==============================] - 1s 3ms/step - loss: 1.9395e-04 - accuracy: 1.0000 - val_loss: 0.0159 - val_accuracy: 0.9980\n",
      "Epoch 89/100\n",
      "375/375 [==============================] - 1s 3ms/step - loss: 1.7537e-04 - accuracy: 1.0000 - val_loss: 0.0153 - val_accuracy: 0.9980\n",
      "Epoch 90/100\n",
      "375/375 [==============================] - 1s 3ms/step - loss: 1.8351e-04 - accuracy: 1.0000 - val_loss: 0.0159 - val_accuracy: 0.9980\n",
      "Epoch 91/100\n",
      "375/375 [==============================] - 1s 3ms/step - loss: 0.0160 - accuracy: 0.9946 - val_loss: 0.0219 - val_accuracy: 0.9953\n",
      "Epoch 92/100\n",
      "375/375 [==============================] - 1s 3ms/step - loss: 8.7701e-04 - accuracy: 0.9999 - val_loss: 0.0173 - val_accuracy: 0.9973\n",
      "Epoch 93/100\n",
      "375/375 [==============================] - 1s 3ms/step - loss: 3.5422e-04 - accuracy: 1.0000 - val_loss: 0.0171 - val_accuracy: 0.9967\n",
      "Epoch 94/100\n",
      "375/375 [==============================] - 1s 3ms/step - loss: 2.9035e-04 - accuracy: 1.0000 - val_loss: 0.0160 - val_accuracy: 0.9973\n",
      "Epoch 95/100\n",
      "375/375 [==============================] - 1s 3ms/step - loss: 2.0382e-04 - accuracy: 1.0000 - val_loss: 0.0155 - val_accuracy: 0.9980\n",
      "Epoch 96/100\n",
      "375/375 [==============================] - 1s 3ms/step - loss: 1.8790e-04 - accuracy: 1.0000 - val_loss: 0.0154 - val_accuracy: 0.9980\n",
      "Epoch 97/100\n",
      "375/375 [==============================] - 1s 3ms/step - loss: 1.8330e-04 - accuracy: 1.0000 - val_loss: 0.0157 - val_accuracy: 0.9987\n",
      "Epoch 98/100\n",
      "375/375 [==============================] - 1s 3ms/step - loss: 1.4937e-04 - accuracy: 1.0000 - val_loss: 0.0156 - val_accuracy: 0.9980\n",
      "Epoch 99/100\n",
      "375/375 [==============================] - 1s 3ms/step - loss: 1.4645e-04 - accuracy: 1.0000 - val_loss: 0.0152 - val_accuracy: 0.9987\n",
      "Epoch 100/100\n",
      "375/375 [==============================] - 1s 3ms/step - loss: 1.3385e-04 - accuracy: 1.0000 - val_loss: 0.0159 - val_accuracy: 0.9980\n",
      "Training results\n",
      "Training Accuracy: 1.0\n",
      "Training Loss: 0.00013384775957092643\n",
      "Evaluation results\n",
      "Validation Accuracy: 0.9980000257492065\n",
      "Validation Loss: 0.015874864533543587\n"
     ]
    },
    {
     "data": {
      "image/png": "[encoded data removed]",
      "text/plain": [
       "<Figure size 432x288 with 1 Axes>"
      ]
     },
     "metadata": {
      "needs_background": "light"
     },
     "output_type": "display_data"
    }
   ],
   "source": [
    "from genericpath import samefile\n",
    "import tensorflow_model_optimization as tfmot\n",
    "\n",
    "modified_conv_model_paper = tf.keras.Sequential(name='conv_modified_conv_model_paper_paper_2D')\n",
    "modified_conv_model_paper.add(tf.keras.layers.Reshape((1000,1,1),name='Reshape', input_shape=(1000,)))\n",
    "modified_conv_model_paper.add(tf.keras.layers.Conv2D(32,7,padding='same',activation='relu'))\n",
    "modified_conv_model_paper.add(tf.keras.layers.MaxPooling2D(8,8,padding='same'))\n",
    "modified_conv_model_paper.add(tf.keras.layers.Conv2D(48,5,padding='same',activation='relu'))\n",
    "modified_conv_model_paper.add(tf.keras.layers.MaxPooling2D(4,4,padding='same'))\n",
    "modified_conv_model_paper.add(tf.keras.layers.MaxPooling2D(4,4,padding='same'))\n",
    "modified_conv_model_paper.add(tf.keras.layers.Flatten())\n",
    "modified_conv_model_paper.add(tf.keras.layers.Dense(32))\n",
    "modified_conv_model_paper.add(tf.keras.layers.Dense(32))\n",
    "modified_conv_model_paper.add(tf.keras.layers.Dense(3, activation='softmax'))\n",
    "\n",
    "\n",
    "print(modified_conv_model_paper.summary())\n",
    "modified_conv_model_paper.compile(optimizer=tf.keras.optimizers.Adam(learning_rate=1e-4),\n",
    "              loss=tf.keras.losses.SparseCategoricalCrossentropy(from_logits=True),\n",
    "              metrics=['accuracy'])\n",
    "\n",
    "history = modified_conv_model_paper.fit(x_train, y_train ,epochs=100, validation_data=(x_val, y_val), verbose=1)   \n",
    "\n",
    "\n",
    "# Plotting accuracy and loss\n",
    "import matplotlib.pyplot as plt\n",
    "plt.plot(history.history['loss'])\n",
    "plt.plot(history.history['accuracy'])\n",
    "plt.plot(history.history['val_accuracy'])\n",
    "plt.plot(history.history['val_loss'])\n",
    "\n",
    "\n",
    "plt.title('modified_conv_model_paper loss & accuracy')\n",
    "plt.ylabel('Loss')\n",
    "plt.xlabel('Epoch')\n",
    "plt.legend(['tr_loss', 'tr_accuracy', 'val_acc', 'val_loss'], loc='lower right')\n",
    "# accuracy!\n",
    "print(\"Training results\")\n",
    "print(f\"Training Accuracy: {history.history['accuracy'][-1]}\")\n",
    "print(f\"Training Loss: {history.history['loss'][-1]}\")\n",
    "\n",
    "# evaluating modified_conv_model_paper\n",
    "print(\"Evaluation results\")\n",
    "print(f\"Validation Accuracy: {history.history['val_accuracy'][-1]}\")\n",
    "print(f\"Validation Loss: {history.history['val_loss'][-1]}\")\n",
    "\n",
    "\n",
    "plt.show()"
   ]
  },
  {
   "cell_type": "markdown",
   "metadata": {},
   "source": [
    "## Save model as .tflite and .pb"
   ]
  },
  {
   "cell_type": "code",
   "execution_count": 11,
   "metadata": {},
   "outputs": [
    {
     "name": "stderr",
     "output_type": "stream",
     "text": [
      "WARNING:absl:Function `_wrapped_model` contains input name(s) Reshape_input with unsupported characters which will be renamed to reshape_input in the SavedModel.\n",
      "WARNING:absl:Found untraced functions such as _jit_compiled_convolution_op, _jit_compiled_convolution_op while saving (showing 2 of 2). These functions will not be directly callable after loading.\n"
     ]
    },
    {
     "name": "stdout",
     "output_type": "stream",
     "text": [
      "INFO:tensorflow:Assets written to: /tmp/tmp4dvj30xg/assets\n"
     ]
    },
    {
     "name": "stderr",
     "output_type": "stream",
     "text": [
      "INFO:tensorflow:Assets written to: /tmp/tmp4dvj30xg/assets\n",
      "2022-10-06 10:35:25.175786: W tensorflow/compiler/mlir/lite/python/tf_tfl_flatbuffer_helpers.cc:362] Ignored output_format.\n",
      "2022-10-06 10:35:25.175803: W tensorflow/compiler/mlir/lite/python/tf_tfl_flatbuffer_helpers.cc:365] Ignored drop_control_dependency.\n",
      "2022-10-06 10:35:25.175888: I tensorflow/cc/saved_model/reader.cc:45] Reading SavedModel from: /tmp/tmp4dvj30xg\n",
      "2022-10-06 10:35:25.176835: I tensorflow/cc/saved_model/reader.cc:89] Reading meta graph with tags { serve }\n",
      "2022-10-06 10:35:25.176846: I tensorflow/cc/saved_model/reader.cc:130] Reading SavedModel debug info (if present) from: /tmp/tmp4dvj30xg\n",
      "2022-10-06 10:35:25.180699: I tensorflow/cc/saved_model/loader.cc:229] Restoring SavedModel bundle.\n",
      "2022-10-06 10:35:25.209889: I tensorflow/cc/saved_model/loader.cc:213] Running initialization op on SavedModel bundle at path: /tmp/tmp4dvj30xg\n",
      "2022-10-06 10:35:25.216447: I tensorflow/cc/saved_model/loader.cc:305] SavedModel load for tags { serve }; Status: success: OK. Took 40558 microseconds.\n"
     ]
    },
    {
     "data": {
      "text/plain": [
       "219920"
      ]
     },
     "execution_count": 11,
     "metadata": {},
     "output_type": "execute_result"
    }
   ],
   "source": [
    "converter = tf.lite.TFLiteConverter.from_keras_model(modified_conv_model_paper)\n",
    "modidified_conv_model_converted = converter.convert()\n",
    "tflite_model_file = pathlib.Path('conv_model_paper_2D.tflite')\n",
    "tflite_model_file.write_bytes(modidified_conv_model_converted)"
   ]
  },
  {
   "cell_type": "code",
   "execution_count": 12,
   "metadata": {},
   "outputs": [],
   "source": [
    "!xxd -i conv_model_paper_2D.tflite > conv_model_paper_2D.cc"
   ]
  },
  {
   "cell_type": "markdown",
   "metadata": {},
   "source": [
    "## Quantize same model and save it."
   ]
  },
  {
   "cell_type": "code",
   "execution_count": 13,
   "metadata": {},
   "outputs": [
    {
     "name": "stderr",
     "output_type": "stream",
     "text": [
      "WARNING:absl:Function `_wrapped_model` contains input name(s) Reshape_input with unsupported characters which will be renamed to reshape_input in the SavedModel.\n",
      "WARNING:absl:Found untraced functions such as _jit_compiled_convolution_op, _jit_compiled_convolution_op while saving (showing 2 of 2). These functions will not be directly callable after loading.\n"
     ]
    },
    {
     "name": "stdout",
     "output_type": "stream",
     "text": [
      "INFO:tensorflow:Assets written to: /tmp/tmpvsg4qhk4/assets\n"
     ]
    },
    {
     "name": "stderr",
     "output_type": "stream",
     "text": [
      "INFO:tensorflow:Assets written to: /tmp/tmpvsg4qhk4/assets\n",
      "/home/veysiadn/anaconda3/lib/python3.9/site-packages/tensorflow/lite/python/convert.py:766: UserWarning: Statistics for quantized inputs were expected, but not specified; continuing anyway.\n",
      "  warnings.warn(\"Statistics for quantized inputs were expected, but not \"\n",
      "2022-10-06 10:35:30.343080: W tensorflow/compiler/mlir/lite/python/tf_tfl_flatbuffer_helpers.cc:362] Ignored output_format.\n",
      "2022-10-06 10:35:30.343097: W tensorflow/compiler/mlir/lite/python/tf_tfl_flatbuffer_helpers.cc:365] Ignored drop_control_dependency.\n",
      "2022-10-06 10:35:30.343211: I tensorflow/cc/saved_model/reader.cc:45] Reading SavedModel from: /tmp/tmpvsg4qhk4\n",
      "2022-10-06 10:35:30.344158: I tensorflow/cc/saved_model/reader.cc:89] Reading meta graph with tags { serve }\n",
      "2022-10-06 10:35:30.344170: I tensorflow/cc/saved_model/reader.cc:130] Reading SavedModel debug info (if present) from: /tmp/tmpvsg4qhk4\n",
      "2022-10-06 10:35:30.347950: I tensorflow/cc/saved_model/loader.cc:229] Restoring SavedModel bundle.\n",
      "2022-10-06 10:35:30.377267: I tensorflow/cc/saved_model/loader.cc:213] Running initialization op on SavedModel bundle at path: /tmp/tmpvsg4qhk4\n",
      "2022-10-06 10:35:30.383833: I tensorflow/cc/saved_model/loader.cc:305] SavedModel load for tags { serve }; Status: success: OK. Took 40621 microseconds.\n",
      "fully_quantize: 0, inference_type: 6, input_inference_type: FLOAT32, output_inference_type: FLOAT32\n"
     ]
    },
    {
     "data": {
      "text/plain": [
       "62736"
      ]
     },
     "execution_count": 13,
     "metadata": {},
     "output_type": "execute_result"
    }
   ],
   "source": [
    "\n",
    "def representative_data_gen():\n",
    "  for input_value in tf.data.Dataset.from_tensor_slices(x_train).batch(1).take(100):\n",
    "    # Model has only one input so each data point has one element.\n",
    "    yield [input_value]\n",
    "\n",
    "converter = tf.lite.TFLiteConverter.from_keras_model(modified_conv_model_paper)\n",
    "converter.optimizations = [tf.lite.Optimize.DEFAULT]\n",
    "converter.representative_dataset = representative_data_gen\n",
    "tflite_model_quant = converter.convert()\n",
    "\n",
    "tflite_model_file = pathlib.Path('conv_model_paper_2D_optimized.tflite')\n",
    "tflite_model_file.write_bytes(tflite_model_quant)"
   ]
  },
  {
   "cell_type": "code",
   "execution_count": 14,
   "metadata": {},
   "outputs": [],
   "source": [
    "!xxd -i conv_model_paper_2D_optimized.tflite > conv_model_paper_2D_optimized.cc"
   ]
  },
  {
   "cell_type": "markdown",
   "metadata": {},
   "source": [
    "## Define experimental random 2D convolutional model."
   ]
  },
  {
   "cell_type": "code",
   "execution_count": 15,
   "metadata": {},
   "outputs": [
    {
     "name": "stdout",
     "output_type": "stream",
     "text": [
      "Model: \"custom_2D_conv_model\"\n",
      "_________________________________________________________________\n",
      " Layer (type)                Output Shape              Param #   \n",
      "=================================================================\n",
      " Reshape (Reshape)           (None, 1000, 1, 1)        0         \n",
      "                                                                 \n",
      " conv2d_2 (Conv2D)           (None, 1000, 1, 8)        208       \n",
      "                                                                 \n",
      " max_pooling2d_3 (MaxPooling  (None, 500, 1, 8)        0         \n",
      " 2D)                                                             \n",
      "                                                                 \n",
      " flatten_2 (Flatten)         (None, 4000)              0         \n",
      "                                                                 \n",
      " output (Dense)              (None, 3)                 12003     \n",
      "                                                                 \n",
      "=================================================================\n",
      "Total params: 12,211\n",
      "Trainable params: 12,211\n",
      "Non-trainable params: 0\n",
      "_________________________________________________________________\n",
      "None\n",
      "Epoch 1/100\n",
      " 46/375 [==>...........................] - ETA: 0s - loss: 1.0106 - accuracy: 0.4721 "
     ]
    },
    {
     "name": "stderr",
     "output_type": "stream",
     "text": [
      "/home/veysiadn/anaconda3/lib/python3.9/site-packages/keras/backend.py:5582: UserWarning: \"`sparse_categorical_crossentropy` received `from_logits=True`, but the `output` argument was produced by a Softmax activation and thus does not represent logits. Was this intended?\n",
      "  output, from_logits = _get_logits(\n"
     ]
    },
    {
     "name": "stdout",
     "output_type": "stream",
     "text": [
      "375/375 [==============================] - 1s 3ms/step - loss: 0.7049 - accuracy: 0.7482 - val_loss: 0.4442 - val_accuracy: 0.8667\n",
      "Epoch 2/100\n",
      "375/375 [==============================] - 1s 3ms/step - loss: 0.3371 - accuracy: 0.9085 - val_loss: 0.2578 - val_accuracy: 0.9247\n",
      "Epoch 3/100\n",
      "375/375 [==============================] - 1s 3ms/step - loss: 0.2221 - accuracy: 0.9372 - val_loss: 0.1939 - val_accuracy: 0.9453\n",
      "Epoch 4/100\n",
      "375/375 [==============================] - 1s 2ms/step - loss: 0.1728 - accuracy: 0.9488 - val_loss: 0.1598 - val_accuracy: 0.9487\n",
      "Epoch 5/100\n",
      "375/375 [==============================] - 1s 2ms/step - loss: 0.1443 - accuracy: 0.9561 - val_loss: 0.1403 - val_accuracy: 0.9527\n",
      "Epoch 6/100\n",
      "375/375 [==============================] - 1s 2ms/step - loss: 0.1235 - accuracy: 0.9635 - val_loss: 0.1253 - val_accuracy: 0.9613\n",
      "Epoch 7/100\n",
      "375/375 [==============================] - 1s 3ms/step - loss: 0.1079 - accuracy: 0.9682 - val_loss: 0.1172 - val_accuracy: 0.9653\n",
      "Epoch 8/100\n",
      "375/375 [==============================] - 1s 3ms/step - loss: 0.0958 - accuracy: 0.9727 - val_loss: 0.1071 - val_accuracy: 0.9673\n",
      "Epoch 9/100\n",
      "375/375 [==============================] - 1s 3ms/step - loss: 0.0865 - accuracy: 0.9751 - val_loss: 0.1020 - val_accuracy: 0.9693\n",
      "Epoch 10/100\n",
      "375/375 [==============================] - 1s 3ms/step - loss: 0.0793 - accuracy: 0.9768 - val_loss: 0.0930 - val_accuracy: 0.9713\n",
      "Epoch 11/100\n",
      "375/375 [==============================] - 1s 3ms/step - loss: 0.0730 - accuracy: 0.9788 - val_loss: 0.0892 - val_accuracy: 0.9753\n",
      "Epoch 12/100\n",
      "375/375 [==============================] - 1s 3ms/step - loss: 0.0683 - accuracy: 0.9808 - val_loss: 0.0878 - val_accuracy: 0.9733\n",
      "Epoch 13/100\n",
      "375/375 [==============================] - 1s 4ms/step - loss: 0.0637 - accuracy: 0.9824 - val_loss: 0.0845 - val_accuracy: 0.9747\n",
      "Epoch 14/100\n",
      "375/375 [==============================] - 1s 3ms/step - loss: 0.0601 - accuracy: 0.9839 - val_loss: 0.0820 - val_accuracy: 0.9793\n",
      "Epoch 15/100\n",
      "375/375 [==============================] - 1s 3ms/step - loss: 0.0566 - accuracy: 0.9843 - val_loss: 0.0841 - val_accuracy: 0.9780\n",
      "Epoch 16/100\n",
      "375/375 [==============================] - 1s 3ms/step - loss: 0.0542 - accuracy: 0.9856 - val_loss: 0.0801 - val_accuracy: 0.9753\n",
      "Epoch 17/100\n",
      "375/375 [==============================] - 1s 3ms/step - loss: 0.0515 - accuracy: 0.9859 - val_loss: 0.0761 - val_accuracy: 0.9787\n",
      "Epoch 18/100\n",
      "375/375 [==============================] - 1s 3ms/step - loss: 0.0497 - accuracy: 0.9868 - val_loss: 0.0738 - val_accuracy: 0.9807\n",
      "Epoch 19/100\n",
      "375/375 [==============================] - 1s 3ms/step - loss: 0.0472 - accuracy: 0.9876 - val_loss: 0.0741 - val_accuracy: 0.9787\n",
      "Epoch 20/100\n",
      "375/375 [==============================] - 1s 3ms/step - loss: 0.0452 - accuracy: 0.9877 - val_loss: 0.0744 - val_accuracy: 0.9767\n",
      "Epoch 21/100\n",
      "375/375 [==============================] - 1s 3ms/step - loss: 0.0436 - accuracy: 0.9879 - val_loss: 0.0697 - val_accuracy: 0.9833\n",
      "Epoch 22/100\n",
      "375/375 [==============================] - 1s 3ms/step - loss: 0.0422 - accuracy: 0.9887 - val_loss: 0.0704 - val_accuracy: 0.9820\n",
      "Epoch 23/100\n",
      "375/375 [==============================] - 1s 4ms/step - loss: 0.0405 - accuracy: 0.9889 - val_loss: 0.0695 - val_accuracy: 0.9793\n",
      "Epoch 24/100\n",
      "375/375 [==============================] - 1s 3ms/step - loss: 0.0395 - accuracy: 0.9897 - val_loss: 0.0692 - val_accuracy: 0.9800\n",
      "Epoch 25/100\n",
      "375/375 [==============================] - 1s 3ms/step - loss: 0.0380 - accuracy: 0.9900 - val_loss: 0.0671 - val_accuracy: 0.9833\n",
      "Epoch 26/100\n",
      "375/375 [==============================] - 1s 3ms/step - loss: 0.0368 - accuracy: 0.9898 - val_loss: 0.0703 - val_accuracy: 0.9813\n",
      "Epoch 27/100\n",
      "375/375 [==============================] - 1s 3ms/step - loss: 0.0361 - accuracy: 0.9907 - val_loss: 0.0666 - val_accuracy: 0.9820\n",
      "Epoch 28/100\n",
      "375/375 [==============================] - 1s 3ms/step - loss: 0.0346 - accuracy: 0.9909 - val_loss: 0.0671 - val_accuracy: 0.9813\n",
      "Epoch 29/100\n",
      "375/375 [==============================] - 1s 3ms/step - loss: 0.0336 - accuracy: 0.9907 - val_loss: 0.0671 - val_accuracy: 0.9827\n",
      "Epoch 30/100\n",
      "375/375 [==============================] - 1s 3ms/step - loss: 0.0328 - accuracy: 0.9907 - val_loss: 0.0641 - val_accuracy: 0.9853\n",
      "Epoch 31/100\n",
      "375/375 [==============================] - 1s 3ms/step - loss: 0.0322 - accuracy: 0.9918 - val_loss: 0.0627 - val_accuracy: 0.9853\n",
      "Epoch 32/100\n",
      "375/375 [==============================] - 1s 3ms/step - loss: 0.0309 - accuracy: 0.9920 - val_loss: 0.0661 - val_accuracy: 0.9840\n",
      "Epoch 33/100\n",
      "375/375 [==============================] - 1s 3ms/step - loss: 0.0303 - accuracy: 0.9918 - val_loss: 0.0624 - val_accuracy: 0.9840\n",
      "Epoch 34/100\n",
      "375/375 [==============================] - 1s 3ms/step - loss: 0.0299 - accuracy: 0.9923 - val_loss: 0.0644 - val_accuracy: 0.9833\n",
      "Epoch 35/100\n",
      "375/375 [==============================] - 1s 3ms/step - loss: 0.0290 - accuracy: 0.9921 - val_loss: 0.0651 - val_accuracy: 0.9847\n",
      "Epoch 36/100\n",
      "375/375 [==============================] - 1s 4ms/step - loss: 0.0280 - accuracy: 0.9923 - val_loss: 0.0632 - val_accuracy: 0.9840\n",
      "Epoch 37/100\n",
      "375/375 [==============================] - 1s 3ms/step - loss: 0.0275 - accuracy: 0.9927 - val_loss: 0.0659 - val_accuracy: 0.9847\n",
      "Epoch 38/100\n",
      "375/375 [==============================] - 1s 3ms/step - loss: 0.0270 - accuracy: 0.9928 - val_loss: 0.0608 - val_accuracy: 0.9867\n",
      "Epoch 39/100\n",
      "375/375 [==============================] - 1s 3ms/step - loss: 0.0262 - accuracy: 0.9931 - val_loss: 0.0615 - val_accuracy: 0.9853\n",
      "Epoch 40/100\n",
      "375/375 [==============================] - 1s 2ms/step - loss: 0.0256 - accuracy: 0.9933 - val_loss: 0.0650 - val_accuracy: 0.9840\n",
      "Epoch 41/100\n",
      "375/375 [==============================] - 1s 3ms/step - loss: 0.0250 - accuracy: 0.9933 - val_loss: 0.0654 - val_accuracy: 0.9873\n",
      "Epoch 42/100\n",
      "375/375 [==============================] - 1s 3ms/step - loss: 0.0250 - accuracy: 0.9939 - val_loss: 0.0629 - val_accuracy: 0.9867\n",
      "Epoch 43/100\n",
      "375/375 [==============================] - 1s 3ms/step - loss: 0.0248 - accuracy: 0.9936 - val_loss: 0.0587 - val_accuracy: 0.9867\n",
      "Epoch 44/100\n",
      "375/375 [==============================] - 1s 3ms/step - loss: 0.0238 - accuracy: 0.9942 - val_loss: 0.0597 - val_accuracy: 0.9867\n",
      "Epoch 45/100\n",
      "375/375 [==============================] - 1s 3ms/step - loss: 0.0234 - accuracy: 0.9942 - val_loss: 0.0598 - val_accuracy: 0.9860\n",
      "Epoch 46/100\n",
      "375/375 [==============================] - 1s 3ms/step - loss: 0.0226 - accuracy: 0.9947 - val_loss: 0.0589 - val_accuracy: 0.9860\n",
      "Epoch 47/100\n",
      "375/375 [==============================] - 1s 3ms/step - loss: 0.0225 - accuracy: 0.9947 - val_loss: 0.0593 - val_accuracy: 0.9867\n",
      "Epoch 48/100\n",
      "375/375 [==============================] - 1s 3ms/step - loss: 0.0220 - accuracy: 0.9951 - val_loss: 0.0616 - val_accuracy: 0.9867\n",
      "Epoch 49/100\n",
      "375/375 [==============================] - 1s 3ms/step - loss: 0.0222 - accuracy: 0.9942 - val_loss: 0.0582 - val_accuracy: 0.9867\n",
      "Epoch 50/100\n",
      "375/375 [==============================] - 1s 3ms/step - loss: 0.0213 - accuracy: 0.9951 - val_loss: 0.0595 - val_accuracy: 0.9867\n",
      "Epoch 51/100\n",
      "375/375 [==============================] - 1s 3ms/step - loss: 0.0212 - accuracy: 0.9949 - val_loss: 0.0632 - val_accuracy: 0.9867\n",
      "Epoch 52/100\n",
      "375/375 [==============================] - 1s 3ms/step - loss: 0.0211 - accuracy: 0.9950 - val_loss: 0.0569 - val_accuracy: 0.9860\n",
      "Epoch 53/100\n",
      "375/375 [==============================] - 1s 3ms/step - loss: 0.0202 - accuracy: 0.9952 - val_loss: 0.0604 - val_accuracy: 0.9860\n",
      "Epoch 54/100\n",
      "375/375 [==============================] - 1s 3ms/step - loss: 0.0202 - accuracy: 0.9951 - val_loss: 0.0616 - val_accuracy: 0.9860\n",
      "Epoch 55/100\n",
      "375/375 [==============================] - 1s 3ms/step - loss: 0.0199 - accuracy: 0.9951 - val_loss: 0.0583 - val_accuracy: 0.9853\n",
      "Epoch 56/100\n",
      "375/375 [==============================] - 1s 3ms/step - loss: 0.0195 - accuracy: 0.9951 - val_loss: 0.0596 - val_accuracy: 0.9860\n",
      "Epoch 57/100\n",
      "375/375 [==============================] - 1s 3ms/step - loss: 0.0199 - accuracy: 0.9952 - val_loss: 0.0583 - val_accuracy: 0.9860\n",
      "Epoch 58/100\n",
      "375/375 [==============================] - 1s 3ms/step - loss: 0.0192 - accuracy: 0.9956 - val_loss: 0.0593 - val_accuracy: 0.9853\n",
      "Epoch 59/100\n",
      "375/375 [==============================] - 1s 3ms/step - loss: 0.0193 - accuracy: 0.9958 - val_loss: 0.0586 - val_accuracy: 0.9853\n",
      "Epoch 60/100\n",
      "375/375 [==============================] - 1s 3ms/step - loss: 0.0186 - accuracy: 0.9958 - val_loss: 0.0637 - val_accuracy: 0.9867\n",
      "Epoch 61/100\n",
      "375/375 [==============================] - 1s 2ms/step - loss: 0.0185 - accuracy: 0.9955 - val_loss: 0.0578 - val_accuracy: 0.9867\n",
      "Epoch 62/100\n",
      "375/375 [==============================] - 1s 3ms/step - loss: 0.0184 - accuracy: 0.9960 - val_loss: 0.0575 - val_accuracy: 0.9860\n",
      "Epoch 63/100\n",
      "375/375 [==============================] - 1s 3ms/step - loss: 0.0178 - accuracy: 0.9961 - val_loss: 0.0594 - val_accuracy: 0.9867\n",
      "Epoch 64/100\n",
      "375/375 [==============================] - 1s 2ms/step - loss: 0.0176 - accuracy: 0.9962 - val_loss: 0.0581 - val_accuracy: 0.9860\n",
      "Epoch 65/100\n",
      "375/375 [==============================] - 1s 2ms/step - loss: 0.0176 - accuracy: 0.9965 - val_loss: 0.0586 - val_accuracy: 0.9873\n",
      "Epoch 66/100\n",
      "375/375 [==============================] - 1s 3ms/step - loss: 0.0172 - accuracy: 0.9962 - val_loss: 0.0580 - val_accuracy: 0.9873\n",
      "Epoch 67/100\n",
      "375/375 [==============================] - 1s 3ms/step - loss: 0.0170 - accuracy: 0.9961 - val_loss: 0.0561 - val_accuracy: 0.9867\n",
      "Epoch 68/100\n",
      "375/375 [==============================] - 1s 3ms/step - loss: 0.0166 - accuracy: 0.9965 - val_loss: 0.0566 - val_accuracy: 0.9873\n",
      "Epoch 69/100\n",
      "375/375 [==============================] - 1s 3ms/step - loss: 0.0164 - accuracy: 0.9963 - val_loss: 0.0571 - val_accuracy: 0.9867\n",
      "Epoch 70/100\n",
      "375/375 [==============================] - 1s 2ms/step - loss: 0.0160 - accuracy: 0.9967 - val_loss: 0.0632 - val_accuracy: 0.9887\n",
      "Epoch 71/100\n",
      "375/375 [==============================] - 1s 3ms/step - loss: 0.0161 - accuracy: 0.9970 - val_loss: 0.0556 - val_accuracy: 0.9867\n",
      "Epoch 72/100\n",
      "375/375 [==============================] - 1s 2ms/step - loss: 0.0154 - accuracy: 0.9964 - val_loss: 0.0570 - val_accuracy: 0.9873\n",
      "Epoch 73/100\n",
      "375/375 [==============================] - 1s 3ms/step - loss: 0.0154 - accuracy: 0.9965 - val_loss: 0.0580 - val_accuracy: 0.9873\n",
      "Epoch 74/100\n",
      "375/375 [==============================] - 1s 3ms/step - loss: 0.0155 - accuracy: 0.9965 - val_loss: 0.0564 - val_accuracy: 0.9867\n",
      "Epoch 75/100\n",
      "375/375 [==============================] - 1s 2ms/step - loss: 0.0152 - accuracy: 0.9968 - val_loss: 0.0559 - val_accuracy: 0.9873\n",
      "Epoch 76/100\n",
      "375/375 [==============================] - 1s 3ms/step - loss: 0.0150 - accuracy: 0.9966 - val_loss: 0.0556 - val_accuracy: 0.9873\n",
      "Epoch 77/100\n",
      "375/375 [==============================] - 1s 2ms/step - loss: 0.0150 - accuracy: 0.9965 - val_loss: 0.0562 - val_accuracy: 0.9887\n",
      "Epoch 78/100\n",
      "375/375 [==============================] - 1s 2ms/step - loss: 0.0149 - accuracy: 0.9971 - val_loss: 0.0560 - val_accuracy: 0.9873\n",
      "Epoch 79/100\n",
      "375/375 [==============================] - 1s 3ms/step - loss: 0.0145 - accuracy: 0.9967 - val_loss: 0.0568 - val_accuracy: 0.9873\n",
      "Epoch 80/100\n",
      "375/375 [==============================] - 1s 2ms/step - loss: 0.0140 - accuracy: 0.9973 - val_loss: 0.0555 - val_accuracy: 0.9887\n",
      "Epoch 81/100\n",
      "375/375 [==============================] - 1s 2ms/step - loss: 0.0141 - accuracy: 0.9973 - val_loss: 0.0593 - val_accuracy: 0.9873\n",
      "Epoch 82/100\n",
      "375/375 [==============================] - 1s 3ms/step - loss: 0.0140 - accuracy: 0.9971 - val_loss: 0.0573 - val_accuracy: 0.9873\n",
      "Epoch 83/100\n",
      "375/375 [==============================] - 1s 3ms/step - loss: 0.0141 - accuracy: 0.9968 - val_loss: 0.0563 - val_accuracy: 0.9893\n",
      "Epoch 84/100\n",
      "375/375 [==============================] - 1s 2ms/step - loss: 0.0139 - accuracy: 0.9971 - val_loss: 0.0596 - val_accuracy: 0.9873\n",
      "Epoch 85/100\n",
      "375/375 [==============================] - 1s 3ms/step - loss: 0.0136 - accuracy: 0.9972 - val_loss: 0.0616 - val_accuracy: 0.9887\n",
      "Epoch 86/100\n",
      "375/375 [==============================] - 1s 3ms/step - loss: 0.0135 - accuracy: 0.9971 - val_loss: 0.0580 - val_accuracy: 0.9873\n",
      "Epoch 87/100\n",
      "375/375 [==============================] - 1s 3ms/step - loss: 0.0133 - accuracy: 0.9972 - val_loss: 0.0603 - val_accuracy: 0.9880\n",
      "Epoch 88/100\n",
      "375/375 [==============================] - 1s 2ms/step - loss: 0.0134 - accuracy: 0.9973 - val_loss: 0.0565 - val_accuracy: 0.9873\n",
      "Epoch 89/100\n",
      "375/375 [==============================] - 1s 3ms/step - loss: 0.0128 - accuracy: 0.9975 - val_loss: 0.0565 - val_accuracy: 0.9873\n",
      "Epoch 90/100\n",
      "375/375 [==============================] - 1s 2ms/step - loss: 0.0129 - accuracy: 0.9972 - val_loss: 0.0541 - val_accuracy: 0.9873\n",
      "Epoch 91/100\n",
      "375/375 [==============================] - 1s 2ms/step - loss: 0.0128 - accuracy: 0.9973 - val_loss: 0.0585 - val_accuracy: 0.9880\n",
      "Epoch 92/100\n",
      "375/375 [==============================] - 1s 2ms/step - loss: 0.0126 - accuracy: 0.9973 - val_loss: 0.0565 - val_accuracy: 0.9873\n",
      "Epoch 93/100\n",
      "375/375 [==============================] - 1s 3ms/step - loss: 0.0127 - accuracy: 0.9974 - val_loss: 0.0625 - val_accuracy: 0.9887\n",
      "Epoch 94/100\n",
      "375/375 [==============================] - 1s 2ms/step - loss: 0.0125 - accuracy: 0.9973 - val_loss: 0.0584 - val_accuracy: 0.9873\n",
      "Epoch 95/100\n",
      "375/375 [==============================] - 1s 3ms/step - loss: 0.0121 - accuracy: 0.9977 - val_loss: 0.0580 - val_accuracy: 0.9880\n",
      "Epoch 96/100\n",
      "375/375 [==============================] - 1s 2ms/step - loss: 0.0122 - accuracy: 0.9977 - val_loss: 0.0552 - val_accuracy: 0.9880\n",
      "Epoch 97/100\n",
      "375/375 [==============================] - 1s 2ms/step - loss: 0.0119 - accuracy: 0.9977 - val_loss: 0.0590 - val_accuracy: 0.9893\n",
      "Epoch 98/100\n",
      "375/375 [==============================] - 1s 2ms/step - loss: 0.0120 - accuracy: 0.9977 - val_loss: 0.0556 - val_accuracy: 0.9887\n",
      "Epoch 99/100\n",
      "375/375 [==============================] - 1s 2ms/step - loss: 0.0118 - accuracy: 0.9979 - val_loss: 0.0604 - val_accuracy: 0.9880\n",
      "Epoch 100/100\n",
      "375/375 [==============================] - 1s 2ms/step - loss: 0.0117 - accuracy: 0.9978 - val_loss: 0.0567 - val_accuracy: 0.9893\n",
      "Training results\n",
      "Training Accuracy: 0.9978333115577698\n",
      "Training Loss: 0.011745152994990349\n",
      "Evaluation results\n",
      "Validation Accuracy: 0.9893333315849304\n",
      "Validation Loss: 0.05669413134455681\n"
     ]
    },
    {
     "data": {
      "image/png": "[encoded data removed]",
      "text/plain": [
       "<Figure size 432x288 with 1 Axes>"
      ]
     },
     "metadata": {
      "needs_background": "light"
     },
     "output_type": "display_data"
    }
   ],
   "source": [
    "my_custom_model = tf.keras.Sequential(name='custom_2D_conv_model')\n",
    "my_custom_model.add(tf.keras.Input(shape=(x_train.shape[1],)))\n",
    "my_custom_model.add(tf.keras.layers.Reshape((1000,1,1),name='Reshape'))\n",
    "my_custom_model.add(tf.keras.layers.Conv2D(8,5,padding='same',activation='relu'))\n",
    "my_custom_model.add(tf.keras.layers.MaxPooling2D(2,2, padding='same'))\n",
    "my_custom_model.add(tf.keras.layers.Flatten())\n",
    "my_custom_model.add(tf.keras.layers.Dense(3,activation='softmax', name=\"output\"))\n",
    "\n",
    "\n",
    "print(my_custom_model.summary())\n",
    "my_custom_model.compile(optimizer=tf.keras.optimizers.RMSprop(learning_rate=1e-4),\n",
    "              loss=tf.keras.losses.SparseCategoricalCrossentropy(from_logits=True),\n",
    "              metrics=['accuracy'])\n",
    "\n",
    "history = my_custom_model.fit(x_train, y_train ,epochs=100, validation_data=(x_val, y_val), verbose=1)   \n",
    "\n",
    "\n",
    "# Plotting accuracy and loss\n",
    "import matplotlib.pyplot as plt\n",
    "plt.plot(history.history['loss'])\n",
    "plt.plot(history.history['accuracy'])\n",
    "plt.plot(history.history['val_accuracy'])\n",
    "plt.plot(history.history['val_loss'])\n",
    "\n",
    "\n",
    "plt.title('Model loss & accuracy')\n",
    "plt.ylabel('Loss')\n",
    "plt.xlabel('Epoch')\n",
    "plt.legend(['tr_loss', 'tr_accuracy', 'val_acc', 'val_loss'], loc='lower right')\n",
    "# accuracy!\n",
    "print(\"Training results\")\n",
    "print(f\"Training Accuracy: {history.history['accuracy'][-1]}\")\n",
    "print(f\"Training Loss: {history.history['loss'][-1]}\")\n",
    "\n",
    "# evaluating model\n",
    "print(\"Evaluation results\")\n",
    "print(f\"Validation Accuracy: {history.history['val_accuracy'][-1]}\")\n",
    "print(f\"Validation Loss: {history.history['val_loss'][-1]}\")\n",
    "\n",
    "\n",
    "plt.show()"
   ]
  },
  {
   "cell_type": "markdown",
   "metadata": {},
   "source": [
    "## Save custom model as .tflite"
   ]
  },
  {
   "cell_type": "code",
   "execution_count": 16,
   "metadata": {},
   "outputs": [
    {
     "name": "stderr",
     "output_type": "stream",
     "text": [
      "WARNING:absl:Found untraced functions such as _jit_compiled_convolution_op while saving (showing 1 of 1). These functions will not be directly callable after loading.\n"
     ]
    },
    {
     "name": "stdout",
     "output_type": "stream",
     "text": [
      "INFO:tensorflow:Assets written to: /tmp/tmp8sg93y9j/assets\n"
     ]
    },
    {
     "name": "stderr",
     "output_type": "stream",
     "text": [
      "INFO:tensorflow:Assets written to: /tmp/tmp8sg93y9j/assets\n",
      "2022-10-06 10:38:28.737573: W tensorflow/compiler/mlir/lite/python/tf_tfl_flatbuffer_helpers.cc:362] Ignored output_format.\n",
      "2022-10-06 10:38:28.737590: W tensorflow/compiler/mlir/lite/python/tf_tfl_flatbuffer_helpers.cc:365] Ignored drop_control_dependency.\n",
      "2022-10-06 10:38:28.737673: I tensorflow/cc/saved_model/reader.cc:45] Reading SavedModel from: /tmp/tmp8sg93y9j\n",
      "2022-10-06 10:38:28.738317: I tensorflow/cc/saved_model/reader.cc:89] Reading meta graph with tags { serve }\n",
      "2022-10-06 10:38:28.738328: I tensorflow/cc/saved_model/reader.cc:130] Reading SavedModel debug info (if present) from: /tmp/tmp8sg93y9j\n",
      "2022-10-06 10:38:28.740182: I tensorflow/cc/saved_model/loader.cc:229] Restoring SavedModel bundle.\n",
      "2022-10-06 10:38:28.755834: I tensorflow/cc/saved_model/loader.cc:213] Running initialization op on SavedModel bundle at path: /tmp/tmp8sg93y9j\n",
      "2022-10-06 10:38:28.760176: I tensorflow/cc/saved_model/loader.cc:305] SavedModel load for tags { serve }; Status: success: OK. Took 22502 microseconds.\n"
     ]
    },
    {
     "data": {
      "text/plain": [
       "52432"
      ]
     },
     "execution_count": 16,
     "metadata": {},
     "output_type": "execute_result"
    }
   ],
   "source": [
    "float_converter = tf.lite.TFLiteConverter.from_keras_model(my_custom_model)\n",
    "float_tflite_model = float_converter.convert()\n",
    "tflite_model_file = pathlib.Path('my_custom_model.tflite')\n",
    "tflite_model_file.write_bytes(float_tflite_model)"
   ]
  },
  {
   "cell_type": "code",
   "execution_count": 17,
   "metadata": {},
   "outputs": [],
   "source": [
    "!xxd -i my_custom_model.tflite > my_custom_model.cc"
   ]
  },
  {
   "cell_type": "markdown",
   "metadata": {},
   "source": [
    "## Quantize custom model and save it."
   ]
  },
  {
   "cell_type": "code",
   "execution_count": 18,
   "metadata": {},
   "outputs": [
    {
     "name": "stderr",
     "output_type": "stream",
     "text": [
      "WARNING:absl:Found untraced functions such as _jit_compiled_convolution_op while saving (showing 1 of 1). These functions will not be directly callable after loading.\n"
     ]
    },
    {
     "name": "stdout",
     "output_type": "stream",
     "text": [
      "INFO:tensorflow:Assets written to: /tmp/tmpmhz6e2sm/assets\n"
     ]
    },
    {
     "name": "stderr",
     "output_type": "stream",
     "text": [
      "INFO:tensorflow:Assets written to: /tmp/tmpmhz6e2sm/assets\n",
      "/home/veysiadn/anaconda3/lib/python3.9/site-packages/tensorflow/lite/python/convert.py:766: UserWarning: Statistics for quantized inputs were expected, but not specified; continuing anyway.\n",
      "  warnings.warn(\"Statistics for quantized inputs were expected, but not \"\n",
      "2022-10-06 10:38:43.470713: W tensorflow/compiler/mlir/lite/python/tf_tfl_flatbuffer_helpers.cc:362] Ignored output_format.\n",
      "2022-10-06 10:38:43.470733: W tensorflow/compiler/mlir/lite/python/tf_tfl_flatbuffer_helpers.cc:365] Ignored drop_control_dependency.\n",
      "2022-10-06 10:38:43.470829: I tensorflow/cc/saved_model/reader.cc:45] Reading SavedModel from: /tmp/tmpmhz6e2sm\n",
      "2022-10-06 10:38:43.471406: I tensorflow/cc/saved_model/reader.cc:89] Reading meta graph with tags { serve }\n",
      "2022-10-06 10:38:43.471419: I tensorflow/cc/saved_model/reader.cc:130] Reading SavedModel debug info (if present) from: /tmp/tmpmhz6e2sm\n",
      "2022-10-06 10:38:43.473459: I tensorflow/cc/saved_model/loader.cc:229] Restoring SavedModel bundle.\n",
      "2022-10-06 10:38:43.489216: I tensorflow/cc/saved_model/loader.cc:213] Running initialization op on SavedModel bundle at path: /tmp/tmpmhz6e2sm\n",
      "2022-10-06 10:38:43.493280: I tensorflow/cc/saved_model/loader.cc:305] SavedModel load for tags { serve }; Status: success: OK. Took 22450 microseconds.\n",
      "fully_quantize: 0, inference_type: 6, input_inference_type: FLOAT32, output_inference_type: FLOAT32\n"
     ]
    },
    {
     "data": {
      "text/plain": [
       "16712"
      ]
     },
     "execution_count": 18,
     "metadata": {},
     "output_type": "execute_result"
    }
   ],
   "source": [
    "def representative_data_gen():\n",
    "  for input_value in tf.data.Dataset.from_tensor_slices(x_train).batch(1).take(100):\n",
    "    # Model has only one input so each data point has one element.\n",
    "    yield [input_value]\n",
    "\n",
    "converter = tf.lite.TFLiteConverter.from_keras_model(my_custom_model)\n",
    "converter.optimizations = [tf.lite.Optimize.DEFAULT]\n",
    "converter.representative_dataset = representative_data_gen\n",
    "tflite_model_quant = converter.convert()\n",
    "\n",
    "tflite_model_file = pathlib.Path('my_custom_model_optimized.tflite')\n",
    "tflite_model_file.write_bytes(tflite_model_quant)"
   ]
  },
  {
   "cell_type": "code",
   "execution_count": 19,
   "metadata": {},
   "outputs": [],
   "source": [
    "!xxd -i my_custom_model_optimized.tflite > my_custom_model_optimized.cc"
   ]
  },
  {
   "cell_type": "markdown",
   "metadata": {},
   "source": [
    "### Quantize model to INT8 and save it."
   ]
  },
  {
   "cell_type": "code",
   "execution_count": 14,
   "metadata": {},
   "outputs": [
    {
     "name": "stderr",
     "output_type": "stream",
     "text": [
      "WARNING:absl:Found untraced functions such as _jit_compiled_convolution_op while saving (showing 1 of 1). These functions will not be directly callable after loading.\n"
     ]
    },
    {
     "name": "stdout",
     "output_type": "stream",
     "text": [
      "INFO:tensorflow:Assets written to: /tmp/tmplrt78c1u/assets\n"
     ]
    },
    {
     "name": "stderr",
     "output_type": "stream",
     "text": [
      "INFO:tensorflow:Assets written to: /tmp/tmplrt78c1u/assets\n",
      "/home/veysiadn/anaconda3/lib/python3.9/site-packages/tensorflow/lite/python/convert.py:766: UserWarning: Statistics for quantized inputs were expected, but not specified; continuing anyway.\n",
      "  warnings.warn(\"Statistics for quantized inputs were expected, but not \"\n",
      "2022-10-06 09:31:25.857597: W tensorflow/compiler/mlir/lite/python/tf_tfl_flatbuffer_helpers.cc:362] Ignored output_format.\n",
      "2022-10-06 09:31:25.857611: W tensorflow/compiler/mlir/lite/python/tf_tfl_flatbuffer_helpers.cc:365] Ignored drop_control_dependency.\n",
      "2022-10-06 09:31:25.857717: I tensorflow/cc/saved_model/reader.cc:45] Reading SavedModel from: /tmp/tmplrt78c1u\n",
      "2022-10-06 09:31:25.858310: I tensorflow/cc/saved_model/reader.cc:89] Reading meta graph with tags { serve }\n",
      "2022-10-06 09:31:25.858321: I tensorflow/cc/saved_model/reader.cc:130] Reading SavedModel debug info (if present) from: /tmp/tmplrt78c1u\n",
      "2022-10-06 09:31:25.859923: I tensorflow/cc/saved_model/loader.cc:229] Restoring SavedModel bundle.\n",
      "2022-10-06 09:31:25.875021: I tensorflow/cc/saved_model/loader.cc:213] Running initialization op on SavedModel bundle at path: /tmp/tmplrt78c1u\n",
      "2022-10-06 09:31:25.878933: I tensorflow/cc/saved_model/loader.cc:305] SavedModel load for tags { serve }; Status: success: OK. Took 21215 microseconds.\n",
      "fully_quantize: 0, inference_type: 6, input_inference_type: UINT8, output_inference_type: UINT8\n"
     ]
    },
    {
     "data": {
      "text/plain": [
       "16704"
      ]
     },
     "execution_count": 14,
     "metadata": {},
     "output_type": "execute_result"
    }
   ],
   "source": [
    "def representative_data_gen():\n",
    "  for input_value in tf.data.Dataset.from_tensor_slices(x_train).batch(1).take(100):\n",
    "    yield [input_value]\n",
    "\n",
    "converter = tf.lite.TFLiteConverter.from_keras_model(my_custom_model)\n",
    "converter.optimizations = [tf.lite.Optimize.DEFAULT]\n",
    "converter.representative_dataset = representative_data_gen\n",
    "# Ensure that if any ops can't be quantized, the converter throws an error\n",
    "converter.target_spec.supported_ops = [tf.lite.OpsSet.TFLITE_BUILTINS_INT8]\n",
    "# Set the input and output tensors to uint8 (APIs added in r2.3)\n",
    "converter.inference_input_type = tf.uint8\n",
    "converter.inference_output_type = tf.uint8\n",
    "\n",
    "tflite_model_quant = converter.convert()\n",
    "tflite_model_file = pathlib.Path('my_custom_model_int8_quant.tflite')\n",
    "tflite_model_file.write_bytes(tflite_model_quant)"
   ]
  },
  {
   "cell_type": "code",
   "execution_count": 17,
   "metadata": {},
   "outputs": [],
   "source": [
    "!xxd -i my_custom_model_int8_quant.tflite > my_custom_model_int8_quant.cc"
   ]
  },
  {
   "cell_type": "markdown",
   "metadata": {},
   "source": [
    "## Define Dense model."
   ]
  },
  {
   "cell_type": "code",
   "execution_count": 18,
   "metadata": {},
   "outputs": [
    {
     "name": "stdout",
     "output_type": "stream",
     "text": [
      "Model: \"sequential\"\n",
      "_________________________________________________________________\n",
      " Layer (type)                Output Shape              Param #   \n",
      "=================================================================\n",
      " flatten_1 (Flatten)         (None, 1000)              0         \n",
      "                                                                 \n",
      " dense (Dense)               (None, 4)                 4004      \n",
      "                                                                 \n",
      " dense_1 (Dense)             (None, 3)                 15        \n",
      "                                                                 \n",
      "=================================================================\n",
      "Total params: 4,019\n",
      "Trainable params: 4,019\n",
      "Non-trainable params: 0\n",
      "_________________________________________________________________\n",
      "Epoch 1/100\n",
      " 39/188 [=====>........................] - ETA: 0s - loss: 0.9244 - accuracy: 0.5196 "
     ]
    },
    {
     "name": "stderr",
     "output_type": "stream",
     "text": [
      "/home/veysiadn/anaconda3/lib/python3.9/site-packages/keras/backend.py:5582: UserWarning: \"`sparse_categorical_crossentropy` received `from_logits=True`, but the `output` argument was produced by a Softmax activation and thus does not represent logits. Was this intended?\n",
      "  output, from_logits = _get_logits(\n"
     ]
    },
    {
     "name": "stdout",
     "output_type": "stream",
     "text": [
      "188/188 [==============================] - 1s 3ms/step - loss: 0.7512 - accuracy: 0.6669 - val_loss: 0.5685 - val_accuracy: 0.7980\n",
      "Epoch 2/100\n",
      "188/188 [==============================] - 1s 4ms/step - loss: 0.5135 - accuracy: 0.8393 - val_loss: 0.4341 - val_accuracy: 0.8720\n",
      "Epoch 3/100\n",
      "188/188 [==============================] - 0s 3ms/step - loss: 0.3804 - accuracy: 0.8959 - val_loss: 0.3243 - val_accuracy: 0.9107\n",
      "Epoch 4/100\n",
      "188/188 [==============================] - 0s 2ms/step - loss: 0.2878 - accuracy: 0.9284 - val_loss: 0.2577 - val_accuracy: 0.9280\n",
      "Epoch 5/100\n",
      "188/188 [==============================] - 1s 4ms/step - loss: 0.2318 - accuracy: 0.9421 - val_loss: 0.2187 - val_accuracy: 0.9407\n",
      "Epoch 6/100\n",
      "188/188 [==============================] - 1s 4ms/step - loss: 0.1935 - accuracy: 0.9528 - val_loss: 0.1863 - val_accuracy: 0.9467\n",
      "Epoch 7/100\n",
      "188/188 [==============================] - 1s 3ms/step - loss: 0.1652 - accuracy: 0.9601 - val_loss: 0.1728 - val_accuracy: 0.9520\n",
      "Epoch 8/100\n",
      "188/188 [==============================] - 1s 3ms/step - loss: 0.1462 - accuracy: 0.9622 - val_loss: 0.1544 - val_accuracy: 0.9553\n",
      "Epoch 9/100\n",
      "188/188 [==============================] - 1s 4ms/step - loss: 0.1320 - accuracy: 0.9648 - val_loss: 0.1456 - val_accuracy: 0.9540\n",
      "Epoch 10/100\n",
      "188/188 [==============================] - 1s 4ms/step - loss: 0.1204 - accuracy: 0.9683 - val_loss: 0.1372 - val_accuracy: 0.9600\n",
      "Epoch 11/100\n",
      "188/188 [==============================] - 1s 4ms/step - loss: 0.1122 - accuracy: 0.9705 - val_loss: 0.1311 - val_accuracy: 0.9587\n",
      "Epoch 12/100\n",
      "188/188 [==============================] - 1s 4ms/step - loss: 0.1046 - accuracy: 0.9725 - val_loss: 0.1221 - val_accuracy: 0.9653\n",
      "Epoch 13/100\n",
      "188/188 [==============================] - 1s 4ms/step - loss: 0.0988 - accuracy: 0.9731 - val_loss: 0.1196 - val_accuracy: 0.9647\n",
      "Epoch 14/100\n",
      "188/188 [==============================] - 1s 4ms/step - loss: 0.0941 - accuracy: 0.9745 - val_loss: 0.1121 - val_accuracy: 0.9667\n",
      "Epoch 15/100\n",
      "188/188 [==============================] - 1s 4ms/step - loss: 0.0887 - accuracy: 0.9756 - val_loss: 0.1090 - val_accuracy: 0.9653\n",
      "Epoch 16/100\n",
      "188/188 [==============================] - 1s 4ms/step - loss: 0.0841 - accuracy: 0.9768 - val_loss: 0.1055 - val_accuracy: 0.9687\n",
      "Epoch 17/100\n",
      "188/188 [==============================] - 1s 4ms/step - loss: 0.0806 - accuracy: 0.9778 - val_loss: 0.1051 - val_accuracy: 0.9667\n",
      "Epoch 18/100\n",
      "188/188 [==============================] - 1s 4ms/step - loss: 0.0775 - accuracy: 0.9785 - val_loss: 0.1003 - val_accuracy: 0.9667\n",
      "Epoch 19/100\n",
      "188/188 [==============================] - 1s 4ms/step - loss: 0.0741 - accuracy: 0.9786 - val_loss: 0.1002 - val_accuracy: 0.9713\n",
      "Epoch 20/100\n",
      "188/188 [==============================] - 1s 4ms/step - loss: 0.0710 - accuracy: 0.9804 - val_loss: 0.0971 - val_accuracy: 0.9687\n",
      "Epoch 21/100\n",
      "188/188 [==============================] - 1s 3ms/step - loss: 0.0689 - accuracy: 0.9816 - val_loss: 0.0962 - val_accuracy: 0.9693\n",
      "Epoch 22/100\n",
      "188/188 [==============================] - 1s 4ms/step - loss: 0.0668 - accuracy: 0.9811 - val_loss: 0.0947 - val_accuracy: 0.9707\n",
      "Epoch 23/100\n",
      "188/188 [==============================] - 1s 4ms/step - loss: 0.0641 - accuracy: 0.9817 - val_loss: 0.0976 - val_accuracy: 0.9700\n",
      "Epoch 24/100\n",
      "188/188 [==============================] - 1s 4ms/step - loss: 0.0621 - accuracy: 0.9827 - val_loss: 0.0914 - val_accuracy: 0.9713\n",
      "Epoch 25/100\n",
      "188/188 [==============================] - 1s 4ms/step - loss: 0.0607 - accuracy: 0.9826 - val_loss: 0.0966 - val_accuracy: 0.9700\n",
      "Epoch 26/100\n",
      "188/188 [==============================] - 1s 4ms/step - loss: 0.0592 - accuracy: 0.9838 - val_loss: 0.0928 - val_accuracy: 0.9713\n",
      "Epoch 27/100\n",
      "188/188 [==============================] - 1s 4ms/step - loss: 0.0575 - accuracy: 0.9846 - val_loss: 0.0906 - val_accuracy: 0.9733\n",
      "Epoch 28/100\n",
      "188/188 [==============================] - 0s 2ms/step - loss: 0.0554 - accuracy: 0.9843 - val_loss: 0.0913 - val_accuracy: 0.9733\n",
      "Epoch 29/100\n",
      "188/188 [==============================] - 1s 3ms/step - loss: 0.0553 - accuracy: 0.9837 - val_loss: 0.0937 - val_accuracy: 0.9753\n",
      "Epoch 30/100\n",
      "188/188 [==============================] - 1s 3ms/step - loss: 0.0535 - accuracy: 0.9857 - val_loss: 0.0922 - val_accuracy: 0.9773\n",
      "Epoch 31/100\n",
      "188/188 [==============================] - 1s 3ms/step - loss: 0.0520 - accuracy: 0.9856 - val_loss: 0.0882 - val_accuracy: 0.9787\n",
      "Epoch 32/100\n",
      "188/188 [==============================] - 1s 4ms/step - loss: 0.0515 - accuracy: 0.9864 - val_loss: 0.0944 - val_accuracy: 0.9733\n",
      "Epoch 33/100\n",
      "188/188 [==============================] - 0s 3ms/step - loss: 0.0507 - accuracy: 0.9861 - val_loss: 0.0879 - val_accuracy: 0.9767\n",
      "Epoch 34/100\n",
      "188/188 [==============================] - 1s 3ms/step - loss: 0.0492 - accuracy: 0.9880 - val_loss: 0.0944 - val_accuracy: 0.9760\n",
      "Epoch 35/100\n",
      "188/188 [==============================] - 1s 3ms/step - loss: 0.0478 - accuracy: 0.9878 - val_loss: 0.0933 - val_accuracy: 0.9767\n",
      "Epoch 36/100\n",
      "188/188 [==============================] - 1s 3ms/step - loss: 0.0468 - accuracy: 0.9883 - val_loss: 0.0956 - val_accuracy: 0.9747\n",
      "Epoch 37/100\n",
      "188/188 [==============================] - 1s 4ms/step - loss: 0.0464 - accuracy: 0.9892 - val_loss: 0.0990 - val_accuracy: 0.9773\n",
      "Epoch 38/100\n",
      "188/188 [==============================] - 1s 3ms/step - loss: 0.0458 - accuracy: 0.9885 - val_loss: 0.0941 - val_accuracy: 0.9720\n",
      "Epoch 39/100\n",
      "188/188 [==============================] - 1s 4ms/step - loss: 0.0455 - accuracy: 0.9886 - val_loss: 0.0916 - val_accuracy: 0.9773\n",
      "Epoch 40/100\n",
      "188/188 [==============================] - 1s 3ms/step - loss: 0.0436 - accuracy: 0.9901 - val_loss: 0.0884 - val_accuracy: 0.9767\n",
      "Epoch 41/100\n",
      "188/188 [==============================] - 1s 3ms/step - loss: 0.0438 - accuracy: 0.9897 - val_loss: 0.0925 - val_accuracy: 0.9753\n",
      "Epoch 42/100\n",
      "188/188 [==============================] - 0s 2ms/step - loss: 0.0427 - accuracy: 0.9897 - val_loss: 0.0898 - val_accuracy: 0.9760\n",
      "Epoch 43/100\n",
      "188/188 [==============================] - 1s 3ms/step - loss: 0.0424 - accuracy: 0.9904 - val_loss: 0.0996 - val_accuracy: 0.9727\n",
      "Epoch 44/100\n",
      "188/188 [==============================] - 1s 3ms/step - loss: 0.0406 - accuracy: 0.9911 - val_loss: 0.0958 - val_accuracy: 0.9747\n",
      "Epoch 45/100\n",
      "188/188 [==============================] - 1s 3ms/step - loss: 0.0407 - accuracy: 0.9899 - val_loss: 0.0934 - val_accuracy: 0.9793\n",
      "Epoch 46/100\n",
      "188/188 [==============================] - 1s 3ms/step - loss: 0.0395 - accuracy: 0.9907 - val_loss: 0.0952 - val_accuracy: 0.9767\n",
      "Epoch 47/100\n",
      "188/188 [==============================] - 1s 4ms/step - loss: 0.0391 - accuracy: 0.9910 - val_loss: 0.0937 - val_accuracy: 0.9767\n",
      "Epoch 48/100\n",
      "188/188 [==============================] - 1s 4ms/step - loss: 0.0392 - accuracy: 0.9904 - val_loss: 0.0930 - val_accuracy: 0.9773\n",
      "Epoch 49/100\n",
      "188/188 [==============================] - 1s 4ms/step - loss: 0.0378 - accuracy: 0.9921 - val_loss: 0.0946 - val_accuracy: 0.9767\n",
      "Epoch 50/100\n",
      "188/188 [==============================] - 1s 4ms/step - loss: 0.0375 - accuracy: 0.9918 - val_loss: 0.0910 - val_accuracy: 0.9780\n",
      "Epoch 51/100\n",
      "188/188 [==============================] - 1s 3ms/step - loss: 0.0371 - accuracy: 0.9919 - val_loss: 0.0983 - val_accuracy: 0.9747\n",
      "Epoch 52/100\n",
      "188/188 [==============================] - 0s 2ms/step - loss: 0.0365 - accuracy: 0.9916 - val_loss: 0.0938 - val_accuracy: 0.9740\n",
      "Epoch 53/100\n",
      "188/188 [==============================] - 0s 2ms/step - loss: 0.0358 - accuracy: 0.9923 - val_loss: 0.0926 - val_accuracy: 0.9773\n",
      "Epoch 54/100\n",
      "188/188 [==============================] - 1s 3ms/step - loss: 0.0349 - accuracy: 0.9926 - val_loss: 0.0936 - val_accuracy: 0.9773\n",
      "Epoch 55/100\n",
      "188/188 [==============================] - 1s 3ms/step - loss: 0.0354 - accuracy: 0.9925 - val_loss: 0.0949 - val_accuracy: 0.9767\n",
      "Epoch 56/100\n",
      "188/188 [==============================] - 0s 2ms/step - loss: 0.0347 - accuracy: 0.9925 - val_loss: 0.0977 - val_accuracy: 0.9793\n",
      "Epoch 57/100\n",
      "188/188 [==============================] - 1s 3ms/step - loss: 0.0345 - accuracy: 0.9930 - val_loss: 0.0976 - val_accuracy: 0.9760\n",
      "Epoch 58/100\n",
      "188/188 [==============================] - 1s 4ms/step - loss: 0.0342 - accuracy: 0.9926 - val_loss: 0.1008 - val_accuracy: 0.9760\n",
      "Epoch 59/100\n",
      "188/188 [==============================] - 1s 3ms/step - loss: 0.0338 - accuracy: 0.9929 - val_loss: 0.1033 - val_accuracy: 0.9747\n",
      "Epoch 60/100\n",
      "188/188 [==============================] - 0s 2ms/step - loss: 0.0333 - accuracy: 0.9934 - val_loss: 0.1019 - val_accuracy: 0.9787\n",
      "Epoch 61/100\n",
      "188/188 [==============================] - 1s 4ms/step - loss: 0.0333 - accuracy: 0.9928 - val_loss: 0.1030 - val_accuracy: 0.9767\n",
      "Epoch 62/100\n",
      "188/188 [==============================] - 0s 2ms/step - loss: 0.0331 - accuracy: 0.9932 - val_loss: 0.1021 - val_accuracy: 0.9773\n",
      "Epoch 63/100\n",
      "188/188 [==============================] - 0s 2ms/step - loss: 0.0327 - accuracy: 0.9930 - val_loss: 0.1045 - val_accuracy: 0.9760\n",
      "Epoch 64/100\n",
      "188/188 [==============================] - 1s 3ms/step - loss: 0.0332 - accuracy: 0.9935 - val_loss: 0.1042 - val_accuracy: 0.9773\n",
      "Epoch 65/100\n",
      "188/188 [==============================] - 1s 3ms/step - loss: 0.0330 - accuracy: 0.9928 - val_loss: 0.1064 - val_accuracy: 0.9773\n",
      "Epoch 66/100\n",
      "188/188 [==============================] - 1s 3ms/step - loss: 0.0320 - accuracy: 0.9937 - val_loss: 0.1032 - val_accuracy: 0.9780\n",
      "Epoch 67/100\n",
      "188/188 [==============================] - 1s 3ms/step - loss: 0.0313 - accuracy: 0.9931 - val_loss: 0.1075 - val_accuracy: 0.9773\n",
      "Epoch 68/100\n",
      "188/188 [==============================] - 1s 3ms/step - loss: 0.0321 - accuracy: 0.9934 - val_loss: 0.1100 - val_accuracy: 0.9787\n",
      "Epoch 69/100\n",
      "188/188 [==============================] - 1s 3ms/step - loss: 0.0312 - accuracy: 0.9933 - val_loss: 0.1079 - val_accuracy: 0.9773\n",
      "Epoch 70/100\n",
      "188/188 [==============================] - 1s 3ms/step - loss: 0.0310 - accuracy: 0.9929 - val_loss: 0.1079 - val_accuracy: 0.9787\n",
      "Epoch 71/100\n",
      "188/188 [==============================] - 1s 3ms/step - loss: 0.0310 - accuracy: 0.9935 - val_loss: 0.1161 - val_accuracy: 0.9753\n",
      "Epoch 72/100\n",
      "188/188 [==============================] - 1s 3ms/step - loss: 0.0305 - accuracy: 0.9942 - val_loss: 0.1112 - val_accuracy: 0.9793\n",
      "Epoch 73/100\n",
      "188/188 [==============================] - 1s 3ms/step - loss: 0.0305 - accuracy: 0.9934 - val_loss: 0.1178 - val_accuracy: 0.9773\n",
      "Epoch 74/100\n",
      "188/188 [==============================] - 1s 3ms/step - loss: 0.0304 - accuracy: 0.9942 - val_loss: 0.1156 - val_accuracy: 0.9753\n",
      "Epoch 75/100\n",
      "188/188 [==============================] - 0s 3ms/step - loss: 0.0305 - accuracy: 0.9933 - val_loss: 0.1080 - val_accuracy: 0.9773\n",
      "Epoch 76/100\n",
      "188/188 [==============================] - 1s 3ms/step - loss: 0.0293 - accuracy: 0.9945 - val_loss: 0.1293 - val_accuracy: 0.9740\n",
      "Epoch 77/100\n",
      "188/188 [==============================] - 0s 2ms/step - loss: 0.0299 - accuracy: 0.9939 - val_loss: 0.1188 - val_accuracy: 0.9793\n",
      "Epoch 78/100\n",
      "188/188 [==============================] - 1s 3ms/step - loss: 0.0291 - accuracy: 0.9943 - val_loss: 0.1188 - val_accuracy: 0.9753\n",
      "Epoch 79/100\n",
      "188/188 [==============================] - 0s 2ms/step - loss: 0.0291 - accuracy: 0.9950 - val_loss: 0.1219 - val_accuracy: 0.9787\n",
      "Epoch 80/100\n",
      "188/188 [==============================] - 0s 3ms/step - loss: 0.0287 - accuracy: 0.9946 - val_loss: 0.1197 - val_accuracy: 0.9773\n",
      "Epoch 81/100\n",
      "188/188 [==============================] - 0s 2ms/step - loss: 0.0287 - accuracy: 0.9946 - val_loss: 0.1250 - val_accuracy: 0.9773\n",
      "Epoch 82/100\n",
      "188/188 [==============================] - 0s 2ms/step - loss: 0.0290 - accuracy: 0.9947 - val_loss: 0.1244 - val_accuracy: 0.9767\n",
      "Epoch 83/100\n",
      "188/188 [==============================] - 1s 3ms/step - loss: 0.0281 - accuracy: 0.9954 - val_loss: 0.1166 - val_accuracy: 0.9767\n",
      "Epoch 84/100\n",
      "188/188 [==============================] - 1s 3ms/step - loss: 0.0288 - accuracy: 0.9951 - val_loss: 0.1171 - val_accuracy: 0.9773\n",
      "Epoch 85/100\n",
      "188/188 [==============================] - 1s 3ms/step - loss: 0.0288 - accuracy: 0.9942 - val_loss: 0.1242 - val_accuracy: 0.9787\n",
      "Epoch 86/100\n",
      "188/188 [==============================] - 1s 3ms/step - loss: 0.0290 - accuracy: 0.9947 - val_loss: 0.1273 - val_accuracy: 0.9767\n",
      "Epoch 87/100\n",
      "188/188 [==============================] - 0s 3ms/step - loss: 0.0281 - accuracy: 0.9949 - val_loss: 0.1195 - val_accuracy: 0.9767\n",
      "Epoch 88/100\n",
      "188/188 [==============================] - 0s 3ms/step - loss: 0.0282 - accuracy: 0.9957 - val_loss: 0.1336 - val_accuracy: 0.9760\n",
      "Epoch 89/100\n",
      "188/188 [==============================] - 0s 2ms/step - loss: 0.0278 - accuracy: 0.9947 - val_loss: 0.1297 - val_accuracy: 0.9740\n",
      "Epoch 90/100\n",
      "188/188 [==============================] - 0s 2ms/step - loss: 0.0272 - accuracy: 0.9953 - val_loss: 0.1373 - val_accuracy: 0.9740\n",
      "Epoch 91/100\n",
      "188/188 [==============================] - 0s 3ms/step - loss: 0.0278 - accuracy: 0.9953 - val_loss: 0.1324 - val_accuracy: 0.9760\n",
      "Epoch 92/100\n",
      "188/188 [==============================] - 1s 3ms/step - loss: 0.0277 - accuracy: 0.9944 - val_loss: 0.1405 - val_accuracy: 0.9773\n",
      "Epoch 93/100\n",
      "188/188 [==============================] - 1s 3ms/step - loss: 0.0272 - accuracy: 0.9951 - val_loss: 0.1386 - val_accuracy: 0.9780\n",
      "Epoch 94/100\n",
      "188/188 [==============================] - 1s 3ms/step - loss: 0.0276 - accuracy: 0.9949 - val_loss: 0.1357 - val_accuracy: 0.9767\n",
      "Epoch 95/100\n",
      "188/188 [==============================] - 0s 2ms/step - loss: 0.0280 - accuracy: 0.9950 - val_loss: 0.1407 - val_accuracy: 0.9767\n",
      "Epoch 96/100\n",
      "188/188 [==============================] - 0s 2ms/step - loss: 0.0266 - accuracy: 0.9949 - val_loss: 0.1465 - val_accuracy: 0.9753\n",
      "Epoch 97/100\n",
      "188/188 [==============================] - 0s 1ms/step - loss: 0.0270 - accuracy: 0.9952 - val_loss: 0.1351 - val_accuracy: 0.9767\n",
      "Epoch 98/100\n",
      "188/188 [==============================] - 0s 2ms/step - loss: 0.0271 - accuracy: 0.9954 - val_loss: 0.1424 - val_accuracy: 0.9740\n",
      "Epoch 99/100\n",
      "188/188 [==============================] - 0s 1ms/step - loss: 0.0259 - accuracy: 0.9956 - val_loss: 0.1463 - val_accuracy: 0.9753\n",
      "Epoch 100/100\n",
      "188/188 [==============================] - 0s 2ms/step - loss: 0.0262 - accuracy: 0.9958 - val_loss: 0.1442 - val_accuracy: 0.9773\n",
      "Training results\n",
      "Training Accuracy: 0.9957500100135803\n",
      "Training Loss: 0.0261855386197567\n",
      "Evaluation results\n",
      "Validation Accuracy: 0.9773333072662354\n",
      "Validation Loss: 0.14420130848884583\n"
     ]
    },
    {
     "data": {
      "image/png": "[encoded data removed]",
      "text/plain": [
       "<Figure size 432x288 with 1 Axes>"
      ]
     },
     "metadata": {
      "needs_background": "light"
     },
     "output_type": "display_data"
    }
   ],
   "source": [
    "SEED = 99\n",
    "os.environ['PYTHONHASHSEED']=str(SEED)\n",
    "random.seed(SEED)\n",
    "np.random.seed(SEED)\n",
    "tf.random.set_seed(SEED)\n",
    "train_dataset = tf.data.Dataset.from_tensor_slices((x_train, y_train))\n",
    "val_dataset = tf.data.Dataset.from_tensor_slices((x_val, y_val))\n",
    "BATCH_SIZE = 64\n",
    "SHUFFLE_BUFFER_SIZE = 100\n",
    "train_dataset = train_dataset.shuffle(SHUFFLE_BUFFER_SIZE).batch(BATCH_SIZE)\n",
    "val_dataset = val_dataset.batch(BATCH_SIZE)\n",
    "# train_dataset.unbatch()\n",
    "\n",
    "dense_model = tf.keras.Sequential([\n",
    "    tf.keras.layers.Flatten(input_shape=(1000,)),\n",
    "    tf.keras.layers.Dense(4, activation='swish'),\n",
    "    tf.keras.layers.Dense(3,activation='softmax')\n",
    "])\n",
    "\n",
    "dense_model.compile(optimizer=tf.keras.optimizers.RMSprop(learning_rate=1e-3),\n",
    "              loss=tf.keras.losses.SparseCategoricalCrossentropy(from_logits=True),\n",
    "              metrics=['accuracy'])\n",
    "dense_model.summary()              \n",
    "\n",
    "history=dense_model.fit(train_dataset,validation_data=val_dataset, epochs=100)\n",
    "# dense_model.evaluate(val_dataset)\n",
    "import matplotlib.pyplot as plt\n",
    "plt.plot(history.history['loss'])\n",
    "plt.plot(history.history['accuracy'])\n",
    "plt.plot(history.history['val_accuracy'])\n",
    "plt.plot(history.history['val_loss'])\n",
    "\n",
    "\n",
    "plt.title('dense_model loss & accuracy')\n",
    "plt.ylabel('Loss')\n",
    "plt.xlabel('Epoch')\n",
    "plt.legend(['tr_loss', 'tr_accuracy', 'val_acc', 'val_loss'], loc='lower right')\n",
    "# accuracy!\n",
    "print(\"Training results\")\n",
    "print(f\"Training Accuracy: {history.history['accuracy'][-1]}\")\n",
    "print(f\"Training Loss: {history.history['loss'][-1]}\")\n",
    "\n",
    "# evaluating dense_model\n",
    "print(\"Evaluation results\")\n",
    "print(f\"Validation Accuracy: {history.history['val_accuracy'][-1]}\")\n",
    "print(f\"Validation Loss: {history.history['val_loss'][-1]}\")\n",
    "\n",
    "\n",
    "plt.show()"
   ]
  },
  {
   "cell_type": "markdown",
   "metadata": {},
   "source": [
    "## Save dense model as tflite - no optimization."
   ]
  },
  {
   "cell_type": "code",
   "execution_count": 19,
   "metadata": {},
   "outputs": [
    {
     "name": "stdout",
     "output_type": "stream",
     "text": [
      "INFO:tensorflow:Assets written to: /tmp/tmp38stdgnu/assets\n"
     ]
    },
    {
     "name": "stderr",
     "output_type": "stream",
     "text": [
      "INFO:tensorflow:Assets written to: /tmp/tmp38stdgnu/assets\n",
      "2022-10-06 09:38:19.857854: W tensorflow/compiler/mlir/lite/python/tf_tfl_flatbuffer_helpers.cc:362] Ignored output_format.\n",
      "2022-10-06 09:38:19.857870: W tensorflow/compiler/mlir/lite/python/tf_tfl_flatbuffer_helpers.cc:365] Ignored drop_control_dependency.\n",
      "2022-10-06 09:38:19.857945: I tensorflow/cc/saved_model/reader.cc:45] Reading SavedModel from: /tmp/tmp38stdgnu\n",
      "2022-10-06 09:38:19.858480: I tensorflow/cc/saved_model/reader.cc:89] Reading meta graph with tags { serve }\n",
      "2022-10-06 09:38:19.858492: I tensorflow/cc/saved_model/reader.cc:130] Reading SavedModel debug info (if present) from: /tmp/tmp38stdgnu\n",
      "2022-10-06 09:38:19.860266: I tensorflow/cc/saved_model/loader.cc:229] Restoring SavedModel bundle.\n",
      "2022-10-06 09:38:19.874742: I tensorflow/cc/saved_model/loader.cc:213] Running initialization op on SavedModel bundle at path: /tmp/tmp38stdgnu\n",
      "2022-10-06 09:38:19.878366: I tensorflow/cc/saved_model/loader.cc:305] SavedModel load for tags { serve }; Status: success: OK. Took 20420 microseconds.\n"
     ]
    },
    {
     "data": {
      "text/plain": [
       "18340"
      ]
     },
     "execution_count": 19,
     "metadata": {},
     "output_type": "execute_result"
    }
   ],
   "source": [
    "float_converter = tf.lite.TFLiteConverter.from_keras_model(dense_model)\n",
    "float_tflite_model = float_converter.convert()\n",
    "import pathlib\n",
    "tflite_model_file = pathlib.Path('dense_model.tflite')\n",
    "tflite_model_file.write_bytes(float_tflite_model)"
   ]
  },
  {
   "cell_type": "code",
   "execution_count": 20,
   "metadata": {},
   "outputs": [],
   "source": [
    "!xxd -i dense_model.tflite > dense_model.cc"
   ]
  },
  {
   "cell_type": "markdown",
   "metadata": {},
   "source": [
    "## Quantize dense model and save it as tflite."
   ]
  },
  {
   "cell_type": "code",
   "execution_count": 21,
   "metadata": {},
   "outputs": [
    {
     "name": "stdout",
     "output_type": "stream",
     "text": [
      "INFO:tensorflow:Assets written to: /tmp/tmpirgu3h0r/assets\n"
     ]
    },
    {
     "name": "stderr",
     "output_type": "stream",
     "text": [
      "INFO:tensorflow:Assets written to: /tmp/tmpirgu3h0r/assets\n",
      "/home/veysiadn/anaconda3/lib/python3.9/site-packages/tensorflow/lite/python/convert.py:766: UserWarning: Statistics for quantized inputs were expected, but not specified; continuing anyway.\n",
      "  warnings.warn(\"Statistics for quantized inputs were expected, but not \"\n",
      "2022-10-06 09:39:36.484781: W tensorflow/compiler/mlir/lite/python/tf_tfl_flatbuffer_helpers.cc:362] Ignored output_format.\n",
      "2022-10-06 09:39:36.484797: W tensorflow/compiler/mlir/lite/python/tf_tfl_flatbuffer_helpers.cc:365] Ignored drop_control_dependency.\n",
      "2022-10-06 09:39:36.484881: I tensorflow/cc/saved_model/reader.cc:45] Reading SavedModel from: /tmp/tmpirgu3h0r\n",
      "2022-10-06 09:39:36.485408: I tensorflow/cc/saved_model/reader.cc:89] Reading meta graph with tags { serve }\n",
      "2022-10-06 09:39:36.485418: I tensorflow/cc/saved_model/reader.cc:130] Reading SavedModel debug info (if present) from: /tmp/tmpirgu3h0r\n",
      "2022-10-06 09:39:36.487549: I tensorflow/cc/saved_model/loader.cc:229] Restoring SavedModel bundle.\n",
      "2022-10-06 09:39:36.502679: I tensorflow/cc/saved_model/loader.cc:213] Running initialization op on SavedModel bundle at path: /tmp/tmpirgu3h0r\n",
      "2022-10-06 09:39:36.506449: I tensorflow/cc/saved_model/loader.cc:305] SavedModel load for tags { serve }; Status: success: OK. Took 21568 microseconds.\n",
      "fully_quantize: 0, inference_type: 6, input_inference_type: FLOAT32, output_inference_type: FLOAT32\n"
     ]
    },
    {
     "data": {
      "text/plain": [
       "7024"
      ]
     },
     "execution_count": 21,
     "metadata": {},
     "output_type": "execute_result"
    }
   ],
   "source": [
    "def representative_data_gen():\n",
    "  for input_value in tf.data.Dataset.from_tensor_slices(x_train).batch(1).take(100):\n",
    "    # Model has only one input so each data point has one element.\n",
    "    yield [input_value]\n",
    "\n",
    "converter = tf.lite.TFLiteConverter.from_keras_model(dense_model)\n",
    "converter.optimizations = [tf.lite.Optimize.DEFAULT]\n",
    "converter.representative_dataset = representative_data_gen\n",
    "tflite_model_quant = converter.convert()\n",
    "\n",
    "tflite_model_file = pathlib.Path('dense_model_optimized.tflite')\n",
    "tflite_model_file.write_bytes(tflite_model_quant)"
   ]
  },
  {
   "cell_type": "code",
   "execution_count": 22,
   "metadata": {},
   "outputs": [],
   "source": [
    "!xxd -i dense_model_optimized.tflite > dense_model_optimized.cc"
   ]
  },
  {
   "cell_type": "code",
   "execution_count": 49,
   "metadata": {},
   "outputs": [
    {
     "name": "stdout",
     "output_type": "stream",
     "text": [
      "input:  <class 'numpy.float32'>\n",
      "output:  <class 'numpy.float32'>\n"
     ]
    }
   ],
   "source": [
    "interpreter = tf.lite.Interpreter(model_path='dense_model.tflite')\n",
    "input_type = interpreter.get_input_details()[0]['dtype']\n",
    "print('input: ', input_type)\n",
    "output_type = interpreter.get_output_details()[0]['dtype']\n",
    "print('output: ', output_type)"
   ]
  },
  {
   "cell_type": "code",
   "execution_count": 23,
   "metadata": {},
   "outputs": [],
   "source": [
    "# Helper function to run inference on a TFLite model\n",
    "def run_tflite_model(tflite_file, indices):\n",
    "  # Initialize the interpreter\n",
    "  interpreter = tf.lite.Interpreter(model_path=str(tflite_file))\n",
    "  interpreter.allocate_tensors()\n",
    "\n",
    "  input_details = interpreter.get_input_details()[0]\n",
    "  output_details = interpreter.get_output_details()[0]\n",
    "\n",
    "  predictions = 0\n",
    "  for i, index in enumerate(indices):\n",
    "    test_data = x_test_to_use[index]\n",
    "    test_data=np.expand_dims(test_data, axis=0)\n",
    "    test_labels = y_train[index]\n",
    "\n",
    "    interpreter.set_tensor(input_details[\"index\"], test_data)\n",
    "    interpreter.invoke()\n",
    "    output = interpreter.get_tensor(output_details[\"index\"])[0]\n",
    "    print(output[0])\n",
    "    print(output[1])\n",
    "    print(output[2])\n",
    "    predictions = output.argmax()\n",
    "\n",
    "  return predictions"
   ]
  },
  {
   "cell_type": "code",
   "execution_count": 24,
   "metadata": {},
   "outputs": [
    {
     "name": "stdout",
     "output_type": "stream",
     "text": [
      "8.737704e-08\n",
      "0.00016263525\n",
      "0.99983716\n",
      " Model \n",
      " True:[2], Predicted:2\n"
     ]
    },
    {
     "name": "stderr",
     "output_type": "stream",
     "text": [
      "INFO: Created TensorFlow Lite XNNPACK delegate for CPU.\n"
     ]
    }
   ],
   "source": [
    "import matplotlib.pylab as plt\n",
    "tflite_model_file = 'dense_model.tflite'\n",
    "# Change this to test a different image\n",
    "indice = 333\n",
    "\n",
    "## Helper function to test the models on one image\n",
    "def test_model(tflite_file, indice, model_type):\n",
    "\n",
    "  predictions = run_tflite_model(tflite_file, [indice])\n",
    "\n",
    "  print(f\" Model \\n True:{y_test_to_use[indice]}, Predicted:{predictions}\")\n",
    "  \n",
    "test_model(tflite_model_file, indice, model_type=\"Float\")"
   ]
  },
  {
   "cell_type": "code",
   "execution_count": null,
   "metadata": {},
   "outputs": [],
   "source": [
    "x_test[123]"
   ]
  },
  {
   "cell_type": "code",
   "execution_count": null,
   "metadata": {},
   "outputs": [],
   "source": [
    "tf.lite.experimental.Analyzer.analyze(model_path='float_model.tflite')"
   ]
  },
  {
   "cell_type": "code",
   "execution_count": 25,
   "metadata": {},
   "outputs": [],
   "source": [
    "import numpy as np\n",
    "\n",
    "def run_tflite_model_for_eval(interpreter, indices):\n",
    "  input_details = interpreter.get_input_details()[0]\n",
    "  output_details = interpreter.get_output_details()[0]\n",
    "\n",
    "  predictions = 0\n",
    "  for i, index in enumerate(indices):\n",
    "    test_data = x_test_to_use[index]\n",
    "    test_data=np.expand_dims(test_data, axis=0)\n",
    "\n",
    "    interpreter.set_tensor(input_details[\"index\"], test_data)\n",
    "    interpreter.invoke()\n",
    "    output = interpreter.get_tensor(output_details[\"index\"])[0]\n",
    "    predictions = output.argmax()\n",
    "  return predictions\n",
    "  \n",
    "def evaluate_model(interpreter):\n",
    "  output_predictions =[]\n",
    "  for i in range(len(x_test_to_use)):\n",
    "    output_predictions.append(run_tflite_model_for_eval(interpreter,[i]))\n",
    "  output_predictions = np.array(output_predictions)\n",
    "  output_predictions = np.expand_dims(output_predictions, axis=1)\n",
    "  accuracy = (output_predictions == y_test_to_use).mean()\n",
    "  return accuracy"
   ]
  },
  {
   "cell_type": "code",
   "execution_count": 27,
   "metadata": {},
   "outputs": [
    {
     "name": "stdout",
     "output_type": "stream",
     "text": [
      "Optimized dense_model TFLite test_accuracy: 0.9686666666666667\n"
     ]
    }
   ],
   "source": [
    "interpreter = tf.lite.Interpreter(model_path='dense_model.tflite')\n",
    "interpreter.allocate_tensors()\n",
    "\n",
    "test_accuracy = evaluate_model(interpreter)\n",
    "\n",
    "print('Optimized dense_model TFLite test_accuracy:', test_accuracy)\n",
    "# print('Quant TF test accuracy:', q_aware_model_accuracy)"
   ]
  },
  {
   "cell_type": "markdown",
   "metadata": {},
   "source": [
    "### Model with annotated layers for quantization -- Trial can be skipped."
   ]
  },
  {
   "cell_type": "code",
   "execution_count": null,
   "metadata": {},
   "outputs": [],
   "source": [
    "# ### Quantization based training\n",
    "# import tensorflow_model_optimization as tfmot\n",
    "# quantize_annotate_layer = tfmot.quantization.keras.quantize_annotate_layer\n",
    "\n",
    "# model = tf.keras.Sequential([\n",
    "# #### tf.keras.layers :\n",
    "\n",
    "# quantize_annotate_layer((tf.keras.layers.Reshape((1000,1,1),name='Reshape', input_shape=(1000,)))),\n",
    "# quantize_annotate_layer(tf.keras.layers.Conv2D(16,7,padding='same')),\n",
    "# quantize_annotate_layer(tf.keras.layers.Activation('relu')),\n",
    "# quantize_annotate_layer(tf.keras.layers.MaxPooling2D(4,4,padding='same')),\n",
    "# quantize_annotate_layer(tf.keras.layers.Conv2D(8,5, padding='same')),\n",
    "# quantize_annotate_layer(tf.keras.layers.Activation('relu')),\n",
    "# quantize_annotate_layer(tf.keras.layers.MaxPooling2D(4,4,padding='same')),\n",
    "# quantize_annotate_layer(tf.keras.layers.MaxPooling2D(2,2,padding='same')),\n",
    "# quantize_annotate_layer(tf.keras.layers.Flatten()),\n",
    "# quantize_annotate_layer(tf.keras.layers.Dense(32)),\n",
    "# quantize_annotate_layer(tf.keras.layers.Dense(3, activation='softmax')),\n",
    "# ])\n",
    "# quantized_model = tfmot.quantization.keras.quantize_apply(model)\n",
    "# # quant_aware_model = tfmot.quantization.keras.quantize_model(base_model)\n",
    "# # quant_aware_model.summary()\n",
    "# print(model.summary())\n",
    "# quantized_model.compile(optimizer=tf.keras.optimizers.Adam(learning_rate=1e-4),\n",
    "#               loss=tf.keras.losses.SparseCategoricalCrossentropy(),\n",
    "#               metrics=['accuracy'])\n",
    "\n",
    "# history = quantized_model.fit(x_train, y_train ,epochs=50, validation_data=(x_test, y_test), verbose=1)   \n",
    "\n",
    "\n",
    "# # Plotting accuracy and loss\n",
    "# import matplotlib.pyplot as plt\n",
    "# plt.plot(history.history['loss'])\n",
    "# plt.plot(history.history['accuracy'])\n",
    "# plt.plot(history.history['val_accuracy'])\n",
    "# plt.plot(history.history['val_loss'])\n",
    "\n",
    "\n",
    "# plt.title('Model loss & accuracy')\n",
    "# plt.ylabel('Loss')\n",
    "# plt.xlabel('Epoch')\n",
    "# plt.legend(['tr_loss', 'tr_accuracy', 'val_acc', 'val_loss'], loc='lower right')\n",
    "# # accuracy!\n",
    "# print(\"Training results\")\n",
    "# print(f\"Accuracy: {history.history['accuracy'][-1]}\")\n",
    "# print(f\"Loss: {history.history['loss'][-1]}\")\n",
    "\n",
    "# # evaluating model\n",
    "# print(\"Evaluation results\")\n",
    "# print(f\"Accuracy: {history.history['val_accuracy'][-1]}\")\n",
    "# print(f\"Loss: {history.history['val_loss'][-1]}\")\n",
    "\n",
    "\n",
    "# plt.show()"
   ]
  }
 ],
 "metadata": {
  "kernelspec": {
   "display_name": "Python 3.9.12 ('base')",
   "language": "python",
   "name": "python3"
  },
  "language_info": {
   "codemirror_mode": {
    "name": "ipython",
    "version": 3
   },
   "file_extension": ".py",
   "mimetype": "text/x-python",
   "name": "python",
   "nbconvert_exporter": "python",
   "pygments_lexer": "ipython3",
   "version": "3.9.12"
  },
  "orig_nbformat": 4,
  "vscode": {
   "interpreter": {
    "hash": "41e74be16d15307d9f039f42bdba433d4433ec6233894682bf41214f89ea7b7d"
   }
  }
 },
 "nbformat": 4,
 "nbformat_minor": 2
}
