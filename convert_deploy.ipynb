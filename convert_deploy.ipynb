{
 "cells": [
  {
   "cell_type": "markdown",
   "metadata": {},
   "source": [
    "## Import libraries and USE GPU"
   ]
  },
  {
   "cell_type": "code",
   "execution_count": 12,
   "metadata": {},
   "outputs": [
    {
     "name": "stdout",
     "output_type": "stream",
     "text": [
      "1 Physical GPUs, 1 Logical GPUs\n"
     ]
    }
   ],
   "source": [
    "from pandas import read_csv\n",
    "from numpy import set_printoptions\n",
    "from sklearn import datasets, linear_model\n",
    "from sklearn.preprocessing import RobustScaler\n",
    "from sklearn.model_selection import train_test_split\n",
    "import random\n",
    "import tensorflow as tf\n",
    "import numpy as np\n",
    "import pathlib\n",
    "\n",
    "# Using GPU\n",
    "import os\n",
    "import scipy.io as scpy\n",
    "os.environ['TF_CPP_MIN_LOG_LEVEL'] = '3'\n",
    "os.environ[\"CUDA_DEVICE_ORDER\"] = \"PCI_BUS_ID\"\n",
    "os.environ[\"CUDA_VISIBLE_DEVICES\"] = '0'  # Set to -1 if CPU should be used CPU = -1 , GPU = 0\n",
    "\n",
    "gpus = tf.config.experimental.list_physical_devices('GPU')\n",
    "cpus = tf.config.experimental.list_physical_devices('CPU')\n",
    "\n",
    "if gpus:\n",
    "    try:\n",
    "        # Currently, memory growth needs to be the same across GPUs\n",
    "        for gpu in gpus:\n",
    "            tf.config.experimental.set_memory_growth(gpu, True)\n",
    "        logical_gpus = tf.config.experimental.list_logical_devices('GPU')\n",
    "        print(len(gpus), \"Physical GPUs,\", len(logical_gpus), \"Logical GPUs\")\n",
    "    except RuntimeError as e:\n",
    "        # Memory growth must be set before GPUs have been initialized\n",
    "        print(e)\n",
    "elif cpus:\n",
    "    try:\n",
    "        # Currently, memory growth needs to be the same across GPUs\n",
    "        logical_cpus= tf.config.experimental.list_logical_devices('CPU')\n",
    "        print(len(cpus), \"Physical CPU,\", len(logical_cpus), \"Logical CPU\")\n",
    "    except RuntimeError as e:\n",
    "        # Memory growth must be set before GPUs have been initialized\n",
    "        print(e)\n"
   ]
  },
  {
   "cell_type": "markdown",
   "metadata": {},
   "source": [
    "## Prepare Dataset"
   ]
  },
  {
   "cell_type": "code",
   "execution_count": 13,
   "metadata": {},
   "outputs": [
    {
     "name": "stdout",
     "output_type": "stream",
     "text": [
      "(15000, 1000)\n",
      "(15000, 1)\n",
      " (10500, 2250, 2250)\n",
      " (10500, 2250, 2250)\n"
     ]
    }
   ],
   "source": [
    "from pandas import read_csv\n",
    "from numpy import set_printoptions\n",
    "from sklearn import datasets, linear_model\n",
    "from sklearn.preprocessing import RobustScaler\n",
    "from sklearn.model_selection import train_test_split\n",
    "import random\n",
    "# Using GPU\n",
    "import os\n",
    "import scipy.io as scpy\n",
    "\n",
    "data = scpy.loadmat(\"all-data.mat\")\n",
    "# Extracting x_train from the mat file dictionary.\n",
    "x_data = data[\"XTrain\"]\n",
    "# Extracting y_train from the mat file dictionary.\n",
    "y_data = data[\"y_train\"]\n",
    "# Converting x_train and y_train to a numpy array.\n",
    "x_data = np.array(x_data,dtype='float32')\n",
    "y_data = np.array(y_data,dtype='int32')-1\n",
    "x_temp_data=data['XTest']\n",
    "y_temp_data=data['y_test']\n",
    "x_temp_data=np.array(x_temp_data,dtype='float32')\n",
    "y_temp_data=np.array(y_temp_data,dtype='int32')-1\n",
    "# x_data=np.concatenate((x_data,x_temp_data),axis=0)\n",
    "# y_data=np.concatenate((y_data,y_temp_data),axis=0)\n",
    "\n",
    "# Verifying the shapes.\n",
    "print(x_data.shape)\n",
    "print(y_data.shape)\n",
    "\n",
    "SEED = 99\n",
    "os.environ['PYTHONHASHSEED']=str(SEED)\n",
    "random.seed(SEED)\n",
    "np.random.seed(SEED)\n",
    "tf.random.set_seed(SEED)\n",
    "# split into train test sets\n",
    "x_train, x_val_to_use, y_train, y_val_to_use = train_test_split(x_data, y_data, test_size=0.3,random_state=SEED)\n",
    "x_val, x_test, y_val, y_test = train_test_split(x_val_to_use, y_val_to_use, test_size=0.5,random_state=SEED)\n",
    "\n",
    "print(f\" {len(x_train), len(x_val), len(x_test)}\")\n",
    "print(f\" {len(y_train), len(y_val), len(y_test)}\")\n",
    "# train_dataset = tf.data.Dataset.from_tensor_slices((x_train, y_train))\n",
    "# test_dataset = tf.data.Dataset.from_tensor_slices((x_val, y_val))\n",
    "# BATCH_SIZE = 64\n",
    "# # SHUFFLE_BUFFER_SIZE = 100\n",
    "# train_dataset = train_dataset.batch(BATCH_SIZE)\n",
    "# test_dataset = test_dataset.batch(BATCH_SIZE)\n"
   ]
  },
  {
   "cell_type": "code",
   "execution_count": 16,
   "metadata": {},
   "outputs": [
    {
     "name": "stdout",
     "output_type": "stream",
     "text": [
      "Model: \"sequential_8\"\n",
      "_________________________________________________________________\n",
      " Layer (type)                Output Shape              Param #   \n",
      "=================================================================\n",
      " conv1d_11 (Conv1D)          (None, 992, 32)           320       \n",
      "                                                                 \n",
      " batch_normalization_9 (Batc  (None, 992, 32)          128       \n",
      " hNormalization)                                                 \n",
      "                                                                 \n",
      " activation_9 (Activation)   (None, 992, 32)           0         \n",
      "                                                                 \n",
      " dropout_9 (Dropout)         (None, 992, 32)           0         \n",
      "                                                                 \n",
      " conv1d_12 (Conv1D)          (None, 986, 64)           14400     \n",
      "                                                                 \n",
      " batch_normalization_10 (Bat  (None, 986, 64)          256       \n",
      " chNormalization)                                                \n",
      "                                                                 \n",
      " activation_10 (Activation)  (None, 986, 64)           0         \n",
      "                                                                 \n",
      " dropout_10 (Dropout)        (None, 986, 64)           0         \n",
      "                                                                 \n",
      " conv1d_13 (Conv1D)          (None, 982, 256)          82176     \n",
      "                                                                 \n",
      " batch_normalization_11 (Bat  (None, 982, 256)         1024      \n",
      " chNormalization)                                                \n",
      "                                                                 \n",
      " activation_11 (Activation)  (None, 982, 256)          0         \n",
      "                                                                 \n",
      " dropout_11 (Dropout)        (None, 982, 256)          0         \n",
      "                                                                 \n",
      " average_pooling1d_2 (Averag  (None, 24, 256)          0         \n",
      " ePooling1D)                                                     \n",
      "                                                                 \n",
      " max_pooling1d_2 (MaxPooling  (None, 2, 256)           0         \n",
      " 1D)                                                             \n",
      "                                                                 \n",
      " flatten_8 (Flatten)         (None, 512)               0         \n",
      "                                                                 \n",
      " dense_11 (Dense)            (None, 3)                 1539      \n",
      "                                                                 \n",
      "=================================================================\n",
      "Total params: 99,843\n",
      "Trainable params: 99,139\n",
      "Non-trainable params: 704\n",
      "_________________________________________________________________\n",
      "None\n",
      "Epoch 1/30\n",
      "329/329 [==============================] - 3s 7ms/step - loss: 0.8562 - accuracy: 0.6083 - val_loss: 0.9863 - val_accuracy: 0.4484\n",
      "Epoch 2/30\n",
      "329/329 [==============================] - 2s 6ms/step - loss: 0.7098 - accuracy: 0.6978 - val_loss: 0.8389 - val_accuracy: 0.5600\n",
      "Epoch 3/30\n",
      "329/329 [==============================] - 2s 6ms/step - loss: 0.6198 - accuracy: 0.7567 - val_loss: 0.6420 - val_accuracy: 0.7147\n",
      "Epoch 4/30\n",
      "329/329 [==============================] - 2s 6ms/step - loss: 0.5728 - accuracy: 0.7800 - val_loss: 0.6424 - val_accuracy: 0.6982\n",
      "Epoch 5/30\n",
      "329/329 [==============================] - 2s 6ms/step - loss: 0.5244 - accuracy: 0.8053 - val_loss: 0.5084 - val_accuracy: 0.8084\n",
      "Epoch 6/30\n",
      "329/329 [==============================] - 2s 6ms/step - loss: 0.4913 - accuracy: 0.8236 - val_loss: 0.4670 - val_accuracy: 0.8449\n",
      "Epoch 7/30\n",
      "329/329 [==============================] - 2s 6ms/step - loss: 0.4578 - accuracy: 0.8402 - val_loss: 0.4493 - val_accuracy: 0.8320\n",
      "Epoch 8/30\n",
      "329/329 [==============================] - 2s 6ms/step - loss: 0.4242 - accuracy: 0.8551 - val_loss: 0.4314 - val_accuracy: 0.8467\n",
      "Epoch 9/30\n",
      "329/329 [==============================] - 2s 6ms/step - loss: 0.4019 - accuracy: 0.8670 - val_loss: 0.4628 - val_accuracy: 0.8133\n",
      "Epoch 10/30\n",
      "329/329 [==============================] - 2s 6ms/step - loss: 0.3739 - accuracy: 0.8764 - val_loss: 0.3499 - val_accuracy: 0.8889\n",
      "Epoch 11/30\n",
      "329/329 [==============================] - 2s 7ms/step - loss: 0.3521 - accuracy: 0.8830 - val_loss: 0.3875 - val_accuracy: 0.8493\n",
      "Epoch 12/30\n",
      "329/329 [==============================] - 2s 7ms/step - loss: 0.3374 - accuracy: 0.8913 - val_loss: 0.3003 - val_accuracy: 0.9040\n",
      "Epoch 13/30\n",
      "329/329 [==============================] - 2s 7ms/step - loss: 0.3145 - accuracy: 0.9007 - val_loss: 0.3040 - val_accuracy: 0.8938\n",
      "Epoch 14/30\n",
      "329/329 [==============================] - 2s 6ms/step - loss: 0.2904 - accuracy: 0.9128 - val_loss: 0.2889 - val_accuracy: 0.9000\n",
      "Epoch 15/30\n",
      "329/329 [==============================] - 2s 7ms/step - loss: 0.2812 - accuracy: 0.9111 - val_loss: 0.2358 - val_accuracy: 0.9289\n",
      "Epoch 16/30\n",
      "329/329 [==============================] - 2s 7ms/step - loss: 0.2625 - accuracy: 0.9185 - val_loss: 0.2201 - val_accuracy: 0.9356\n",
      "Epoch 17/30\n",
      "329/329 [==============================] - 2s 7ms/step - loss: 0.2502 - accuracy: 0.9245 - val_loss: 0.2046 - val_accuracy: 0.9396\n",
      "Epoch 18/30\n",
      "329/329 [==============================] - 2s 7ms/step - loss: 0.2366 - accuracy: 0.9276 - val_loss: 0.1930 - val_accuracy: 0.9547\n",
      "Epoch 19/30\n",
      "329/329 [==============================] - 2s 7ms/step - loss: 0.2257 - accuracy: 0.9314 - val_loss: 0.1917 - val_accuracy: 0.9449\n",
      "Epoch 20/30\n",
      "329/329 [==============================] - 2s 7ms/step - loss: 0.2118 - accuracy: 0.9367 - val_loss: 0.1686 - val_accuracy: 0.9578\n",
      "Epoch 21/30\n",
      "329/329 [==============================] - 2s 7ms/step - loss: 0.2061 - accuracy: 0.9387 - val_loss: 0.1625 - val_accuracy: 0.9618\n",
      "Epoch 22/30\n",
      "329/329 [==============================] - 2s 7ms/step - loss: 0.1981 - accuracy: 0.9421 - val_loss: 0.1520 - val_accuracy: 0.9640\n",
      "Epoch 23/30\n",
      "329/329 [==============================] - 2s 7ms/step - loss: 0.1910 - accuracy: 0.9436 - val_loss: 0.1547 - val_accuracy: 0.9560\n",
      "Epoch 24/30\n",
      "329/329 [==============================] - 2s 7ms/step - loss: 0.1839 - accuracy: 0.9460 - val_loss: 0.1677 - val_accuracy: 0.9529\n",
      "Epoch 25/30\n",
      "329/329 [==============================] - 2s 7ms/step - loss: 0.1696 - accuracy: 0.9507 - val_loss: 0.1359 - val_accuracy: 0.9671\n",
      "Epoch 26/30\n",
      "329/329 [==============================] - 2s 7ms/step - loss: 0.1680 - accuracy: 0.9501 - val_loss: 0.1453 - val_accuracy: 0.9640\n",
      "Epoch 27/30\n",
      "329/329 [==============================] - 2s 7ms/step - loss: 0.1608 - accuracy: 0.9539 - val_loss: 0.1313 - val_accuracy: 0.9671\n",
      "Epoch 28/30\n",
      "329/329 [==============================] - 2s 7ms/step - loss: 0.1560 - accuracy: 0.9564 - val_loss: 0.1300 - val_accuracy: 0.9693\n",
      "Epoch 29/30\n",
      "329/329 [==============================] - 2s 7ms/step - loss: 0.1517 - accuracy: 0.9568 - val_loss: 0.1222 - val_accuracy: 0.9693\n",
      "Epoch 30/30\n",
      "329/329 [==============================] - 2s 7ms/step - loss: 0.1451 - accuracy: 0.9589 - val_loss: 0.1148 - val_accuracy: 0.9724\n"
     ]
    }
   ],
   "source": [
    "from tensorflow.keras import layers\n",
    "\n",
    "model = tf.keras.Sequential()\n",
    "model.add(layers.InputLayer(input_shape=(1000,1)))\n",
    "model.add(layers.Conv1D(32,9))\n",
    "model.add(layers.BatchNormalization())\n",
    "model.add(layers.Activation('relu'))\n",
    "model.add(layers.Dropout(0.3))\n",
    "model.add(layers.Conv1D(64,7))\n",
    "model.add(layers.BatchNormalization())\n",
    "model.add(layers.Activation('relu'))\n",
    "model.add(layers.Dropout(0.3))\n",
    "model.add(layers.Conv1D(256,5))\n",
    "model.add(layers.BatchNormalization())\n",
    "model.add(layers.Activation('relu'))\n",
    "model.add(layers.Dropout(0.3))\n",
    "model.add(layers.AveragePooling1D(pool_size=40))\n",
    "model.add(layers.MaxPooling1D(pool_size=9))\n",
    "model.add(layers.Flatten())\n",
    "model.add(layers.Dense(3))\n",
    "print(model.summary())\n",
    "model.compile(optimizer=tf.keras.optimizers.Adam(learning_rate=1e-4),\n",
    "              loss=tf.keras.losses.SparseCategoricalCrossentropy(from_logits=True),\n",
    "              metrics=['accuracy'])\n",
    "\n",
    "history = model.fit(x_train, y_train, epochs=100, validation_data=(x_val,y_val))"
   ]
  },
  {
   "cell_type": "code",
   "execution_count": 17,
   "metadata": {},
   "outputs": [
    {
     "name": "stdout",
     "output_type": "stream",
     "text": [
      "Model: \"sequential_9\"\n",
      "_________________________________________________________________\n",
      " Layer (type)                Output Shape              Param #   \n",
      "=================================================================\n",
      " conv1d_14 (Conv1D)          (None, 1000, 32)          256       \n",
      "                                                                 \n",
      " max_pooling1d_3 (MaxPooling  (None, 500, 32)          0         \n",
      " 1D)                                                             \n",
      "                                                                 \n",
      " conv1d_15 (Conv1D)          (None, 500, 64)           14400     \n",
      "                                                                 \n",
      " max_pooling1d_4 (MaxPooling  (None, 250, 64)          0         \n",
      " 1D)                                                             \n",
      "                                                                 \n",
      " conv1d_16 (Conv1D)          (None, 250, 128)          57472     \n",
      "                                                                 \n",
      " max_pooling1d_5 (MaxPooling  (None, 125, 128)         0         \n",
      " 1D)                                                             \n",
      "                                                                 \n",
      " conv1d_17 (Conv1D)          (None, 125, 128)          114816    \n",
      "                                                                 \n",
      " max_pooling1d_6 (MaxPooling  (None, 62, 128)          0         \n",
      " 1D)                                                             \n",
      "                                                                 \n",
      " flatten_9 (Flatten)         (None, 7936)              0         \n",
      "                                                                 \n",
      " dense_12 (Dense)            (None, 480)               3809760   \n",
      "                                                                 \n",
      " dense_13 (Dense)            (None, 3)                 1443      \n",
      "                                                                 \n",
      "=================================================================\n",
      "Total params: 3,998,147\n",
      "Trainable params: 3,998,147\n",
      "Non-trainable params: 0\n",
      "_________________________________________________________________\n",
      "None\n",
      "Epoch 1/30\n",
      "329/329 [==============================] - 1s 3ms/step - loss: 0.2788 - accuracy: 0.8950 - val_loss: 0.0840 - val_accuracy: 0.9733\n",
      "Epoch 2/30\n",
      "329/329 [==============================] - 1s 2ms/step - loss: 0.0490 - accuracy: 0.9851 - val_loss: 0.0478 - val_accuracy: 0.9871\n",
      "Epoch 3/30\n",
      "329/329 [==============================] - 1s 3ms/step - loss: 0.0244 - accuracy: 0.9936 - val_loss: 0.0716 - val_accuracy: 0.9738\n",
      "Epoch 4/30\n",
      "329/329 [==============================] - 1s 3ms/step - loss: 0.0108 - accuracy: 0.9964 - val_loss: 0.0154 - val_accuracy: 0.9960\n",
      "Epoch 5/30\n",
      "329/329 [==============================] - 1s 2ms/step - loss: 0.0090 - accuracy: 0.9976 - val_loss: 0.0173 - val_accuracy: 0.9942\n",
      "Epoch 6/30\n",
      "329/329 [==============================] - 1s 2ms/step - loss: 0.0050 - accuracy: 0.9987 - val_loss: 0.0174 - val_accuracy: 0.9951\n",
      "Epoch 7/30\n",
      "329/329 [==============================] - 1s 3ms/step - loss: 0.0025 - accuracy: 0.9993 - val_loss: 0.0109 - val_accuracy: 0.9969\n",
      "Epoch 8/30\n",
      "329/329 [==============================] - 1s 2ms/step - loss: 1.9513e-04 - accuracy: 1.0000 - val_loss: 0.0095 - val_accuracy: 0.9978\n",
      "Epoch 9/30\n",
      "329/329 [==============================] - 1s 2ms/step - loss: 9.0672e-05 - accuracy: 1.0000 - val_loss: 0.0092 - val_accuracy: 0.9982\n",
      "Epoch 10/30\n",
      "329/329 [==============================] - 1s 3ms/step - loss: 5.5230e-05 - accuracy: 1.0000 - val_loss: 0.0094 - val_accuracy: 0.9982\n",
      "Epoch 11/30\n",
      "329/329 [==============================] - 1s 3ms/step - loss: 3.8552e-05 - accuracy: 1.0000 - val_loss: 0.0096 - val_accuracy: 0.9978\n",
      "Epoch 12/30\n",
      "329/329 [==============================] - 1s 2ms/step - loss: 2.7960e-05 - accuracy: 1.0000 - val_loss: 0.0097 - val_accuracy: 0.9978\n",
      "Epoch 13/30\n",
      "329/329 [==============================] - 1s 3ms/step - loss: 2.0943e-05 - accuracy: 1.0000 - val_loss: 0.0100 - val_accuracy: 0.9978\n",
      "Epoch 14/30\n",
      "329/329 [==============================] - 1s 3ms/step - loss: 1.5993e-05 - accuracy: 1.0000 - val_loss: 0.0100 - val_accuracy: 0.9982\n",
      "Epoch 15/30\n",
      "329/329 [==============================] - 1s 2ms/step - loss: 1.2660e-05 - accuracy: 1.0000 - val_loss: 0.0106 - val_accuracy: 0.9978\n",
      "Epoch 16/30\n",
      "329/329 [==============================] - 1s 2ms/step - loss: 1.0316e-05 - accuracy: 1.0000 - val_loss: 0.0103 - val_accuracy: 0.9978\n",
      "Epoch 17/30\n",
      "329/329 [==============================] - 1s 3ms/step - loss: 8.1831e-06 - accuracy: 1.0000 - val_loss: 0.0102 - val_accuracy: 0.9978\n",
      "Epoch 18/30\n",
      "329/329 [==============================] - 1s 3ms/step - loss: 6.6994e-06 - accuracy: 1.0000 - val_loss: 0.0111 - val_accuracy: 0.9973\n",
      "Epoch 19/30\n",
      "329/329 [==============================] - 1s 3ms/step - loss: 5.3576e-06 - accuracy: 1.0000 - val_loss: 0.0102 - val_accuracy: 0.9982\n",
      "Epoch 20/30\n",
      "329/329 [==============================] - 1s 3ms/step - loss: 4.4097e-06 - accuracy: 1.0000 - val_loss: 0.0106 - val_accuracy: 0.9978\n",
      "Epoch 21/30\n",
      "329/329 [==============================] - 1s 3ms/step - loss: 3.6217e-06 - accuracy: 1.0000 - val_loss: 0.0112 - val_accuracy: 0.9978\n",
      "Epoch 22/30\n",
      "329/329 [==============================] - 1s 3ms/step - loss: 2.9752e-06 - accuracy: 1.0000 - val_loss: 0.0113 - val_accuracy: 0.9978\n",
      "Epoch 23/30\n",
      "329/329 [==============================] - 1s 3ms/step - loss: 2.4261e-06 - accuracy: 1.0000 - val_loss: 0.0113 - val_accuracy: 0.9978\n",
      "Epoch 24/30\n",
      "329/329 [==============================] - 1s 2ms/step - loss: 1.9847e-06 - accuracy: 1.0000 - val_loss: 0.0115 - val_accuracy: 0.9978\n",
      "Epoch 25/30\n",
      "329/329 [==============================] - 1s 2ms/step - loss: 1.6858e-06 - accuracy: 1.0000 - val_loss: 0.0112 - val_accuracy: 0.9982\n",
      "Epoch 26/30\n",
      "329/329 [==============================] - 1s 3ms/step - loss: 1.3596e-06 - accuracy: 1.0000 - val_loss: 0.0114 - val_accuracy: 0.9982\n",
      "Epoch 27/30\n",
      "329/329 [==============================] - 1s 2ms/step - loss: 1.1041e-06 - accuracy: 1.0000 - val_loss: 0.0115 - val_accuracy: 0.9978\n",
      "Epoch 28/30\n",
      "329/329 [==============================] - 1s 3ms/step - loss: 9.3810e-07 - accuracy: 1.0000 - val_loss: 0.0119 - val_accuracy: 0.9978\n",
      "Epoch 29/30\n",
      "329/329 [==============================] - 1s 2ms/step - loss: 7.6022e-07 - accuracy: 1.0000 - val_loss: 0.0123 - val_accuracy: 0.9978\n",
      "Epoch 30/30\n",
      "329/329 [==============================] - 1s 3ms/step - loss: 6.4894e-07 - accuracy: 1.0000 - val_loss: 0.0119 - val_accuracy: 0.9978\n"
     ]
    }
   ],
   "source": [
    "model = tf.keras.Sequential()\n",
    "model.add(layers.Conv1D(32,7,strides=1, padding=\"same\",activation='relu', input_shape=(1000,1)))\n",
    "model.add(layers.MaxPooling1D(pool_size=2,padding=\"valid\"))\n",
    "model.add(layers.Conv1D(64,7,strides=1,padding=\"same\",activation='relu'))\n",
    "model.add(layers.MaxPooling1D(pool_size=2,padding=\"valid\"))\n",
    "model.add(layers.Conv1D(128,7,strides=1,padding=\"same\",activation='relu'))\n",
    "model.add(layers.MaxPooling1D(pool_size=2,padding=\"valid\"))\n",
    "model.add(layers.Conv1D(128,7,strides=1,padding=\"same\",activation='relu'))\n",
    "model.add(layers.MaxPooling1D(pool_size=2,padding=\"valid\"))\n",
    "model.add(layers.Flatten())\n",
    "model.add(layers.Dense(480,activation='relu'))\n",
    "model.add(layers.Dense(3))\n",
    "print(model.summary())\n",
    "model.compile(optimizer=tf.keras.optimizers.Adam(learning_rate=1e-4),\n",
    "              loss=tf.keras.losses.SparseCategoricalCrossentropy(from_logits=True),\n",
    "              metrics=['accuracy'])\n",
    "\n",
    "history = model.fit(x_train, y_train, epochs=30, validation_data=(x_val,y_val))"
   ]
  },
  {
   "cell_type": "markdown",
   "metadata": {},
   "source": [
    "### Split dataset into train, test and validation."
   ]
  },
  {
   "cell_type": "code",
   "execution_count": 5,
   "metadata": {},
   "outputs": [],
   "source": [
    "x_val = x_test[:1500]\n",
    "y_val = y_test[:1500]\n",
    "x_test_to_use = x_test[1500:]\n",
    "y_test_to_use = y_test[1500:]"
   ]
  },
  {
   "cell_type": "markdown",
   "metadata": {},
   "source": [
    "### Check dimension of train, test and validation dataset."
   ]
  },
  {
   "cell_type": "code",
   "execution_count": 5,
   "metadata": {},
   "outputs": [
    {
     "data": {
      "text/plain": [
       "(10500, 2250, 2250)"
      ]
     },
     "execution_count": 5,
     "metadata": {},
     "output_type": "execute_result"
    }
   ],
   "source": [
    "len(x_train), len(x_val), len(x_test)"
   ]
  },
  {
   "cell_type": "markdown",
   "metadata": {},
   "source": [
    "### Define Convolutional Model as Described in the Paper"
   ]
  },
  {
   "cell_type": "code",
   "execution_count": 23,
   "metadata": {},
   "outputs": [
    {
     "name": "stdout",
     "output_type": "stream",
     "text": [
      "Model: \"conv_model_paper\"\n",
      "_________________________________________________________________\n",
      " Layer (type)                Output Shape              Param #   \n",
      "=================================================================\n",
      " conv1d (Conv1D)             (None, 994, 32)           256       \n",
      "                                                                 \n",
      " batch_normalization (BatchN  (None, 994, 32)          128       \n",
      " ormalization)                                                   \n",
      "                                                                 \n",
      " activation (Activation)     (None, 994, 32)           0         \n",
      "                                                                 \n",
      " max_pooling1d (MaxPooling1D  (None, 124, 32)          0         \n",
      " )                                                               \n",
      "                                                                 \n",
      " conv1d_1 (Conv1D)           (None, 120, 48)           7728      \n",
      "                                                                 \n",
      " batch_normalization_1 (Batc  (None, 120, 48)          192       \n",
      " hNormalization)                                                 \n",
      "                                                                 \n",
      " activation_1 (Activation)   (None, 120, 48)           0         \n",
      "                                                                 \n",
      " max_pooling1d_1 (MaxPooling  (None, 30, 48)           0         \n",
      " 1D)                                                             \n",
      "                                                                 \n",
      " max_pooling1d_2 (MaxPooling  (None, 7, 48)            0         \n",
      " 1D)                                                             \n",
      "                                                                 \n",
      " dropout (Dropout)           (None, 7, 48)             0         \n",
      "                                                                 \n",
      " flatten_1 (Flatten)         (None, 336)               0         \n",
      "                                                                 \n",
      " dense_17 (Dense)            (None, 32)                10784     \n",
      "                                                                 \n",
      " dense_18 (Dense)            (None, 32)                1056      \n",
      "                                                                 \n",
      " dense_19 (Dense)            (None, 3)                 99        \n",
      "                                                                 \n",
      "=================================================================\n",
      "Total params: 20,243\n",
      "Trainable params: 20,083\n",
      "Non-trainable params: 160\n",
      "_________________________________________________________________\n",
      "None\n",
      "Epoch 1/100\n",
      "329/329 [==============================] - 1s 3ms/step - loss: 1.2104 - accuracy: 0.5610 - val_loss: 0.5837 - val_accuracy: 0.7542\n",
      "Epoch 2/100\n",
      "329/329 [==============================] - 1s 2ms/step - loss: 0.6914 - accuracy: 0.7150 - val_loss: 0.4133 - val_accuracy: 0.8467\n",
      "Epoch 3/100\n",
      "329/329 [==============================] - 1s 2ms/step - loss: 0.5491 - accuracy: 0.7752 - val_loss: 0.3619 - val_accuracy: 0.8747\n",
      "Epoch 4/100\n",
      "329/329 [==============================] - 1s 2ms/step - loss: 0.4825 - accuracy: 0.8061 - val_loss: 0.3387 - val_accuracy: 0.8791\n",
      "Epoch 5/100\n",
      "329/329 [==============================] - 1s 2ms/step - loss: 0.4426 - accuracy: 0.8197 - val_loss: 0.2986 - val_accuracy: 0.8951\n",
      "Epoch 6/100\n",
      "329/329 [==============================] - 1s 2ms/step - loss: 0.4081 - accuracy: 0.8406 - val_loss: 0.2787 - val_accuracy: 0.9018\n",
      "Epoch 7/100\n",
      "329/329 [==============================] - 1s 2ms/step - loss: 0.3784 - accuracy: 0.8553 - val_loss: 0.2646 - val_accuracy: 0.9093\n",
      "Epoch 8/100\n",
      "329/329 [==============================] - 1s 2ms/step - loss: 0.3565 - accuracy: 0.8620 - val_loss: 0.2431 - val_accuracy: 0.9169\n",
      "Epoch 9/100\n",
      "329/329 [==============================] - 1s 2ms/step - loss: 0.3429 - accuracy: 0.8698 - val_loss: 0.2301 - val_accuracy: 0.9204\n",
      "Epoch 10/100\n",
      "329/329 [==============================] - 1s 2ms/step - loss: 0.3217 - accuracy: 0.8777 - val_loss: 0.2146 - val_accuracy: 0.9196\n",
      "Epoch 11/100\n",
      "329/329 [==============================] - 1s 2ms/step - loss: 0.3133 - accuracy: 0.8834 - val_loss: 0.2089 - val_accuracy: 0.9262\n",
      "Epoch 12/100\n",
      "329/329 [==============================] - 1s 2ms/step - loss: 0.2999 - accuracy: 0.8854 - val_loss: 0.1987 - val_accuracy: 0.9302\n",
      "Epoch 13/100\n",
      "329/329 [==============================] - 1s 2ms/step - loss: 0.2943 - accuracy: 0.8884 - val_loss: 0.1935 - val_accuracy: 0.9427\n",
      "Epoch 14/100\n",
      "329/329 [==============================] - 1s 2ms/step - loss: 0.2739 - accuracy: 0.8975 - val_loss: 0.1871 - val_accuracy: 0.9387\n",
      "Epoch 15/100\n",
      "329/329 [==============================] - 1s 2ms/step - loss: 0.2726 - accuracy: 0.8989 - val_loss: 0.1671 - val_accuracy: 0.9444\n",
      "Epoch 16/100\n",
      "329/329 [==============================] - 1s 2ms/step - loss: 0.2633 - accuracy: 0.9024 - val_loss: 0.1728 - val_accuracy: 0.9409\n",
      "Epoch 17/100\n",
      "329/329 [==============================] - 1s 2ms/step - loss: 0.2520 - accuracy: 0.9076 - val_loss: 0.1603 - val_accuracy: 0.9484\n",
      "Epoch 18/100\n",
      "329/329 [==============================] - 1s 2ms/step - loss: 0.2462 - accuracy: 0.9063 - val_loss: 0.1584 - val_accuracy: 0.9476\n",
      "Epoch 19/100\n",
      "329/329 [==============================] - 1s 2ms/step - loss: 0.2366 - accuracy: 0.9131 - val_loss: 0.1471 - val_accuracy: 0.9498\n",
      "Epoch 20/100\n",
      "329/329 [==============================] - 1s 2ms/step - loss: 0.2304 - accuracy: 0.9165 - val_loss: 0.1391 - val_accuracy: 0.9520\n",
      "Epoch 21/100\n",
      "329/329 [==============================] - 1s 2ms/step - loss: 0.2317 - accuracy: 0.9118 - val_loss: 0.1357 - val_accuracy: 0.9538\n",
      "Epoch 22/100\n",
      "329/329 [==============================] - 1s 2ms/step - loss: 0.2183 - accuracy: 0.9182 - val_loss: 0.1334 - val_accuracy: 0.9547\n",
      "Epoch 23/100\n",
      "329/329 [==============================] - 1s 2ms/step - loss: 0.2227 - accuracy: 0.9170 - val_loss: 0.1287 - val_accuracy: 0.9564\n",
      "Epoch 24/100\n",
      "329/329 [==============================] - 1s 2ms/step - loss: 0.2130 - accuracy: 0.9215 - val_loss: 0.1235 - val_accuracy: 0.9569\n",
      "Epoch 25/100\n",
      "329/329 [==============================] - 1s 2ms/step - loss: 0.2056 - accuracy: 0.9246 - val_loss: 0.1199 - val_accuracy: 0.9649\n",
      "Epoch 26/100\n",
      "329/329 [==============================] - 1s 2ms/step - loss: 0.2051 - accuracy: 0.9234 - val_loss: 0.1260 - val_accuracy: 0.9547\n",
      "Epoch 27/100\n",
      "329/329 [==============================] - 1s 2ms/step - loss: 0.1963 - accuracy: 0.9281 - val_loss: 0.1166 - val_accuracy: 0.9591\n",
      "Epoch 28/100\n",
      "329/329 [==============================] - 1s 2ms/step - loss: 0.1929 - accuracy: 0.9318 - val_loss: 0.1162 - val_accuracy: 0.9591\n",
      "Epoch 29/100\n",
      "329/329 [==============================] - 1s 2ms/step - loss: 0.1918 - accuracy: 0.9301 - val_loss: 0.1101 - val_accuracy: 0.9689\n",
      "Epoch 30/100\n",
      "329/329 [==============================] - 1s 2ms/step - loss: 0.1913 - accuracy: 0.9300 - val_loss: 0.1093 - val_accuracy: 0.9658\n",
      "Epoch 31/100\n",
      "329/329 [==============================] - 1s 2ms/step - loss: 0.1809 - accuracy: 0.9321 - val_loss: 0.1033 - val_accuracy: 0.9649\n",
      "Epoch 32/100\n",
      "329/329 [==============================] - 1s 2ms/step - loss: 0.1775 - accuracy: 0.9332 - val_loss: 0.0995 - val_accuracy: 0.9716\n",
      "Epoch 33/100\n",
      "329/329 [==============================] - 1s 2ms/step - loss: 0.1729 - accuracy: 0.9363 - val_loss: 0.0997 - val_accuracy: 0.9671\n",
      "Epoch 34/100\n",
      "329/329 [==============================] - 1s 2ms/step - loss: 0.1679 - accuracy: 0.9379 - val_loss: 0.0963 - val_accuracy: 0.9644\n",
      "Epoch 35/100\n",
      "329/329 [==============================] - 1s 2ms/step - loss: 0.1687 - accuracy: 0.9382 - val_loss: 0.0951 - val_accuracy: 0.9662\n",
      "Epoch 36/100\n",
      "329/329 [==============================] - 1s 2ms/step - loss: 0.1646 - accuracy: 0.9384 - val_loss: 0.0908 - val_accuracy: 0.9711\n",
      "Epoch 37/100\n",
      "329/329 [==============================] - 1s 2ms/step - loss: 0.1649 - accuracy: 0.9401 - val_loss: 0.0881 - val_accuracy: 0.9707\n",
      "Epoch 38/100\n",
      "329/329 [==============================] - 1s 2ms/step - loss: 0.1636 - accuracy: 0.9396 - val_loss: 0.0960 - val_accuracy: 0.9698\n",
      "Epoch 39/100\n",
      "329/329 [==============================] - 1s 2ms/step - loss: 0.1527 - accuracy: 0.9451 - val_loss: 0.0907 - val_accuracy: 0.9676\n",
      "Epoch 40/100\n",
      "329/329 [==============================] - 1s 2ms/step - loss: 0.1540 - accuracy: 0.9442 - val_loss: 0.0886 - val_accuracy: 0.9738\n",
      "Epoch 41/100\n",
      "329/329 [==============================] - 1s 2ms/step - loss: 0.1552 - accuracy: 0.9430 - val_loss: 0.0856 - val_accuracy: 0.9667\n",
      "Epoch 42/100\n",
      "329/329 [==============================] - 1s 2ms/step - loss: 0.1518 - accuracy: 0.9448 - val_loss: 0.0856 - val_accuracy: 0.9702\n",
      "Epoch 43/100\n",
      "329/329 [==============================] - 1s 2ms/step - loss: 0.1488 - accuracy: 0.9452 - val_loss: 0.0851 - val_accuracy: 0.9711\n",
      "Epoch 44/100\n",
      "329/329 [==============================] - 1s 2ms/step - loss: 0.1530 - accuracy: 0.9447 - val_loss: 0.0795 - val_accuracy: 0.9747\n",
      "Epoch 45/100\n",
      "329/329 [==============================] - 1s 2ms/step - loss: 0.1414 - accuracy: 0.9487 - val_loss: 0.0790 - val_accuracy: 0.9724\n",
      "Epoch 46/100\n",
      "329/329 [==============================] - 1s 2ms/step - loss: 0.1377 - accuracy: 0.9501 - val_loss: 0.0876 - val_accuracy: 0.9680\n",
      "Epoch 47/100\n",
      "329/329 [==============================] - 1s 2ms/step - loss: 0.1310 - accuracy: 0.9530 - val_loss: 0.0829 - val_accuracy: 0.9693\n",
      "Epoch 48/100\n",
      "329/329 [==============================] - 1s 2ms/step - loss: 0.1441 - accuracy: 0.9473 - val_loss: 0.0842 - val_accuracy: 0.9729\n",
      "Epoch 49/100\n",
      "329/329 [==============================] - 1s 2ms/step - loss: 0.1418 - accuracy: 0.9487 - val_loss: 0.0802 - val_accuracy: 0.9693\n",
      "Epoch 50/100\n",
      "329/329 [==============================] - 1s 2ms/step - loss: 0.1360 - accuracy: 0.9519 - val_loss: 0.0745 - val_accuracy: 0.9733\n",
      "Epoch 51/100\n",
      "329/329 [==============================] - 1s 2ms/step - loss: 0.1302 - accuracy: 0.9554 - val_loss: 0.0728 - val_accuracy: 0.9733\n",
      "Epoch 52/100\n",
      "329/329 [==============================] - 1s 2ms/step - loss: 0.1276 - accuracy: 0.9516 - val_loss: 0.0721 - val_accuracy: 0.9747\n",
      "Epoch 53/100\n",
      "329/329 [==============================] - 1s 2ms/step - loss: 0.1297 - accuracy: 0.9531 - val_loss: 0.0711 - val_accuracy: 0.9747\n",
      "Epoch 54/100\n",
      "329/329 [==============================] - 1s 2ms/step - loss: 0.1288 - accuracy: 0.9538 - val_loss: 0.0662 - val_accuracy: 0.9760\n",
      "Epoch 55/100\n",
      "329/329 [==============================] - 1s 2ms/step - loss: 0.1175 - accuracy: 0.9559 - val_loss: 0.0692 - val_accuracy: 0.9751\n",
      "Epoch 56/100\n",
      "329/329 [==============================] - 1s 2ms/step - loss: 0.1280 - accuracy: 0.9523 - val_loss: 0.0659 - val_accuracy: 0.9751\n",
      "Epoch 57/100\n",
      "329/329 [==============================] - 1s 2ms/step - loss: 0.1211 - accuracy: 0.9562 - val_loss: 0.0665 - val_accuracy: 0.9764\n",
      "Epoch 58/100\n",
      "329/329 [==============================] - 1s 2ms/step - loss: 0.1140 - accuracy: 0.9583 - val_loss: 0.0630 - val_accuracy: 0.9769\n",
      "Epoch 59/100\n",
      "329/329 [==============================] - 1s 2ms/step - loss: 0.1184 - accuracy: 0.9556 - val_loss: 0.0704 - val_accuracy: 0.9760\n",
      "Epoch 60/100\n",
      "329/329 [==============================] - 1s 2ms/step - loss: 0.1163 - accuracy: 0.9583 - val_loss: 0.0630 - val_accuracy: 0.9782\n",
      "Epoch 61/100\n",
      "329/329 [==============================] - 1s 2ms/step - loss: 0.1092 - accuracy: 0.9608 - val_loss: 0.0631 - val_accuracy: 0.9769\n",
      "Epoch 62/100\n",
      "329/329 [==============================] - 1s 2ms/step - loss: 0.1123 - accuracy: 0.9593 - val_loss: 0.0670 - val_accuracy: 0.9738\n",
      "Epoch 63/100\n",
      "329/329 [==============================] - 1s 2ms/step - loss: 0.1106 - accuracy: 0.9584 - val_loss: 0.0609 - val_accuracy: 0.9778\n",
      "Epoch 64/100\n",
      "329/329 [==============================] - 1s 2ms/step - loss: 0.1201 - accuracy: 0.9543 - val_loss: 0.0617 - val_accuracy: 0.9756\n",
      "Epoch 65/100\n",
      "329/329 [==============================] - 1s 2ms/step - loss: 0.1126 - accuracy: 0.9593 - val_loss: 0.0583 - val_accuracy: 0.9782\n",
      "Epoch 66/100\n",
      "329/329 [==============================] - 1s 2ms/step - loss: 0.1094 - accuracy: 0.9593 - val_loss: 0.0567 - val_accuracy: 0.9796\n",
      "Epoch 67/100\n",
      "329/329 [==============================] - 1s 2ms/step - loss: 0.1114 - accuracy: 0.9601 - val_loss: 0.0596 - val_accuracy: 0.9778\n",
      "Epoch 68/100\n",
      "329/329 [==============================] - 1s 2ms/step - loss: 0.1084 - accuracy: 0.9600 - val_loss: 0.0571 - val_accuracy: 0.9787\n",
      "Epoch 69/100\n",
      "329/329 [==============================] - 1s 2ms/step - loss: 0.1036 - accuracy: 0.9624 - val_loss: 0.0577 - val_accuracy: 0.9782\n",
      "Epoch 70/100\n",
      "329/329 [==============================] - 1s 2ms/step - loss: 0.1057 - accuracy: 0.9611 - val_loss: 0.0560 - val_accuracy: 0.9796\n",
      "Epoch 71/100\n",
      "329/329 [==============================] - 1s 2ms/step - loss: 0.0932 - accuracy: 0.9683 - val_loss: 0.0546 - val_accuracy: 0.9804\n",
      "Epoch 72/100\n",
      "329/329 [==============================] - 1s 2ms/step - loss: 0.0991 - accuracy: 0.9641 - val_loss: 0.0606 - val_accuracy: 0.9742\n",
      "Epoch 73/100\n",
      "329/329 [==============================] - 1s 2ms/step - loss: 0.1071 - accuracy: 0.9610 - val_loss: 0.0540 - val_accuracy: 0.9813\n",
      "Epoch 74/100\n",
      "329/329 [==============================] - 1s 2ms/step - loss: 0.0957 - accuracy: 0.9669 - val_loss: 0.0575 - val_accuracy: 0.9809\n",
      "Epoch 75/100\n",
      "329/329 [==============================] - 1s 2ms/step - loss: 0.1028 - accuracy: 0.9660 - val_loss: 0.0518 - val_accuracy: 0.9822\n",
      "Epoch 76/100\n",
      "329/329 [==============================] - 1s 2ms/step - loss: 0.0993 - accuracy: 0.9654 - val_loss: 0.0538 - val_accuracy: 0.9796\n",
      "Epoch 77/100\n",
      "329/329 [==============================] - 1s 2ms/step - loss: 0.0970 - accuracy: 0.9650 - val_loss: 0.0551 - val_accuracy: 0.9818\n",
      "Epoch 78/100\n",
      "329/329 [==============================] - 1s 2ms/step - loss: 0.0921 - accuracy: 0.9666 - val_loss: 0.0561 - val_accuracy: 0.9822\n",
      "Epoch 79/100\n",
      "329/329 [==============================] - 1s 2ms/step - loss: 0.0940 - accuracy: 0.9667 - val_loss: 0.0538 - val_accuracy: 0.9791\n",
      "Epoch 80/100\n",
      "329/329 [==============================] - 1s 2ms/step - loss: 0.0938 - accuracy: 0.9651 - val_loss: 0.0498 - val_accuracy: 0.9813\n",
      "Epoch 81/100\n",
      "329/329 [==============================] - 1s 2ms/step - loss: 0.0911 - accuracy: 0.9666 - val_loss: 0.0672 - val_accuracy: 0.9800\n",
      "Epoch 82/100\n",
      "329/329 [==============================] - 1s 2ms/step - loss: 0.0895 - accuracy: 0.9670 - val_loss: 0.0617 - val_accuracy: 0.9729\n",
      "Epoch 83/100\n",
      "329/329 [==============================] - 1s 2ms/step - loss: 0.0908 - accuracy: 0.9688 - val_loss: 0.0524 - val_accuracy: 0.9831\n",
      "Epoch 84/100\n",
      "329/329 [==============================] - 1s 2ms/step - loss: 0.0863 - accuracy: 0.9694 - val_loss: 0.0483 - val_accuracy: 0.9844\n",
      "Epoch 85/100\n",
      "329/329 [==============================] - 1s 2ms/step - loss: 0.0829 - accuracy: 0.9705 - val_loss: 0.0541 - val_accuracy: 0.9831\n",
      "Epoch 86/100\n",
      "329/329 [==============================] - 1s 2ms/step - loss: 0.0824 - accuracy: 0.9718 - val_loss: 0.0477 - val_accuracy: 0.9813\n",
      "Epoch 87/100\n",
      "329/329 [==============================] - 1s 2ms/step - loss: 0.0838 - accuracy: 0.9723 - val_loss: 0.0478 - val_accuracy: 0.9827\n",
      "Epoch 88/100\n",
      "329/329 [==============================] - 1s 2ms/step - loss: 0.0826 - accuracy: 0.9688 - val_loss: 0.0527 - val_accuracy: 0.9827\n",
      "Epoch 89/100\n",
      "329/329 [==============================] - 1s 2ms/step - loss: 0.0829 - accuracy: 0.9691 - val_loss: 0.0455 - val_accuracy: 0.9836\n",
      "Epoch 90/100\n",
      "329/329 [==============================] - 1s 2ms/step - loss: 0.0819 - accuracy: 0.9698 - val_loss: 0.0463 - val_accuracy: 0.9844\n",
      "Epoch 91/100\n",
      "329/329 [==============================] - 1s 2ms/step - loss: 0.0771 - accuracy: 0.9712 - val_loss: 0.0467 - val_accuracy: 0.9858\n",
      "Epoch 92/100\n",
      "329/329 [==============================] - 1s 2ms/step - loss: 0.0737 - accuracy: 0.9739 - val_loss: 0.0422 - val_accuracy: 0.9862\n",
      "Epoch 93/100\n",
      "329/329 [==============================] - 1s 2ms/step - loss: 0.0779 - accuracy: 0.9720 - val_loss: 0.0480 - val_accuracy: 0.9840\n",
      "Epoch 94/100\n",
      "329/329 [==============================] - 1s 2ms/step - loss: 0.0743 - accuracy: 0.9735 - val_loss: 0.0486 - val_accuracy: 0.9836\n",
      "Epoch 95/100\n",
      "329/329 [==============================] - 1s 2ms/step - loss: 0.0726 - accuracy: 0.9748 - val_loss: 0.0399 - val_accuracy: 0.9862\n",
      "Epoch 96/100\n",
      "329/329 [==============================] - 1s 2ms/step - loss: 0.0717 - accuracy: 0.9747 - val_loss: 0.0469 - val_accuracy: 0.9858\n",
      "Epoch 97/100\n",
      "329/329 [==============================] - 1s 2ms/step - loss: 0.0748 - accuracy: 0.9730 - val_loss: 0.0494 - val_accuracy: 0.9849\n",
      "Epoch 98/100\n",
      "329/329 [==============================] - 1s 2ms/step - loss: 0.0795 - accuracy: 0.9713 - val_loss: 0.0468 - val_accuracy: 0.9858\n",
      "Epoch 99/100\n",
      "329/329 [==============================] - 1s 2ms/step - loss: 0.0728 - accuracy: 0.9755 - val_loss: 0.0467 - val_accuracy: 0.9862\n",
      "Epoch 100/100\n",
      "329/329 [==============================] - 1s 2ms/step - loss: 0.0744 - accuracy: 0.9735 - val_loss: 0.0418 - val_accuracy: 0.9853\n",
      "Training results\n",
      "Training Accuracy: 0.9735237956047058\n",
      "Training Loss: 0.07438928633928299\n",
      "Evaluation results\n",
      "Validation Accuracy: 0.9853333234786987\n",
      "Validation Loss: 0.04183746501803398\n"
     ]
    },
    {
     "data": {
      "image/png": "[encoded data removed]",
      "text/plain": [
       "<Figure size 432x288 with 1 Axes>"
      ]
     },
     "metadata": {
      "needs_background": "light"
     },
     "output_type": "display_data"
    }
   ],
   "source": [
    "import tensorflow_model_optimization as tfmot\n",
    "\n",
    "model = tf.keras.Sequential(name='conv_model_paper')\n",
    "model.add(tf.keras.layers.InputLayer(input_shape=(1000,1)))\n",
    "model.add(tf.keras.layers.Conv1D(32,7))\n",
    "model.add(tf.keras.layers.BatchNormalization())\n",
    "model.add(tf.keras.layers.Activation('relu'))\n",
    "model.add(tf.keras.layers.MaxPooling1D(pool_size=8))\n",
    "model.add(tf.keras.layers.Conv1D(48,5))\n",
    "model.add(tf.keras.layers.BatchNormalization())\n",
    "model.add(tf.keras.layers.Activation('relu'))\n",
    "model.add(tf.keras.layers.MaxPooling1D(pool_size=4))\n",
    "model.add(tf.keras.layers.MaxPooling1D(pool_size=4))\n",
    "model.add(tf.keras.layers.Dropout(0.3))\n",
    "model.add(tf.keras.layers.Flatten())\n",
    "model.add(tf.keras.layers.Dense(32))\n",
    "model.add(tf.keras.layers.Dense(32))\n",
    "model.add(tf.keras.layers.Dense(3, activation='softmax'))\n",
    "\n",
    "print(model.summary())\n",
    "model.compile(optimizer=tf.keras.optimizers.Adam(learning_rate=1e-4),\n",
    "              loss=tf.keras.losses.SparseCategoricalCrossentropy(from_logits=True),\n",
    "              metrics=['accuracy'])\n",
    "\n",
    "history = model.fit(x_train, y_train ,epochs=100, validation_data=(x_val, y_val), verbose=1)   \n",
    "\n",
    "\n",
    "# Plotting accuracy and loss\n",
    "import matplotlib.pyplot as plt\n",
    "plt.plot(history.history['loss'])\n",
    "plt.plot(history.history['accuracy'])\n",
    "plt.plot(history.history['val_accuracy'])\n",
    "plt.plot(history.history['val_loss'])\n",
    "\n",
    "\n",
    "plt.title('Model loss & accuracy')\n",
    "plt.ylabel('Loss')\n",
    "plt.xlabel('Epoch')\n",
    "plt.legend(['tr_loss', 'tr_accuracy', 'val_acc', 'val_loss'], loc='lower right')\n",
    "# accuracy!\n",
    "print(\"Training results\")\n",
    "print(f\"Training Accuracy: {history.history['accuracy'][-1]}\")\n",
    "print(f\"Training Loss: {history.history['loss'][-1]}\")\n",
    "\n",
    "# evaluating model\n",
    "print(\"Evaluation results\")\n",
    "print(f\"Validation Accuracy: {history.history['val_accuracy'][-1]}\")\n",
    "print(f\"Validation Loss: {history.history['val_loss'][-1]}\")\n",
    "\n",
    "\n",
    "plt.show()"
   ]
  },
  {
   "cell_type": "code",
   "execution_count": null,
   "metadata": {},
   "outputs": [],
   "source": [
    "from keras_flops import get_flops\n",
    "flops = get_flops(model)\n",
    "print(f\"FLOPS: {flops} operations\")"
   ]
  },
  {
   "cell_type": "markdown",
   "metadata": {},
   "source": [
    "## Save the model without optimization and convert it to tflite format"
   ]
  },
  {
   "cell_type": "code",
   "execution_count": 7,
   "metadata": {},
   "outputs": [
    {
     "name": "stderr",
     "output_type": "stream",
     "text": [
      "WARNING:absl:Found untraced functions such as _jit_compiled_convolution_op, _jit_compiled_convolution_op while saving (showing 2 of 2). These functions will not be directly callable after loading.\n"
     ]
    },
    {
     "name": "stdout",
     "output_type": "stream",
     "text": [
      "INFO:tensorflow:Assets written to: /tmp/tmpvyyw7zyf/assets\n"
     ]
    },
    {
     "name": "stderr",
     "output_type": "stream",
     "text": [
      "INFO:tensorflow:Assets written to: /tmp/tmpvyyw7zyf/assets\n",
      "2022-10-06 10:32:10.334637: W tensorflow/compiler/mlir/lite/python/tf_tfl_flatbuffer_helpers.cc:362] Ignored output_format.\n",
      "2022-10-06 10:32:10.334659: W tensorflow/compiler/mlir/lite/python/tf_tfl_flatbuffer_helpers.cc:365] Ignored drop_control_dependency.\n",
      "2022-10-06 10:32:10.335113: I tensorflow/cc/saved_model/reader.cc:45] Reading SavedModel from: /tmp/tmpvyyw7zyf\n",
      "2022-10-06 10:32:10.336996: I tensorflow/cc/saved_model/reader.cc:89] Reading meta graph with tags { serve }\n",
      "2022-10-06 10:32:10.337010: I tensorflow/cc/saved_model/reader.cc:130] Reading SavedModel debug info (if present) from: /tmp/tmpvyyw7zyf\n",
      "2022-10-06 10:32:10.341964: I tensorflow/compiler/mlir/mlir_graph_optimization_pass.cc:354] MLIR V1 optimization pass is not enabled\n",
      "2022-10-06 10:32:10.343512: I tensorflow/cc/saved_model/loader.cc:229] Restoring SavedModel bundle.\n",
      "2022-10-06 10:32:10.389097: I tensorflow/cc/saved_model/loader.cc:213] Running initialization op on SavedModel bundle at path: /tmp/tmpvyyw7zyf\n",
      "2022-10-06 10:32:10.399716: I tensorflow/cc/saved_model/loader.cc:305] SavedModel load for tags { serve }; Status: success: OK. Took 64604 microseconds.\n",
      "2022-10-06 10:32:10.422584: I tensorflow/compiler/mlir/tensorflow/utils/dump_mlir_util.cc:268] disabling MLIR crash reproducer, set env var `MLIR_CRASH_REPRODUCER_DIRECTORY` to enable.\n"
     ]
    },
    {
     "data": {
      "text/plain": [
       "88160"
      ]
     },
     "execution_count": 7,
     "metadata": {},
     "output_type": "execute_result"
    }
   ],
   "source": [
    "float_converter = tf.lite.TFLiteConverter.from_keras_model(model)\n",
    "float_tflite_model = float_converter.convert()\n",
    "tflite_model_file = pathlib.Path('conv_model_paper.tflite')\n",
    "tflite_model_file.write_bytes(float_tflite_model)"
   ]
  },
  {
   "cell_type": "code",
   "execution_count": 8,
   "metadata": {},
   "outputs": [],
   "source": [
    "!xxd -i conv_model_paper.tflite > conv_model_paper.cc"
   ]
  },
  {
   "cell_type": "markdown",
   "metadata": {},
   "source": [
    "## Quantize same model and save it in tflite format."
   ]
  },
  {
   "cell_type": "code",
   "execution_count": 9,
   "metadata": {},
   "outputs": [
    {
     "name": "stderr",
     "output_type": "stream",
     "text": [
      "WARNING:absl:Found untraced functions such as _jit_compiled_convolution_op, _jit_compiled_convolution_op while saving (showing 2 of 2). These functions will not be directly callable after loading.\n"
     ]
    },
    {
     "name": "stdout",
     "output_type": "stream",
     "text": [
      "INFO:tensorflow:Assets written to: /tmp/tmpd_nnl9mk/assets\n"
     ]
    },
    {
     "name": "stderr",
     "output_type": "stream",
     "text": [
      "INFO:tensorflow:Assets written to: /tmp/tmpd_nnl9mk/assets\n",
      "/home/veysiadn/anaconda3/lib/python3.9/site-packages/tensorflow/lite/python/convert.py:766: UserWarning: Statistics for quantized inputs were expected, but not specified; continuing anyway.\n",
      "  warnings.warn(\"Statistics for quantized inputs were expected, but not \"\n",
      "2022-10-06 10:32:22.149760: W tensorflow/compiler/mlir/lite/python/tf_tfl_flatbuffer_helpers.cc:362] Ignored output_format.\n",
      "2022-10-06 10:32:22.149776: W tensorflow/compiler/mlir/lite/python/tf_tfl_flatbuffer_helpers.cc:365] Ignored drop_control_dependency.\n",
      "2022-10-06 10:32:22.149890: I tensorflow/cc/saved_model/reader.cc:45] Reading SavedModel from: /tmp/tmpd_nnl9mk\n",
      "2022-10-06 10:32:22.151344: I tensorflow/cc/saved_model/reader.cc:89] Reading meta graph with tags { serve }\n",
      "2022-10-06 10:32:22.151359: I tensorflow/cc/saved_model/reader.cc:130] Reading SavedModel debug info (if present) from: /tmp/tmpd_nnl9mk\n",
      "2022-10-06 10:32:22.157772: I tensorflow/cc/saved_model/loader.cc:229] Restoring SavedModel bundle.\n",
      "2022-10-06 10:32:22.196625: I tensorflow/cc/saved_model/loader.cc:213] Running initialization op on SavedModel bundle at path: /tmp/tmpd_nnl9mk\n",
      "2022-10-06 10:32:22.206339: I tensorflow/cc/saved_model/loader.cc:305] SavedModel load for tags { serve }; Status: success: OK. Took 56449 microseconds.\n"
     ]
    },
    {
     "ename": "RuntimeError",
     "evalue": "tensorflow/lite/kernels/conv.cc:350 input->dims->size != 4 (3 != 4)Node number 1 (CONV_2D) failed to prepare.",
     "output_type": "error",
     "traceback": [
      "\u001b[0;31m---------------------------------------------------------------------------\u001b[0m",
      "\u001b[0;31mRuntimeError\u001b[0m                              Traceback (most recent call last)",
      "\u001b[1;32m/home/veysiadn/model-training/acustic-emission-models/convert_deploy.ipynb Cell 15\u001b[0m in \u001b[0;36m<cell line: 9>\u001b[0;34m()\u001b[0m\n\u001b[1;32m      <a href='vscode-notebook-cell:/home/veysiadn/model-training/acustic-emission-models/convert_deploy.ipynb#X16sZmlsZQ%3D%3D?line=6'>7</a>\u001b[0m converter\u001b[39m.\u001b[39moptimizations \u001b[39m=\u001b[39m [tf\u001b[39m.\u001b[39mlite\u001b[39m.\u001b[39mOptimize\u001b[39m.\u001b[39mDEFAULT]\n\u001b[1;32m      <a href='vscode-notebook-cell:/home/veysiadn/model-training/acustic-emission-models/convert_deploy.ipynb#X16sZmlsZQ%3D%3D?line=7'>8</a>\u001b[0m converter\u001b[39m.\u001b[39mrepresentative_dataset \u001b[39m=\u001b[39m representative_data_gen\n\u001b[0;32m----> <a href='vscode-notebook-cell:/home/veysiadn/model-training/acustic-emission-models/convert_deploy.ipynb#X16sZmlsZQ%3D%3D?line=8'>9</a>\u001b[0m tflite_model_quant \u001b[39m=\u001b[39m converter\u001b[39m.\u001b[39;49mconvert()\n\u001b[1;32m     <a href='vscode-notebook-cell:/home/veysiadn/model-training/acustic-emission-models/convert_deploy.ipynb#X16sZmlsZQ%3D%3D?line=10'>11</a>\u001b[0m tflite_model_file \u001b[39m=\u001b[39m pathlib\u001b[39m.\u001b[39mPath(\u001b[39m'\u001b[39m\u001b[39mconv_model_paper_optimized.tflite\u001b[39m\u001b[39m'\u001b[39m)\n\u001b[1;32m     <a href='vscode-notebook-cell:/home/veysiadn/model-training/acustic-emission-models/convert_deploy.ipynb#X16sZmlsZQ%3D%3D?line=11'>12</a>\u001b[0m tflite_model_file\u001b[39m.\u001b[39mwrite_bytes(tflite_model_quant)\n",
      "File \u001b[0;32m~/anaconda3/lib/python3.9/site-packages/tensorflow/lite/python/lite.py:930\u001b[0m, in \u001b[0;36m_export_metrics.<locals>.wrapper\u001b[0;34m(self, *args, **kwargs)\u001b[0m\n\u001b[1;32m    927\u001b[0m \u001b[39m@functools\u001b[39m\u001b[39m.\u001b[39mwraps(convert_func)\n\u001b[1;32m    928\u001b[0m \u001b[39mdef\u001b[39;00m \u001b[39mwrapper\u001b[39m(\u001b[39mself\u001b[39m, \u001b[39m*\u001b[39margs, \u001b[39m*\u001b[39m\u001b[39m*\u001b[39mkwargs):\n\u001b[1;32m    929\u001b[0m   \u001b[39m# pylint: disable=protected-access\u001b[39;00m\n\u001b[0;32m--> 930\u001b[0m   \u001b[39mreturn\u001b[39;00m \u001b[39mself\u001b[39;49m\u001b[39m.\u001b[39;49m_convert_and_export_metrics(convert_func, \u001b[39m*\u001b[39;49margs, \u001b[39m*\u001b[39;49m\u001b[39m*\u001b[39;49mkwargs)\n",
      "File \u001b[0;32m~/anaconda3/lib/python3.9/site-packages/tensorflow/lite/python/lite.py:908\u001b[0m, in \u001b[0;36mTFLiteConverterBase._convert_and_export_metrics\u001b[0;34m(self, convert_func, *args, **kwargs)\u001b[0m\n\u001b[1;32m    906\u001b[0m \u001b[39mself\u001b[39m\u001b[39m.\u001b[39m_save_conversion_params_metric()\n\u001b[1;32m    907\u001b[0m start_time \u001b[39m=\u001b[39m time\u001b[39m.\u001b[39mprocess_time()\n\u001b[0;32m--> 908\u001b[0m result \u001b[39m=\u001b[39m convert_func(\u001b[39mself\u001b[39;49m, \u001b[39m*\u001b[39;49margs, \u001b[39m*\u001b[39;49m\u001b[39m*\u001b[39;49mkwargs)\n\u001b[1;32m    909\u001b[0m elapsed_time_ms \u001b[39m=\u001b[39m (time\u001b[39m.\u001b[39mprocess_time() \u001b[39m-\u001b[39m start_time) \u001b[39m*\u001b[39m \u001b[39m1000\u001b[39m\n\u001b[1;32m    910\u001b[0m \u001b[39mif\u001b[39;00m result:\n",
      "File \u001b[0;32m~/anaconda3/lib/python3.9/site-packages/tensorflow/lite/python/lite.py:1339\u001b[0m, in \u001b[0;36mTFLiteKerasModelConverterV2.convert\u001b[0;34m(self)\u001b[0m\n\u001b[1;32m   1326\u001b[0m \u001b[39m@_export_metrics\u001b[39m\n\u001b[1;32m   1327\u001b[0m \u001b[39mdef\u001b[39;00m \u001b[39mconvert\u001b[39m(\u001b[39mself\u001b[39m):\n\u001b[1;32m   1328\u001b[0m   \u001b[39m\"\"\"Converts a keras model based on instance variables.\u001b[39;00m\n\u001b[1;32m   1329\u001b[0m \n\u001b[1;32m   1330\u001b[0m \u001b[39m  Returns:\u001b[39;00m\n\u001b[0;32m   (...)\u001b[0m\n\u001b[1;32m   1337\u001b[0m \u001b[39m      Invalid quantization parameters.\u001b[39;00m\n\u001b[1;32m   1338\u001b[0m \u001b[39m  \"\"\"\u001b[39;00m\n\u001b[0;32m-> 1339\u001b[0m   saved_model_convert_result \u001b[39m=\u001b[39m \u001b[39mself\u001b[39;49m\u001b[39m.\u001b[39;49m_convert_as_saved_model()\n\u001b[1;32m   1340\u001b[0m   \u001b[39mif\u001b[39;00m saved_model_convert_result:\n\u001b[1;32m   1341\u001b[0m     \u001b[39mreturn\u001b[39;00m saved_model_convert_result\n",
      "File \u001b[0;32m~/anaconda3/lib/python3.9/site-packages/tensorflow/lite/python/lite.py:1321\u001b[0m, in \u001b[0;36mTFLiteKerasModelConverterV2._convert_as_saved_model\u001b[0;34m(self)\u001b[0m\n\u001b[1;32m   1318\u001b[0m   graph_def, input_tensors, output_tensors \u001b[39m=\u001b[39m (\n\u001b[1;32m   1319\u001b[0m       \u001b[39mself\u001b[39m\u001b[39m.\u001b[39m_convert_keras_to_saved_model(temp_dir))\n\u001b[1;32m   1320\u001b[0m   \u001b[39mif\u001b[39;00m \u001b[39mself\u001b[39m\u001b[39m.\u001b[39msaved_model_dir:\n\u001b[0;32m-> 1321\u001b[0m     \u001b[39mreturn\u001b[39;00m \u001b[39msuper\u001b[39;49m(TFLiteKerasModelConverterV2,\n\u001b[1;32m   1322\u001b[0m                  \u001b[39mself\u001b[39;49m)\u001b[39m.\u001b[39;49mconvert(graph_def, input_tensors, output_tensors)\n\u001b[1;32m   1323\u001b[0m \u001b[39mfinally\u001b[39;00m:\n\u001b[1;32m   1324\u001b[0m   shutil\u001b[39m.\u001b[39mrmtree(temp_dir, \u001b[39mTrue\u001b[39;00m)\n",
      "File \u001b[0;32m~/anaconda3/lib/python3.9/site-packages/tensorflow/lite/python/lite.py:1138\u001b[0m, in \u001b[0;36mTFLiteConverterBaseV2.convert\u001b[0;34m(self, graph_def, input_tensors, output_tensors)\u001b[0m\n\u001b[1;32m   1131\u001b[0m \u001b[39m# Converts model.\u001b[39;00m\n\u001b[1;32m   1132\u001b[0m result \u001b[39m=\u001b[39m _convert_graphdef(\n\u001b[1;32m   1133\u001b[0m     input_data\u001b[39m=\u001b[39mgraph_def,\n\u001b[1;32m   1134\u001b[0m     input_tensors\u001b[39m=\u001b[39minput_tensors,\n\u001b[1;32m   1135\u001b[0m     output_tensors\u001b[39m=\u001b[39moutput_tensors,\n\u001b[1;32m   1136\u001b[0m     \u001b[39m*\u001b[39m\u001b[39m*\u001b[39mconverter_kwargs)\n\u001b[0;32m-> 1138\u001b[0m \u001b[39mreturn\u001b[39;00m \u001b[39mself\u001b[39;49m\u001b[39m.\u001b[39;49m_optimize_tflite_model(\n\u001b[1;32m   1139\u001b[0m     result, \u001b[39mself\u001b[39;49m\u001b[39m.\u001b[39;49m_quant_mode, quant_io\u001b[39m=\u001b[39;49m\u001b[39mself\u001b[39;49m\u001b[39m.\u001b[39;49mexperimental_new_quantizer)\n",
      "File \u001b[0;32m~/anaconda3/lib/python3.9/site-packages/tensorflow/lite/python/convert_phase.py:215\u001b[0m, in \u001b[0;36mconvert_phase.<locals>.actual_decorator.<locals>.wrapper\u001b[0;34m(*args, **kwargs)\u001b[0m\n\u001b[1;32m    213\u001b[0m \u001b[39mexcept\u001b[39;00m \u001b[39mException\u001b[39;00m \u001b[39mas\u001b[39;00m error:\n\u001b[1;32m    214\u001b[0m   report_error_message(\u001b[39mstr\u001b[39m(error))\n\u001b[0;32m--> 215\u001b[0m   \u001b[39mraise\u001b[39;00m error \u001b[39mfrom\u001b[39;00m \u001b[39mNone\u001b[39m\n",
      "File \u001b[0;32m~/anaconda3/lib/python3.9/site-packages/tensorflow/lite/python/convert_phase.py:205\u001b[0m, in \u001b[0;36mconvert_phase.<locals>.actual_decorator.<locals>.wrapper\u001b[0;34m(*args, **kwargs)\u001b[0m\n\u001b[1;32m    202\u001b[0m \u001b[39m@functools\u001b[39m\u001b[39m.\u001b[39mwraps(func)\n\u001b[1;32m    203\u001b[0m \u001b[39mdef\u001b[39;00m \u001b[39mwrapper\u001b[39m(\u001b[39m*\u001b[39margs, \u001b[39m*\u001b[39m\u001b[39m*\u001b[39mkwargs):\n\u001b[1;32m    204\u001b[0m   \u001b[39mtry\u001b[39;00m:\n\u001b[0;32m--> 205\u001b[0m     \u001b[39mreturn\u001b[39;00m func(\u001b[39m*\u001b[39;49margs, \u001b[39m*\u001b[39;49m\u001b[39m*\u001b[39;49mkwargs)\n\u001b[1;32m    206\u001b[0m   \u001b[39mexcept\u001b[39;00m ConverterError \u001b[39mas\u001b[39;00m converter_error:\n\u001b[1;32m    207\u001b[0m     \u001b[39mif\u001b[39;00m converter_error\u001b[39m.\u001b[39merrors:\n",
      "File \u001b[0;32m~/anaconda3/lib/python3.9/site-packages/tensorflow/lite/python/lite.py:868\u001b[0m, in \u001b[0;36mTFLiteConverterBase._optimize_tflite_model\u001b[0;34m(self, model, quant_mode, quant_io)\u001b[0m\n\u001b[1;32m    866\u001b[0m   q_bias_type \u001b[39m=\u001b[39m quant_mode\u001b[39m.\u001b[39mbias_type()\n\u001b[1;32m    867\u001b[0m   q_allow_float \u001b[39m=\u001b[39m quant_mode\u001b[39m.\u001b[39mis_allow_float()\n\u001b[0;32m--> 868\u001b[0m   model \u001b[39m=\u001b[39m \u001b[39mself\u001b[39;49m\u001b[39m.\u001b[39;49m_quantize(model, q_in_type, q_out_type, q_activations_type,\n\u001b[1;32m    869\u001b[0m                          q_bias_type, q_allow_float)\n\u001b[1;32m    871\u001b[0m m_in_type \u001b[39m=\u001b[39m in_type \u001b[39mif\u001b[39;00m in_type \u001b[39melse\u001b[39;00m _dtypes\u001b[39m.\u001b[39mfloat32\n\u001b[1;32m    872\u001b[0m m_out_type \u001b[39m=\u001b[39m out_type \u001b[39mif\u001b[39;00m out_type \u001b[39melse\u001b[39;00m _dtypes\u001b[39m.\u001b[39mfloat32\n",
      "File \u001b[0;32m~/anaconda3/lib/python3.9/site-packages/tensorflow/lite/python/lite.py:612\u001b[0m, in \u001b[0;36mTFLiteConverterBase._quantize\u001b[0;34m(self, result, input_type, output_type, activations_type, bias_type, allow_float)\u001b[0m\n\u001b[1;32m    608\u001b[0m calibrate_quantize \u001b[39m=\u001b[39m _calibrator\u001b[39m.\u001b[39mCalibrator(result,\n\u001b[1;32m    609\u001b[0m                                             custom_op_registerers_by_name,\n\u001b[1;32m    610\u001b[0m                                             custom_op_registerers_by_func)\n\u001b[1;32m    611\u001b[0m \u001b[39mif\u001b[39;00m \u001b[39mself\u001b[39m\u001b[39m.\u001b[39m_experimental_calibrate_only \u001b[39mor\u001b[39;00m \u001b[39mself\u001b[39m\u001b[39m.\u001b[39mexperimental_new_quantizer:\n\u001b[0;32m--> 612\u001b[0m   calibrated \u001b[39m=\u001b[39m calibrate_quantize\u001b[39m.\u001b[39;49mcalibrate(\n\u001b[1;32m    613\u001b[0m       \u001b[39mself\u001b[39;49m\u001b[39m.\u001b[39;49mrepresentative_dataset\u001b[39m.\u001b[39;49minput_gen)\n\u001b[1;32m    615\u001b[0m \u001b[39mif\u001b[39;00m \u001b[39mself\u001b[39m\u001b[39m.\u001b[39m_experimental_calibrate_only:\n\u001b[1;32m    616\u001b[0m   \u001b[39mreturn\u001b[39;00m calibrated\n",
      "File \u001b[0;32m~/anaconda3/lib/python3.9/site-packages/tensorflow/lite/python/convert_phase.py:215\u001b[0m, in \u001b[0;36mconvert_phase.<locals>.actual_decorator.<locals>.wrapper\u001b[0;34m(*args, **kwargs)\u001b[0m\n\u001b[1;32m    213\u001b[0m \u001b[39mexcept\u001b[39;00m \u001b[39mException\u001b[39;00m \u001b[39mas\u001b[39;00m error:\n\u001b[1;32m    214\u001b[0m   report_error_message(\u001b[39mstr\u001b[39m(error))\n\u001b[0;32m--> 215\u001b[0m   \u001b[39mraise\u001b[39;00m error \u001b[39mfrom\u001b[39;00m \u001b[39mNone\u001b[39m\n",
      "File \u001b[0;32m~/anaconda3/lib/python3.9/site-packages/tensorflow/lite/python/convert_phase.py:205\u001b[0m, in \u001b[0;36mconvert_phase.<locals>.actual_decorator.<locals>.wrapper\u001b[0;34m(*args, **kwargs)\u001b[0m\n\u001b[1;32m    202\u001b[0m \u001b[39m@functools\u001b[39m\u001b[39m.\u001b[39mwraps(func)\n\u001b[1;32m    203\u001b[0m \u001b[39mdef\u001b[39;00m \u001b[39mwrapper\u001b[39m(\u001b[39m*\u001b[39margs, \u001b[39m*\u001b[39m\u001b[39m*\u001b[39mkwargs):\n\u001b[1;32m    204\u001b[0m   \u001b[39mtry\u001b[39;00m:\n\u001b[0;32m--> 205\u001b[0m     \u001b[39mreturn\u001b[39;00m func(\u001b[39m*\u001b[39;49margs, \u001b[39m*\u001b[39;49m\u001b[39m*\u001b[39;49mkwargs)\n\u001b[1;32m    206\u001b[0m   \u001b[39mexcept\u001b[39;00m ConverterError \u001b[39mas\u001b[39;00m converter_error:\n\u001b[1;32m    207\u001b[0m     \u001b[39mif\u001b[39;00m converter_error\u001b[39m.\u001b[39merrors:\n",
      "File \u001b[0;32m~/anaconda3/lib/python3.9/site-packages/tensorflow/lite/python/optimize/calibrator.py:226\u001b[0m, in \u001b[0;36mCalibrator.calibrate\u001b[0;34m(self, dataset_gen)\u001b[0m\n\u001b[1;32m    216\u001b[0m \u001b[39m@convert_phase\u001b[39m(Component\u001b[39m.\u001b[39mOPTIMIZE_TFLITE_MODEL, SubComponent\u001b[39m.\u001b[39mCALIBRATE)\n\u001b[1;32m    217\u001b[0m \u001b[39mdef\u001b[39;00m \u001b[39mcalibrate\u001b[39m(\u001b[39mself\u001b[39m, dataset_gen):\n\u001b[1;32m    218\u001b[0m   \u001b[39m\"\"\"Calibrates the model with specified generator.\u001b[39;00m\n\u001b[1;32m    219\u001b[0m \n\u001b[1;32m    220\u001b[0m \u001b[39m  Returns:\u001b[39;00m\n\u001b[0;32m   (...)\u001b[0m\n\u001b[1;32m    224\u001b[0m \u001b[39m    dataset_gen: A generator that generates calibration samples.\u001b[39;00m\n\u001b[1;32m    225\u001b[0m \u001b[39m  \"\"\"\u001b[39;00m\n\u001b[0;32m--> 226\u001b[0m   \u001b[39mself\u001b[39;49m\u001b[39m.\u001b[39;49m_feed_tensors(dataset_gen, resize_input\u001b[39m=\u001b[39;49m\u001b[39mTrue\u001b[39;49;00m)\n\u001b[1;32m    227\u001b[0m   \u001b[39mreturn\u001b[39;00m \u001b[39mself\u001b[39m\u001b[39m.\u001b[39m_calibrator\u001b[39m.\u001b[39mCalibrate()\n",
      "File \u001b[0;32m~/anaconda3/lib/python3.9/site-packages/tensorflow/lite/python/optimize/calibrator.py:129\u001b[0m, in \u001b[0;36mCalibrator._feed_tensors\u001b[0;34m(self, dataset_gen, resize_input)\u001b[0m\n\u001b[1;32m    126\u001b[0m     \u001b[39mself\u001b[39m\u001b[39m.\u001b[39m_calibrator\u001b[39m.\u001b[39mPrepare([\u001b[39mlist\u001b[39m(s\u001b[39m.\u001b[39mshape) \u001b[39mfor\u001b[39;00m s \u001b[39min\u001b[39;00m input_array],\n\u001b[1;32m    127\u001b[0m                              signature_key)\n\u001b[1;32m    128\u001b[0m   \u001b[39melse\u001b[39;00m:\n\u001b[0;32m--> 129\u001b[0m     \u001b[39mself\u001b[39;49m\u001b[39m.\u001b[39;49m_calibrator\u001b[39m.\u001b[39;49mPrepare([\u001b[39mlist\u001b[39;49m(s\u001b[39m.\u001b[39;49mshape) \u001b[39mfor\u001b[39;49;00m s \u001b[39min\u001b[39;49;00m input_array])\n\u001b[1;32m    130\u001b[0m \u001b[39melse\u001b[39;00m:\n\u001b[1;32m    131\u001b[0m   \u001b[39mif\u001b[39;00m signature_key \u001b[39mis\u001b[39;00m \u001b[39mnot\u001b[39;00m \u001b[39mNone\u001b[39;00m:\n",
      "\u001b[0;31mRuntimeError\u001b[0m: tensorflow/lite/kernels/conv.cc:350 input->dims->size != 4 (3 != 4)Node number 1 (CONV_2D) failed to prepare."
     ]
    }
   ],
   "source": [
    "\n",
    "def representative_data_gen():\n",
    "  for input_value in tf.data.Dataset.from_tensor_slices(x_train).batch(1).take(100):\n",
    "    # Model has only one input so each data point has one element.\n",
    "    yield [input_value]\n",
    "\n",
    "converter = tf.lite.TFLiteConverter.from_keras_model(model)\n",
    "converter.optimizations = [tf.lite.Optimize.DEFAULT]\n",
    "converter.representative_dataset = representative_data_gen\n",
    "tflite_model_quant = converter.convert()\n",
    "\n",
    "tflite_model_file = pathlib.Path('conv_model_paper_optimized.tflite')\n",
    "tflite_model_file.write_bytes(tflite_model_quant)"
   ]
  },
  {
   "cell_type": "markdown",
   "metadata": {},
   "source": [
    "#### Final version of Model in Paper by Yuxuan"
   ]
  },
  {
   "cell_type": "code",
   "execution_count": 6,
   "metadata": {},
   "outputs": [
    {
     "name": "stdout",
     "output_type": "stream",
     "text": [
      "Model: \"final_conv_model_paper\"\n",
      "_________________________________________________________________\n",
      " Layer (type)                Output Shape              Param #   \n",
      "=================================================================\n",
      " Reshape (Reshape)           (None, 1000, 1)           0         \n",
      "                                                                 \n",
      " conv1d (Conv1D)             (None, 1000, 16)          128       \n",
      "                                                                 \n",
      " max_pooling1d (MaxPooling1D  (None, 125, 16)          0         \n",
      " )                                                               \n",
      "                                                                 \n",
      " conv1d_1 (Conv1D)           (None, 125, 16)           1296      \n",
      "                                                                 \n",
      " max_pooling1d_1 (MaxPooling  (None, 32, 16)           0         \n",
      " 1D)                                                             \n",
      "                                                                 \n",
      " max_pooling1d_2 (MaxPooling  (None, 8, 16)            0         \n",
      " 1D)                                                             \n",
      "                                                                 \n",
      " flatten (Flatten)           (None, 128)               0         \n",
      "                                                                 \n",
      " dense (Dense)               (None, 3)                 387       \n",
      "                                                                 \n",
      "=================================================================\n",
      "Total params: 1,811\n",
      "Trainable params: 1,811\n",
      "Non-trainable params: 0\n",
      "_________________________________________________________________\n",
      "None\n",
      "Epoch 1/100\n"
     ]
    },
    {
     "name": "stderr",
     "output_type": "stream",
     "text": [
      "2022-10-12 11:41:50.399637: I tensorflow/stream_executor/cuda/cuda_dnn.cc:384] Loaded cuDNN version 8500\n"
     ]
    },
    {
     "name": "stdout",
     "output_type": "stream",
     "text": [
      " 39/375 [==>...........................] - ETA: 0s - loss: 1.3960 - accuracy: 0.3446  "
     ]
    },
    {
     "name": "stderr",
     "output_type": "stream",
     "text": [
      "2022-10-12 11:41:50.668523: I tensorflow/core/platform/default/subprocess.cc:304] Start cannot spawn child process: No such file or directory\n",
      "2022-10-12 11:41:50.689410: I tensorflow/stream_executor/cuda/cuda_blas.cc:1614] TensorFloat-32 will be used for the matrix multiplication. This will only be logged once.\n"
     ]
    },
    {
     "name": "stdout",
     "output_type": "stream",
     "text": [
      "375/375 [==============================] - 2s 3ms/step - loss: 1.0968 - accuracy: 0.4338 - val_loss: 0.9607 - val_accuracy: 0.5433\n",
      "Epoch 2/100\n",
      "375/375 [==============================] - 1s 4ms/step - loss: 0.8678 - accuracy: 0.6396 - val_loss: 0.7800 - val_accuracy: 0.6813\n",
      "Epoch 3/100\n",
      "375/375 [==============================] - 2s 4ms/step - loss: 0.7039 - accuracy: 0.7188 - val_loss: 0.6440 - val_accuracy: 0.7313\n",
      "Epoch 4/100\n",
      "375/375 [==============================] - 1s 4ms/step - loss: 0.5971 - accuracy: 0.7617 - val_loss: 0.5610 - val_accuracy: 0.7733\n",
      "Epoch 5/100\n",
      "375/375 [==============================] - 1s 4ms/step - loss: 0.5274 - accuracy: 0.8083 - val_loss: 0.5036 - val_accuracy: 0.8113\n",
      "Epoch 6/100\n",
      "375/375 [==============================] - 1s 3ms/step - loss: 0.4799 - accuracy: 0.8334 - val_loss: 0.4631 - val_accuracy: 0.8373\n",
      "Epoch 7/100\n",
      "375/375 [==============================] - 1s 4ms/step - loss: 0.4467 - accuracy: 0.8425 - val_loss: 0.4372 - val_accuracy: 0.8373\n",
      "Epoch 8/100\n",
      "375/375 [==============================] - 1s 4ms/step - loss: 0.4200 - accuracy: 0.8511 - val_loss: 0.4117 - val_accuracy: 0.8480\n",
      "Epoch 9/100\n",
      "375/375 [==============================] - 1s 4ms/step - loss: 0.3988 - accuracy: 0.8582 - val_loss: 0.4046 - val_accuracy: 0.8360\n",
      "Epoch 10/100\n",
      "375/375 [==============================] - 1s 3ms/step - loss: 0.3808 - accuracy: 0.8667 - val_loss: 0.3806 - val_accuracy: 0.8520\n",
      "Epoch 11/100\n",
      "375/375 [==============================] - 1s 4ms/step - loss: 0.3652 - accuracy: 0.8748 - val_loss: 0.3650 - val_accuracy: 0.8720\n",
      "Epoch 12/100\n",
      "375/375 [==============================] - 1s 4ms/step - loss: 0.3497 - accuracy: 0.8826 - val_loss: 0.3544 - val_accuracy: 0.8707\n",
      "Epoch 13/100\n",
      "375/375 [==============================] - 2s 4ms/step - loss: 0.3353 - accuracy: 0.8907 - val_loss: 0.3360 - val_accuracy: 0.8833\n",
      "Epoch 14/100\n",
      "375/375 [==============================] - 1s 4ms/step - loss: 0.3218 - accuracy: 0.8982 - val_loss: 0.3233 - val_accuracy: 0.8907\n",
      "Epoch 15/100\n",
      "375/375 [==============================] - 1s 4ms/step - loss: 0.3102 - accuracy: 0.9033 - val_loss: 0.3158 - val_accuracy: 0.8947\n",
      "Epoch 16/100\n",
      "375/375 [==============================] - 1s 2ms/step - loss: 0.2993 - accuracy: 0.9107 - val_loss: 0.3021 - val_accuracy: 0.9020\n",
      "Epoch 17/100\n",
      "375/375 [==============================] - 1s 2ms/step - loss: 0.2897 - accuracy: 0.9133 - val_loss: 0.2931 - val_accuracy: 0.9040\n",
      "Epoch 18/100\n",
      "375/375 [==============================] - 1s 2ms/step - loss: 0.2806 - accuracy: 0.9169 - val_loss: 0.2909 - val_accuracy: 0.8987\n",
      "Epoch 19/100\n",
      "375/375 [==============================] - 1s 3ms/step - loss: 0.2727 - accuracy: 0.9199 - val_loss: 0.2736 - val_accuracy: 0.9140\n",
      "Epoch 20/100\n",
      "375/375 [==============================] - 1s 3ms/step - loss: 0.2647 - accuracy: 0.9213 - val_loss: 0.2649 - val_accuracy: 0.9193\n",
      "Epoch 21/100\n",
      "375/375 [==============================] - 1s 3ms/step - loss: 0.2577 - accuracy: 0.9237 - val_loss: 0.2561 - val_accuracy: 0.9233\n",
      "Epoch 22/100\n",
      "375/375 [==============================] - 1s 3ms/step - loss: 0.2514 - accuracy: 0.9268 - val_loss: 0.2496 - val_accuracy: 0.9233\n",
      "Epoch 23/100\n",
      "375/375 [==============================] - 1s 3ms/step - loss: 0.2447 - accuracy: 0.9275 - val_loss: 0.2427 - val_accuracy: 0.9267\n",
      "Epoch 24/100\n",
      "375/375 [==============================] - 1s 4ms/step - loss: 0.2384 - accuracy: 0.9301 - val_loss: 0.2365 - val_accuracy: 0.9280\n",
      "Epoch 25/100\n",
      "375/375 [==============================] - 1s 3ms/step - loss: 0.2325 - accuracy: 0.9317 - val_loss: 0.2306 - val_accuracy: 0.9253\n",
      "Epoch 26/100\n",
      "375/375 [==============================] - 1s 4ms/step - loss: 0.2271 - accuracy: 0.9329 - val_loss: 0.2236 - val_accuracy: 0.9313\n",
      "Epoch 27/100\n",
      "375/375 [==============================] - 1s 4ms/step - loss: 0.2224 - accuracy: 0.9343 - val_loss: 0.2185 - val_accuracy: 0.9313\n",
      "Epoch 28/100\n",
      "375/375 [==============================] - 1s 3ms/step - loss: 0.2176 - accuracy: 0.9359 - val_loss: 0.2125 - val_accuracy: 0.9327\n",
      "Epoch 29/100\n",
      "375/375 [==============================] - 1s 3ms/step - loss: 0.2128 - accuracy: 0.9371 - val_loss: 0.2065 - val_accuracy: 0.9347\n",
      "Epoch 30/100\n",
      "375/375 [==============================] - 1s 3ms/step - loss: 0.2081 - accuracy: 0.9373 - val_loss: 0.2025 - val_accuracy: 0.9380\n",
      "Epoch 31/100\n",
      "375/375 [==============================] - 1s 3ms/step - loss: 0.2040 - accuracy: 0.9386 - val_loss: 0.2025 - val_accuracy: 0.9360\n",
      "Epoch 32/100\n",
      "375/375 [==============================] - 1s 4ms/step - loss: 0.2004 - accuracy: 0.9398 - val_loss: 0.1936 - val_accuracy: 0.9400\n",
      "Epoch 33/100\n",
      "375/375 [==============================] - 1s 4ms/step - loss: 0.1970 - accuracy: 0.9407 - val_loss: 0.1891 - val_accuracy: 0.9420\n",
      "Epoch 34/100\n",
      "375/375 [==============================] - 1s 4ms/step - loss: 0.1931 - accuracy: 0.9416 - val_loss: 0.1847 - val_accuracy: 0.9433\n",
      "Epoch 35/100\n",
      "375/375 [==============================] - 1s 3ms/step - loss: 0.1900 - accuracy: 0.9434 - val_loss: 0.1803 - val_accuracy: 0.9440\n",
      "Epoch 36/100\n",
      "375/375 [==============================] - 1s 4ms/step - loss: 0.1868 - accuracy: 0.9435 - val_loss: 0.1824 - val_accuracy: 0.9420\n",
      "Epoch 37/100\n",
      "375/375 [==============================] - 1s 3ms/step - loss: 0.1840 - accuracy: 0.9449 - val_loss: 0.1732 - val_accuracy: 0.9473\n",
      "Epoch 38/100\n",
      "375/375 [==============================] - 1s 3ms/step - loss: 0.1809 - accuracy: 0.9456 - val_loss: 0.1720 - val_accuracy: 0.9473\n",
      "Epoch 39/100\n",
      "375/375 [==============================] - 1s 3ms/step - loss: 0.1774 - accuracy: 0.9460 - val_loss: 0.1680 - val_accuracy: 0.9473\n",
      "Epoch 40/100\n",
      "375/375 [==============================] - 1s 4ms/step - loss: 0.1756 - accuracy: 0.9477 - val_loss: 0.1657 - val_accuracy: 0.9493\n",
      "Epoch 41/100\n",
      "375/375 [==============================] - 1s 3ms/step - loss: 0.1723 - accuracy: 0.9488 - val_loss: 0.1619 - val_accuracy: 0.9513\n",
      "Epoch 42/100\n",
      "375/375 [==============================] - 1s 3ms/step - loss: 0.1701 - accuracy: 0.9488 - val_loss: 0.1576 - val_accuracy: 0.9480\n",
      "Epoch 43/100\n",
      "375/375 [==============================] - 1s 4ms/step - loss: 0.1674 - accuracy: 0.9502 - val_loss: 0.1580 - val_accuracy: 0.9520\n",
      "Epoch 44/100\n",
      "375/375 [==============================] - 1s 4ms/step - loss: 0.1646 - accuracy: 0.9508 - val_loss: 0.1530 - val_accuracy: 0.9507\n",
      "Epoch 45/100\n",
      "375/375 [==============================] - 1s 4ms/step - loss: 0.1626 - accuracy: 0.9508 - val_loss: 0.1521 - val_accuracy: 0.9547\n",
      "Epoch 46/100\n",
      "375/375 [==============================] - 1s 4ms/step - loss: 0.1605 - accuracy: 0.9513 - val_loss: 0.1478 - val_accuracy: 0.9520\n",
      "Epoch 47/100\n",
      "375/375 [==============================] - 1s 4ms/step - loss: 0.1579 - accuracy: 0.9532 - val_loss: 0.1475 - val_accuracy: 0.9500\n",
      "Epoch 48/100\n",
      "375/375 [==============================] - 1s 4ms/step - loss: 0.1560 - accuracy: 0.9541 - val_loss: 0.1440 - val_accuracy: 0.9560\n",
      "Epoch 49/100\n",
      "375/375 [==============================] - 1s 4ms/step - loss: 0.1537 - accuracy: 0.9540 - val_loss: 0.1438 - val_accuracy: 0.9573\n",
      "Epoch 50/100\n",
      "375/375 [==============================] - 1s 4ms/step - loss: 0.1521 - accuracy: 0.9554 - val_loss: 0.1408 - val_accuracy: 0.9560\n",
      "Epoch 51/100\n",
      "375/375 [==============================] - 1s 4ms/step - loss: 0.1502 - accuracy: 0.9557 - val_loss: 0.1368 - val_accuracy: 0.9573\n",
      "Epoch 52/100\n",
      "375/375 [==============================] - 2s 4ms/step - loss: 0.1474 - accuracy: 0.9563 - val_loss: 0.1356 - val_accuracy: 0.9567\n",
      "Epoch 53/100\n",
      "375/375 [==============================] - 1s 4ms/step - loss: 0.1459 - accuracy: 0.9566 - val_loss: 0.1323 - val_accuracy: 0.9580\n",
      "Epoch 54/100\n",
      "375/375 [==============================] - 1s 4ms/step - loss: 0.1443 - accuracy: 0.9574 - val_loss: 0.1321 - val_accuracy: 0.9613\n",
      "Epoch 55/100\n",
      "375/375 [==============================] - 1s 3ms/step - loss: 0.1423 - accuracy: 0.9578 - val_loss: 0.1294 - val_accuracy: 0.9607\n",
      "Epoch 56/100\n",
      "375/375 [==============================] - 1s 3ms/step - loss: 0.1405 - accuracy: 0.9593 - val_loss: 0.1286 - val_accuracy: 0.9633\n",
      "Epoch 57/100\n",
      "375/375 [==============================] - 1s 3ms/step - loss: 0.1386 - accuracy: 0.9603 - val_loss: 0.1286 - val_accuracy: 0.9613\n",
      "Epoch 58/100\n",
      "375/375 [==============================] - 1s 3ms/step - loss: 0.1369 - accuracy: 0.9604 - val_loss: 0.1251 - val_accuracy: 0.9600\n",
      "Epoch 59/100\n",
      "375/375 [==============================] - 1s 3ms/step - loss: 0.1355 - accuracy: 0.9604 - val_loss: 0.1244 - val_accuracy: 0.9653\n",
      "Epoch 60/100\n",
      "375/375 [==============================] - 1s 3ms/step - loss: 0.1331 - accuracy: 0.9631 - val_loss: 0.1223 - val_accuracy: 0.9633\n",
      "Epoch 61/100\n",
      "375/375 [==============================] - 1s 3ms/step - loss: 0.1313 - accuracy: 0.9623 - val_loss: 0.1248 - val_accuracy: 0.9680\n",
      "Epoch 62/100\n",
      "375/375 [==============================] - 1s 3ms/step - loss: 0.1303 - accuracy: 0.9628 - val_loss: 0.1182 - val_accuracy: 0.9647\n",
      "Epoch 63/100\n",
      "375/375 [==============================] - 1s 3ms/step - loss: 0.1285 - accuracy: 0.9628 - val_loss: 0.1176 - val_accuracy: 0.9653\n",
      "Epoch 64/100\n",
      "375/375 [==============================] - 1s 3ms/step - loss: 0.1273 - accuracy: 0.9640 - val_loss: 0.1157 - val_accuracy: 0.9687\n",
      "Epoch 65/100\n",
      "375/375 [==============================] - 1s 3ms/step - loss: 0.1254 - accuracy: 0.9643 - val_loss: 0.1171 - val_accuracy: 0.9680\n",
      "Epoch 66/100\n",
      "375/375 [==============================] - 1s 4ms/step - loss: 0.1237 - accuracy: 0.9643 - val_loss: 0.1129 - val_accuracy: 0.9713\n",
      "Epoch 67/100\n",
      "375/375 [==============================] - 1s 3ms/step - loss: 0.1222 - accuracy: 0.9653 - val_loss: 0.1174 - val_accuracy: 0.9627\n",
      "Epoch 68/100\n",
      "375/375 [==============================] - 1s 4ms/step - loss: 0.1208 - accuracy: 0.9663 - val_loss: 0.1107 - val_accuracy: 0.9707\n",
      "Epoch 69/100\n",
      "375/375 [==============================] - 1s 4ms/step - loss: 0.1191 - accuracy: 0.9661 - val_loss: 0.1090 - val_accuracy: 0.9720\n",
      "Epoch 70/100\n",
      "375/375 [==============================] - 1s 4ms/step - loss: 0.1180 - accuracy: 0.9673 - val_loss: 0.1065 - val_accuracy: 0.9720\n",
      "Epoch 71/100\n",
      "375/375 [==============================] - 1s 4ms/step - loss: 0.1164 - accuracy: 0.9673 - val_loss: 0.1054 - val_accuracy: 0.9713\n",
      "Epoch 72/100\n",
      "375/375 [==============================] - 1s 3ms/step - loss: 0.1151 - accuracy: 0.9666 - val_loss: 0.1069 - val_accuracy: 0.9720\n",
      "Epoch 73/100\n",
      "375/375 [==============================] - 1s 4ms/step - loss: 0.1135 - accuracy: 0.9689 - val_loss: 0.1030 - val_accuracy: 0.9740\n",
      "Epoch 74/100\n",
      "375/375 [==============================] - 1s 3ms/step - loss: 0.1121 - accuracy: 0.9692 - val_loss: 0.1013 - val_accuracy: 0.9740\n",
      "Epoch 75/100\n",
      "375/375 [==============================] - 1s 3ms/step - loss: 0.1112 - accuracy: 0.9687 - val_loss: 0.1009 - val_accuracy: 0.9733\n",
      "Epoch 76/100\n",
      "375/375 [==============================] - 1s 3ms/step - loss: 0.1101 - accuracy: 0.9694 - val_loss: 0.1050 - val_accuracy: 0.9660\n",
      "Epoch 77/100\n",
      "375/375 [==============================] - 1s 3ms/step - loss: 0.1086 - accuracy: 0.9696 - val_loss: 0.0982 - val_accuracy: 0.9740\n",
      "Epoch 78/100\n",
      "375/375 [==============================] - 1s 3ms/step - loss: 0.1084 - accuracy: 0.9703 - val_loss: 0.0992 - val_accuracy: 0.9747\n",
      "Epoch 79/100\n",
      "375/375 [==============================] - 1s 3ms/step - loss: 0.1066 - accuracy: 0.9697 - val_loss: 0.0972 - val_accuracy: 0.9740\n",
      "Epoch 80/100\n",
      "375/375 [==============================] - 1s 3ms/step - loss: 0.1055 - accuracy: 0.9707 - val_loss: 0.0952 - val_accuracy: 0.9740\n",
      "Epoch 81/100\n",
      "375/375 [==============================] - 1s 3ms/step - loss: 0.1045 - accuracy: 0.9712 - val_loss: 0.1038 - val_accuracy: 0.9700\n",
      "Epoch 82/100\n",
      "375/375 [==============================] - 1s 3ms/step - loss: 0.1037 - accuracy: 0.9712 - val_loss: 0.0977 - val_accuracy: 0.9707\n",
      "Epoch 83/100\n",
      "375/375 [==============================] - 1s 3ms/step - loss: 0.1028 - accuracy: 0.9718 - val_loss: 0.0932 - val_accuracy: 0.9747\n",
      "Epoch 84/100\n",
      "375/375 [==============================] - 1s 2ms/step - loss: 0.1013 - accuracy: 0.9719 - val_loss: 0.0936 - val_accuracy: 0.9747\n",
      "Epoch 85/100\n",
      "375/375 [==============================] - 1s 3ms/step - loss: 0.1001 - accuracy: 0.9721 - val_loss: 0.1028 - val_accuracy: 0.9700\n",
      "Epoch 86/100\n",
      "375/375 [==============================] - 1s 3ms/step - loss: 0.1000 - accuracy: 0.9718 - val_loss: 0.0933 - val_accuracy: 0.9733\n",
      "Epoch 87/100\n",
      "375/375 [==============================] - 1s 3ms/step - loss: 0.0990 - accuracy: 0.9728 - val_loss: 0.0920 - val_accuracy: 0.9740\n",
      "Epoch 88/100\n",
      "375/375 [==============================] - 1s 3ms/step - loss: 0.0980 - accuracy: 0.9722 - val_loss: 0.0901 - val_accuracy: 0.9753\n",
      "Epoch 89/100\n",
      "375/375 [==============================] - 1s 4ms/step - loss: 0.0972 - accuracy: 0.9732 - val_loss: 0.0892 - val_accuracy: 0.9733\n",
      "Epoch 90/100\n",
      "375/375 [==============================] - 1s 2ms/step - loss: 0.0966 - accuracy: 0.9735 - val_loss: 0.0897 - val_accuracy: 0.9760\n",
      "Epoch 91/100\n",
      "375/375 [==============================] - 1s 3ms/step - loss: 0.0947 - accuracy: 0.9732 - val_loss: 0.0946 - val_accuracy: 0.9713\n",
      "Epoch 92/100\n",
      "375/375 [==============================] - 1s 3ms/step - loss: 0.0946 - accuracy: 0.9737 - val_loss: 0.0878 - val_accuracy: 0.9760\n",
      "Epoch 93/100\n",
      "375/375 [==============================] - 1s 3ms/step - loss: 0.0940 - accuracy: 0.9739 - val_loss: 0.0866 - val_accuracy: 0.9740\n",
      "Epoch 94/100\n",
      "375/375 [==============================] - 1s 3ms/step - loss: 0.0929 - accuracy: 0.9738 - val_loss: 0.0852 - val_accuracy: 0.9740\n",
      "Epoch 95/100\n",
      "375/375 [==============================] - 1s 3ms/step - loss: 0.0922 - accuracy: 0.9743 - val_loss: 0.0848 - val_accuracy: 0.9753\n",
      "Epoch 96/100\n",
      "375/375 [==============================] - 1s 3ms/step - loss: 0.0918 - accuracy: 0.9749 - val_loss: 0.0879 - val_accuracy: 0.9740\n",
      "Epoch 97/100\n",
      "375/375 [==============================] - 1s 3ms/step - loss: 0.0904 - accuracy: 0.9748 - val_loss: 0.0850 - val_accuracy: 0.9753\n",
      "Epoch 98/100\n",
      "375/375 [==============================] - 1s 3ms/step - loss: 0.0900 - accuracy: 0.9745 - val_loss: 0.0874 - val_accuracy: 0.9747\n",
      "Epoch 99/100\n",
      "375/375 [==============================] - 1s 3ms/step - loss: 0.0891 - accuracy: 0.9751 - val_loss: 0.0835 - val_accuracy: 0.9753\n",
      "Epoch 100/100\n",
      "375/375 [==============================] - 1s 3ms/step - loss: 0.0887 - accuracy: 0.9747 - val_loss: 0.0821 - val_accuracy: 0.9767\n",
      "Training results\n",
      "Training Accuracy: 0.9747499823570251\n",
      "Training Loss: 0.0887346938252449\n",
      "Evaluation results\n",
      "Validation Accuracy: 0.9766666889190674\n",
      "Validation Loss: 0.08208726346492767\n"
     ]
    },
    {
     "data": {
      "image/png": "[encoded data removed]",
      "text/plain": [
       "<Figure size 432x288 with 1 Axes>"
      ]
     },
     "metadata": {
      "needs_background": "light"
     },
     "output_type": "display_data"
    }
   ],
   "source": [
    "final_conv_model_paper = tf.keras.Sequential(name='final_conv_model_paper')\n",
    "final_conv_model_paper.add(tf.keras.layers.Reshape((1000,1),name='Reshape', input_shape=(1000,)))\n",
    "final_conv_model_paper.add(tf.keras.layers.Conv1D(16,7,padding='same',activation='relu'))\n",
    "final_conv_model_paper.add(tf.keras.layers.MaxPooling1D(8,padding='same'))\n",
    "final_conv_model_paper.add(tf.keras.layers.Conv1D(16,5,padding='same',activation='relu'))\n",
    "final_conv_model_paper.add(tf.keras.layers.MaxPooling1D(4,padding='same'))\n",
    "final_conv_model_paper.add(tf.keras.layers.MaxPooling1D(4,padding='same'))\n",
    "final_conv_model_paper.add(tf.keras.layers.Flatten())\n",
    "final_conv_model_paper.add(tf.keras.layers.Dense(3, activation='softmax'))\n",
    "\n",
    "\n",
    "print(final_conv_model_paper.summary())\n",
    "final_conv_model_paper.compile(optimizer=tf.keras.optimizers.Adam(learning_rate=1e-4),\n",
    "              loss=tf.keras.losses.SparseCategoricalCrossentropy(),\n",
    "              metrics=['accuracy'])\n",
    "\n",
    "history = final_conv_model_paper.fit(x_train, y_train ,epochs=100, validation_data=(x_val, y_val), verbose=1)   \n",
    "\n",
    "\n",
    "# Plotting accuracy and loss\n",
    "import matplotlib.pyplot as plt\n",
    "plt.plot(history.history['loss'])\n",
    "plt.plot(history.history['accuracy'])\n",
    "plt.plot(history.history['val_accuracy'])\n",
    "plt.plot(history.history['val_loss'])\n",
    "\n",
    "\n",
    "plt.title('modified_conv_model_paper loss & accuracy')\n",
    "plt.ylabel('Loss')\n",
    "plt.xlabel('Epoch')\n",
    "plt.legend(['tr_loss', 'tr_accuracy', 'val_acc', 'val_loss'], loc='lower right')\n",
    "# accuracy!\n",
    "print(\"Training results\")\n",
    "print(f\"Training Accuracy: {history.history['accuracy'][-1]}\")\n",
    "print(f\"Training Loss: {history.history['loss'][-1]}\")\n",
    "\n",
    "# evaluating modified_conv_model_paper\n",
    "print(\"Evaluation results\")\n",
    "print(f\"Validation Accuracy: {history.history['val_accuracy'][-1]}\")\n",
    "print(f\"Validation Loss: {history.history['val_loss'][-1]}\")\n",
    "\n",
    "\n",
    "plt.show()"
   ]
  },
  {
   "cell_type": "markdown",
   "metadata": {},
   "source": [
    "#### Convert final model to TF-Lite without any optimizations."
   ]
  },
  {
   "cell_type": "code",
   "execution_count": 8,
   "metadata": {},
   "outputs": [
    {
     "name": "stderr",
     "output_type": "stream",
     "text": [
      "WARNING:absl:Function `_wrapped_model` contains input name(s) Reshape_input with unsupported characters which will be renamed to reshape_input in the SavedModel.\n",
      "WARNING:absl:Found untraced functions such as _jit_compiled_convolution_op, _jit_compiled_convolution_op while saving (showing 2 of 2). These functions will not be directly callable after loading.\n"
     ]
    },
    {
     "name": "stdout",
     "output_type": "stream",
     "text": [
      "INFO:tensorflow:Assets written to: /tmp/tmpqfbdgrzs/assets\n"
     ]
    },
    {
     "name": "stderr",
     "output_type": "stream",
     "text": [
      "INFO:tensorflow:Assets written to: /tmp/tmpqfbdgrzs/assets\n",
      "2022-10-12 11:47:20.160207: W tensorflow/compiler/mlir/lite/python/tf_tfl_flatbuffer_helpers.cc:362] Ignored output_format.\n",
      "2022-10-12 11:47:20.160222: W tensorflow/compiler/mlir/lite/python/tf_tfl_flatbuffer_helpers.cc:365] Ignored drop_control_dependency.\n",
      "2022-10-12 11:47:20.160298: I tensorflow/cc/saved_model/reader.cc:45] Reading SavedModel from: /tmp/tmpqfbdgrzs\n",
      "2022-10-12 11:47:20.161104: I tensorflow/cc/saved_model/reader.cc:89] Reading meta graph with tags { serve }\n",
      "2022-10-12 11:47:20.161114: I tensorflow/cc/saved_model/reader.cc:130] Reading SavedModel debug info (if present) from: /tmp/tmpqfbdgrzs\n",
      "2022-10-12 11:47:20.164404: I tensorflow/cc/saved_model/loader.cc:229] Restoring SavedModel bundle.\n",
      "2022-10-12 11:47:20.186333: I tensorflow/cc/saved_model/loader.cc:213] Running initialization op on SavedModel bundle at path: /tmp/tmpqfbdgrzs\n",
      "2022-10-12 11:47:20.192173: I tensorflow/cc/saved_model/loader.cc:305] SavedModel load for tags { serve }; Status: success: OK. Took 31874 microseconds.\n"
     ]
    },
    {
     "data": {
      "text/plain": [
       "14440"
      ]
     },
     "execution_count": 8,
     "metadata": {},
     "output_type": "execute_result"
    }
   ],
   "source": [
    "float_converter = tf.lite.TFLiteConverter.from_keras_model(final_conv_model_paper)\n",
    "float_tflite_model = float_converter.convert()\n",
    "tflite_model_file = pathlib.Path('final_conv_model_paper.tflite')\n",
    "tflite_model_file.write_bytes(float_tflite_model)"
   ]
  },
  {
   "cell_type": "markdown",
   "metadata": {},
   "source": [
    "### Convert final model to TF-Lite with quantization."
   ]
  },
  {
   "cell_type": "code",
   "execution_count": 7,
   "metadata": {},
   "outputs": [
    {
     "name": "stderr",
     "output_type": "stream",
     "text": [
      "WARNING:absl:Function `_wrapped_model` contains input name(s) Reshape_input with unsupported characters which will be renamed to reshape_input in the SavedModel.\n",
      "WARNING:absl:Found untraced functions such as _jit_compiled_convolution_op, _jit_compiled_convolution_op while saving (showing 2 of 2). These functions will not be directly callable after loading.\n"
     ]
    },
    {
     "name": "stdout",
     "output_type": "stream",
     "text": [
      "INFO:tensorflow:Assets written to: /tmp/tmpfoo48sqn/assets\n"
     ]
    },
    {
     "name": "stderr",
     "output_type": "stream",
     "text": [
      "INFO:tensorflow:Assets written to: /tmp/tmpfoo48sqn/assets\n",
      "/home/veysiadn/anaconda3/lib/python3.9/site-packages/tensorflow/lite/python/convert.py:766: UserWarning: Statistics for quantized inputs were expected, but not specified; continuing anyway.\n",
      "  warnings.warn(\"Statistics for quantized inputs were expected, but not \"\n",
      "2022-10-12 11:45:53.371003: W tensorflow/compiler/mlir/lite/python/tf_tfl_flatbuffer_helpers.cc:362] Ignored output_format.\n",
      "2022-10-12 11:45:53.371018: W tensorflow/compiler/mlir/lite/python/tf_tfl_flatbuffer_helpers.cc:365] Ignored drop_control_dependency.\n",
      "2022-10-12 11:45:53.371350: I tensorflow/cc/saved_model/reader.cc:45] Reading SavedModel from: /tmp/tmpfoo48sqn\n",
      "2022-10-12 11:45:53.372206: I tensorflow/cc/saved_model/reader.cc:89] Reading meta graph with tags { serve }\n",
      "2022-10-12 11:45:53.372221: I tensorflow/cc/saved_model/reader.cc:130] Reading SavedModel debug info (if present) from: /tmp/tmpfoo48sqn\n",
      "2022-10-12 11:45:53.375203: I tensorflow/compiler/mlir/mlir_graph_optimization_pass.cc:354] MLIR V1 optimization pass is not enabled\n",
      "2022-10-12 11:45:53.376016: I tensorflow/cc/saved_model/loader.cc:229] Restoring SavedModel bundle.\n",
      "2022-10-12 11:45:53.400674: I tensorflow/cc/saved_model/loader.cc:213] Running initialization op on SavedModel bundle at path: /tmp/tmpfoo48sqn\n",
      "2022-10-12 11:45:53.406334: I tensorflow/cc/saved_model/loader.cc:305] SavedModel load for tags { serve }; Status: success: OK. Took 34985 microseconds.\n",
      "2022-10-12 11:45:53.423538: I tensorflow/compiler/mlir/tensorflow/utils/dump_mlir_util.cc:268] disabling MLIR crash reproducer, set env var `MLIR_CRASH_REPRODUCER_DIRECTORY` to enable.\n",
      "fully_quantize: 0, inference_type: 6, input_inference_type: FLOAT32, output_inference_type: FLOAT32\n"
     ]
    },
    {
     "data": {
      "text/plain": [
       "11032"
      ]
     },
     "execution_count": 7,
     "metadata": {},
     "output_type": "execute_result"
    }
   ],
   "source": [
    "\n",
    "def representative_data_gen():\n",
    "  for input_value in tf.data.Dataset.from_tensor_slices(x_train).batch(1).take(100):\n",
    "    # Model has only one input so each data point has one element.\n",
    "    yield [input_value]\n",
    "\n",
    "converter = tf.lite.TFLiteConverter.from_keras_model(final_conv_model_paper)\n",
    "converter.optimizations = [tf.lite.Optimize.DEFAULT]\n",
    "converter.representative_dataset = representative_data_gen\n",
    "tflite_model_quant = converter.convert()\n",
    "\n",
    "tflite_model_file = pathlib.Path('final_conv_model_paper_optimized.tflite')\n",
    "tflite_model_file.write_bytes(tflite_model_quant)"
   ]
  },
  {
   "cell_type": "markdown",
   "metadata": {},
   "source": [
    "## Change the model described in the paper to make it suitable for conversion to TFLite, and quantization."
   ]
  },
  {
   "cell_type": "code",
   "execution_count": 19,
   "metadata": {},
   "outputs": [
    {
     "name": "stdout",
     "output_type": "stream",
     "text": [
      "Model: \"conv_modified_conv_model_paper_paper_2D\"\n",
      "_________________________________________________________________\n",
      " Layer (type)                Output Shape              Param #   \n",
      "=================================================================\n",
      " Reshape (Reshape)           (None, 1000, 1, 1)        0         \n",
      "                                                                 \n",
      " conv2d (Conv2D)             (None, 1000, 1, 32)       1600      \n",
      "                                                                 \n",
      " max_pooling2d (MaxPooling2D  (None, 125, 1, 32)       0         \n",
      " )                                                               \n",
      "                                                                 \n",
      " conv2d_1 (Conv2D)           (None, 125, 1, 48)        38448     \n",
      "                                                                 \n",
      " max_pooling2d_1 (MaxPooling  (None, 32, 1, 48)        0         \n",
      " 2D)                                                             \n",
      "                                                                 \n",
      " max_pooling2d_2 (MaxPooling  (None, 8, 1, 48)         0         \n",
      " 2D)                                                             \n",
      "                                                                 \n",
      " flatten (Flatten)           (None, 384)               0         \n",
      "                                                                 \n",
      " dense_14 (Dense)            (None, 32)                12320     \n",
      "                                                                 \n",
      " dense_15 (Dense)            (None, 32)                1056      \n",
      "                                                                 \n",
      " dense_16 (Dense)            (None, 3)                 99        \n",
      "                                                                 \n",
      "=================================================================\n",
      "Total params: 53,523\n",
      "Trainable params: 53,523\n",
      "Non-trainable params: 0\n",
      "_________________________________________________________________\n",
      "None\n",
      "Epoch 1/100\n"
     ]
    },
    {
     "name": "stderr",
     "output_type": "stream",
     "text": [
      "/home/veysiadn/anaconda3/lib/python3.9/site-packages/keras/backend.py:5582: UserWarning: \"`sparse_categorical_crossentropy` received `from_logits=True`, but the `output` argument was produced by a Softmax activation and thus does not represent logits. Was this intended?\n",
      "  output, from_logits = _get_logits(\n",
      "2022-10-25 11:40:47.904127: I tensorflow/stream_executor/cuda/cuda_dnn.cc:384] Loaded cuDNN version 8500\n"
     ]
    },
    {
     "name": "stdout",
     "output_type": "stream",
     "text": [
      "  1/329 [..............................] - ETA: 3:53 - loss: 1.0711 - accuracy: 0.4062"
     ]
    },
    {
     "name": "stderr",
     "output_type": "stream",
     "text": [
      "2022-10-25 11:40:48.168399: I tensorflow/core/platform/default/subprocess.cc:304] Start cannot spawn child process: No such file or directory\n"
     ]
    },
    {
     "name": "stdout",
     "output_type": "stream",
     "text": [
      "329/329 [==============================] - 1s 2ms/step - loss: 0.7741 - accuracy: 0.6649 - val_loss: 0.5540 - val_accuracy: 0.7773\n",
      "Epoch 2/100\n",
      "329/329 [==============================] - 1s 2ms/step - loss: 0.4565 - accuracy: 0.8370 - val_loss: 0.3973 - val_accuracy: 0.8604\n",
      "Epoch 3/100\n",
      "329/329 [==============================] - 1s 2ms/step - loss: 0.3487 - accuracy: 0.8816 - val_loss: 0.3307 - val_accuracy: 0.8907\n",
      "Epoch 4/100\n",
      "329/329 [==============================] - 1s 2ms/step - loss: 0.2920 - accuracy: 0.9062 - val_loss: 0.2799 - val_accuracy: 0.9156\n",
      "Epoch 5/100\n",
      "329/329 [==============================] - 1s 2ms/step - loss: 0.2485 - accuracy: 0.9255 - val_loss: 0.2463 - val_accuracy: 0.9258\n",
      "Epoch 6/100\n",
      "329/329 [==============================] - 1s 2ms/step - loss: 0.2179 - accuracy: 0.9345 - val_loss: 0.2161 - val_accuracy: 0.9364\n",
      "Epoch 7/100\n",
      "329/329 [==============================] - 1s 2ms/step - loss: 0.1929 - accuracy: 0.9434 - val_loss: 0.2041 - val_accuracy: 0.9436\n",
      "Epoch 8/100\n",
      "329/329 [==============================] - 1s 2ms/step - loss: 0.1747 - accuracy: 0.9478 - val_loss: 0.1742 - val_accuracy: 0.9493\n",
      "Epoch 9/100\n",
      "329/329 [==============================] - 1s 2ms/step - loss: 0.1558 - accuracy: 0.9521 - val_loss: 0.1647 - val_accuracy: 0.9493\n",
      "Epoch 10/100\n",
      "329/329 [==============================] - 1s 2ms/step - loss: 0.1394 - accuracy: 0.9590 - val_loss: 0.1459 - val_accuracy: 0.9511\n",
      "Epoch 11/100\n",
      "329/329 [==============================] - 1s 2ms/step - loss: 0.1255 - accuracy: 0.9614 - val_loss: 0.1411 - val_accuracy: 0.9560\n",
      "Epoch 12/100\n",
      "329/329 [==============================] - 1s 2ms/step - loss: 0.1146 - accuracy: 0.9659 - val_loss: 0.1222 - val_accuracy: 0.9631\n",
      "Epoch 13/100\n",
      "329/329 [==============================] - 1s 2ms/step - loss: 0.1053 - accuracy: 0.9683 - val_loss: 0.1119 - val_accuracy: 0.9627\n",
      "Epoch 14/100\n",
      "329/329 [==============================] - 1s 2ms/step - loss: 0.0949 - accuracy: 0.9721 - val_loss: 0.1063 - val_accuracy: 0.9644\n",
      "Epoch 15/100\n",
      "329/329 [==============================] - 1s 2ms/step - loss: 0.0886 - accuracy: 0.9743 - val_loss: 0.0985 - val_accuracy: 0.9662\n",
      "Epoch 16/100\n",
      "329/329 [==============================] - 1s 2ms/step - loss: 0.0806 - accuracy: 0.9754 - val_loss: 0.0978 - val_accuracy: 0.9698\n",
      "Epoch 17/100\n",
      "329/329 [==============================] - 1s 2ms/step - loss: 0.0767 - accuracy: 0.9772 - val_loss: 0.1069 - val_accuracy: 0.9649\n",
      "Epoch 18/100\n",
      "329/329 [==============================] - 1s 2ms/step - loss: 0.0704 - accuracy: 0.9787 - val_loss: 0.0779 - val_accuracy: 0.9738\n",
      "Epoch 19/100\n",
      "329/329 [==============================] - 1s 2ms/step - loss: 0.0665 - accuracy: 0.9792 - val_loss: 0.0780 - val_accuracy: 0.9742\n",
      "Epoch 20/100\n",
      "329/329 [==============================] - 1s 2ms/step - loss: 0.0617 - accuracy: 0.9817 - val_loss: 0.0676 - val_accuracy: 0.9773\n",
      "Epoch 21/100\n",
      "329/329 [==============================] - 1s 2ms/step - loss: 0.0578 - accuracy: 0.9824 - val_loss: 0.0764 - val_accuracy: 0.9756\n",
      "Epoch 22/100\n",
      "329/329 [==============================] - 1s 2ms/step - loss: 0.0527 - accuracy: 0.9834 - val_loss: 0.0646 - val_accuracy: 0.9764\n",
      "Epoch 23/100\n",
      "329/329 [==============================] - 1s 2ms/step - loss: 0.0520 - accuracy: 0.9836 - val_loss: 0.0661 - val_accuracy: 0.9764\n",
      "Epoch 24/100\n",
      "329/329 [==============================] - 1s 2ms/step - loss: 0.0495 - accuracy: 0.9838 - val_loss: 0.0555 - val_accuracy: 0.9782\n",
      "Epoch 25/100\n",
      "329/329 [==============================] - 1s 2ms/step - loss: 0.0436 - accuracy: 0.9875 - val_loss: 0.0500 - val_accuracy: 0.9818\n",
      "Epoch 26/100\n",
      "329/329 [==============================] - 1s 2ms/step - loss: 0.0428 - accuracy: 0.9863 - val_loss: 0.0569 - val_accuracy: 0.9787\n",
      "Epoch 27/100\n",
      "329/329 [==============================] - 1s 2ms/step - loss: 0.0407 - accuracy: 0.9877 - val_loss: 0.0561 - val_accuracy: 0.9827\n",
      "Epoch 28/100\n",
      "329/329 [==============================] - 1s 2ms/step - loss: 0.0366 - accuracy: 0.9892 - val_loss: 0.0400 - val_accuracy: 0.9849\n",
      "Epoch 29/100\n",
      "329/329 [==============================] - 1s 2ms/step - loss: 0.0320 - accuracy: 0.9909 - val_loss: 0.0431 - val_accuracy: 0.9827\n",
      "Epoch 30/100\n",
      "329/329 [==============================] - 1s 2ms/step - loss: 0.0309 - accuracy: 0.9910 - val_loss: 0.0472 - val_accuracy: 0.9836\n",
      "Epoch 31/100\n",
      "329/329 [==============================] - 1s 2ms/step - loss: 0.0297 - accuracy: 0.9912 - val_loss: 0.0357 - val_accuracy: 0.9858\n",
      "Epoch 32/100\n",
      "329/329 [==============================] - 1s 2ms/step - loss: 0.0273 - accuracy: 0.9920 - val_loss: 0.0387 - val_accuracy: 0.9862\n",
      "Epoch 33/100\n",
      "329/329 [==============================] - 1s 2ms/step - loss: 0.0261 - accuracy: 0.9923 - val_loss: 0.0470 - val_accuracy: 0.9876\n",
      "Epoch 34/100\n",
      "329/329 [==============================] - 1s 2ms/step - loss: 0.0234 - accuracy: 0.9932 - val_loss: 0.0310 - val_accuracy: 0.9871\n",
      "Epoch 35/100\n",
      "329/329 [==============================] - 1s 2ms/step - loss: 0.0210 - accuracy: 0.9941 - val_loss: 0.0360 - val_accuracy: 0.9858\n",
      "Epoch 36/100\n",
      "329/329 [==============================] - 1s 2ms/step - loss: 0.0221 - accuracy: 0.9927 - val_loss: 0.0290 - val_accuracy: 0.9893\n",
      "Epoch 37/100\n",
      "329/329 [==============================] - 1s 2ms/step - loss: 0.0182 - accuracy: 0.9950 - val_loss: 0.0304 - val_accuracy: 0.9880\n",
      "Epoch 38/100\n",
      "329/329 [==============================] - 1s 2ms/step - loss: 0.0228 - accuracy: 0.9941 - val_loss: 0.0290 - val_accuracy: 0.9898\n",
      "Epoch 39/100\n",
      "329/329 [==============================] - 1s 2ms/step - loss: 0.0156 - accuracy: 0.9961 - val_loss: 0.0449 - val_accuracy: 0.9858\n",
      "Epoch 40/100\n",
      "329/329 [==============================] - 1s 2ms/step - loss: 0.0143 - accuracy: 0.9966 - val_loss: 0.0232 - val_accuracy: 0.9898\n",
      "Epoch 41/100\n",
      "329/329 [==============================] - 1s 2ms/step - loss: 0.0141 - accuracy: 0.9960 - val_loss: 0.0407 - val_accuracy: 0.9831\n",
      "Epoch 42/100\n",
      "329/329 [==============================] - 1s 2ms/step - loss: 0.0173 - accuracy: 0.9950 - val_loss: 0.0358 - val_accuracy: 0.9876\n",
      "Epoch 43/100\n",
      "329/329 [==============================] - 1s 2ms/step - loss: 0.0130 - accuracy: 0.9970 - val_loss: 0.0316 - val_accuracy: 0.9867\n",
      "Epoch 44/100\n",
      "329/329 [==============================] - 1s 2ms/step - loss: 0.0102 - accuracy: 0.9975 - val_loss: 0.0290 - val_accuracy: 0.9902\n",
      "Epoch 45/100\n",
      "329/329 [==============================] - 1s 2ms/step - loss: 0.0110 - accuracy: 0.9969 - val_loss: 0.0189 - val_accuracy: 0.9920\n",
      "Epoch 46/100\n",
      "329/329 [==============================] - 1s 2ms/step - loss: 0.0143 - accuracy: 0.9952 - val_loss: 0.0411 - val_accuracy: 0.9840\n",
      "Epoch 47/100\n",
      "329/329 [==============================] - 1s 2ms/step - loss: 0.0092 - accuracy: 0.9980 - val_loss: 0.0174 - val_accuracy: 0.9929\n",
      "Epoch 48/100\n",
      "329/329 [==============================] - 1s 2ms/step - loss: 0.0086 - accuracy: 0.9978 - val_loss: 0.0249 - val_accuracy: 0.9902\n",
      "Epoch 49/100\n",
      "329/329 [==============================] - 1s 2ms/step - loss: 0.0099 - accuracy: 0.9970 - val_loss: 0.0196 - val_accuracy: 0.9924\n",
      "Epoch 50/100\n",
      "329/329 [==============================] - 1s 2ms/step - loss: 0.0062 - accuracy: 0.9989 - val_loss: 0.0202 - val_accuracy: 0.9924\n",
      "Epoch 51/100\n",
      "329/329 [==============================] - 1s 2ms/step - loss: 0.0062 - accuracy: 0.9990 - val_loss: 0.0163 - val_accuracy: 0.9938\n",
      "Epoch 52/100\n",
      "329/329 [==============================] - 1s 2ms/step - loss: 0.0057 - accuracy: 0.9989 - val_loss: 0.0186 - val_accuracy: 0.9929\n",
      "Epoch 53/100\n",
      "329/329 [==============================] - 1s 2ms/step - loss: 0.0233 - accuracy: 0.9915 - val_loss: 0.0222 - val_accuracy: 0.9920\n",
      "Epoch 54/100\n",
      "329/329 [==============================] - 1s 2ms/step - loss: 0.0042 - accuracy: 0.9995 - val_loss: 0.0160 - val_accuracy: 0.9938\n",
      "Epoch 55/100\n",
      "329/329 [==============================] - 1s 2ms/step - loss: 0.0038 - accuracy: 0.9997 - val_loss: 0.0215 - val_accuracy: 0.9929\n",
      "Epoch 56/100\n",
      "329/329 [==============================] - 1s 2ms/step - loss: 0.0046 - accuracy: 0.9992 - val_loss: 0.0189 - val_accuracy: 0.9911\n",
      "Epoch 57/100\n",
      "329/329 [==============================] - 1s 2ms/step - loss: 0.0032 - accuracy: 0.9999 - val_loss: 0.0213 - val_accuracy: 0.9920\n",
      "Epoch 58/100\n",
      "329/329 [==============================] - 1s 2ms/step - loss: 0.0039 - accuracy: 0.9994 - val_loss: 0.0191 - val_accuracy: 0.9924\n",
      "Epoch 59/100\n",
      "329/329 [==============================] - 1s 2ms/step - loss: 0.0040 - accuracy: 0.9995 - val_loss: 0.0144 - val_accuracy: 0.9947\n",
      "Epoch 60/100\n",
      "329/329 [==============================] - 1s 2ms/step - loss: 0.0083 - accuracy: 0.9972 - val_loss: 0.0275 - val_accuracy: 0.9902\n",
      "Epoch 61/100\n",
      "329/329 [==============================] - 1s 2ms/step - loss: 0.0040 - accuracy: 0.9992 - val_loss: 0.0159 - val_accuracy: 0.9929\n",
      "Epoch 62/100\n",
      "329/329 [==============================] - 1s 2ms/step - loss: 0.0031 - accuracy: 0.9995 - val_loss: 0.0145 - val_accuracy: 0.9938\n",
      "Epoch 63/100\n",
      "329/329 [==============================] - 1s 2ms/step - loss: 0.0085 - accuracy: 0.9970 - val_loss: 0.0166 - val_accuracy: 0.9920\n",
      "Epoch 64/100\n",
      "329/329 [==============================] - 1s 2ms/step - loss: 0.0026 - accuracy: 0.9998 - val_loss: 0.0136 - val_accuracy: 0.9951\n",
      "Epoch 65/100\n",
      "329/329 [==============================] - 1s 2ms/step - loss: 0.0017 - accuracy: 0.9999 - val_loss: 0.0194 - val_accuracy: 0.9924\n",
      "Epoch 66/100\n",
      "329/329 [==============================] - 1s 2ms/step - loss: 0.0015 - accuracy: 1.0000 - val_loss: 0.0132 - val_accuracy: 0.9938\n",
      "Epoch 67/100\n",
      "329/329 [==============================] - 1s 2ms/step - loss: 0.0043 - accuracy: 0.9987 - val_loss: 0.1670 - val_accuracy: 0.9511\n",
      "Epoch 68/100\n",
      "329/329 [==============================] - 1s 2ms/step - loss: 0.0081 - accuracy: 0.9977 - val_loss: 0.0168 - val_accuracy: 0.9933\n",
      "Epoch 69/100\n",
      "329/329 [==============================] - 1s 2ms/step - loss: 0.0013 - accuracy: 1.0000 - val_loss: 0.0129 - val_accuracy: 0.9947\n",
      "Epoch 70/100\n",
      "329/329 [==============================] - 1s 2ms/step - loss: 0.0013 - accuracy: 1.0000 - val_loss: 0.0150 - val_accuracy: 0.9951\n",
      "Epoch 71/100\n",
      "329/329 [==============================] - 1s 2ms/step - loss: 0.0013 - accuracy: 0.9999 - val_loss: 0.0164 - val_accuracy: 0.9938\n",
      "Epoch 72/100\n",
      "329/329 [==============================] - 1s 2ms/step - loss: 0.0025 - accuracy: 0.9997 - val_loss: 0.0290 - val_accuracy: 0.9902\n",
      "Epoch 73/100\n",
      "329/329 [==============================] - 1s 2ms/step - loss: 0.0015 - accuracy: 1.0000 - val_loss: 0.0149 - val_accuracy: 0.9942\n",
      "Epoch 74/100\n",
      "329/329 [==============================] - 1s 2ms/step - loss: 8.3691e-04 - accuracy: 1.0000 - val_loss: 0.0128 - val_accuracy: 0.9951\n",
      "Epoch 75/100\n",
      "329/329 [==============================] - 1s 2ms/step - loss: 8.0808e-04 - accuracy: 1.0000 - val_loss: 0.0120 - val_accuracy: 0.9956\n",
      "Epoch 76/100\n",
      "329/329 [==============================] - 1s 2ms/step - loss: 0.0224 - accuracy: 0.9941 - val_loss: 0.0147 - val_accuracy: 0.9947\n",
      "Epoch 77/100\n",
      "329/329 [==============================] - 1s 2ms/step - loss: 0.0014 - accuracy: 0.9999 - val_loss: 0.0132 - val_accuracy: 0.9951\n",
      "Epoch 78/100\n",
      "329/329 [==============================] - 1s 2ms/step - loss: 9.4193e-04 - accuracy: 0.9999 - val_loss: 0.0132 - val_accuracy: 0.9960\n",
      "Epoch 79/100\n",
      "329/329 [==============================] - 1s 2ms/step - loss: 7.6889e-04 - accuracy: 1.0000 - val_loss: 0.0129 - val_accuracy: 0.9951\n",
      "Epoch 80/100\n",
      "329/329 [==============================] - 1s 2ms/step - loss: 7.1295e-04 - accuracy: 1.0000 - val_loss: 0.0138 - val_accuracy: 0.9947\n",
      "Epoch 81/100\n",
      "329/329 [==============================] - 1s 2ms/step - loss: 5.6974e-04 - accuracy: 1.0000 - val_loss: 0.0125 - val_accuracy: 0.9951\n",
      "Epoch 82/100\n",
      "329/329 [==============================] - 1s 2ms/step - loss: 5.4543e-04 - accuracy: 1.0000 - val_loss: 0.0125 - val_accuracy: 0.9951\n",
      "Epoch 83/100\n",
      "329/329 [==============================] - 1s 2ms/step - loss: 4.9964e-04 - accuracy: 1.0000 - val_loss: 0.0125 - val_accuracy: 0.9960\n",
      "Epoch 84/100\n",
      "329/329 [==============================] - 1s 2ms/step - loss: 4.4760e-04 - accuracy: 1.0000 - val_loss: 0.0125 - val_accuracy: 0.9951\n",
      "Epoch 85/100\n",
      "329/329 [==============================] - 1s 2ms/step - loss: 4.6931e-04 - accuracy: 1.0000 - val_loss: 0.0123 - val_accuracy: 0.9960\n",
      "Epoch 86/100\n",
      "329/329 [==============================] - 1s 2ms/step - loss: 4.9119e-04 - accuracy: 1.0000 - val_loss: 0.0172 - val_accuracy: 0.9947\n",
      "Epoch 87/100\n",
      "329/329 [==============================] - 1s 2ms/step - loss: 0.0169 - accuracy: 0.9947 - val_loss: 0.0139 - val_accuracy: 0.9951\n",
      "Epoch 88/100\n",
      "329/329 [==============================] - 1s 2ms/step - loss: 0.0011 - accuracy: 1.0000 - val_loss: 0.0120 - val_accuracy: 0.9964\n",
      "Epoch 89/100\n",
      "329/329 [==============================] - 1s 2ms/step - loss: 5.9576e-04 - accuracy: 1.0000 - val_loss: 0.0123 - val_accuracy: 0.9956\n",
      "Epoch 90/100\n",
      "329/329 [==============================] - 1s 2ms/step - loss: 5.3881e-04 - accuracy: 1.0000 - val_loss: 0.0127 - val_accuracy: 0.9956\n",
      "Epoch 91/100\n",
      "329/329 [==============================] - 1s 2ms/step - loss: 4.8125e-04 - accuracy: 1.0000 - val_loss: 0.0129 - val_accuracy: 0.9951\n",
      "Epoch 92/100\n",
      "329/329 [==============================] - 1s 2ms/step - loss: 4.2506e-04 - accuracy: 1.0000 - val_loss: 0.0121 - val_accuracy: 0.9956\n",
      "Epoch 93/100\n",
      "329/329 [==============================] - 1s 2ms/step - loss: 3.7022e-04 - accuracy: 1.0000 - val_loss: 0.0131 - val_accuracy: 0.9947\n",
      "Epoch 94/100\n",
      "329/329 [==============================] - 1s 2ms/step - loss: 3.4599e-04 - accuracy: 1.0000 - val_loss: 0.0138 - val_accuracy: 0.9942\n",
      "Epoch 95/100\n",
      "329/329 [==============================] - 1s 2ms/step - loss: 4.0655e-04 - accuracy: 1.0000 - val_loss: 0.0124 - val_accuracy: 0.9951\n",
      "Epoch 96/100\n",
      "329/329 [==============================] - 1s 2ms/step - loss: 0.0111 - accuracy: 0.9968 - val_loss: 0.0448 - val_accuracy: 0.9867\n",
      "Epoch 97/100\n",
      "329/329 [==============================] - 1s 2ms/step - loss: 0.0102 - accuracy: 0.9973 - val_loss: 0.0154 - val_accuracy: 0.9951\n",
      "Epoch 98/100\n",
      "329/329 [==============================] - 1s 2ms/step - loss: 0.0013 - accuracy: 0.9998 - val_loss: 0.0151 - val_accuracy: 0.9942\n",
      "Epoch 99/100\n",
      "329/329 [==============================] - 1s 2ms/step - loss: 5.7299e-04 - accuracy: 1.0000 - val_loss: 0.0153 - val_accuracy: 0.9938\n",
      "Epoch 100/100\n",
      "329/329 [==============================] - 1s 2ms/step - loss: 4.3857e-04 - accuracy: 1.0000 - val_loss: 0.0145 - val_accuracy: 0.9947\n",
      "Training results\n",
      "Training Accuracy: 1.0\n",
      "Training Loss: 0.0004385701031424105\n",
      "Evaluation results\n",
      "Validation Accuracy: 0.9946666955947876\n",
      "Validation Loss: 0.01448001991957426\n"
     ]
    },
    {
     "data": {
      "image/png": "[encoded data removed]",
      "text/plain": [
       "<Figure size 432x288 with 1 Axes>"
      ]
     },
     "metadata": {
      "needs_background": "light"
     },
     "output_type": "display_data"
    }
   ],
   "source": [
    "from genericpath import samefile\n",
    "import tensorflow_model_optimization as tfmot\n",
    "\n",
    "modified_conv_model_paper = tf.keras.Sequential(name='conv_modified_conv_model_paper_paper_2D')\n",
    "modified_conv_model_paper.add(tf.keras.layers.Reshape((1000,1,1),name='Reshape', input_shape=(1000,)))\n",
    "modified_conv_model_paper.add(tf.keras.layers.Conv2D(32,7,padding='same',activation='relu'))\n",
    "modified_conv_model_paper.add(tf.keras.layers.MaxPooling2D(8,8,padding='same'))\n",
    "modified_conv_model_paper.add(tf.keras.layers.Conv2D(48,5,padding='same',activation='relu'))\n",
    "modified_conv_model_paper.add(tf.keras.layers.MaxPooling2D(4,4,padding='same'))\n",
    "modified_conv_model_paper.add(tf.keras.layers.MaxPooling2D(4,4,padding='same'))\n",
    "modified_conv_model_paper.add(tf.keras.layers.Flatten())\n",
    "modified_conv_model_paper.add(tf.keras.layers.Dense(32))\n",
    "modified_conv_model_paper.add(tf.keras.layers.Dense(32))\n",
    "modified_conv_model_paper.add(tf.keras.layers.Dense(3, activation='softmax'))\n",
    "\n",
    "\n",
    "print(modified_conv_model_paper.summary())\n",
    "modified_conv_model_paper.compile(optimizer=tf.keras.optimizers.Adam(learning_rate=1e-4),\n",
    "              loss=tf.keras.losses.SparseCategoricalCrossentropy(from_logits=True),\n",
    "              metrics=['accuracy'])\n",
    "\n",
    "history = modified_conv_model_paper.fit(x_train, y_train ,epochs=100, validation_data=(x_val, y_val), verbose=1)   \n",
    "\n",
    "\n",
    "# Plotting accuracy and loss\n",
    "import matplotlib.pyplot as plt\n",
    "plt.plot(history.history['loss'])\n",
    "plt.plot(history.history['accuracy'])\n",
    "plt.plot(history.history['val_accuracy'])\n",
    "plt.plot(history.history['val_loss'])\n",
    "\n",
    "\n",
    "plt.title('modified_conv_model_paper loss & accuracy')\n",
    "plt.ylabel('Loss')\n",
    "plt.xlabel('Epoch')\n",
    "plt.legend(['tr_loss', 'tr_accuracy', 'val_acc', 'val_loss'], loc='lower right')\n",
    "# accuracy!\n",
    "print(\"Training results\")\n",
    "print(f\"Training Accuracy: {history.history['accuracy'][-1]}\")\n",
    "print(f\"Training Loss: {history.history['loss'][-1]}\")\n",
    "\n",
    "# evaluating modified_conv_model_paper\n",
    "print(\"Evaluation results\")\n",
    "print(f\"Validation Accuracy: {history.history['val_accuracy'][-1]}\")\n",
    "print(f\"Validation Loss: {history.history['val_loss'][-1]}\")\n",
    "\n",
    "\n",
    "plt.show()"
   ]
  },
  {
   "cell_type": "code",
   "execution_count": 21,
   "metadata": {},
   "outputs": [
    {
     "name": "stdout",
     "output_type": "stream",
     "text": [
      "\n",
      "=========================Options=============================\n",
      "-max_depth                  10000\n",
      "-min_bytes                  0\n",
      "-min_peak_bytes             0\n",
      "-min_residual_bytes         0\n",
      "-min_output_bytes           0\n",
      "-min_micros                 0\n",
      "-min_accelerator_micros     0\n",
      "-min_cpu_micros             0\n",
      "-min_params                 0\n",
      "-min_float_ops              1\n",
      "-min_occurrence             0\n",
      "-step                       -1\n",
      "-order_by                   float_ops\n",
      "-account_type_regexes       .*\n",
      "-start_name_regexes         .*\n",
      "-trim_name_regexes          \n",
      "-show_name_regexes          .*\n",
      "-hide_name_regexes          \n",
      "-account_displayed_op_only  true\n",
      "-select                     float_ops\n",
      "-output                     stdout:\n",
      "\n",
      "==================Model Analysis Report======================\n",
      "\n",
      "Doc:\n",
      "scope: The nodes in the model graph are organized by their names, which is hierarchical like filesystem.\n",
      "flops: Number of float operations. Note: Please read the implementation for the math behind it.\n",
      "\n",
      "Profile:\n",
      "node name | # float_ops\n",
      "_TFProfRoot (--/13.09m flops)\n",
      "  conv_modified_conv_model_paper_paper_2D/conv2d_1/Conv2D (9.60m/9.60m flops)\n",
      "  conv_modified_conv_model_paper_paper_2D/conv2d/Conv2D (3.14m/3.14m flops)\n",
      "  conv_modified_conv_model_paper_paper_2D/max_pooling2d/MaxPool (256.00k/256.00k flops)\n",
      "  conv_modified_conv_model_paper_paper_2D/conv2d/BiasAdd (32.00k/32.00k flops)\n",
      "  conv_modified_conv_model_paper_paper_2D/dense_14/MatMul (24.58k/24.58k flops)\n",
      "  conv_modified_conv_model_paper_paper_2D/max_pooling2d_1/MaxPool (24.58k/24.58k flops)\n",
      "  conv_modified_conv_model_paper_paper_2D/max_pooling2d_2/MaxPool (6.14k/6.14k flops)\n",
      "  conv_modified_conv_model_paper_paper_2D/conv2d_1/BiasAdd (6.00k/6.00k flops)\n",
      "  conv_modified_conv_model_paper_paper_2D/dense_15/MatMul (2.05k/2.05k flops)\n",
      "  conv_modified_conv_model_paper_paper_2D/dense_16/MatMul (192/192 flops)\n",
      "  conv_modified_conv_model_paper_paper_2D/dense_14/BiasAdd (32/32 flops)\n",
      "  conv_modified_conv_model_paper_paper_2D/dense_15/BiasAdd (32/32 flops)\n",
      "  conv_modified_conv_model_paper_paper_2D/dense_16/Softmax (15/15 flops)\n",
      "  conv_modified_conv_model_paper_paper_2D/dense_16/BiasAdd (3/3 flops)\n",
      "\n",
      "======================End of Report==========================\n",
      "FLOPS: 13087618 operations\n"
     ]
    },
    {
     "name": "stderr",
     "output_type": "stream",
     "text": [
      "2022-10-25 11:42:34.178972: I tensorflow/stream_executor/cuda/cuda_gpu_executor.cc:980] successful NUMA node read from SysFS had negative value (-1), but there must be at least one NUMA node, so returning NUMA node zero\n",
      "2022-10-25 11:42:34.179051: I tensorflow/core/grappler/devices.cc:66] Number of eligible GPUs (core count >= 8, compute capability >= 0.0): 1\n",
      "2022-10-25 11:42:34.179096: I tensorflow/core/grappler/clusters/single_machine.cc:358] Starting new session\n",
      "2022-10-25 11:42:34.179569: I tensorflow/stream_executor/cuda/cuda_gpu_executor.cc:980] successful NUMA node read from SysFS had negative value (-1), but there must be at least one NUMA node, so returning NUMA node zero\n",
      "2022-10-25 11:42:34.179648: I tensorflow/stream_executor/cuda/cuda_gpu_executor.cc:980] successful NUMA node read from SysFS had negative value (-1), but there must be at least one NUMA node, so returning NUMA node zero\n",
      "2022-10-25 11:42:34.179693: I tensorflow/stream_executor/cuda/cuda_gpu_executor.cc:980] successful NUMA node read from SysFS had negative value (-1), but there must be at least one NUMA node, so returning NUMA node zero\n",
      "2022-10-25 11:42:34.179768: I tensorflow/stream_executor/cuda/cuda_gpu_executor.cc:980] successful NUMA node read from SysFS had negative value (-1), but there must be at least one NUMA node, so returning NUMA node zero\n",
      "2022-10-25 11:42:34.179813: I tensorflow/stream_executor/cuda/cuda_gpu_executor.cc:980] successful NUMA node read from SysFS had negative value (-1), but there must be at least one NUMA node, so returning NUMA node zero\n",
      "2022-10-25 11:42:34.179853: I tensorflow/core/common_runtime/gpu/gpu_device.cc:1616] Created device /job:localhost/replica:0/task:0/device:GPU:0 with 21719 MB memory:  -> device: 0, name: NVIDIA GeForce RTX 3090, pci bus id: 0000:01:00.0, compute capability: 8.6\n"
     ]
    }
   ],
   "source": [
    "from keras_flops import get_flops\n",
    "flops = get_flops(modified_conv_model_paper)\n",
    "print(f\"FLOPS: {flops} operations\")"
   ]
  },
  {
   "cell_type": "code",
   "execution_count": 22,
   "metadata": {},
   "outputs": [
    {
     "name": "stdout",
     "output_type": "stream",
     "text": [
      "FLOPS: 13087618 operations\n"
     ]
    }
   ],
   "source": [
    "print(f\"FLOPS: {flops} operations\")"
   ]
  },
  {
   "cell_type": "markdown",
   "metadata": {},
   "source": [
    "## Save model as .tflite and .pb"
   ]
  },
  {
   "cell_type": "code",
   "execution_count": 11,
   "metadata": {},
   "outputs": [
    {
     "name": "stderr",
     "output_type": "stream",
     "text": [
      "WARNING:absl:Function `_wrapped_model` contains input name(s) Reshape_input with unsupported characters which will be renamed to reshape_input in the SavedModel.\n",
      "WARNING:absl:Found untraced functions such as _jit_compiled_convolution_op, _jit_compiled_convolution_op while saving (showing 2 of 2). These functions will not be directly callable after loading.\n"
     ]
    },
    {
     "name": "stdout",
     "output_type": "stream",
     "text": [
      "INFO:tensorflow:Assets written to: /tmp/tmp4dvj30xg/assets\n"
     ]
    },
    {
     "name": "stderr",
     "output_type": "stream",
     "text": [
      "INFO:tensorflow:Assets written to: /tmp/tmp4dvj30xg/assets\n",
      "2022-10-06 10:35:25.175786: W tensorflow/compiler/mlir/lite/python/tf_tfl_flatbuffer_helpers.cc:362] Ignored output_format.\n",
      "2022-10-06 10:35:25.175803: W tensorflow/compiler/mlir/lite/python/tf_tfl_flatbuffer_helpers.cc:365] Ignored drop_control_dependency.\n",
      "2022-10-06 10:35:25.175888: I tensorflow/cc/saved_model/reader.cc:45] Reading SavedModel from: /tmp/tmp4dvj30xg\n",
      "2022-10-06 10:35:25.176835: I tensorflow/cc/saved_model/reader.cc:89] Reading meta graph with tags { serve }\n",
      "2022-10-06 10:35:25.176846: I tensorflow/cc/saved_model/reader.cc:130] Reading SavedModel debug info (if present) from: /tmp/tmp4dvj30xg\n",
      "2022-10-06 10:35:25.180699: I tensorflow/cc/saved_model/loader.cc:229] Restoring SavedModel bundle.\n",
      "2022-10-06 10:35:25.209889: I tensorflow/cc/saved_model/loader.cc:213] Running initialization op on SavedModel bundle at path: /tmp/tmp4dvj30xg\n",
      "2022-10-06 10:35:25.216447: I tensorflow/cc/saved_model/loader.cc:305] SavedModel load for tags { serve }; Status: success: OK. Took 40558 microseconds.\n"
     ]
    },
    {
     "data": {
      "text/plain": [
       "219920"
      ]
     },
     "execution_count": 11,
     "metadata": {},
     "output_type": "execute_result"
    }
   ],
   "source": [
    "converter = tf.lite.TFLiteConverter.from_keras_model(modified_conv_model_paper)\n",
    "modidified_conv_model_converted = converter.convert()\n",
    "tflite_model_file = pathlib.Path('conv_model_paper_2D.tflite')\n",
    "tflite_model_file.write_bytes(modidified_conv_model_converted)"
   ]
  },
  {
   "cell_type": "code",
   "execution_count": 12,
   "metadata": {},
   "outputs": [],
   "source": [
    "!xxd -i conv_model_paper_2D.tflite > conv_model_paper_2D.cc"
   ]
  },
  {
   "cell_type": "markdown",
   "metadata": {},
   "source": [
    "## Quantize same model and save it."
   ]
  },
  {
   "cell_type": "code",
   "execution_count": 13,
   "metadata": {},
   "outputs": [
    {
     "name": "stderr",
     "output_type": "stream",
     "text": [
      "WARNING:absl:Function `_wrapped_model` contains input name(s) Reshape_input with unsupported characters which will be renamed to reshape_input in the SavedModel.\n",
      "WARNING:absl:Found untraced functions such as _jit_compiled_convolution_op, _jit_compiled_convolution_op while saving (showing 2 of 2). These functions will not be directly callable after loading.\n"
     ]
    },
    {
     "name": "stdout",
     "output_type": "stream",
     "text": [
      "INFO:tensorflow:Assets written to: /tmp/tmpvsg4qhk4/assets\n"
     ]
    },
    {
     "name": "stderr",
     "output_type": "stream",
     "text": [
      "INFO:tensorflow:Assets written to: /tmp/tmpvsg4qhk4/assets\n",
      "/home/veysiadn/anaconda3/lib/python3.9/site-packages/tensorflow/lite/python/convert.py:766: UserWarning: Statistics for quantized inputs were expected, but not specified; continuing anyway.\n",
      "  warnings.warn(\"Statistics for quantized inputs were expected, but not \"\n",
      "2022-10-06 10:35:30.343080: W tensorflow/compiler/mlir/lite/python/tf_tfl_flatbuffer_helpers.cc:362] Ignored output_format.\n",
      "2022-10-06 10:35:30.343097: W tensorflow/compiler/mlir/lite/python/tf_tfl_flatbuffer_helpers.cc:365] Ignored drop_control_dependency.\n",
      "2022-10-06 10:35:30.343211: I tensorflow/cc/saved_model/reader.cc:45] Reading SavedModel from: /tmp/tmpvsg4qhk4\n",
      "2022-10-06 10:35:30.344158: I tensorflow/cc/saved_model/reader.cc:89] Reading meta graph with tags { serve }\n",
      "2022-10-06 10:35:30.344170: I tensorflow/cc/saved_model/reader.cc:130] Reading SavedModel debug info (if present) from: /tmp/tmpvsg4qhk4\n",
      "2022-10-06 10:35:30.347950: I tensorflow/cc/saved_model/loader.cc:229] Restoring SavedModel bundle.\n",
      "2022-10-06 10:35:30.377267: I tensorflow/cc/saved_model/loader.cc:213] Running initialization op on SavedModel bundle at path: /tmp/tmpvsg4qhk4\n",
      "2022-10-06 10:35:30.383833: I tensorflow/cc/saved_model/loader.cc:305] SavedModel load for tags { serve }; Status: success: OK. Took 40621 microseconds.\n",
      "fully_quantize: 0, inference_type: 6, input_inference_type: FLOAT32, output_inference_type: FLOAT32\n"
     ]
    },
    {
     "data": {
      "text/plain": [
       "62736"
      ]
     },
     "execution_count": 13,
     "metadata": {},
     "output_type": "execute_result"
    }
   ],
   "source": [
    "\n",
    "def representative_data_gen():\n",
    "  for input_value in tf.data.Dataset.from_tensor_slices(x_train).batch(1).take(100):\n",
    "    # Model has only one input so each data point has one element.\n",
    "    yield [input_value]\n",
    "\n",
    "converter = tf.lite.TFLiteConverter.from_keras_model(modified_conv_model_paper)\n",
    "converter.optimizations = [tf.lite.Optimize.DEFAULT]\n",
    "converter.representative_dataset = representative_data_gen\n",
    "tflite_model_quant = converter.convert()\n",
    "\n",
    "tflite_model_file = pathlib.Path('conv_model_paper_2D_optimized.tflite')\n",
    "tflite_model_file.write_bytes(tflite_model_quant)"
   ]
  },
  {
   "cell_type": "code",
   "execution_count": 14,
   "metadata": {},
   "outputs": [],
   "source": [
    "!xxd -i conv_model_paper_2D_optimized.tflite > conv_model_paper_2D_optimized.cc"
   ]
  },
  {
   "cell_type": "markdown",
   "metadata": {},
   "source": [
    "## Define experimental random 2D convolutional model."
   ]
  },
  {
   "cell_type": "code",
   "execution_count": 15,
   "metadata": {},
   "outputs": [
    {
     "name": "stdout",
     "output_type": "stream",
     "text": [
      "Model: \"custom_2D_conv_model\"\n",
      "_________________________________________________________________\n",
      " Layer (type)                Output Shape              Param #   \n",
      "=================================================================\n",
      " Reshape (Reshape)           (None, 1000, 1, 1)        0         \n",
      "                                                                 \n",
      " conv2d_2 (Conv2D)           (None, 1000, 1, 8)        208       \n",
      "                                                                 \n",
      " max_pooling2d_3 (MaxPooling  (None, 500, 1, 8)        0         \n",
      " 2D)                                                             \n",
      "                                                                 \n",
      " flatten_2 (Flatten)         (None, 4000)              0         \n",
      "                                                                 \n",
      " output (Dense)              (None, 3)                 12003     \n",
      "                                                                 \n",
      "=================================================================\n",
      "Total params: 12,211\n",
      "Trainable params: 12,211\n",
      "Non-trainable params: 0\n",
      "_________________________________________________________________\n",
      "None\n",
      "Epoch 1/100\n",
      " 46/375 [==>...........................] - ETA: 0s - loss: 1.0106 - accuracy: 0.4721 "
     ]
    },
    {
     "name": "stderr",
     "output_type": "stream",
     "text": [
      "/home/veysiadn/anaconda3/lib/python3.9/site-packages/keras/backend.py:5582: UserWarning: \"`sparse_categorical_crossentropy` received `from_logits=True`, but the `output` argument was produced by a Softmax activation and thus does not represent logits. Was this intended?\n",
      "  output, from_logits = _get_logits(\n"
     ]
    },
    {
     "name": "stdout",
     "output_type": "stream",
     "text": [
      "375/375 [==============================] - 1s 3ms/step - loss: 0.7049 - accuracy: 0.7482 - val_loss: 0.4442 - val_accuracy: 0.8667\n",
      "Epoch 2/100\n",
      "375/375 [==============================] - 1s 3ms/step - loss: 0.3371 - accuracy: 0.9085 - val_loss: 0.2578 - val_accuracy: 0.9247\n",
      "Epoch 3/100\n",
      "375/375 [==============================] - 1s 3ms/step - loss: 0.2221 - accuracy: 0.9372 - val_loss: 0.1939 - val_accuracy: 0.9453\n",
      "Epoch 4/100\n",
      "375/375 [==============================] - 1s 2ms/step - loss: 0.1728 - accuracy: 0.9488 - val_loss: 0.1598 - val_accuracy: 0.9487\n",
      "Epoch 5/100\n",
      "375/375 [==============================] - 1s 2ms/step - loss: 0.1443 - accuracy: 0.9561 - val_loss: 0.1403 - val_accuracy: 0.9527\n",
      "Epoch 6/100\n",
      "375/375 [==============================] - 1s 2ms/step - loss: 0.1235 - accuracy: 0.9635 - val_loss: 0.1253 - val_accuracy: 0.9613\n",
      "Epoch 7/100\n",
      "375/375 [==============================] - 1s 3ms/step - loss: 0.1079 - accuracy: 0.9682 - val_loss: 0.1172 - val_accuracy: 0.9653\n",
      "Epoch 8/100\n",
      "375/375 [==============================] - 1s 3ms/step - loss: 0.0958 - accuracy: 0.9727 - val_loss: 0.1071 - val_accuracy: 0.9673\n",
      "Epoch 9/100\n",
      "375/375 [==============================] - 1s 3ms/step - loss: 0.0865 - accuracy: 0.9751 - val_loss: 0.1020 - val_accuracy: 0.9693\n",
      "Epoch 10/100\n",
      "375/375 [==============================] - 1s 3ms/step - loss: 0.0793 - accuracy: 0.9768 - val_loss: 0.0930 - val_accuracy: 0.9713\n",
      "Epoch 11/100\n",
      "375/375 [==============================] - 1s 3ms/step - loss: 0.0730 - accuracy: 0.9788 - val_loss: 0.0892 - val_accuracy: 0.9753\n",
      "Epoch 12/100\n",
      "375/375 [==============================] - 1s 3ms/step - loss: 0.0683 - accuracy: 0.9808 - val_loss: 0.0878 - val_accuracy: 0.9733\n",
      "Epoch 13/100\n",
      "375/375 [==============================] - 1s 4ms/step - loss: 0.0637 - accuracy: 0.9824 - val_loss: 0.0845 - val_accuracy: 0.9747\n",
      "Epoch 14/100\n",
      "375/375 [==============================] - 1s 3ms/step - loss: 0.0601 - accuracy: 0.9839 - val_loss: 0.0820 - val_accuracy: 0.9793\n",
      "Epoch 15/100\n",
      "375/375 [==============================] - 1s 3ms/step - loss: 0.0566 - accuracy: 0.9843 - val_loss: 0.0841 - val_accuracy: 0.9780\n",
      "Epoch 16/100\n",
      "375/375 [==============================] - 1s 3ms/step - loss: 0.0542 - accuracy: 0.9856 - val_loss: 0.0801 - val_accuracy: 0.9753\n",
      "Epoch 17/100\n",
      "375/375 [==============================] - 1s 3ms/step - loss: 0.0515 - accuracy: 0.9859 - val_loss: 0.0761 - val_accuracy: 0.9787\n",
      "Epoch 18/100\n",
      "375/375 [==============================] - 1s 3ms/step - loss: 0.0497 - accuracy: 0.9868 - val_loss: 0.0738 - val_accuracy: 0.9807\n",
      "Epoch 19/100\n",
      "375/375 [==============================] - 1s 3ms/step - loss: 0.0472 - accuracy: 0.9876 - val_loss: 0.0741 - val_accuracy: 0.9787\n",
      "Epoch 20/100\n",
      "375/375 [==============================] - 1s 3ms/step - loss: 0.0452 - accuracy: 0.9877 - val_loss: 0.0744 - val_accuracy: 0.9767\n",
      "Epoch 21/100\n",
      "375/375 [==============================] - 1s 3ms/step - loss: 0.0436 - accuracy: 0.9879 - val_loss: 0.0697 - val_accuracy: 0.9833\n",
      "Epoch 22/100\n",
      "375/375 [==============================] - 1s 3ms/step - loss: 0.0422 - accuracy: 0.9887 - val_loss: 0.0704 - val_accuracy: 0.9820\n",
      "Epoch 23/100\n",
      "375/375 [==============================] - 1s 4ms/step - loss: 0.0405 - accuracy: 0.9889 - val_loss: 0.0695 - val_accuracy: 0.9793\n",
      "Epoch 24/100\n",
      "375/375 [==============================] - 1s 3ms/step - loss: 0.0395 - accuracy: 0.9897 - val_loss: 0.0692 - val_accuracy: 0.9800\n",
      "Epoch 25/100\n",
      "375/375 [==============================] - 1s 3ms/step - loss: 0.0380 - accuracy: 0.9900 - val_loss: 0.0671 - val_accuracy: 0.9833\n",
      "Epoch 26/100\n",
      "375/375 [==============================] - 1s 3ms/step - loss: 0.0368 - accuracy: 0.9898 - val_loss: 0.0703 - val_accuracy: 0.9813\n",
      "Epoch 27/100\n",
      "375/375 [==============================] - 1s 3ms/step - loss: 0.0361 - accuracy: 0.9907 - val_loss: 0.0666 - val_accuracy: 0.9820\n",
      "Epoch 28/100\n",
      "375/375 [==============================] - 1s 3ms/step - loss: 0.0346 - accuracy: 0.9909 - val_loss: 0.0671 - val_accuracy: 0.9813\n",
      "Epoch 29/100\n",
      "375/375 [==============================] - 1s 3ms/step - loss: 0.0336 - accuracy: 0.9907 - val_loss: 0.0671 - val_accuracy: 0.9827\n",
      "Epoch 30/100\n",
      "375/375 [==============================] - 1s 3ms/step - loss: 0.0328 - accuracy: 0.9907 - val_loss: 0.0641 - val_accuracy: 0.9853\n",
      "Epoch 31/100\n",
      "375/375 [==============================] - 1s 3ms/step - loss: 0.0322 - accuracy: 0.9918 - val_loss: 0.0627 - val_accuracy: 0.9853\n",
      "Epoch 32/100\n",
      "375/375 [==============================] - 1s 3ms/step - loss: 0.0309 - accuracy: 0.9920 - val_loss: 0.0661 - val_accuracy: 0.9840\n",
      "Epoch 33/100\n",
      "375/375 [==============================] - 1s 3ms/step - loss: 0.0303 - accuracy: 0.9918 - val_loss: 0.0624 - val_accuracy: 0.9840\n",
      "Epoch 34/100\n",
      "375/375 [==============================] - 1s 3ms/step - loss: 0.0299 - accuracy: 0.9923 - val_loss: 0.0644 - val_accuracy: 0.9833\n",
      "Epoch 35/100\n",
      "375/375 [==============================] - 1s 3ms/step - loss: 0.0290 - accuracy: 0.9921 - val_loss: 0.0651 - val_accuracy: 0.9847\n",
      "Epoch 36/100\n",
      "375/375 [==============================] - 1s 4ms/step - loss: 0.0280 - accuracy: 0.9923 - val_loss: 0.0632 - val_accuracy: 0.9840\n",
      "Epoch 37/100\n",
      "375/375 [==============================] - 1s 3ms/step - loss: 0.0275 - accuracy: 0.9927 - val_loss: 0.0659 - val_accuracy: 0.9847\n",
      "Epoch 38/100\n",
      "375/375 [==============================] - 1s 3ms/step - loss: 0.0270 - accuracy: 0.9928 - val_loss: 0.0608 - val_accuracy: 0.9867\n",
      "Epoch 39/100\n",
      "375/375 [==============================] - 1s 3ms/step - loss: 0.0262 - accuracy: 0.9931 - val_loss: 0.0615 - val_accuracy: 0.9853\n",
      "Epoch 40/100\n",
      "375/375 [==============================] - 1s 2ms/step - loss: 0.0256 - accuracy: 0.9933 - val_loss: 0.0650 - val_accuracy: 0.9840\n",
      "Epoch 41/100\n",
      "375/375 [==============================] - 1s 3ms/step - loss: 0.0250 - accuracy: 0.9933 - val_loss: 0.0654 - val_accuracy: 0.9873\n",
      "Epoch 42/100\n",
      "375/375 [==============================] - 1s 3ms/step - loss: 0.0250 - accuracy: 0.9939 - val_loss: 0.0629 - val_accuracy: 0.9867\n",
      "Epoch 43/100\n",
      "375/375 [==============================] - 1s 3ms/step - loss: 0.0248 - accuracy: 0.9936 - val_loss: 0.0587 - val_accuracy: 0.9867\n",
      "Epoch 44/100\n",
      "375/375 [==============================] - 1s 3ms/step - loss: 0.0238 - accuracy: 0.9942 - val_loss: 0.0597 - val_accuracy: 0.9867\n",
      "Epoch 45/100\n",
      "375/375 [==============================] - 1s 3ms/step - loss: 0.0234 - accuracy: 0.9942 - val_loss: 0.0598 - val_accuracy: 0.9860\n",
      "Epoch 46/100\n",
      "375/375 [==============================] - 1s 3ms/step - loss: 0.0226 - accuracy: 0.9947 - val_loss: 0.0589 - val_accuracy: 0.9860\n",
      "Epoch 47/100\n",
      "375/375 [==============================] - 1s 3ms/step - loss: 0.0225 - accuracy: 0.9947 - val_loss: 0.0593 - val_accuracy: 0.9867\n",
      "Epoch 48/100\n",
      "375/375 [==============================] - 1s 3ms/step - loss: 0.0220 - accuracy: 0.9951 - val_loss: 0.0616 - val_accuracy: 0.9867\n",
      "Epoch 49/100\n",
      "375/375 [==============================] - 1s 3ms/step - loss: 0.0222 - accuracy: 0.9942 - val_loss: 0.0582 - val_accuracy: 0.9867\n",
      "Epoch 50/100\n",
      "375/375 [==============================] - 1s 3ms/step - loss: 0.0213 - accuracy: 0.9951 - val_loss: 0.0595 - val_accuracy: 0.9867\n",
      "Epoch 51/100\n",
      "375/375 [==============================] - 1s 3ms/step - loss: 0.0212 - accuracy: 0.9949 - val_loss: 0.0632 - val_accuracy: 0.9867\n",
      "Epoch 52/100\n",
      "375/375 [==============================] - 1s 3ms/step - loss: 0.0211 - accuracy: 0.9950 - val_loss: 0.0569 - val_accuracy: 0.9860\n",
      "Epoch 53/100\n",
      "375/375 [==============================] - 1s 3ms/step - loss: 0.0202 - accuracy: 0.9952 - val_loss: 0.0604 - val_accuracy: 0.9860\n",
      "Epoch 54/100\n",
      "375/375 [==============================] - 1s 3ms/step - loss: 0.0202 - accuracy: 0.9951 - val_loss: 0.0616 - val_accuracy: 0.9860\n",
      "Epoch 55/100\n",
      "375/375 [==============================] - 1s 3ms/step - loss: 0.0199 - accuracy: 0.9951 - val_loss: 0.0583 - val_accuracy: 0.9853\n",
      "Epoch 56/100\n",
      "375/375 [==============================] - 1s 3ms/step - loss: 0.0195 - accuracy: 0.9951 - val_loss: 0.0596 - val_accuracy: 0.9860\n",
      "Epoch 57/100\n",
      "375/375 [==============================] - 1s 3ms/step - loss: 0.0199 - accuracy: 0.9952 - val_loss: 0.0583 - val_accuracy: 0.9860\n",
      "Epoch 58/100\n",
      "375/375 [==============================] - 1s 3ms/step - loss: 0.0192 - accuracy: 0.9956 - val_loss: 0.0593 - val_accuracy: 0.9853\n",
      "Epoch 59/100\n",
      "375/375 [==============================] - 1s 3ms/step - loss: 0.0193 - accuracy: 0.9958 - val_loss: 0.0586 - val_accuracy: 0.9853\n",
      "Epoch 60/100\n",
      "375/375 [==============================] - 1s 3ms/step - loss: 0.0186 - accuracy: 0.9958 - val_loss: 0.0637 - val_accuracy: 0.9867\n",
      "Epoch 61/100\n",
      "375/375 [==============================] - 1s 2ms/step - loss: 0.0185 - accuracy: 0.9955 - val_loss: 0.0578 - val_accuracy: 0.9867\n",
      "Epoch 62/100\n",
      "375/375 [==============================] - 1s 3ms/step - loss: 0.0184 - accuracy: 0.9960 - val_loss: 0.0575 - val_accuracy: 0.9860\n",
      "Epoch 63/100\n",
      "375/375 [==============================] - 1s 3ms/step - loss: 0.0178 - accuracy: 0.9961 - val_loss: 0.0594 - val_accuracy: 0.9867\n",
      "Epoch 64/100\n",
      "375/375 [==============================] - 1s 2ms/step - loss: 0.0176 - accuracy: 0.9962 - val_loss: 0.0581 - val_accuracy: 0.9860\n",
      "Epoch 65/100\n",
      "375/375 [==============================] - 1s 2ms/step - loss: 0.0176 - accuracy: 0.9965 - val_loss: 0.0586 - val_accuracy: 0.9873\n",
      "Epoch 66/100\n",
      "375/375 [==============================] - 1s 3ms/step - loss: 0.0172 - accuracy: 0.9962 - val_loss: 0.0580 - val_accuracy: 0.9873\n",
      "Epoch 67/100\n",
      "375/375 [==============================] - 1s 3ms/step - loss: 0.0170 - accuracy: 0.9961 - val_loss: 0.0561 - val_accuracy: 0.9867\n",
      "Epoch 68/100\n",
      "375/375 [==============================] - 1s 3ms/step - loss: 0.0166 - accuracy: 0.9965 - val_loss: 0.0566 - val_accuracy: 0.9873\n",
      "Epoch 69/100\n",
      "375/375 [==============================] - 1s 3ms/step - loss: 0.0164 - accuracy: 0.9963 - val_loss: 0.0571 - val_accuracy: 0.9867\n",
      "Epoch 70/100\n",
      "375/375 [==============================] - 1s 2ms/step - loss: 0.0160 - accuracy: 0.9967 - val_loss: 0.0632 - val_accuracy: 0.9887\n",
      "Epoch 71/100\n",
      "375/375 [==============================] - 1s 3ms/step - loss: 0.0161 - accuracy: 0.9970 - val_loss: 0.0556 - val_accuracy: 0.9867\n",
      "Epoch 72/100\n",
      "375/375 [==============================] - 1s 2ms/step - loss: 0.0154 - accuracy: 0.9964 - val_loss: 0.0570 - val_accuracy: 0.9873\n",
      "Epoch 73/100\n",
      "375/375 [==============================] - 1s 3ms/step - loss: 0.0154 - accuracy: 0.9965 - val_loss: 0.0580 - val_accuracy: 0.9873\n",
      "Epoch 74/100\n",
      "375/375 [==============================] - 1s 3ms/step - loss: 0.0155 - accuracy: 0.9965 - val_loss: 0.0564 - val_accuracy: 0.9867\n",
      "Epoch 75/100\n",
      "375/375 [==============================] - 1s 2ms/step - loss: 0.0152 - accuracy: 0.9968 - val_loss: 0.0559 - val_accuracy: 0.9873\n",
      "Epoch 76/100\n",
      "375/375 [==============================] - 1s 3ms/step - loss: 0.0150 - accuracy: 0.9966 - val_loss: 0.0556 - val_accuracy: 0.9873\n",
      "Epoch 77/100\n",
      "375/375 [==============================] - 1s 2ms/step - loss: 0.0150 - accuracy: 0.9965 - val_loss: 0.0562 - val_accuracy: 0.9887\n",
      "Epoch 78/100\n",
      "375/375 [==============================] - 1s 2ms/step - loss: 0.0149 - accuracy: 0.9971 - val_loss: 0.0560 - val_accuracy: 0.9873\n",
      "Epoch 79/100\n",
      "375/375 [==============================] - 1s 3ms/step - loss: 0.0145 - accuracy: 0.9967 - val_loss: 0.0568 - val_accuracy: 0.9873\n",
      "Epoch 80/100\n",
      "375/375 [==============================] - 1s 2ms/step - loss: 0.0140 - accuracy: 0.9973 - val_loss: 0.0555 - val_accuracy: 0.9887\n",
      "Epoch 81/100\n",
      "375/375 [==============================] - 1s 2ms/step - loss: 0.0141 - accuracy: 0.9973 - val_loss: 0.0593 - val_accuracy: 0.9873\n",
      "Epoch 82/100\n",
      "375/375 [==============================] - 1s 3ms/step - loss: 0.0140 - accuracy: 0.9971 - val_loss: 0.0573 - val_accuracy: 0.9873\n",
      "Epoch 83/100\n",
      "375/375 [==============================] - 1s 3ms/step - loss: 0.0141 - accuracy: 0.9968 - val_loss: 0.0563 - val_accuracy: 0.9893\n",
      "Epoch 84/100\n",
      "375/375 [==============================] - 1s 2ms/step - loss: 0.0139 - accuracy: 0.9971 - val_loss: 0.0596 - val_accuracy: 0.9873\n",
      "Epoch 85/100\n",
      "375/375 [==============================] - 1s 3ms/step - loss: 0.0136 - accuracy: 0.9972 - val_loss: 0.0616 - val_accuracy: 0.9887\n",
      "Epoch 86/100\n",
      "375/375 [==============================] - 1s 3ms/step - loss: 0.0135 - accuracy: 0.9971 - val_loss: 0.0580 - val_accuracy: 0.9873\n",
      "Epoch 87/100\n",
      "375/375 [==============================] - 1s 3ms/step - loss: 0.0133 - accuracy: 0.9972 - val_loss: 0.0603 - val_accuracy: 0.9880\n",
      "Epoch 88/100\n",
      "375/375 [==============================] - 1s 2ms/step - loss: 0.0134 - accuracy: 0.9973 - val_loss: 0.0565 - val_accuracy: 0.9873\n",
      "Epoch 89/100\n",
      "375/375 [==============================] - 1s 3ms/step - loss: 0.0128 - accuracy: 0.9975 - val_loss: 0.0565 - val_accuracy: 0.9873\n",
      "Epoch 90/100\n",
      "375/375 [==============================] - 1s 2ms/step - loss: 0.0129 - accuracy: 0.9972 - val_loss: 0.0541 - val_accuracy: 0.9873\n",
      "Epoch 91/100\n",
      "375/375 [==============================] - 1s 2ms/step - loss: 0.0128 - accuracy: 0.9973 - val_loss: 0.0585 - val_accuracy: 0.9880\n",
      "Epoch 92/100\n",
      "375/375 [==============================] - 1s 2ms/step - loss: 0.0126 - accuracy: 0.9973 - val_loss: 0.0565 - val_accuracy: 0.9873\n",
      "Epoch 93/100\n",
      "375/375 [==============================] - 1s 3ms/step - loss: 0.0127 - accuracy: 0.9974 - val_loss: 0.0625 - val_accuracy: 0.9887\n",
      "Epoch 94/100\n",
      "375/375 [==============================] - 1s 2ms/step - loss: 0.0125 - accuracy: 0.9973 - val_loss: 0.0584 - val_accuracy: 0.9873\n",
      "Epoch 95/100\n",
      "375/375 [==============================] - 1s 3ms/step - loss: 0.0121 - accuracy: 0.9977 - val_loss: 0.0580 - val_accuracy: 0.9880\n",
      "Epoch 96/100\n",
      "375/375 [==============================] - 1s 2ms/step - loss: 0.0122 - accuracy: 0.9977 - val_loss: 0.0552 - val_accuracy: 0.9880\n",
      "Epoch 97/100\n",
      "375/375 [==============================] - 1s 2ms/step - loss: 0.0119 - accuracy: 0.9977 - val_loss: 0.0590 - val_accuracy: 0.9893\n",
      "Epoch 98/100\n",
      "375/375 [==============================] - 1s 2ms/step - loss: 0.0120 - accuracy: 0.9977 - val_loss: 0.0556 - val_accuracy: 0.9887\n",
      "Epoch 99/100\n",
      "375/375 [==============================] - 1s 2ms/step - loss: 0.0118 - accuracy: 0.9979 - val_loss: 0.0604 - val_accuracy: 0.9880\n",
      "Epoch 100/100\n",
      "375/375 [==============================] - 1s 2ms/step - loss: 0.0117 - accuracy: 0.9978 - val_loss: 0.0567 - val_accuracy: 0.9893\n",
      "Training results\n",
      "Training Accuracy: 0.9978333115577698\n",
      "Training Loss: 0.011745152994990349\n",
      "Evaluation results\n",
      "Validation Accuracy: 0.9893333315849304\n",
      "Validation Loss: 0.05669413134455681\n"
     ]
    },
    {
     "data": {
      "image/png": "[encoded data removed]",
      "text/plain": [
       "<Figure size 432x288 with 1 Axes>"
      ]
     },
     "metadata": {
      "needs_background": "light"
     },
     "output_type": "display_data"
    }
   ],
   "source": [
    "my_custom_model = tf.keras.Sequential(name='custom_2D_conv_model')\n",
    "my_custom_model.add(tf.keras.Input(shape=(x_train.shape[1],)))\n",
    "my_custom_model.add(tf.keras.layers.Reshape((1000,1,1),name='Reshape'))\n",
    "my_custom_model.add(tf.keras.layers.Conv2D(8,5,padding='same',activation='relu'))\n",
    "my_custom_model.add(tf.keras.layers.MaxPooling2D(2,2, padding='same'))\n",
    "my_custom_model.add(tf.keras.layers.Flatten())\n",
    "my_custom_model.add(tf.keras.layers.Dense(3,activation='softmax', name=\"output\"))\n",
    "\n",
    "\n",
    "print(my_custom_model.summary())\n",
    "my_custom_model.compile(optimizer=tf.keras.optimizers.RMSprop(learning_rate=1e-4),\n",
    "              loss=tf.keras.losses.SparseCategoricalCrossentropy(from_logits=True),\n",
    "              metrics=['accuracy'])\n",
    "\n",
    "history = my_custom_model.fit(x_train, y_train ,epochs=100, validation_data=(x_val, y_val), verbose=1)   \n",
    "\n",
    "\n",
    "# Plotting accuracy and loss\n",
    "import matplotlib.pyplot as plt\n",
    "plt.plot(history.history['loss'])\n",
    "plt.plot(history.history['accuracy'])\n",
    "plt.plot(history.history['val_accuracy'])\n",
    "plt.plot(history.history['val_loss'])\n",
    "\n",
    "\n",
    "plt.title('Model loss & accuracy')\n",
    "plt.ylabel('Loss')\n",
    "plt.xlabel('Epoch')\n",
    "plt.legend(['tr_loss', 'tr_accuracy', 'val_acc', 'val_loss'], loc='lower right')\n",
    "# accuracy!\n",
    "print(\"Training results\")\n",
    "print(f\"Training Accuracy: {history.history['accuracy'][-1]}\")\n",
    "print(f\"Training Loss: {history.history['loss'][-1]}\")\n",
    "\n",
    "# evaluating model\n",
    "print(\"Evaluation results\")\n",
    "print(f\"Validation Accuracy: {history.history['val_accuracy'][-1]}\")\n",
    "print(f\"Validation Loss: {history.history['val_loss'][-1]}\")\n",
    "\n",
    "\n",
    "plt.show()"
   ]
  },
  {
   "cell_type": "markdown",
   "metadata": {},
   "source": [
    "## Save custom model as .tflite"
   ]
  },
  {
   "cell_type": "code",
   "execution_count": 16,
   "metadata": {},
   "outputs": [
    {
     "name": "stderr",
     "output_type": "stream",
     "text": [
      "WARNING:absl:Found untraced functions such as _jit_compiled_convolution_op while saving (showing 1 of 1). These functions will not be directly callable after loading.\n"
     ]
    },
    {
     "name": "stdout",
     "output_type": "stream",
     "text": [
      "INFO:tensorflow:Assets written to: /tmp/tmp8sg93y9j/assets\n"
     ]
    },
    {
     "name": "stderr",
     "output_type": "stream",
     "text": [
      "INFO:tensorflow:Assets written to: /tmp/tmp8sg93y9j/assets\n",
      "2022-10-06 10:38:28.737573: W tensorflow/compiler/mlir/lite/python/tf_tfl_flatbuffer_helpers.cc:362] Ignored output_format.\n",
      "2022-10-06 10:38:28.737590: W tensorflow/compiler/mlir/lite/python/tf_tfl_flatbuffer_helpers.cc:365] Ignored drop_control_dependency.\n",
      "2022-10-06 10:38:28.737673: I tensorflow/cc/saved_model/reader.cc:45] Reading SavedModel from: /tmp/tmp8sg93y9j\n",
      "2022-10-06 10:38:28.738317: I tensorflow/cc/saved_model/reader.cc:89] Reading meta graph with tags { serve }\n",
      "2022-10-06 10:38:28.738328: I tensorflow/cc/saved_model/reader.cc:130] Reading SavedModel debug info (if present) from: /tmp/tmp8sg93y9j\n",
      "2022-10-06 10:38:28.740182: I tensorflow/cc/saved_model/loader.cc:229] Restoring SavedModel bundle.\n",
      "2022-10-06 10:38:28.755834: I tensorflow/cc/saved_model/loader.cc:213] Running initialization op on SavedModel bundle at path: /tmp/tmp8sg93y9j\n",
      "2022-10-06 10:38:28.760176: I tensorflow/cc/saved_model/loader.cc:305] SavedModel load for tags { serve }; Status: success: OK. Took 22502 microseconds.\n"
     ]
    },
    {
     "data": {
      "text/plain": [
       "52432"
      ]
     },
     "execution_count": 16,
     "metadata": {},
     "output_type": "execute_result"
    }
   ],
   "source": [
    "float_converter = tf.lite.TFLiteConverter.from_keras_model(my_custom_model)\n",
    "float_tflite_model = float_converter.convert()\n",
    "tflite_model_file = pathlib.Path('my_custom_model.tflite')\n",
    "tflite_model_file.write_bytes(float_tflite_model)"
   ]
  },
  {
   "cell_type": "code",
   "execution_count": 17,
   "metadata": {},
   "outputs": [],
   "source": [
    "!xxd -i my_custom_model.tflite > my_custom_model.cc"
   ]
  },
  {
   "cell_type": "markdown",
   "metadata": {},
   "source": [
    "## Quantize custom model and save it."
   ]
  },
  {
   "cell_type": "code",
   "execution_count": 18,
   "metadata": {},
   "outputs": [
    {
     "name": "stderr",
     "output_type": "stream",
     "text": [
      "WARNING:absl:Found untraced functions such as _jit_compiled_convolution_op while saving (showing 1 of 1). These functions will not be directly callable after loading.\n"
     ]
    },
    {
     "name": "stdout",
     "output_type": "stream",
     "text": [
      "INFO:tensorflow:Assets written to: /tmp/tmpmhz6e2sm/assets\n"
     ]
    },
    {
     "name": "stderr",
     "output_type": "stream",
     "text": [
      "INFO:tensorflow:Assets written to: /tmp/tmpmhz6e2sm/assets\n",
      "/home/veysiadn/anaconda3/lib/python3.9/site-packages/tensorflow/lite/python/convert.py:766: UserWarning: Statistics for quantized inputs were expected, but not specified; continuing anyway.\n",
      "  warnings.warn(\"Statistics for quantized inputs were expected, but not \"\n",
      "2022-10-06 10:38:43.470713: W tensorflow/compiler/mlir/lite/python/tf_tfl_flatbuffer_helpers.cc:362] Ignored output_format.\n",
      "2022-10-06 10:38:43.470733: W tensorflow/compiler/mlir/lite/python/tf_tfl_flatbuffer_helpers.cc:365] Ignored drop_control_dependency.\n",
      "2022-10-06 10:38:43.470829: I tensorflow/cc/saved_model/reader.cc:45] Reading SavedModel from: /tmp/tmpmhz6e2sm\n",
      "2022-10-06 10:38:43.471406: I tensorflow/cc/saved_model/reader.cc:89] Reading meta graph with tags { serve }\n",
      "2022-10-06 10:38:43.471419: I tensorflow/cc/saved_model/reader.cc:130] Reading SavedModel debug info (if present) from: /tmp/tmpmhz6e2sm\n",
      "2022-10-06 10:38:43.473459: I tensorflow/cc/saved_model/loader.cc:229] Restoring SavedModel bundle.\n",
      "2022-10-06 10:38:43.489216: I tensorflow/cc/saved_model/loader.cc:213] Running initialization op on SavedModel bundle at path: /tmp/tmpmhz6e2sm\n",
      "2022-10-06 10:38:43.493280: I tensorflow/cc/saved_model/loader.cc:305] SavedModel load for tags { serve }; Status: success: OK. Took 22450 microseconds.\n",
      "fully_quantize: 0, inference_type: 6, input_inference_type: FLOAT32, output_inference_type: FLOAT32\n"
     ]
    },
    {
     "data": {
      "text/plain": [
       "16712"
      ]
     },
     "execution_count": 18,
     "metadata": {},
     "output_type": "execute_result"
    }
   ],
   "source": [
    "def representative_data_gen():\n",
    "  for input_value in tf.data.Dataset.from_tensor_slices(x_train).batch(1).take(100):\n",
    "    # Model has only one input so each data point has one element.\n",
    "    yield [input_value]\n",
    "\n",
    "converter = tf.lite.TFLiteConverter.from_keras_model(my_custom_model)\n",
    "converter.optimizations = [tf.lite.Optimize.DEFAULT]\n",
    "converter.representative_dataset = representative_data_gen\n",
    "tflite_model_quant = converter.convert()\n",
    "\n",
    "tflite_model_file = pathlib.Path('my_custom_model_optimized.tflite')\n",
    "tflite_model_file.write_bytes(tflite_model_quant)"
   ]
  },
  {
   "cell_type": "code",
   "execution_count": 19,
   "metadata": {},
   "outputs": [],
   "source": [
    "!xxd -i my_custom_model_optimized.tflite > my_custom_model_optimized.cc"
   ]
  },
  {
   "cell_type": "markdown",
   "metadata": {},
   "source": [
    "### Quantize model to INT8 and save it."
   ]
  },
  {
   "cell_type": "code",
   "execution_count": 14,
   "metadata": {},
   "outputs": [
    {
     "name": "stderr",
     "output_type": "stream",
     "text": [
      "WARNING:absl:Found untraced functions such as _jit_compiled_convolution_op while saving (showing 1 of 1). These functions will not be directly callable after loading.\n"
     ]
    },
    {
     "name": "stdout",
     "output_type": "stream",
     "text": [
      "INFO:tensorflow:Assets written to: /tmp/tmplrt78c1u/assets\n"
     ]
    },
    {
     "name": "stderr",
     "output_type": "stream",
     "text": [
      "INFO:tensorflow:Assets written to: /tmp/tmplrt78c1u/assets\n",
      "/home/veysiadn/anaconda3/lib/python3.9/site-packages/tensorflow/lite/python/convert.py:766: UserWarning: Statistics for quantized inputs were expected, but not specified; continuing anyway.\n",
      "  warnings.warn(\"Statistics for quantized inputs were expected, but not \"\n",
      "2022-10-06 09:31:25.857597: W tensorflow/compiler/mlir/lite/python/tf_tfl_flatbuffer_helpers.cc:362] Ignored output_format.\n",
      "2022-10-06 09:31:25.857611: W tensorflow/compiler/mlir/lite/python/tf_tfl_flatbuffer_helpers.cc:365] Ignored drop_control_dependency.\n",
      "2022-10-06 09:31:25.857717: I tensorflow/cc/saved_model/reader.cc:45] Reading SavedModel from: /tmp/tmplrt78c1u\n",
      "2022-10-06 09:31:25.858310: I tensorflow/cc/saved_model/reader.cc:89] Reading meta graph with tags { serve }\n",
      "2022-10-06 09:31:25.858321: I tensorflow/cc/saved_model/reader.cc:130] Reading SavedModel debug info (if present) from: /tmp/tmplrt78c1u\n",
      "2022-10-06 09:31:25.859923: I tensorflow/cc/saved_model/loader.cc:229] Restoring SavedModel bundle.\n",
      "2022-10-06 09:31:25.875021: I tensorflow/cc/saved_model/loader.cc:213] Running initialization op on SavedModel bundle at path: /tmp/tmplrt78c1u\n",
      "2022-10-06 09:31:25.878933: I tensorflow/cc/saved_model/loader.cc:305] SavedModel load for tags { serve }; Status: success: OK. Took 21215 microseconds.\n",
      "fully_quantize: 0, inference_type: 6, input_inference_type: UINT8, output_inference_type: UINT8\n"
     ]
    },
    {
     "data": {
      "text/plain": [
       "16704"
      ]
     },
     "execution_count": 14,
     "metadata": {},
     "output_type": "execute_result"
    }
   ],
   "source": [
    "def representative_data_gen():\n",
    "  for input_value in tf.data.Dataset.from_tensor_slices(x_train).batch(1).take(100):\n",
    "    yield [input_value]\n",
    "\n",
    "converter = tf.lite.TFLiteConverter.from_keras_model(my_custom_model)\n",
    "converter.optimizations = [tf.lite.Optimize.DEFAULT]\n",
    "converter.representative_dataset = representative_data_gen\n",
    "# Ensure that if any ops can't be quantized, the converter throws an error\n",
    "converter.target_spec.supported_ops = [tf.lite.OpsSet.TFLITE_BUILTINS_INT8]\n",
    "# Set the input and output tensors to uint8 (APIs added in r2.3)\n",
    "converter.inference_input_type = tf.uint8\n",
    "converter.inference_output_type = tf.uint8\n",
    "\n",
    "tflite_model_quant = converter.convert()\n",
    "tflite_model_file = pathlib.Path('my_custom_model_int8_quant.tflite')\n",
    "tflite_model_file.write_bytes(tflite_model_quant)"
   ]
  },
  {
   "cell_type": "code",
   "execution_count": 17,
   "metadata": {},
   "outputs": [],
   "source": [
    "!xxd -i my_custom_model_int8_quant.tflite > my_custom_model_int8_quant.cc"
   ]
  },
  {
   "cell_type": "markdown",
   "metadata": {},
   "source": [
    "## Define Dense model."
   ]
  },
  {
   "cell_type": "code",
   "execution_count": 14,
   "metadata": {},
   "outputs": [
    {
     "name": "stdout",
     "output_type": "stream",
     "text": [
      "Model: \"sequential_6\"\n",
      "_________________________________________________________________\n",
      " Layer (type)                Output Shape              Param #   \n",
      "=================================================================\n",
      " dense_12 (Dense)            (None, 4)                 4004      \n",
      "                                                                 \n",
      " dense_13 (Dense)            (None, 3)                 15        \n",
      "                                                                 \n",
      "=================================================================\n",
      "Total params: 4,019\n",
      "Trainable params: 4,019\n",
      "Non-trainable params: 0\n",
      "_________________________________________________________________\n",
      "Training results\n",
      "Training Accuracy: 0.9994285702705383\n",
      "Training Loss: 0.004485083278268576\n",
      "Evaluation results\n",
      "Validation Accuracy: 0.9871110916137695\n",
      "Validation Loss: 0.07003500312566757\n"
     ]
    },
    {
     "data": {
      "image/png": "[encoded data removed]",
      "text/plain": [
       "<Figure size 432x288 with 1 Axes>"
      ]
     },
     "metadata": {
      "needs_background": "light"
     },
     "output_type": "display_data"
    }
   ],
   "source": [
    "SEED = 99\n",
    "os.environ['PYTHONHASHSEED']=str(SEED)\n",
    "random.seed(SEED)\n",
    "np.random.seed(SEED)\n",
    "tf.random.set_seed(SEED)\n",
    "train_dataset = tf.data.Dataset.from_tensor_slices((x_train, y_train))\n",
    "val_dataset = tf.data.Dataset.from_tensor_slices((x_val, y_val))\n",
    "BATCH_SIZE = 32\n",
    "\n",
    "train_dataset = tf.data.Dataset.from_tensor_slices((x_train, y_train))\n",
    "train_dataset = (train_dataset.shuffle(buffer_size=256)\n",
    "                                .batch(BATCH_SIZE)\n",
    "                                .prefetch(buffer_size=tf.data.AUTOTUNE))\n",
    "\n",
    "val_dataset = tf.data.Dataset.from_tensor_slices((x_val, y_val))\n",
    "val_dataset = (val_dataset.shuffle(buffer_size=256)\n",
    "                                .batch(BATCH_SIZE)\n",
    "                                .prefetch(buffer_size=tf.data.AUTOTUNE))\n",
    "\n",
    "dense_model = tf.keras.Sequential([\n",
    "    tf.keras.layers.Dense(4, activation='elu',input_shape=(1000,)),\n",
    "    tf.keras.layers.Dense(3,activation='softmax')\n",
    "])\n",
    "\n",
    "\n",
    "dense_model.compile(optimizer=tf.keras.optimizers.Adam(learning_rate=0.0005),\n",
    "              loss=tf.keras.losses.SparseCategoricalCrossentropy(),\n",
    "              metrics=['accuracy'])\n",
    "dense_model.summary()              \n",
    "\n",
    "history=dense_model.fit(train_dataset,validation_data=val_dataset, epochs=100,verbose=0)\n",
    "# dense_model.evaluate(val_dataset)\n",
    "import matplotlib.pyplot as plt\n",
    "plt.plot(history.history['loss'])\n",
    "plt.plot(history.history['accuracy'])\n",
    "plt.plot(history.history['val_accuracy'])\n",
    "plt.plot(history.history['val_loss'])\n",
    "\n",
    "\n",
    "plt.title('dense_model loss & accuracy')\n",
    "plt.ylabel('Loss')\n",
    "plt.xlabel('Epoch')\n",
    "plt.legend(['tr_loss', 'tr_accuracy', 'val_acc', 'val_loss'], loc='lower right')\n",
    "# accuracy!\n",
    "print(\"Training results\")\n",
    "print(f\"Training Accuracy: {history.history['accuracy'][-1]}\")\n",
    "print(f\"Training Loss: {history.history['loss'][-1]}\")\n",
    "\n",
    "# evaluating dense_model\n",
    "print(\"Evaluation results\")\n",
    "print(f\"Validation Accuracy: {history.history['val_accuracy'][-1]}\")\n",
    "print(f\"Validation Loss: {history.history['val_loss'][-1]}\")\n",
    "\n",
    "\n",
    "plt.show()"
   ]
  },
  {
   "cell_type": "code",
   "execution_count": 8,
   "metadata": {},
   "outputs": [
    {
     "name": "stdout",
     "output_type": "stream",
     "text": [
      "71/71 [==============================] - 0s 770us/step - loss: 0.0753 - accuracy: 0.9831\n"
     ]
    },
    {
     "data": {
      "text/plain": [
       "[0.07532723993062973, 0.9831110835075378]"
      ]
     },
     "execution_count": 8,
     "metadata": {},
     "output_type": "execute_result"
    }
   ],
   "source": [
    "dense_model.evaluate(x_test,y_test)"
   ]
  },
  {
   "cell_type": "code",
   "execution_count": 24,
   "metadata": {},
   "outputs": [
    {
     "name": "stdout",
     "output_type": "stream",
     "text": [
      "\n",
      "=========================Options=============================\n",
      "FLOPS: 8046 operations-max_depth                  10000\n",
      "-min_bytes                  0\n",
      "-min_peak_bytes             0\n",
      "-min_residual_bytes         0\n",
      "-min_output_bytes           0\n",
      "-min_micros                 0\n",
      "-min_accelerator_micros     0\n",
      "-min_cpu_micros             0\n",
      "-min_params                 0\n",
      "-min_float_ops              1\n",
      "-min_occurrence             0\n",
      "-step                       -1\n",
      "-order_by                   float_ops\n",
      "-account_type_regexes       .*\n",
      "-start_name_regexes         .*\n",
      "-trim_name_regexes          \n",
      "-show_name_regexes          .*\n",
      "-hide_name_regexes          \n",
      "-account_displayed_op_only  true\n",
      "-select                     float_ops\n",
      "-output                     stdout:\n",
      "\n",
      "==================Model Analysis Report======================\n",
      "\n",
      "Doc:\n",
      "scope: The nodes in the model graph are organized by their names, which is hierarchical like filesystem.\n",
      "flops: Number of float operations. Note: Please read the implementation for the math behind it.\n",
      "\n",
      "Profile:\n",
      "node name | # float_ops\n",
      "_TFProfRoot (--/8.05k flops)\n",
      "  sequ\n",
      "ential_6/dense_12/MatMul (8.00k/8.00k flops)\n",
      "  sequential_6/dense_13/MatMul (24/24 flops)\n",
      "  sequential_6/dense_13/Softmax (15/15 flops)\n",
      "  sequential_6/dense_12/BiasAdd (4/4 flops)\n",
      "  sequential_6/dense_13/BiasAdd (3/3 flops)\n",
      "\n",
      "======================End of Report==========================\n"
     ]
    },
    {
     "name": "stderr",
     "output_type": "stream",
     "text": [
      "2022-10-25 11:46:05.460393: I tensorflow/stream_executor/cuda/cuda_gpu_executor.cc:980] successful NUMA node read from SysFS had negative value (-1), but there must be at least one NUMA node, so returning NUMA node zero\n",
      "2022-10-25 11:46:05.460492: I tensorflow/core/grappler/devices.cc:66] Number of eligible GPUs (core count >= 8, compute capability >= 0.0): 1\n",
      "2022-10-25 11:46:05.460545: I tensorflow/core/grappler/clusters/single_machine.cc:358] Starting new session\n",
      "2022-10-25 11:46:05.460836: I tensorflow/stream_executor/cuda/cuda_gpu_executor.cc:980] successful NUMA node read from SysFS had negative value (-1), but there must be at least one NUMA node, so returning NUMA node zero\n",
      "2022-10-25 11:46:05.460905: I tensorflow/stream_executor/cuda/cuda_gpu_executor.cc:980] successful NUMA node read from SysFS had negative value (-1), but there must be at least one NUMA node, so returning NUMA node zero\n",
      "2022-10-25 11:46:05.460950: I tensorflow/stream_executor/cuda/cuda_gpu_executor.cc:980] successful NUMA node read from SysFS had negative value (-1), but there must be at least one NUMA node, so returning NUMA node zero\n",
      "2022-10-25 11:46:05.461030: I tensorflow/stream_executor/cuda/cuda_gpu_executor.cc:980] successful NUMA node read from SysFS had negative value (-1), but there must be at least one NUMA node, so returning NUMA node zero\n",
      "2022-10-25 11:46:05.461078: I tensorflow/stream_executor/cuda/cuda_gpu_executor.cc:980] successful NUMA node read from SysFS had negative value (-1), but there must be at least one NUMA node, so returning NUMA node zero\n",
      "2022-10-25 11:46:05.461122: I tensorflow/core/common_runtime/gpu/gpu_device.cc:1616] Created device /job:localhost/replica:0/task:0/device:GPU:0 with 21719 MB memory:  -> device: 0, name: NVIDIA GeForce RTX 3090, pci bus id: 0000:01:00.0, compute capability: 8.6\n"
     ]
    }
   ],
   "source": [
    "from keras_flops import get_flops\n",
    "flops = get_flops(dense_model,batch_size=32)\n",
    "print(f\"FLOPS: {flops} operations\")"
   ]
  },
  {
   "cell_type": "code",
   "execution_count": 25,
   "metadata": {},
   "outputs": [
    {
     "name": "stdout",
     "output_type": "stream",
     "text": [
      "FLOPS: 8046 operations\n"
     ]
    }
   ],
   "source": [
    "print(f\"FLOPS: {flops} operations\")"
   ]
  },
  {
   "cell_type": "code",
   "execution_count": 20,
   "metadata": {},
   "outputs": [
    {
     "name": "stdout",
     "output_type": "stream",
     "text": [
      "Model: \"sequential_8\"\n",
      "_________________________________________________________________\n",
      " Layer (type)                Output Shape              Param #   \n",
      "=================================================================\n",
      " dense_16 (Dense)            (None, 4)                 4004      \n",
      "                                                                 \n",
      " dense_17 (Dense)            (None, 3)                 15        \n",
      "                                                                 \n",
      "=================================================================\n",
      "Total params: 4,019\n",
      "Trainable params: 4,019\n",
      "Non-trainable params: 0\n",
      "_________________________________________________________________\n"
     ]
    }
   ],
   "source": [
    "val_acc = []\n",
    "val_losses = []\n",
    "training_acc=[]\n",
    "training_loss=[]\n",
    "train_dataset = tf.data.Dataset.from_tensor_slices((x_train, y_train))\n",
    "val_dataset = tf.data.Dataset.from_tensor_slices((x_val, y_val))\n",
    "BATCH_SIZE = 64\n",
    "\n",
    "train_dataset = tf.data.Dataset.from_tensor_slices((x_train, y_train))\n",
    "train_dataset = (train_dataset.shuffle(buffer_size=256)\n",
    "                                .batch(BATCH_SIZE)\n",
    "                                .prefetch(buffer_size=tf.data.AUTOTUNE))\n",
    "\n",
    "val_dataset = tf.data.Dataset.from_tensor_slices((x_val, y_val))\n",
    "val_dataset = (val_dataset.shuffle(buffer_size=256)\n",
    "                                .batch(BATCH_SIZE)\n",
    "                                .prefetch(buffer_size=tf.data.AUTOTUNE))\n",
    "\n",
    "dense_model = tf.keras.Sequential([\n",
    "    tf.keras.layers.Dense(4, activation='elu',input_shape=(1000,)),\n",
    "    tf.keras.layers.Dense(3,activation='softmax')\n",
    "])\n",
    "\n",
    "\n",
    "dense_model.compile(optimizer=tf.keras.optimizers.Adam(learning_rate=0.0001),\n",
    "              loss=tf.keras.losses.SparseCategoricalCrossentropy(),\n",
    "              metrics=['accuracy'])\n",
    "dense_model.summary()              \n",
    "for i in range(100):\n",
    "    history=dense_model.fit(train_dataset,validation_data=val_dataset, epochs=100,verbose=0)\n",
    "    val_acc.append(history.history['val_accuracy'][-1])\n",
    "    val_losses.append(history.history['val_loss'][-1])\n",
    "    training_acc.append(history.history['accuracy'][-1])\n",
    "    training_loss.append(history.history['loss'][-1])\n"
   ]
  },
  {
   "cell_type": "code",
   "execution_count": 21,
   "metadata": {},
   "outputs": [
    {
     "data": {
      "image/png": "[encoded data removed]",
      "text/plain": [
       "<Figure size 432x288 with 1 Axes>"
      ]
     },
     "metadata": {
      "needs_background": "light"
     },
     "output_type": "display_data"
    }
   ],
   "source": [
    "import matplotlib.pyplot as plt\n",
    "plt.plot(training_loss)\n",
    "plt.plot(training_acc)\n",
    "plt.plot(val_acc)\n",
    "plt.plot(val_losses)\n",
    "plt.legend(['tr_loss', 'tr_accuracy', 'val_acc', 'val_loss'], loc='lower right')\n",
    "plt.show()\n"
   ]
  },
  {
   "cell_type": "code",
   "execution_count": 22,
   "metadata": {},
   "outputs": [
    {
     "name": "stdout",
     "output_type": "stream",
     "text": [
      "Training results\n",
      "Training Accuracy: 0.9968152391910553\n",
      "Training Loss: 0.014397894740104675\n",
      "Evaluation results\n",
      "Validation Accuracy: 0.9732755517959595\n",
      "Validation Loss: 0.35241220757365227\n"
     ]
    }
   ],
   "source": [
    "print(\"Training results\")\n",
    "print(f\"Training Accuracy: {np.mean(training_acc)}\")\n",
    "print(f\"Training Loss: {np.mean(training_loss)}\")\n",
    "print(\"Evaluation results\")\n",
    "print(f\"Validation Accuracy: {np.mean(val_acc)}\")\n",
    "print(f\"Validation Loss: {np.mean(val_losses)}\")\n"
   ]
  },
  {
   "cell_type": "code",
   "execution_count": 19,
   "metadata": {},
   "outputs": [
    {
     "name": "stdout",
     "output_type": "stream",
     "text": [
      "[0.1748391091823578, 0.13153444230556488, 0.11209869384765625, 0.10020910948514938, 0.09399999678134918, 0.09340526163578033, 0.09491332620382309, 0.09793849289417267, 0.1064964234828949, 0.11597036570310593, 0.12425980716943741, 0.13214176893234253, 0.13879340887069702, 0.14736583828926086, 0.15541526675224304, 0.16243436932563782, 0.17183706164360046, 0.17958955466747284, 0.1874159872531891, 0.19624195992946625, 0.2016102820634842, 0.21018369495868683, 0.21731694042682648, 0.22360287606716156, 0.23146772384643555, 0.23544175922870636, 0.24261921644210815, 0.25136661529541016, 0.25637128949165344, 0.2655560076236725, 0.2515288293361664, 0.2644467353820801, 0.2645756006240845, 0.28785935044288635, 0.28270238637924194, 0.2972455620765686, 0.30682694911956787, 0.30884966254234314, 0.31003281474113464, 0.3061760365962982, 0.3167121410369873, 0.30550745129585266, 0.3206424117088318, 0.3179846405982971, 0.3249639868736267, 0.33476319909095764, 0.3304027318954468, 0.3445620536804199, 0.3415552079677582, 0.36026737093925476, 0.3360770642757416, 0.3520267605781555, 0.3538604974746704, 0.3582126498222351, 0.3565199077129364, 0.3658864200115204, 0.3658468425273895, 0.36733219027519226, 0.3748399615287781, 0.3815705180168152, 0.37818053364753723, 0.37364670634269714, 0.3929888606071472, 0.3912258446216583, 0.3891766369342804, 0.3922803997993469, 0.38212284445762634, 0.3928426504135132, 0.40047916769981384, 0.4059276282787323, 0.408006876707077, 0.4091752767562866, 0.39608219265937805, 0.39665472507476807, 0.4168703258037567, 0.4203757345676422, 0.41737183928489685, 0.4220903515815735, 0.41313478350639343, 0.4262945353984833, 0.4300217926502228, 0.4305720329284668, 0.45772629976272583, 0.43219608068466187, 0.4340313673019409, 0.43792805075645447, 0.4521506726741791, 0.4488319158554077, 0.45171302556991577, 0.4579033851623535, 0.4766191840171814, 0.4585568606853485, 0.45957040786743164, 0.4663764238357544, 0.46899673342704773, 0.4687683880329132, 0.488855242729187, 0.47936177253723145, 0.5083708763122559, 0.47405749559402466]\n"
     ]
    }
   ],
   "source": [
    "print(val_losses)"
   ]
  },
  {
   "cell_type": "code",
   "execution_count": 36,
   "metadata": {},
   "outputs": [
    {
     "name": "stdout",
     "output_type": "stream",
     "text": [
      "71/71 [==============================] - 0s 446us/step\n"
     ]
    },
    {
     "data": {
      "image/png": "[encoded data removed]",
      "text/plain": [
       "<Figure size 432x288 with 2 Axes>"
      ]
     },
     "metadata": {
      "needs_background": "light"
     },
     "output_type": "display_data"
    }
   ],
   "source": [
    "from sklearn.metrics import confusion_matrix\n",
    "from sklearn.metrics import ConfusionMatrixDisplay\n",
    "y_pred = dense_model.predict(x_test)\n",
    "y_pred = np.argmax(y_pred, axis=1)\n",
    "cm = confusion_matrix(y_test, y_pred)\n",
    "cm_display = ConfusionMatrixDisplay(cm).plot()\n"
   ]
  },
  {
   "cell_type": "code",
   "execution_count": 37,
   "metadata": {},
   "outputs": [
    {
     "name": "stdout",
     "output_type": "stream",
     "text": [
      "0.9662222222222222\n",
      "              precision    recall  f1-score   support\n",
      "\n",
      "           0       0.96      0.96      0.96       754\n",
      "           1       0.97      0.98      0.98       752\n",
      "           2       0.97      0.96      0.96       744\n",
      "\n",
      "    accuracy                           0.97      2250\n",
      "   macro avg       0.97      0.97      0.97      2250\n",
      "weighted avg       0.97      0.97      0.97      2250\n",
      "\n"
     ]
    }
   ],
   "source": [
    "import sklearn.metrics as metrics\n",
    "\n",
    "print(metrics.accuracy_score(y_test, y_pred))\n",
    "print(metrics.classification_report(y_test, y_pred))\n"
   ]
  },
  {
   "cell_type": "markdown",
   "metadata": {},
   "source": [
    "### Dense Model RELU"
   ]
  },
  {
   "cell_type": "code",
   "execution_count": 29,
   "metadata": {},
   "outputs": [
    {
     "name": "stdout",
     "output_type": "stream",
     "text": [
      "Model: \"sequential_8\"\n",
      "_________________________________________________________________\n",
      " Layer (type)                Output Shape              Param #   \n",
      "=================================================================\n",
      " dense_22 (Dense)            (None, 4)                 4004      \n",
      "                                                                 \n",
      " dense_23 (Dense)            (None, 3)                 15        \n",
      "                                                                 \n",
      "=================================================================\n",
      "Total params: 4,019\n",
      "Trainable params: 4,019\n",
      "Non-trainable params: 0\n",
      "_________________________________________________________________\n",
      "Training results\n",
      "Training Accuracy: 0.9923809766769409\n",
      "Training Loss: 0.03382552042603493\n",
      "Evaluation results\n",
      "Validation Accuracy: 0.9773333072662354\n",
      "Validation Loss: 0.08694282919168472\n"
     ]
    },
    {
     "data": {
      "image/png": "[encoded data removed]",
      "text/plain": [
       "<Figure size 432x288 with 1 Axes>"
      ]
     },
     "metadata": {
      "needs_background": "light"
     },
     "output_type": "display_data"
    }
   ],
   "source": [
    "SEED = 99\n",
    "os.environ['PYTHONHASHSEED']=str(SEED)\n",
    "random.seed(SEED)\n",
    "np.random.seed(SEED)\n",
    "tf.random.set_seed(SEED)\n",
    "train_dataset = tf.data.Dataset.from_tensor_slices((x_train, y_train))\n",
    "val_dataset = tf.data.Dataset.from_tensor_slices((x_val, y_val))\n",
    "BATCH_SIZE = 128\n",
    "\n",
    "train_dataset = tf.data.Dataset.from_tensor_slices((x_train, y_train))\n",
    "train_dataset = (train_dataset.shuffle(buffer_size=256)\n",
    "                                .batch(BATCH_SIZE)\n",
    "                                .prefetch(buffer_size=tf.data.AUTOTUNE))\n",
    "\n",
    "val_dataset = tf.data.Dataset.from_tensor_slices((x_val, y_val))\n",
    "val_dataset = (val_dataset.shuffle(buffer_size=256)\n",
    "                                .batch(BATCH_SIZE)\n",
    "                                .prefetch(buffer_size=tf.data.AUTOTUNE))\n",
    "\n",
    "dense_model = tf.keras.Sequential([\n",
    "    tf.keras.layers.Dense(4, activation='relu',input_shape=(1000,)),\n",
    "    tf.keras.layers.Dense(3,activation='softmax')\n",
    "])\n",
    "\n",
    "\n",
    "dense_model.compile(optimizer=tf.keras.optimizers.Adam(learning_rate=1e-3),\n",
    "              loss=tf.keras.losses.SparseCategoricalCrossentropy(),\n",
    "              metrics=['accuracy'])\n",
    "dense_model.summary()              \n",
    "\n",
    "history=dense_model.fit(train_dataset,validation_data=val_dataset, epochs=100,verbose=0)\n",
    "# dense_model.evaluate(val_dataset)\n",
    "import matplotlib.pyplot as plt\n",
    "plt.plot(history.history['loss'])\n",
    "plt.plot(history.history['accuracy'])\n",
    "plt.plot(history.history['val_accuracy'])\n",
    "plt.plot(history.history['val_loss'])\n",
    "\n",
    "\n",
    "plt.title('dense_model loss & accuracy')\n",
    "plt.ylabel('Loss')\n",
    "plt.xlabel('Epoch')\n",
    "plt.legend(['tr_loss', 'tr_accuracy', 'val_acc', 'val_loss'], loc='lower right')\n",
    "# accuracy!\n",
    "print(\"Training results\")\n",
    "print(f\"Training Accuracy: {history.history['accuracy'][-1]}\")\n",
    "print(f\"Training Loss: {history.history['loss'][-1]}\")\n",
    "\n",
    "# evaluating dense_model\n",
    "print(\"Evaluation results\")\n",
    "print(f\"Validation Accuracy: {history.history['val_accuracy'][-1]}\")\n",
    "print(f\"Validation Loss: {history.history['val_loss'][-1]}\")\n",
    "\n",
    "\n",
    "plt.show()"
   ]
  },
  {
   "cell_type": "code",
   "execution_count": 32,
   "metadata": {},
   "outputs": [
    {
     "name": "stdout",
     "output_type": "stream",
     "text": [
      "\n",
      "=========================Options=============================\n",
      "FLOPS: 8046 operations\n"
     ]
    },
    {
     "name": "stderr",
     "output_type": "stream",
     "text": [
      "2022-10-25 11:51:42.261277: I tensorflow/stream_executor/cuda/cuda_gpu_executor.cc:980] successful NUMA node read from SysFS had negative value (-1), but there must be at least one NUMA node, so returning NUMA node zero\n",
      "2022-10-25 11:51:42.261365: I tensorflow/core/grappler/devices.cc:66] Number of eligible GPUs (core count >= 8, compute capability >= 0.0): 1\n",
      "2022-10-25 11:51:42.261415: I tensorflow/core/grappler/clusters/single_machine.cc:358] Starting new session\n",
      "2022-10-25 11:51:42.261682: I tensorflow/stream_executor/cuda/cuda_gpu_executor.cc:980] successful NUMA node read from SysFS had negative value (-1), but there must be at least one NUMA node, so returning NUMA node zero\n",
      "2022-10-25 11:51:42.261746: I tensorflow/stream_executor/cuda/cuda_gpu_executor.cc:980] successful NUMA node read from SysFS had negative value (-1), but there must be at least one NUMA node, so returning NUMA node zero\n",
      "2022-10-25 11:51:42.261791: I tensorflow/stream_executor/cuda/cuda_gpu_executor.cc:980] successful NUMA node read from SysFS had negative value (-1), but there must be at least one NUMA node, so returning NUMA node zero\n",
      "2022-10-25 11:51:42.261870: I tensorflow/stream_executor/cuda/cuda_gpu_executor.cc:980] successful NUMA node read from SysFS had negative value (-1), but there must be at least one NUMA node, so returning NUMA node zero\n",
      "2022-10-25 11:51:42.261917: I tensorflow/stream_executor/cuda/cuda_gpu_executor.cc:980] successful NUMA node read from SysFS had negative value (-1), but there must be at least one NUMA node, so returning NUMA node zero\n",
      "2022-10-25 11:51:42.261957: I tensorflow/core/common_runtime/gpu/gpu_device.cc:1616] Created device /job:localhost/replica:0/task:0/device:GPU:0 with 21719 MB memory:  -> device: 0, name: NVIDIA GeForce RTX 3090, pci bus id: 0000:01:00.0, compute capability: 8.6\n"
     ]
    },
    {
     "name": "stdout",
     "output_type": "stream",
     "text": [
      "-max_depth                  10000\n",
      "-min_bytes                  0\n",
      "-min_peak_bytes             0\n",
      "-min_residual_bytes         0\n",
      "-min_output_bytes           0\n",
      "-min_micros                 0\n",
      "-min_accelerator_micros     0\n",
      "-min_cpu_micros             0\n",
      "-min_params                 0\n",
      "-min_float_ops              1\n",
      "-min_occurrence             0\n",
      "-step                       -1\n",
      "-order_by                   float_ops\n",
      "-account_type_regexes       .*\n",
      "-start_name_regexes         .*\n",
      "-trim_name_regexes          \n",
      "-show_name_regexes          .*\n",
      "-hide_name_regexes          \n",
      "-account_displayed_op_only  true\n",
      "-select                     float_ops\n",
      "-output                     stdout:\n",
      "\n",
      "==================Model Analysis Report======================\n",
      "\n",
      "Doc:\n",
      "scope: The nodes in the model graph are organized by their names, which is hierarchical like filesystem.\n",
      "flops: Number of float operations. Note: Please read the implementation for the math behind it.\n",
      "\n",
      "Profile:\n",
      "node name | # float_ops\n",
      "_TFProfRoot (--/8.05k flops)\n",
      "  sequential_8/dense_22/MatMul (8.00k/8.00k flops)\n",
      "  sequential_8/dense_23/MatMul (24/24 flops)\n",
      "  sequential_8/dense_23/Softmax (15/15 flops)\n",
      "  sequential_8/dense_22/BiasAdd (4/4 flops)\n",
      "  sequential_8/dense_23/BiasAdd (3/3 flops)\n",
      "\n",
      "======================End of Report==========================\n"
     ]
    }
   ],
   "source": [
    "from keras_flops import get_flops\n",
    "flops = get_flops(dense_model)\n",
    "print(f\"FLOPS: {flops} operations\")"
   ]
  },
  {
   "cell_type": "markdown",
   "metadata": {},
   "source": [
    "## Save dense model as tflite - no optimization."
   ]
  },
  {
   "cell_type": "code",
   "execution_count": 33,
   "metadata": {},
   "outputs": [
    {
     "name": "stdout",
     "output_type": "stream",
     "text": [
      "INFO:tensorflow:Assets written to: /tmp/tmpi3frmqdo/assets\n"
     ]
    },
    {
     "name": "stderr",
     "output_type": "stream",
     "text": [
      "2022-10-25 11:52:13.634280: W tensorflow/compiler/mlir/lite/python/tf_tfl_flatbuffer_helpers.cc:362] Ignored output_format.\n",
      "2022-10-25 11:52:13.634296: W tensorflow/compiler/mlir/lite/python/tf_tfl_flatbuffer_helpers.cc:365] Ignored drop_control_dependency.\n",
      "2022-10-25 11:52:13.634723: I tensorflow/cc/saved_model/reader.cc:45] Reading SavedModel from: /tmp/tmpi3frmqdo\n",
      "2022-10-25 11:52:13.635348: I tensorflow/cc/saved_model/reader.cc:89] Reading meta graph with tags { serve }\n",
      "2022-10-25 11:52:13.635362: I tensorflow/cc/saved_model/reader.cc:130] Reading SavedModel debug info (if present) from: /tmp/tmpi3frmqdo\n",
      "2022-10-25 11:52:13.637202: I tensorflow/compiler/mlir/mlir_graph_optimization_pass.cc:354] MLIR V1 optimization pass is not enabled\n",
      "2022-10-25 11:52:13.637745: I tensorflow/cc/saved_model/loader.cc:229] Restoring SavedModel bundle.\n",
      "2022-10-25 11:52:13.656715: I tensorflow/cc/saved_model/loader.cc:213] Running initialization op on SavedModel bundle at path: /tmp/tmpi3frmqdo\n",
      "2022-10-25 11:52:13.660365: I tensorflow/cc/saved_model/loader.cc:305] SavedModel load for tags { serve }; Status: success: OK. Took 25643 microseconds.\n",
      "2022-10-25 11:52:13.671139: I tensorflow/compiler/mlir/tensorflow/utils/dump_mlir_util.cc:268] disabling MLIR crash reproducer, set env var `MLIR_CRASH_REPRODUCER_DIRECTORY` to enable.\n"
     ]
    }
   ],
   "source": [
    "float_converter = tf.lite.TFLiteConverter.from_keras_model(dense_model)\n",
    "float_tflite_model = float_converter.convert()\n",
    "import pathlib\n",
    "tflite_model_file = pathlib.Path('dense_model.tflite')\n",
    "tflite_model_file.write_bytes(float_tflite_model)"
   ]
  },
  {
   "cell_type": "code",
   "execution_count": 20,
   "metadata": {},
   "outputs": [],
   "source": [
    "!xxd -i dense_model.tflite > dense_model.cc"
   ]
  },
  {
   "cell_type": "markdown",
   "metadata": {},
   "source": [
    "## Quantize dense model and save it as tflite."
   ]
  },
  {
   "cell_type": "code",
   "execution_count": 34,
   "metadata": {},
   "outputs": [
    {
     "name": "stdout",
     "output_type": "stream",
     "text": [
      "INFO:tensorflow:Assets written to: /tmp/tmp42_dbpil/assets\n"
     ]
    },
    {
     "name": "stderr",
     "output_type": "stream",
     "text": [
      "INFO:tensorflow:Assets written to: /tmp/tmp42_dbpil/assets\n",
      "/home/veysiadn/anaconda3/lib/python3.9/site-packages/tensorflow/lite/python/convert.py:766: UserWarning: Statistics for quantized inputs were expected, but not specified; continuing anyway.\n",
      "  warnings.warn(\"Statistics for quantized inputs were expected, but not \"\n",
      "2022-10-25 11:52:21.904683: W tensorflow/compiler/mlir/lite/python/tf_tfl_flatbuffer_helpers.cc:362] Ignored output_format.\n",
      "2022-10-25 11:52:21.904698: W tensorflow/compiler/mlir/lite/python/tf_tfl_flatbuffer_helpers.cc:365] Ignored drop_control_dependency.\n",
      "2022-10-25 11:52:21.904785: I tensorflow/cc/saved_model/reader.cc:45] Reading SavedModel from: /tmp/tmp42_dbpil\n",
      "2022-10-25 11:52:21.905752: I tensorflow/cc/saved_model/reader.cc:89] Reading meta graph with tags { serve }\n",
      "2022-10-25 11:52:21.905765: I tensorflow/cc/saved_model/reader.cc:130] Reading SavedModel debug info (if present) from: /tmp/tmp42_dbpil\n",
      "2022-10-25 11:52:21.909146: I tensorflow/cc/saved_model/loader.cc:229] Restoring SavedModel bundle.\n",
      "2022-10-25 11:52:21.931172: I tensorflow/cc/saved_model/loader.cc:213] Running initialization op on SavedModel bundle at path: /tmp/tmp42_dbpil\n",
      "2022-10-25 11:52:21.936484: I tensorflow/cc/saved_model/loader.cc:305] SavedModel load for tags { serve }; Status: success: OK. Took 31699 microseconds.\n",
      "fully_quantize: 0, inference_type: 6, input_inference_type: FLOAT32, output_inference_type: FLOAT32\n"
     ]
    }
   ],
   "source": [
    "def representative_data_gen():\n",
    "  for input_value in tf.data.Dataset.from_tensor_slices(x_train).batch(1).take(100):\n",
    "    # Model has only one input so each data point has one element.\n",
    "    yield [input_value]\n",
    "\n",
    "converter = tf.lite.TFLiteConverter.from_keras_model(dense_model)\n",
    "converter.optimizations = [tf.lite.Optimize.DEFAULT]\n",
    "converter.representative_dataset = representative_data_gen\n",
    "tflite_model_quant = converter.convert()\n",
    "\n",
    "tflite_model_file = pathlib.Path('dense_model_optimized.tflite')\n",
    "tflite_model_file.write_bytes(tflite_model_quant)"
   ]
  },
  {
   "cell_type": "code",
   "execution_count": 22,
   "metadata": {},
   "outputs": [],
   "source": [
    "!xxd -i dense_model_optimized.tflite > dense_model_optimized.cc"
   ]
  },
  {
   "cell_type": "code",
   "execution_count": 49,
   "metadata": {},
   "outputs": [
    {
     "name": "stdout",
     "output_type": "stream",
     "text": [
      "input:  <class 'numpy.float32'>\n",
      "output:  <class 'numpy.float32'>\n"
     ]
    }
   ],
   "source": [
    "interpreter = tf.lite.Interpreter(model_path='dense_model.tflite')\n",
    "input_type = interpreter.get_input_details()[0]['dtype']\n",
    "print('input: ', input_type)\n",
    "output_type = interpreter.get_output_details()[0]['dtype']\n",
    "print('output: ', output_type)"
   ]
  },
  {
   "cell_type": "code",
   "execution_count": 23,
   "metadata": {},
   "outputs": [],
   "source": [
    "# Helper function to run inference on a TFLite model\n",
    "def run_tflite_model(tflite_file, indices):\n",
    "  # Initialize the interpreter\n",
    "  interpreter = tf.lite.Interpreter(model_path=str(tflite_file))\n",
    "  interpreter.allocate_tensors()\n",
    "\n",
    "  input_details = interpreter.get_input_details()[0]\n",
    "  output_details = interpreter.get_output_details()[0]\n",
    "\n",
    "  predictions = 0\n",
    "  for i, index in enumerate(indices):\n",
    "    test_data = x_test_to_use[index]\n",
    "    test_data=np.expand_dims(test_data, axis=0)\n",
    "    test_labels = y_train[index]\n",
    "\n",
    "    interpreter.set_tensor(input_details[\"index\"], test_data)\n",
    "    interpreter.invoke()\n",
    "    output = interpreter.get_tensor(output_details[\"index\"])[0]\n",
    "    print(output[0])\n",
    "    print(output[1])\n",
    "    print(output[2])\n",
    "    predictions = output.argmax()\n",
    "\n",
    "  return predictions"
   ]
  },
  {
   "cell_type": "code",
   "execution_count": 24,
   "metadata": {},
   "outputs": [
    {
     "name": "stdout",
     "output_type": "stream",
     "text": [
      "8.737704e-08\n",
      "0.00016263525\n",
      "0.99983716\n",
      " Model \n",
      " True:[2], Predicted:2\n"
     ]
    },
    {
     "name": "stderr",
     "output_type": "stream",
     "text": [
      "INFO: Created TensorFlow Lite XNNPACK delegate for CPU.\n"
     ]
    }
   ],
   "source": [
    "import matplotlib.pylab as plt\n",
    "tflite_model_file = 'dense_model.tflite'\n",
    "# Change this to test a different image\n",
    "indice = 333\n",
    "\n",
    "## Helper function to test the models on one image\n",
    "def test_model(tflite_file, indice, model_type):\n",
    "\n",
    "  predictions = run_tflite_model(tflite_file, [indice])\n",
    "\n",
    "  print(f\" Model \\n True:{y_test_to_use[indice]}, Predicted:{predictions}\")\n",
    "  \n",
    "test_model(tflite_model_file, indice, model_type=\"Float\")"
   ]
  },
  {
   "cell_type": "code",
   "execution_count": null,
   "metadata": {},
   "outputs": [],
   "source": [
    "x_test[123]"
   ]
  },
  {
   "cell_type": "code",
   "execution_count": null,
   "metadata": {},
   "outputs": [],
   "source": [
    "tf.lite.experimental.Analyzer.analyze(model_path='float_model.tflite')"
   ]
  },
  {
   "cell_type": "code",
   "execution_count": 25,
   "metadata": {},
   "outputs": [],
   "source": [
    "import numpy as np\n",
    "\n",
    "def run_tflite_model_for_eval(interpreter, indices):\n",
    "  input_details = interpreter.get_input_details()[0]\n",
    "  output_details = interpreter.get_output_details()[0]\n",
    "\n",
    "  predictions = 0\n",
    "  for i, index in enumerate(indices):\n",
    "    test_data = x_test_to_use[index]\n",
    "    test_data=np.expand_dims(test_data, axis=0)\n",
    "\n",
    "    interpreter.set_tensor(input_details[\"index\"], test_data)\n",
    "    interpreter.invoke()\n",
    "    output = interpreter.get_tensor(output_details[\"index\"])[0]\n",
    "    predictions = output.argmax()\n",
    "  return predictions\n",
    "  \n",
    "def evaluate_model(interpreter):\n",
    "  output_predictions =[]\n",
    "  for i in range(len(x_test_to_use)):\n",
    "    output_predictions.append(run_tflite_model_for_eval(interpreter,[i]))\n",
    "  output_predictions = np.array(output_predictions)\n",
    "  output_predictions = np.expand_dims(output_predictions, axis=1)\n",
    "  accuracy = (output_predictions == y_test_to_use).mean()\n",
    "  return accuracy"
   ]
  },
  {
   "cell_type": "code",
   "execution_count": 21,
   "metadata": {},
   "outputs": [
    {
     "name": "stdout",
     "output_type": "stream",
     "text": [
      "Optimized dense_model TFLite test_accuracy: 0.9826666666666667\n"
     ]
    }
   ],
   "source": [
    "interpreter = tf.lite.Interpreter(model_path='dense_model_optimized.tflite')\n",
    "interpreter.allocate_tensors()\n",
    "\n",
    "test_accuracy = evaluate_model(interpreter)\n",
    "\n",
    "print('Optimized dense_model TFLite test_accuracy:', test_accuracy)\n",
    "# print('Quant TF test accuracy:', q_aware_model_accuracy)"
   ]
  },
  {
   "cell_type": "markdown",
   "metadata": {},
   "source": [
    "### Model with annotated layers for quantization -- Trial can be skipped."
   ]
  },
  {
   "cell_type": "code",
   "execution_count": null,
   "metadata": {},
   "outputs": [],
   "source": [
    "# ### Quantization based training\n",
    "# import tensorflow_model_optimization as tfmot\n",
    "# quantize_annotate_layer = tfmot.quantization.keras.quantize_annotate_layer\n",
    "\n",
    "# model = tf.keras.Sequential([\n",
    "# #### tf.keras.layers :\n",
    "\n",
    "# quantize_annotate_layer((tf.keras.layers.Reshape((1000,1,1),name='Reshape', input_shape=(1000,)))),\n",
    "# quantize_annotate_layer(tf.keras.layers.Conv2D(16,7,padding='same')),\n",
    "# quantize_annotate_layer(tf.keras.layers.Activation('relu')),\n",
    "# quantize_annotate_layer(tf.keras.layers.MaxPooling2D(4,4,padding='same')),\n",
    "# quantize_annotate_layer(tf.keras.layers.Conv2D(8,5, padding='same')),\n",
    "# quantize_annotate_layer(tf.keras.layers.Activation('relu')),\n",
    "# quantize_annotate_layer(tf.keras.layers.MaxPooling2D(4,4,padding='same')),\n",
    "# quantize_annotate_layer(tf.keras.layers.MaxPooling2D(2,2,padding='same')),\n",
    "# quantize_annotate_layer(tf.keras.layers.Flatten()),\n",
    "# quantize_annotate_layer(tf.keras.layers.Dense(32)),\n",
    "# quantize_annotate_layer(tf.keras.layers.Dense(3, activation='softmax')),\n",
    "# ])\n",
    "# quantized_model = tfmot.quantization.keras.quantize_apply(model)\n",
    "# # quant_aware_model = tfmot.quantization.keras.quantize_model(base_model)\n",
    "# # quant_aware_model.summary()\n",
    "# print(model.summary())\n",
    "# quantized_model.compile(optimizer=tf.keras.optimizers.Adam(learning_rate=1e-4),\n",
    "#               loss=tf.keras.losses.SparseCategoricalCrossentropy(),\n",
    "#               metrics=['accuracy'])\n",
    "\n",
    "# history = quantized_model.fit(x_train, y_train ,epochs=50, validation_data=(x_test, y_test), verbose=1)   \n",
    "\n",
    "\n",
    "# # Plotting accuracy and loss\n",
    "# import matplotlib.pyplot as plt\n",
    "# plt.plot(history.history['loss'])\n",
    "# plt.plot(history.history['accuracy'])\n",
    "# plt.plot(history.history['val_accuracy'])\n",
    "# plt.plot(history.history['val_loss'])\n",
    "\n",
    "\n",
    "# plt.title('Model loss & accuracy')\n",
    "# plt.ylabel('Loss')\n",
    "# plt.xlabel('Epoch')\n",
    "# plt.legend(['tr_loss', 'tr_accuracy', 'val_acc', 'val_loss'], loc='lower right')\n",
    "# # accuracy!\n",
    "# print(\"Training results\")\n",
    "# print(f\"Accuracy: {history.history['accuracy'][-1]}\")\n",
    "# print(f\"Loss: {history.history['loss'][-1]}\")\n",
    "\n",
    "# # evaluating model\n",
    "# print(\"Evaluation results\")\n",
    "# print(f\"Accuracy: {history.history['val_accuracy'][-1]}\")\n",
    "# print(f\"Loss: {history.history['val_loss'][-1]}\")\n",
    "\n",
    "\n",
    "# plt.show()"
   ]
  },
  {
   "cell_type": "code",
   "execution_count": 41,
   "metadata": {},
   "outputs": [],
   "source": [
    "# Import the standard Python packages used by the examples\n",
    "import os\n",
    "import urllib\n",
    "import shutil\n",
    "import tempfile\n",
    "\n",
    "# Import the necessary MLTK APIs\n",
    "from mltk.core import profile_model\n",
    "from mltk.utils.commander import query_platform\n"
   ]
  },
  {
   "cell_type": "code",
   "execution_count": 44,
   "metadata": {},
   "outputs": [
    {
     "name": "stdout",
     "output_type": "stream",
     "text": [
      "Profiling Summary\n",
      "Name: dense_model_optimized\n",
      "Accelerator: None\n",
      "Input Shape: 1x1000\n",
      "Input Data Type: float32\n",
      "Output Shape: 1x3\n",
      "Output Data Type: float32\n",
      "Flash, Model File Size (bytes): 7.0k\n",
      "RAM, Runtime Memory Size (bytes): 6.6k\n",
      "Operation Count: 12.1k\n",
      "Multiply-Accumulate Count: 4.0k\n",
      "Layer Count: 9\n",
      "Unsupported Layer Count: 0\n",
      "CPU Cycle Count: 71.2k\n",
      "CPU Utilization (%): 0.0\n",
      "Clock Rate (hz): 78.0M\n",
      "Energy (J): 1.3u\n",
      "J/Op: 105.3p\n",
      "J/MAC: 317.1p\n",
      "\n",
      "Model Layers\n",
      "+-------+-----------------+-------+--------+------------+------------+-----------------+--------------+---------------------+\n",
      "| Index | OpCode          | # Ops | # MACs | CPU Cycles | Energy (J) | Input Shape     | Output Shape | Options             |\n",
      "+-------+-----------------+-------+--------+------------+------------+-----------------+--------------+---------------------+\n",
      "| 0     | quantize        | 4.0k  | 0      | 36.7k      | 422.4n     | 1x1000          | 1x1000       | Type=none           |\n",
      "| 1     | reshape         | 0     | 0      | 234.4      | 0.0p       | 1x1000,2        | 1x1000       | Type=none           |\n",
      "| 2     | fully_connected | 8.0k  | 4.0k   | 14.6k      | 75.2n      | 1x1000,4x1000,4 | 1x4          | Activation:none     |\n",
      "| 3     | dequantize      | 8.0   | 0      | 1.4k       | 159.1n     | 1x4             | 1x4          | Type=none           |\n",
      "| 4     | elu             | 0     | 0      | 0          | 0          | 1x4             | 1x4          | Type=none           |\n",
      "| 5     | quantize        | 16.0  | 0      | 11.9k      | 422.4n     | 1x4             | 1x4          | Type=none           |\n",
      "| 6     | fully_connected | 27.0  | 12.0   | 1.1k       | 17.5n      | 1x4,3x4,3       | 1x3          | Activation:none     |\n",
      "| 7     | softmax         | 15.0  | 0      | 3.8k       | 16.5n      | 1x3             | 1x3          | Type=softmaxoptions |\n",
      "| 8     | dequantize      | 6.0   | 0      | 1.4k       | 159.1n     | 1x3             | 1x3          | Type=none           |\n",
      "+-------+-----------------+-------+--------+------------+------------+-----------------+--------------+---------------------+\n"
     ]
    }
   ],
   "source": [
    "tflite_path = './dense_model_optimized.tflite'\n",
    "\n",
    "# Profile the tflite model using the \"basic simulator\"\n",
    "# NOTE: Update tflite_path to point to your model if necessary\n",
    "profiling_results = profile_model(tflite_path)\n",
    "\n",
    "# Print the profiling results\n",
    "print(profiling_results)"
   ]
  },
  {
   "cell_type": "code",
   "execution_count": 46,
   "metadata": {},
   "outputs": [
    {
     "name": "stdout",
     "output_type": "stream",
     "text": [
      "Profiling Summary\n",
      "Name: dense_model\n",
      "Accelerator: None\n",
      "Input Shape: 1x1000\n",
      "Input Data Type: float32\n",
      "Output Shape: 1x3\n",
      "Output Data Type: float32\n",
      "Flash, Model File Size (bytes): 18.2k\n",
      "RAM, Runtime Memory Size (bytes): 9.3k\n",
      "Operation Count: 8.0k\n",
      "Multiply-Accumulate Count: 4.0k\n",
      "Layer Count: 5\n",
      "Unsupported Layer Count: 0\n",
      "CPU Cycle Count: 19.8k\n",
      "CPU Utilization (%): 0.0\n",
      "Clock Rate (hz): 78.0M\n",
      "Energy (J): 109.2n\n",
      "J/Op: 13.6p\n",
      "J/MAC: 27.2p\n",
      "\n",
      "Model Layers\n",
      "+-------+-----------------+-------+--------+------------+------------+-----------------+--------------+---------------------+\n",
      "| Index | OpCode          | # Ops | # MACs | CPU Cycles | Energy (J) | Input Shape     | Output Shape | Options             |\n",
      "+-------+-----------------+-------+--------+------------+------------+-----------------+--------------+---------------------+\n",
      "| 0     | reshape         | 0     | 0      | 234.4      | 0.0p       | 1x1000,2        | 1x1000       | Type=none           |\n",
      "| 1     | fully_connected | 8.0k  | 4.0k   | 14.6k      | 75.2n      | 1x1000,4x1000,4 | 1x4          | Activation:none     |\n",
      "| 2     | elu             | 0     | 0      | 0          | 0          | 1x4             | 1x4          | Type=none           |\n",
      "| 3     | fully_connected | 27.0  | 12.0   | 1.1k       | 17.5n      | 1x4,3x4,3       | 1x3          | Activation:none     |\n",
      "| 4     | softmax         | 15.0  | 0      | 3.8k       | 16.5n      | 1x3             | 1x3          | Type=softmaxoptions |\n",
      "+-------+-----------------+-------+--------+------------+------------+-----------------+--------------+---------------------+\n"
     ]
    }
   ],
   "source": [
    "tflite_path = './dense_model.tflite'\n",
    "\n",
    "# Profile the tflite model using the \"basic simulator\"\n",
    "# NOTE: Update tflite_path to point to your model if necessary\n",
    "profiling_results = profile_model(tflite_path)\n",
    "\n",
    "# Print the profiling results\n",
    "print(profiling_results)"
   ]
  },
  {
   "cell_type": "code",
   "execution_count": 47,
   "metadata": {},
   "outputs": [
    {
     "name": "stdout",
     "output_type": "stream",
     "text": [
      "Profiling Summary\n",
      "Name: dense_model\n",
      "Accelerator: MVP\n",
      "Input Shape: 1x1000\n",
      "Input Data Type: float32\n",
      "Output Shape: 1x3\n",
      "Output Data Type: float32\n",
      "Flash, Model File Size (bytes): 18.2k\n",
      "RAM, Runtime Memory Size (bytes): 9.4k\n",
      "Operation Count: 8.0k\n",
      "Multiply-Accumulate Count: 4.0k\n",
      "Layer Count: 5\n",
      "Unsupported Layer Count: 0\n",
      "CPU Cycle Count: 19.8k\n",
      "CPU Utilization (%): 0.0\n",
      "Clock Rate (hz): 78.0M\n",
      "Energy (J): 109.2n\n",
      "J/Op: 13.6p\n",
      "J/MAC: 27.2p\n",
      "\n",
      "Model Layers\n",
      "+-------+-----------------+-------+--------+------------+------------+-----------------+--------------+---------------------+\n",
      "| Index | OpCode          | # Ops | # MACs | CPU Cycles | Energy (J) | Input Shape     | Output Shape | Options             |\n",
      "+-------+-----------------+-------+--------+------------+------------+-----------------+--------------+---------------------+\n",
      "| 0     | reshape         | 0     | 0      | 234.4      | 0.0p       | 1x1000,2        | 1x1000       | Type=none           |\n",
      "| 1     | fully_connected | 8.0k  | 4.0k   | 14.6k      | 75.2n      | 1x1000,4x1000,4 | 1x4          | Activation:none     |\n",
      "| 2     | elu             | 0     | 0      | 0          | 0          | 1x4             | 1x4          | Type=none           |\n",
      "| 3     | fully_connected | 27.0  | 12.0   | 1.1k       | 17.5n      | 1x4,3x4,3       | 1x3          | Activation:none     |\n",
      "| 4     | softmax         | 15.0  | 0      | 3.8k       | 16.5n      | 1x3             | 1x3          | Type=softmaxoptions |\n",
      "+-------+-----------------+-------+--------+------------+------------+-----------------+--------------+---------------------+\n"
     ]
    }
   ],
   "source": [
    "# Profile the tflite model using the MVP hardware accelerator simulator\n",
    "# NOTE: Update tflite_path to point to your model if necessary\n",
    "profiling_results = profile_model(tflite_path, accelerator='MVP')\n",
    "\n",
    "# Print the profiling results\n",
    "print(profiling_results)"
   ]
  }
 ],
 "metadata": {
  "kernelspec": {
   "display_name": "Python 3.9.12 ('base')",
   "language": "python",
   "name": "python3"
  },
  "language_info": {
   "codemirror_mode": {
    "name": "ipython",
    "version": 3
   },
   "file_extension": ".py",
   "mimetype": "text/x-python",
   "name": "python",
   "nbconvert_exporter": "python",
   "pygments_lexer": "ipython3",
   "version": "3.9.12"
  },
  "orig_nbformat": 4,
  "vscode": {
   "interpreter": {
    "hash": "41e74be16d15307d9f039f42bdba433d4433ec6233894682bf41214f89ea7b7d"
   }
  }
 },
 "nbformat": 4,
 "nbformat_minor": 2
}
