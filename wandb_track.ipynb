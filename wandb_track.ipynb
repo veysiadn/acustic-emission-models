{
  "cells": [
    {
      "cell_type": "markdown",
      "metadata": {
        "id": "b266df30"
      },
      "source": [
        "<a href=\"https://colab.research.google.com/github/wandb/examples/blob/master/colabs/tensorflow/Simple_TensorFlow_Integration.ipynb\" target=\"_parent\"><img src=\"https://colab.research.google.com/assets/colab-badge.svg\" alt=\"Open In Colab\"/></a>\n",
        "<!--- @wandbcode{simple-tensorflow} -->"
      ]
    },
    {
      "cell_type": "markdown",
      "metadata": {
        "id": "MnYg1npgpYCg"
      },
      "source": [
        "\n",
        "# 🏋️‍♀️ W&B + 🌊 TensorFlow 2.x\n",
        "Use Weights & Biases for machine learning experiment tracking, dataset versioning, and project collaboration.\n",
        "\n",
        "<div><img /></div>\n",
        "\n",
        "<img src=\"http://wandb.me/mini-diagram\" width=\"650\" alt=\"Weights & Biases\" />\n",
        "\n",
        "<div><img /></div>\n",
        "\n"
      ]
    },
    {
      "cell_type": "markdown",
      "metadata": {},
      "source": [
        "## Get started, import libraries, use  GPU."
      ]
    },
    {
      "cell_type": "code",
      "execution_count": 1,
      "metadata": {
        "id": "xfFjvDsRpYC0"
      },
      "outputs": [
        {
          "name": "stdout",
          "output_type": "stream",
          "text": [
            "1 Physical CPU, 1 Logical CPU\n"
          ]
        }
      ],
      "source": [
        "import tensorflow as tf\n",
        "from tensorflow import keras\n",
        "\n",
        "import os\n",
        "import numpy as np\n",
        "import pandas as pd\n",
        "import matplotlib.pyplot as plt\n",
        "# Veysi ADIN 19 SEPT 2022\n",
        "from pandas import read_csv\n",
        "from numpy import set_printoptions\n",
        "from sklearn import datasets, linear_model\n",
        "from sklearn.preprocessing import RobustScaler\n",
        "from sklearn.model_selection import train_test_split\n",
        "import random\n",
        "# Using GPU\n",
        "import os\n",
        "import scipy.io as scpy\n",
        "os.environ['TF_CPP_MIN_LOG_LEVEL'] = '3'\n",
        "os.environ[\"CUDA_DEVICE_ORDER\"] = \"PCI_BUS_ID\"\n",
        "os.environ[\"CUDA_VISIBLE_DEVICES\"] = '0'  # Set to -1 if CPU should be used CPU = -1 , GPU = 0\n",
        "\n",
        "gpus = tf.config.experimental.list_physical_devices('GPU')\n",
        "cpus = tf.config.experimental.list_physical_devices('CPU')\n",
        "\n",
        "if gpus:\n",
        "    try:\n",
        "        # Currently, memory growth needs to be the same across GPUs\n",
        "        for gpu in gpus:\n",
        "            tf.config.experimental.set_memory_growth(gpu, True)\n",
        "        logical_gpus = tf.config.experimental.list_logical_devices('GPU')\n",
        "        print(len(gpus), \"Physical GPUs,\", len(logical_gpus), \"Logical GPUs\")\n",
        "    except RuntimeError as e:\n",
        "        # Memory growth must be set before GPUs have been initialized\n",
        "        print(e)\n",
        "elif cpus:\n",
        "    try:\n",
        "        # Currently, memory growth needs to be the same across GPUs\n",
        "        logical_cpus= tf.config.experimental.list_logical_devices('CPU')\n",
        "        print(len(cpus), \"Physical CPU,\", len(logical_cpus), \"Logical CPU\")\n",
        "    except RuntimeError as e:\n",
        "        # Memory growth must be set before GPUs have been initialized\n",
        "        print(e)\n"
      ]
    },
    {
      "cell_type": "markdown",
      "metadata": {
        "id": "IEYhRgFmpYC6"
      },
      "source": [
        "## Step 1️⃣: Import W&B and login"
      ]
    },
    {
      "cell_type": "code",
      "execution_count": 2,
      "metadata": {
        "id": "6eERWn0KpYC7"
      },
      "outputs": [
        {
          "name": "stderr",
          "output_type": "stream",
          "text": [
            "Failed to detect the name of this notebook, you can set it manually with the WANDB_NOTEBOOK_NAME environment variable to enable code saving.\n",
            "\u001b[34m\u001b[1mwandb\u001b[0m: Currently logged in as: \u001b[33mveysiadn\u001b[0m. Use \u001b[1m`wandb login --relogin`\u001b[0m to force relogin\n",
            "\u001b[34m\u001b[1mwandb\u001b[0m: \u001b[33mWARNING\u001b[0m If you're specifying your api key in code, ensure this code is not shared publicly.\n",
            "\u001b[34m\u001b[1mwandb\u001b[0m: \u001b[33mWARNING\u001b[0m Consider setting the WANDB_API_KEY environment variable, or running `wandb login` from the command line.\n",
            "\u001b[34m\u001b[1mwandb\u001b[0m: Appending key for api.wandb.ai to your netrc file: C:\\Users\\101/.netrc\n"
          ]
        },
        {
          "data": {
            "text/plain": [
              "True"
            ]
          },
          "execution_count": 2,
          "metadata": {},
          "output_type": "execute_result"
        }
      ],
      "source": [
        "import wandb\n",
        "from wandb.keras import WandbCallback\n",
        "\n",
        "wandb.login(key='0eeb933c285c4fbafee9f8d0f3d524022593e894')"
      ]
    },
    {
      "cell_type": "markdown",
      "metadata": {
        "id": "xipeJaujpYC8"
      },
      "source": [
        "# Prepare Dataset"
      ]
    },
    {
      "cell_type": "code",
      "execution_count": 4,
      "metadata": {
        "id": "gm0GtXqqpYC9"
      },
      "outputs": [
        {
          "name": "stdout",
          "output_type": "stream",
          "text": [
            "(15000, 1000)\n",
            "(15000, 1)\n",
            " (12000, 1500, 1500)\n"
          ]
        }
      ],
      "source": [
        "data = scpy.loadmat(\"matlab15000.mat\")\n",
        "# Extracting x_train from the mat file dictionary.\n",
        "x_data = data[\"XTrain\"]\n",
        "# Extracting y_train from the mat file dictionary.\n",
        "y_data = data[\"unnamed\"]\n",
        "# Converting x_train and y_train to a numpy array.\n",
        "x_data = np.array(x_data,dtype='float32')\n",
        "y_train = np.array(y_data,dtype='float32')\n",
        "# Verifying the shapes.\n",
        "print(x_data.shape)\n",
        "print(y_data.shape)\n",
        "\n",
        "SEED = 99\n",
        "os.environ['PYTHONHASHSEED']=str(SEED)\n",
        "random.seed(SEED)\n",
        "np.random.seed(SEED)\n",
        "tf.random.set_seed(SEED)\n",
        "# split into train test sets\n",
        "x_train, x_test, y_train, y_test = train_test_split(x_data, y_data, test_size=0.2, random_state=SEED)\n",
        "\n",
        "\n",
        "x_val = x_test[:1500]\n",
        "y_val = y_test[:1500]\n",
        "x_test_to_use = x_test[1500:]\n",
        "y_test_to_use = y_test[1500:]\n",
        "print(f\" {len(x_train), len(x_val), len(x_test_to_use)}\")\n",
        "\n",
        "train_dataset = tf.data.Dataset.from_tensor_slices((x_train, y_train))\n",
        "test_dataset = tf.data.Dataset.from_tensor_slices((x_val, y_val))\n",
        "BATCH_SIZE = 64\n",
        "SHUFFLE_BUFFER_SIZE = 100\n",
        "train_dataset = train_dataset.shuffle(SHUFFLE_BUFFER_SIZE).batch(BATCH_SIZE)\n",
        "test_dataset = test_dataset.batch(BATCH_SIZE)"
      ]
    },
    {
      "cell_type": "markdown",
      "metadata": {
        "id": "Bswq3UqdpYC-"
      },
      "source": [
        "## Define the Model and the Training Loop"
      ]
    },
    {
      "cell_type": "code",
      "execution_count": 5,
      "metadata": {
        "id": "cu2VkEjqpYC-"
      },
      "outputs": [],
      "source": [
        "def make_conv_model():\n",
        "    inputs = keras.Input(shape=(x_train.shape[1],))\n",
        "    x1 = tf.keras.layers.Reshape((1000,1,1),name='Reshape')(inputs)\n",
        "    x2 = tf.keras.layers.Conv2D(8,5,padding='same')(x1)\n",
        "    x3= tf.keras.layers.Activation('relu')(x2)\n",
        "    x4 = tf.keras.layers.MaxPooling2D(2,2, padding='same')(x3)\n",
        "    x5 = tf.keras.layers.Flatten()(x4)\n",
        "    outputs = tf.keras.layers.Dense(3,activation='softmax', name=\"output\")(x5)\n",
        "    return keras.Model(inputs=inputs, outputs=outputs)\n",
        "def make_conv_model_paper():\n",
        "    inputs=keras.Input(shape=(x_train.shape[1],))\n",
        "    x0 = tf.keras.layers.Reshape((1000,1),name='Reshape')(inputs)\n",
        "    x1=tf.keras.layers.Conv1D(32,7)(x0)\n",
        "    x2=tf.keras.layers.BatchNormalization()(x1)\n",
        "    x3=tf.keras.layers.Activation('relu')(x2)\n",
        "    x4=tf.keras.layers.MaxPooling1D(pool_size=8)(x3)\n",
        "    x5=tf.keras.layers.Conv1D(48,5)(x4)\n",
        "    x6=tf.keras.layers.BatchNormalization()(x5)\n",
        "    x7=tf.keras.layers.Activation('relu')(x6)\n",
        "    x8=tf.keras.layers.MaxPooling1D(pool_size=4)(x7)\n",
        "    x9=tf.keras.layers.MaxPooling1D(pool_size=4)(x8)\n",
        "    x10=tf.keras.layers.Dropout(0.3)(x9)\n",
        "    x11=tf.keras.layers.Flatten()(x10)\n",
        "    x12=tf.keras.layers.Dense(32)(x11)\n",
        "    x13=tf.keras.layers.Dense(32)(x12)\n",
        "    outputs=tf.keras.layers.Dense(3, activation='softmax')(x13)\n",
        "    return keras.Model(inputs=inputs, outputs=outputs)\n",
        "def make_dense_model():\n",
        "    inputs = keras.Input(shape=(x_train.shape[1],))\n",
        "    x1 = tf.keras.layers.Flatten(input_shape=(1000,))(inputs)\n",
        "    x2 = keras.layers.Dense(4, activation=\"relu\")(x1)\n",
        "    outputs = keras.layers.Dense(3, name=\"output\")(x2)\n",
        "    \n",
        "    return keras.Model(inputs=inputs, outputs=outputs)\n",
        "def make_dense_model_swish():\n",
        "    inputs = keras.Input(shape=(x_train.shape[1],))\n",
        "    x1 = tf.keras.layers.Flatten(input_shape=(1000,))(inputs)\n",
        "    x2 = keras.layers.Dense(4, activation=\"swish\")(x1)\n",
        "    outputs = keras.layers.Dense(3, name=\"output\")(x2)\n",
        "    \n",
        "    return keras.Model(inputs=inputs, outputs=outputs)    "
      ]
    },
    {
      "cell_type": "code",
      "execution_count": 6,
      "metadata": {
        "id": "EdCw_DPgpYC_"
      },
      "outputs": [],
      "source": [
        "def train_step(x, y, model, optimizer, loss_fn, train_acc_metric):\n",
        "    with tf.GradientTape() as tape:\n",
        "        logits = model(x, training=True)\n",
        "        loss_value = loss_fn(y, logits)\n",
        "\n",
        "    grads = tape.gradient(loss_value, model.trainable_weights)\n",
        "    optimizer.apply_gradients(zip(grads, model.trainable_weights))\n",
        "\n",
        "    train_acc_metric.update_state(y, logits)\n",
        "\n",
        "    return loss_value"
      ]
    },
    {
      "cell_type": "code",
      "execution_count": 7,
      "metadata": {
        "id": "bfaZYKgBpYC_"
      },
      "outputs": [],
      "source": [
        "def test_step(x, y, model, loss_fn, val_acc_metric):\n",
        "    val_logits = model(x, training=False)\n",
        "    loss_value = loss_fn(y, val_logits)\n",
        "    val_acc_metric.update_state(y, val_logits)\n",
        "\n",
        "    return loss_value"
      ]
    },
    {
      "cell_type": "markdown",
      "metadata": {
        "id": "aizRbx_XpYDA"
      },
      "source": [
        "## Step 2️⃣: Add `wandb.log` to your training loop"
      ]
    },
    {
      "cell_type": "code",
      "execution_count": 8,
      "metadata": {
        "id": "fYn61D6zpYDA"
      },
      "outputs": [],
      "source": [
        "def train(train_dataset, val_dataset,  model, optimizer,\n",
        "          train_acc_metric, val_acc_metric,\n",
        "          epochs=10,  log_step=200, val_log_step=50):\n",
        "  \n",
        "    for epoch in range(epochs):\n",
        "        print(\"\\nStart of epoch %d\" % (epoch,))\n",
        "\n",
        "        train_loss = []   \n",
        "        val_loss = []\n",
        "\n",
        "        # Iterate over the batches of the dataset\n",
        "        for step, (x_batch_train, y_batch_train) in enumerate(train_dataset):\n",
        "            loss_value = train_step(x_batch_train, y_batch_train, \n",
        "                                    model, optimizer, \n",
        "                                    loss_fn, train_acc_metric)\n",
        "            train_loss.append(float(loss_value))\n",
        "\n",
        "        # Run a validation loop at the end of each epoch\n",
        "        for step, (x_batch_val, y_batch_val) in enumerate(val_dataset):\n",
        "            val_loss_value = test_step(x_batch_val, y_batch_val, \n",
        "                                       model, loss_fn, \n",
        "                                       val_acc_metric)\n",
        "            val_loss.append(float(val_loss_value))\n",
        "            \n",
        "        # Display metrics at the end of each epoch\n",
        "        train_acc = train_acc_metric.result()\n",
        "        print(\"Training acc over epoch: %.4f\" % (float(train_acc),))\n",
        "\n",
        "        val_acc = val_acc_metric.result()\n",
        "        print(\"Validation acc: %.4f\" % (float(val_acc),))\n",
        "\n",
        "        # Reset metrics at the end of each epoch\n",
        "        train_acc_metric.reset_states()\n",
        "        val_acc_metric.reset_states()\n",
        "\n",
        "        # ⭐: log metrics using wandb.log\n",
        "        wandb.log({'epochs': epoch,\n",
        "                   'loss': np.mean(train_loss),\n",
        "                   'acc': float(train_acc), \n",
        "                   'val_loss': np.mean(val_loss),\n",
        "                   'val_acc':float(val_acc)})"
      ]
    },
    {
      "cell_type": "markdown",
      "metadata": {
        "id": "BUB49abapYDB"
      },
      "source": [
        "# 👟 Run Training"
      ]
    },
    {
      "cell_type": "markdown",
      "metadata": {
        "id": "FNAGDK6UpYDC"
      },
      "source": [
        "## Step 3️⃣: Call `wandb.init` to start a run\n",
        "\n",
        "This lets us know you're launching an experiment,\n",
        "so we can give it a unique ID and a dashboard.\n",
        "\n",
        "[Check out the official documentation here $\\rightarrow$](https://docs.wandb.com/library/init)\n"
      ]
    },
    {
      "cell_type": "code",
      "execution_count": 11,
      "metadata": {
        "id": "ka4swBchpYDC"
      },
      "outputs": [
        {
          "data": {
            "text/html": [
              "Tracking run with wandb version 0.13.4"
            ],
            "text/plain": [
              "<IPython.core.display.HTML object>"
            ]
          },
          "metadata": {},
          "output_type": "display_data"
        },
        {
          "data": {
            "text/html": [
              "Run data is saved locally in <code>c:\\Users\\101\\my_source\\acustic-emission-models\\wandb\\run-20221008_222431-s4pqcwlg</code>"
            ],
            "text/plain": [
              "<IPython.core.display.HTML object>"
            ]
          },
          "metadata": {},
          "output_type": "display_data"
        },
        {
          "data": {
            "text/html": [
              "Syncing run <strong><a href=\"https://wandb.ai/veysiadn/my-test-project/runs/s4pqcwlg\" target=\"_blank\">Dense_Model_Swish_RMSprop-1e-3</a></strong> to <a href=\"https://wandb.ai/veysiadn/my-test-project\" target=\"_blank\">Weights & Biases</a> (<a href=\"https://wandb.me/run\" target=\"_blank\">docs</a>)<br/>"
            ],
            "text/plain": [
              "<IPython.core.display.HTML object>"
            ]
          },
          "metadata": {},
          "output_type": "display_data"
        },
        {
          "name": "stdout",
          "output_type": "stream",
          "text": [
            "Model: \"model_2\"\n",
            "_________________________________________________________________\n",
            " Layer (type)                Output Shape              Param #   \n",
            "=================================================================\n",
            " input_3 (InputLayer)        [(None, 1000)]            0         \n",
            "                                                                 \n",
            " flatten_2 (Flatten)         (None, 1000)              0         \n",
            "                                                                 \n",
            " dense_2 (Dense)             (None, 4)                 4004      \n",
            "                                                                 \n",
            " output (Dense)              (None, 3)                 15        \n",
            "                                                                 \n",
            "=================================================================\n",
            "Total params: 4,019\n",
            "Trainable params: 4,019\n",
            "Non-trainable params: 0\n",
            "_________________________________________________________________\n",
            "\n",
            "Start of epoch 0\n",
            "Training acc over epoch: 0.7293\n",
            "Validation acc: 0.8287\n",
            "\n",
            "Start of epoch 1\n",
            "Training acc over epoch: 0.8561\n",
            "Validation acc: 0.8753\n",
            "\n",
            "Start of epoch 2\n",
            "Training acc over epoch: 0.8853\n",
            "Validation acc: 0.8960\n",
            "\n",
            "Start of epoch 3\n",
            "Training acc over epoch: 0.9032\n",
            "Validation acc: 0.9113\n",
            "\n",
            "Start of epoch 4\n",
            "Training acc over epoch: 0.9134\n",
            "Validation acc: 0.9153\n",
            "\n",
            "Start of epoch 5\n",
            "Training acc over epoch: 0.9233\n",
            "Validation acc: 0.9293\n",
            "\n",
            "Start of epoch 6\n",
            "Training acc over epoch: 0.9340\n",
            "Validation acc: 0.9387\n",
            "\n",
            "Start of epoch 7\n",
            "Training acc over epoch: 0.9433\n",
            "Validation acc: 0.9420\n",
            "\n",
            "Start of epoch 8\n",
            "Training acc over epoch: 0.9476\n",
            "Validation acc: 0.9487\n",
            "\n",
            "Start of epoch 9\n",
            "Training acc over epoch: 0.9511\n",
            "Validation acc: 0.9500\n",
            "\n",
            "Start of epoch 10\n",
            "Training acc over epoch: 0.9543\n",
            "Validation acc: 0.9527\n",
            "\n",
            "Start of epoch 11\n",
            "Training acc over epoch: 0.9566\n",
            "Validation acc: 0.9580\n",
            "\n",
            "Start of epoch 12\n",
            "Training acc over epoch: 0.9580\n",
            "Validation acc: 0.9593\n",
            "\n",
            "Start of epoch 13\n",
            "Training acc over epoch: 0.9591\n",
            "Validation acc: 0.9587\n",
            "\n",
            "Start of epoch 14\n",
            "Training acc over epoch: 0.9615\n",
            "Validation acc: 0.9587\n",
            "\n",
            "Start of epoch 15\n",
            "Training acc over epoch: 0.9627\n",
            "Validation acc: 0.9633\n",
            "\n",
            "Start of epoch 16\n",
            "Training acc over epoch: 0.9646\n",
            "Validation acc: 0.9627\n",
            "\n",
            "Start of epoch 17\n",
            "Training acc over epoch: 0.9658\n",
            "Validation acc: 0.9640\n",
            "\n",
            "Start of epoch 18\n",
            "Training acc over epoch: 0.9669\n",
            "Validation acc: 0.9660\n",
            "\n",
            "Start of epoch 19\n",
            "Training acc over epoch: 0.9675\n",
            "Validation acc: 0.9647\n",
            "\n",
            "Start of epoch 20\n",
            "Training acc over epoch: 0.9692\n",
            "Validation acc: 0.9647\n",
            "\n",
            "Start of epoch 21\n",
            "Training acc over epoch: 0.9698\n",
            "Validation acc: 0.9667\n",
            "\n",
            "Start of epoch 22\n",
            "Training acc over epoch: 0.9713\n",
            "Validation acc: 0.9653\n",
            "\n",
            "Start of epoch 23\n",
            "Training acc over epoch: 0.9704\n",
            "Validation acc: 0.9633\n",
            "\n",
            "Start of epoch 24\n",
            "Training acc over epoch: 0.9727\n",
            "Validation acc: 0.9667\n",
            "\n",
            "Start of epoch 25\n",
            "Training acc over epoch: 0.9728\n",
            "Validation acc: 0.9660\n",
            "\n",
            "Start of epoch 26\n",
            "Training acc over epoch: 0.9737\n",
            "Validation acc: 0.9660\n",
            "\n",
            "Start of epoch 27\n",
            "Training acc over epoch: 0.9741\n",
            "Validation acc: 0.9673\n",
            "\n",
            "Start of epoch 28\n",
            "Training acc over epoch: 0.9748\n",
            "Validation acc: 0.9667\n",
            "\n",
            "Start of epoch 29\n",
            "Training acc over epoch: 0.9753\n",
            "Validation acc: 0.9653\n",
            "\n",
            "Start of epoch 30\n",
            "Training acc over epoch: 0.9768\n",
            "Validation acc: 0.9667\n",
            "\n",
            "Start of epoch 31\n",
            "Training acc over epoch: 0.9768\n",
            "Validation acc: 0.9667\n",
            "\n",
            "Start of epoch 32\n",
            "Training acc over epoch: 0.9771\n",
            "Validation acc: 0.9680\n",
            "\n",
            "Start of epoch 33\n",
            "Training acc over epoch: 0.9778\n",
            "Validation acc: 0.9700\n",
            "\n",
            "Start of epoch 34\n",
            "Training acc over epoch: 0.9773\n",
            "Validation acc: 0.9680\n",
            "\n",
            "Start of epoch 35\n",
            "Training acc over epoch: 0.9778\n",
            "Validation acc: 0.9680\n",
            "\n",
            "Start of epoch 36\n",
            "Training acc over epoch: 0.9781\n",
            "Validation acc: 0.9687\n",
            "\n",
            "Start of epoch 37\n",
            "Training acc over epoch: 0.9785\n",
            "Validation acc: 0.9700\n",
            "\n",
            "Start of epoch 38\n",
            "Training acc over epoch: 0.9783\n",
            "Validation acc: 0.9673\n",
            "\n",
            "Start of epoch 39\n",
            "Training acc over epoch: 0.9795\n",
            "Validation acc: 0.9707\n",
            "\n",
            "Start of epoch 40\n",
            "Training acc over epoch: 0.9806\n",
            "Validation acc: 0.9693\n",
            "\n",
            "Start of epoch 41\n",
            "Training acc over epoch: 0.9801\n",
            "Validation acc: 0.9673\n",
            "\n",
            "Start of epoch 42\n",
            "Training acc over epoch: 0.9804\n",
            "Validation acc: 0.9700\n",
            "\n",
            "Start of epoch 43\n",
            "Training acc over epoch: 0.9802\n",
            "Validation acc: 0.9700\n",
            "\n",
            "Start of epoch 44\n",
            "Training acc over epoch: 0.9818\n",
            "Validation acc: 0.9680\n",
            "\n",
            "Start of epoch 45\n",
            "Training acc over epoch: 0.9808\n",
            "Validation acc: 0.9713\n",
            "\n",
            "Start of epoch 46\n",
            "Training acc over epoch: 0.9807\n",
            "Validation acc: 0.9673\n",
            "\n",
            "Start of epoch 47\n",
            "Training acc over epoch: 0.9820\n",
            "Validation acc: 0.9707\n",
            "\n",
            "Start of epoch 48\n",
            "Training acc over epoch: 0.9815\n",
            "Validation acc: 0.9680\n",
            "\n",
            "Start of epoch 49\n",
            "Training acc over epoch: 0.9818\n",
            "Validation acc: 0.9687\n",
            "\n",
            "Start of epoch 50\n",
            "Training acc over epoch: 0.9829\n",
            "Validation acc: 0.9700\n",
            "\n",
            "Start of epoch 51\n",
            "Training acc over epoch: 0.9826\n",
            "Validation acc: 0.9687\n",
            "\n",
            "Start of epoch 52\n",
            "Training acc over epoch: 0.9821\n",
            "Validation acc: 0.9693\n",
            "\n",
            "Start of epoch 53\n",
            "Training acc over epoch: 0.9825\n",
            "Validation acc: 0.9693\n",
            "\n",
            "Start of epoch 54\n",
            "Training acc over epoch: 0.9834\n",
            "Validation acc: 0.9700\n",
            "\n",
            "Start of epoch 55\n",
            "Training acc over epoch: 0.9832\n",
            "Validation acc: 0.9673\n",
            "\n",
            "Start of epoch 56\n",
            "Training acc over epoch: 0.9832\n",
            "Validation acc: 0.9700\n",
            "\n",
            "Start of epoch 57\n",
            "Training acc over epoch: 0.9833\n",
            "Validation acc: 0.9720\n",
            "\n",
            "Start of epoch 58\n",
            "Training acc over epoch: 0.9839\n",
            "Validation acc: 0.9700\n",
            "\n",
            "Start of epoch 59\n",
            "Training acc over epoch: 0.9841\n",
            "Validation acc: 0.9693\n",
            "\n",
            "Start of epoch 60\n",
            "Training acc over epoch: 0.9843\n",
            "Validation acc: 0.9707\n",
            "\n",
            "Start of epoch 61\n",
            "Training acc over epoch: 0.9847\n",
            "Validation acc: 0.9693\n",
            "\n",
            "Start of epoch 62\n",
            "Training acc over epoch: 0.9841\n",
            "Validation acc: 0.9707\n",
            "\n",
            "Start of epoch 63\n",
            "Training acc over epoch: 0.9839\n",
            "Validation acc: 0.9687\n",
            "\n",
            "Start of epoch 64\n",
            "Training acc over epoch: 0.9858\n",
            "Validation acc: 0.9687\n",
            "\n",
            "Start of epoch 65\n",
            "Training acc over epoch: 0.9850\n",
            "Validation acc: 0.9700\n",
            "\n",
            "Start of epoch 66\n",
            "Training acc over epoch: 0.9845\n",
            "Validation acc: 0.9707\n",
            "\n",
            "Start of epoch 67\n",
            "Training acc over epoch: 0.9851\n",
            "Validation acc: 0.9700\n",
            "\n",
            "Start of epoch 68\n",
            "Training acc over epoch: 0.9858\n",
            "Validation acc: 0.9707\n",
            "\n",
            "Start of epoch 69\n",
            "Training acc over epoch: 0.9853\n",
            "Validation acc: 0.9693\n",
            "\n",
            "Start of epoch 70\n",
            "Training acc over epoch: 0.9855\n",
            "Validation acc: 0.9713\n",
            "\n",
            "Start of epoch 71\n",
            "Training acc over epoch: 0.9852\n",
            "Validation acc: 0.9680\n",
            "\n",
            "Start of epoch 72\n",
            "Training acc over epoch: 0.9862\n",
            "Validation acc: 0.9687\n",
            "\n",
            "Start of epoch 73\n",
            "Training acc over epoch: 0.9857\n",
            "Validation acc: 0.9680\n",
            "\n",
            "Start of epoch 74\n",
            "Training acc over epoch: 0.9859\n",
            "Validation acc: 0.9720\n",
            "\n",
            "Start of epoch 75\n",
            "Training acc over epoch: 0.9862\n",
            "Validation acc: 0.9687\n",
            "\n",
            "Start of epoch 76\n",
            "Training acc over epoch: 0.9858\n",
            "Validation acc: 0.9693\n",
            "\n",
            "Start of epoch 77\n",
            "Training acc over epoch: 0.9856\n",
            "Validation acc: 0.9680\n",
            "\n",
            "Start of epoch 78\n",
            "Training acc over epoch: 0.9866\n",
            "Validation acc: 0.9700\n",
            "\n",
            "Start of epoch 79\n",
            "Training acc over epoch: 0.9865\n",
            "Validation acc: 0.9687\n",
            "\n",
            "Start of epoch 80\n",
            "Training acc over epoch: 0.9863\n",
            "Validation acc: 0.9687\n",
            "\n",
            "Start of epoch 81\n",
            "Training acc over epoch: 0.9861\n",
            "Validation acc: 0.9700\n",
            "\n",
            "Start of epoch 82\n",
            "Training acc over epoch: 0.9867\n",
            "Validation acc: 0.9693\n",
            "\n",
            "Start of epoch 83\n",
            "Training acc over epoch: 0.9871\n",
            "Validation acc: 0.9687\n",
            "\n",
            "Start of epoch 84\n",
            "Training acc over epoch: 0.9866\n",
            "Validation acc: 0.9707\n",
            "\n",
            "Start of epoch 85\n",
            "Training acc over epoch: 0.9865\n",
            "Validation acc: 0.9700\n",
            "\n",
            "Start of epoch 86\n",
            "Training acc over epoch: 0.9874\n",
            "Validation acc: 0.9687\n",
            "\n",
            "Start of epoch 87\n",
            "Training acc over epoch: 0.9873\n",
            "Validation acc: 0.9693\n",
            "\n",
            "Start of epoch 88\n",
            "Training acc over epoch: 0.9877\n",
            "Validation acc: 0.9687\n",
            "\n",
            "Start of epoch 89\n",
            "Training acc over epoch: 0.9877\n",
            "Validation acc: 0.9687\n",
            "\n",
            "Start of epoch 90\n",
            "Training acc over epoch: 0.9871\n",
            "Validation acc: 0.9700\n",
            "\n",
            "Start of epoch 91\n",
            "Training acc over epoch: 0.9876\n",
            "Validation acc: 0.9700\n",
            "\n",
            "Start of epoch 92\n",
            "Training acc over epoch: 0.9882\n",
            "Validation acc: 0.9673\n",
            "\n",
            "Start of epoch 93\n",
            "Training acc over epoch: 0.9876\n",
            "Validation acc: 0.9680\n",
            "\n",
            "Start of epoch 94\n",
            "Training acc over epoch: 0.9884\n",
            "Validation acc: 0.9680\n",
            "\n",
            "Start of epoch 95\n",
            "Training acc over epoch: 0.9883\n",
            "Validation acc: 0.9700\n",
            "\n",
            "Start of epoch 96\n",
            "Training acc over epoch: 0.9885\n",
            "Validation acc: 0.9713\n",
            "\n",
            "Start of epoch 97\n",
            "Training acc over epoch: 0.9886\n",
            "Validation acc: 0.9693\n",
            "\n",
            "Start of epoch 98\n",
            "Training acc over epoch: 0.9879\n",
            "Validation acc: 0.9680\n",
            "\n",
            "Start of epoch 99\n",
            "Training acc over epoch: 0.9882\n",
            "Validation acc: 0.9700\n"
          ]
        },
        {
          "data": {
            "text/html": [
              "Waiting for W&B process to finish... <strong style=\"color:green\">(success).</strong>"
            ],
            "text/plain": [
              "<IPython.core.display.HTML object>"
            ]
          },
          "metadata": {},
          "output_type": "display_data"
        },
        {
          "data": {
            "application/vnd.jupyter.widget-view+json": {
              "model_id": "1ee03f9ed11a496d9240ffdcb66d3f7c",
              "version_major": 2,
              "version_minor": 0
            },
            "text/plain": [
              "VBox(children=(Label(value='0.001 MB of 0.001 MB uploaded (0.000 MB deduped)\\r'), FloatProgress(value=1.0, max…"
            ]
          },
          "metadata": {},
          "output_type": "display_data"
        },
        {
          "data": {
            "text/html": [
              "<style>\n",
              "    table.wandb td:nth-child(1) { padding: 0 10px; text-align: left ; width: auto;} td:nth-child(2) {text-align: left ; width: 100%}\n",
              "    .wandb-row { display: flex; flex-direction: row; flex-wrap: wrap; justify-content: flex-start; width: 100% }\n",
              "    .wandb-col { display: flex; flex-direction: column; flex-basis: 100%; flex: 1; padding: 10px; }\n",
              "    </style>\n",
              "<div class=\"wandb-row\"><div class=\"wandb-col\"><h3>Run history:</h3><br/><table class=\"wandb\"><tr><td>acc</td><td>▁▅▆▇▇▇▇▇▇███████████████████████████████</td></tr><tr><td>epochs</td><td>▁▁▁▁▂▂▂▂▂▃▃▃▃▃▃▄▄▄▄▄▅▅▅▅▅▅▆▆▆▆▆▇▇▇▇▇▇███</td></tr><tr><td>loss</td><td>█▄▃▃▂▂▂▂▂▂▂▂▁▁▁▁▁▁▁▁▁▁▁▁▁▁▁▁▁▁▁▁▁▁▁▁▁▁▁▁</td></tr><tr><td>val_acc</td><td>▁▄▆▇▇▇██████████████████████████████████</td></tr><tr><td>val_loss</td><td>█▅▄▃▂▂▂▂▁▁▁▁▁▁▁▁▁▁▁▁▁▁▁▁▁▁▁▁▁▁▁▁▁▁▁▁▂▂▂▂</td></tr></table><br/></div><div class=\"wandb-col\"><h3>Run summary:</h3><br/><table class=\"wandb\"><tr><td>acc</td><td>0.98817</td></tr><tr><td>epochs</td><td>99</td></tr><tr><td>loss</td><td>0.04251</td></tr><tr><td>val_acc</td><td>0.97</td></tr><tr><td>val_loss</td><td>0.13371</td></tr></table><br/></div></div>"
            ],
            "text/plain": [
              "<IPython.core.display.HTML object>"
            ]
          },
          "metadata": {},
          "output_type": "display_data"
        },
        {
          "data": {
            "text/html": [
              "Synced <strong style=\"color:#cdcd00\">Dense_Model_Swish_RMSprop-1e-3</strong>: <a href=\"https://wandb.ai/veysiadn/my-test-project/runs/s4pqcwlg\" target=\"_blank\">https://wandb.ai/veysiadn/my-test-project/runs/s4pqcwlg</a><br/>Synced 6 W&B file(s), 0 media file(s), 0 artifact file(s) and 0 other file(s)"
            ],
            "text/plain": [
              "<IPython.core.display.HTML object>"
            ]
          },
          "metadata": {},
          "output_type": "display_data"
        },
        {
          "data": {
            "text/html": [
              "Find logs at: <code>.\\wandb\\run-20221008_222431-s4pqcwlg\\logs</code>"
            ],
            "text/plain": [
              "<IPython.core.display.HTML object>"
            ]
          },
          "metadata": {},
          "output_type": "display_data"
        }
      ],
      "source": [
        "# initialize wandb with your project name and optionally with configutations.\n",
        "# play around with the config values and see the result on your wandb dashboard.\n",
        "config = {\n",
        "              \"learning_rate\": 0.001,\n",
        "              \"epochs\": 100,\n",
        "              \"batch_size\": 64,\n",
        "              \"log_step\": 200,\n",
        "              \"val_log_step\": 50,\n",
        "           }\n",
        "\n",
        "run = wandb.init(project='my-test-project', config=config, name='Dense_Model_Swish_RMSprop-1e-3')\n",
        "config = wandb.config\n",
        "\n",
        "# Initialize model.\n",
        "model = make_dense_model_swish()\n",
        "model.summary()\n",
        "# Instantiate an optimizer to train the model.\n",
        "optimizer = keras.optimizers.RMSprop(learning_rate=config.learning_rate)\n",
        "# Instantiate a loss function.\n",
        "loss_fn = keras.losses.SparseCategoricalCrossentropy(from_logits=True)\n",
        "\n",
        "# Prepare the metrics.\n",
        "train_acc_metric = keras.metrics.SparseCategoricalAccuracy()\n",
        "val_acc_metric = keras.metrics.SparseCategoricalAccuracy()\n",
        "\n",
        "train(train_dataset,\n",
        "      test_dataset, \n",
        "      model,\n",
        "      optimizer,\n",
        "      train_acc_metric,\n",
        "      val_acc_metric,\n",
        "      epochs=config.epochs, \n",
        "      log_step=config.log_step, \n",
        "      val_log_step=config.val_log_step)\n",
        "\n",
        "run.finish()  # In Jupyter/Colab, let us know you're finished!"
      ]
    },
    {
      "cell_type": "markdown",
      "metadata": {
        "id": "ZvHrhq9npYDD"
      },
      "source": [
        "# 👀 Visualize Results\n",
        "\n",
        "Click on the [**run page**](https://docs.wandb.ai/ref/app/pages/run-page)\n",
        "link above to see your live results.\n",
        "\n",
        "Or run the cell below to see an example dashboard rendered inside this notebook using [the `%wandb` magic](http://wandb.me/jupyter-interact-colab):"
      ]
    },
    {
      "cell_type": "code",
      "execution_count": 29,
      "metadata": {
        "id": "uNzjTi3lpYDE"
      },
      "outputs": [
        {
          "data": {
            "text/html": [
              "Can't display wandb interface<br/>Could not find run <Run veysiadn/my-test-project/asdasd (not found)>"
            ],
            "text/plain": [
              "<wandb.jupyter.IFrame at 0x7f952b39b070>"
            ]
          },
          "metadata": {},
          "output_type": "display_data"
        }
      ],
      "source": [
        "%wandb veysiadn/my-test-project/runs/<check-this-link-in-the-run-onverview> -h 720 "
      ]
    },
    {
      "cell_type": "markdown",
      "metadata": {
        "id": "fzKWoCEipYDE"
      },
      "source": [
        "# 🧹 Sweep 101\n",
        "\n",
        "Use Weights & Biases Sweeps to automate hyperparameter optimization and explore the space of possible models.\n",
        "\n",
        "## [Check out Hyperparameter Optimization in TensorFlow using W&B Sweeps $\\rightarrow$](http://wandb.me/tf-sweeps-colab)\n",
        "\n",
        "### Benefits of using W&B Sweeps\n",
        "\n",
        "* **Quick setup**: With just a few lines of code you can run W&B sweeps.\n",
        "* **Transparent**: We cite all the algorithms we're using, and [our code is open source](https://github.com/wandb/client/tree/master/wandb/sweeps).\n",
        "* **Powerful**: Our sweeps are completely customizable and configurable. You can launch a sweep across dozens of machines, and it's just as easy as starting a sweep on your laptop."
      ]
    },
    {
      "cell_type": "markdown",
      "metadata": {
        "id": "nFklfbLipYDF"
      },
      "source": [
        "# 🎨 Example Gallery\n",
        "\n",
        "See examples of projects tracked and visualized with W&B in our gallery of examples, [Fully Connected →](https://wandb.me/fc)"
      ]
    },
    {
      "cell_type": "markdown",
      "metadata": {
        "id": "lcWSGCjZpYDF"
      },
      "source": [
        "# 📏 Best Practices\n",
        "1. **Projects**: Log multiple runs to a project to compare them. `wandb.init(project=\"project-name\")`\n",
        "2. **Groups**: For multiple processes or cross validation folds, log each process as a runs and group them together. `wandb.init(group='experiment-1')`\n",
        "3. **Tags**: Add tags to track your current baseline or production model.\n",
        "4. **Notes**: Type notes in the table to track the changes between runs.\n",
        "5. **Reports**: Take quick notes on progress to share with colleagues and make dashboards and snapshots of your ML projects."
      ]
    },
    {
      "cell_type": "markdown",
      "metadata": {
        "id": "r4m2b5HBpYDF"
      },
      "source": [
        "## 🤓 Advanced Setup\n",
        "1. [Environment variables](https://docs.wandb.com/library/environment-variables): Set API keys in environment variables so you can run training on a managed cluster.\n",
        "2. [Offline mode](https://docs.wandb.com/library/technical-faq#can-i-run-wandb-offline): Use `dryrun` mode to train offline and sync results later.\n",
        "3. [On-prem](https://docs.wandb.com/self-hosted): Install W&B in a private cloud or air-gapped servers in your own infrastructure. We have local installations for everyone from academics to enterprise teams.\n",
        "4. [Artifacts](http://wandb.me/artifacts-colab): Track and version models and datasets in a streamlined way that automatically picks up your pipeline steps as you train models."
      ]
    }
  ],
  "metadata": {
    "colab": {
      "provenance": []
    },
    "kernelspec": {
      "display_name": "Python 3.9.12 ('base')",
      "language": "python",
      "name": "python3"
    },
    "language_info": {
      "codemirror_mode": {
        "name": "ipython",
        "version": 3
      },
      "file_extension": ".py",
      "mimetype": "text/x-python",
      "name": "python",
      "nbconvert_exporter": "python",
      "pygments_lexer": "ipython3",
      "version": "3.9.12"
    },
    "vscode": {
      "interpreter": {
        "hash": "ad2bdc8ecc057115af97d19610ffacc2b4e99fae6737bb82f5d7fb13d2f2c186"
      }
    }
  },
  "nbformat": 4,
  "nbformat_minor": 0
}
